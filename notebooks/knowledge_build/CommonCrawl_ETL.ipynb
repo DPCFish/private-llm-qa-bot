{
 "cells": [
  {
   "cell_type": "markdown",
   "id": "6a764b91-163d-4ad2-ac5f-4daef7f8e9a8",
   "metadata": {},
   "source": [
    "## 1. Setting up the glue Spark Enviroment"
   ]
  },
  {
   "cell_type": "markdown",
   "id": "1d3fd5ee-d708-47a8-a074-e5202ace1a04",
   "metadata": {},
   "source": [
    "#### [Note]: Open Cloudformation and check SagemakerDeployStack's output, get the value of SagemakerARN(key) and then replace iam_role with it"
   ]
  },
  {
   "cell_type": "code",
   "execution_count": 9,
   "id": "a8060627-8df6-4904-a924-616f54e988ce",
   "metadata": {
    "tags": []
   },
   "outputs": [
    {
     "name": "stdout",
     "output_type": "stream",
     "text": [
      "Welcome to the Glue Interactive Sessions Kernel\n",
      "For more information on available magic commands, please type %help in any new cell.\n",
      "\n",
      "Please view our Getting Started page to access the most up-to-date information on the Interactive Sessions kernel: https://docs.aws.amazon.com/glue/latest/dg/interactive-sessions.html\n",
      "Installed kernel version: 0.38.4 \n",
      "Setting session ID prefix to common-crawl-etl\n",
      "Current iam_role is None\n",
      "iam_role has been set to arn:aws:iam::106839800180:role/SagemakerDeployStack-sagemakerexecutionrole002C13C-16L5I1TTPLRXF.\n",
      "Additional python modules to be included:\n",
      "warcio\n",
      "smart_open\n",
      "goose3\n",
      "bs4\n",
      "Current idle_timeout is 2880 minutes.\n",
      "idle_timeout has been set to 600 minutes.\n",
      "Previous number of workers: 5\n",
      "Setting new number of workers to: 25\n",
      "Previous worker type: G.1X\n",
      "Setting new worker type to: G.2X\n",
      "Setting Glue version to: 4.0\n"
     ]
    }
   ],
   "source": [
    "%session_id_prefix common-crawl-etl\n",
    "%iam_role {iam_role}\n",
    "\n",
    "%additional_python_modules warcio,smart_open,goose3,bs4\n",
    "\n",
    "%idle_timeout 600 \n",
    "%number_of_workers 25\n",
    "%worker_type G.2X\n",
    "%glue_version 4.0"
   ]
  },
  {
   "cell_type": "code",
   "execution_count": null,
   "id": "13eb235c-1164-4f8a-b90b-6d4a0f8d1567",
   "metadata": {
    "tags": []
   },
   "outputs": [],
   "source": [
    "%list_sessions"
   ]
  },
  {
   "cell_type": "code",
   "execution_count": 1,
   "id": "be0c6e04-b65c-43c0-b66e-449c303171e7",
   "metadata": {
    "tags": []
   },
   "outputs": [
    {
     "name": "stdout",
     "output_type": "stream",
     "text": [
      "Authenticating with environment variables and user-defined glue_role_arn: arn:aws:iam::106839800180:role/SagemakerDeployStack-sagemakerexecutionrole002C13C-16L5I1TTPLRXF\n",
      "Trying to create a Glue session for the kernel.\n",
      "Worker Type: G.2X\n",
      "Number of Workers: 25\n",
      "Session ID: common-crawl-etl-530d10fa-441e-45e3-984a-9ee97b71d07e\n",
      "Job Type: glueetl\n",
      "Applying the following default arguments:\n",
      "--glue_kernel_version 0.38.4\n",
      "--enable-glue-datacatalog true\n",
      "--additional-python-modules warcio,smart_open,goose3,bs4\n",
      "Waiting for session common-crawl-etl-530d10fa-441e-45e3-984a-9ee97b71d07e to get into ready status...\n",
      "Session common-crawl-etl-530d10fa-441e-45e3-984a-9ee97b71d07e has been created.\n",
      "\n"
     ]
    }
   ],
   "source": [
    "from pyspark.sql import SparkSession\n",
    "\n",
    "spark = SparkSession.builder  \\\n",
    "    .appName(\"warc\")  \\\n",
    "    .getOrCreate()"
   ]
  },
  {
   "cell_type": "markdown",
   "id": "465998eb-a282-48a7-bb70-2639618f6143",
   "metadata": {},
   "source": [
    "## 2. Find out all related warc files in CommonCrawl"
   ]
  },
  {
   "cell_type": "markdown",
   "id": "e0d2a2e5-154b-4692-96dd-846640999887",
   "metadata": {},
   "source": [
    "#### 2.1 Create MetaInfo CCIndex for CommonCrawl Data "
   ]
  },
  {
   "cell_type": "code",
   "execution_count": null,
   "id": "ce6c367b-8db0-486c-82eb-bacbd98cf4c2",
   "metadata": {
    "tags": []
   },
   "outputs": [],
   "source": [
    "spark.sql(\"\"\"CREATE DATABASE if not exists ccindex;\"\"\")"
   ]
  },
  {
   "cell_type": "code",
   "execution_count": null,
   "id": "fec39462-cd38-470c-a6d9-ac5602829233",
   "metadata": {
    "tags": []
   },
   "outputs": [],
   "source": [
    "spark.sql(\"\"\"\n",
    "CREATE EXTERNAL TABLE IF NOT EXISTS ccindex.ccindex (\n",
    "  url_surtkey                   STRING, \n",
    "  url                           STRING, \n",
    "  url_host_name                 STRING, \n",
    "  url_host_tld                  STRING, \n",
    "  url_host_2nd_last_part        STRING,\n",
    "  url_host_3rd_last_part        STRING,\n",
    "  url_host_4th_last_part        STRING,\n",
    "  url_host_5th_last_part        STRING,\n",
    "  url_host_registry_suffix      STRING, \n",
    "  url_host_registered_domain    STRING, \n",
    "  url_host_private_suffix       STRING,\n",
    "  url_host_private_domain       STRING, \n",
    "  url_protocol                  STRING, \n",
    "  url_port                      INT, \n",
    "  url_path                      STRING, \n",
    "  url_query                     STRING,\n",
    "  fetch_time                    TIMESTAMP, \n",
    "  fetch_status                  SMALLINT,\n",
    "  content_digest                STRING, \n",
    "  content_mime_type             STRING, \n",
    "  content_mime_detected         STRING, \n",
    "  content_charset               STRING, \n",
    "  content_languages             STRING, \n",
    "  warc_filename                 STRING, \n",
    "  warc_record_offset            INT, \n",
    "  warc_record_length            INT, \n",
    "  warc_segment                  STRING) \n",
    "PARTITIONED BY (\n",
    "  crawl                         STRING, \n",
    "  subset                        STRING)\n",
    "STORED AS parquet\n",
    "LOCATION 's3://commoncrawl/cc-index/table/cc-main/warc/';\n",
    "\"\"\")"
   ]
  },
  {
   "cell_type": "code",
   "execution_count": null,
   "id": "19cf07ed-a889-4241-bfe9-fe65291d56d5",
   "metadata": {
    "tags": []
   },
   "outputs": [],
   "source": [
    "spark.sql(\"\"\"MSCK REPAIR TABLE ccindex.ccindex;\"\"\")"
   ]
  },
  {
   "cell_type": "markdown",
   "id": "5a6bf22b-d9de-44e4-8fec-8c873950bb9f",
   "metadata": {},
   "source": [
    "#### 2.2 filter for the target warc files for specific knowledege "
   ]
  },
  {
   "cell_type": "code",
   "execution_count": 3,
   "id": "1c3d7be0-5f13-4950-9796-6f13892626f6",
   "metadata": {
    "tags": []
   },
   "outputs": [
    {
     "name": "stdout",
     "output_type": "stream",
     "text": [
      "\n"
     ]
    }
   ],
   "source": [
    "target_domain = \"nbcnews.com\"\n",
    "url_host_domain = \"https://www.nbcnews.com/\"\n",
    "topic = 'ufo'\n",
    "s3_bucket = '106839800180-23-08-03-13-25-48-bucket'"
   ]
  },
  {
   "cell_type": "code",
   "execution_count": 4,
   "id": "0e897bc7-5a40-4abc-850f-16ab38ea81e5",
   "metadata": {
    "tags": []
   },
   "outputs": [
    {
     "name": "stdout",
     "output_type": "stream",
     "text": [
      "\n"
     ]
    }
   ],
   "source": [
    "url_pattern = f\"{url_host_domain}%{topic}%\"\n",
    "\n",
    "filtered_data = spark.sql(\n",
    "\"\"\"select * from ccindex.ccindex WHERE url_host_registered_domain = '{}' \n",
    "and crawl ='CC-MAIN-2023-23' and subset ='warc' and content_mime_detected = 'text/html'\n",
    "and url like '{}'\n",
    "\"\"\".format(target_domain, url_pattern)\n",
    " )"
   ]
  },
  {
   "cell_type": "markdown",
   "id": "42079eb0-22ea-4d5e-891a-4caa8deb94da",
   "metadata": {},
   "source": [
    "**Note: please be patient,  which may last for few minutes**"
   ]
  },
  {
   "cell_type": "code",
   "execution_count": 5,
   "id": "95017e50-4bb1-46f2-9fc3-99277e5be1ff",
   "metadata": {
    "tags": []
   },
   "outputs": [
    {
     "name": "stdout",
     "output_type": "stream",
     "text": [
      "\n"
     ]
    }
   ],
   "source": [
    "filename_list = [\"s3://commoncrawl/\"+row.warc_filename for row in filtered_data.select(\"warc_filename\").collect()]"
   ]
  },
  {
   "cell_type": "markdown",
   "id": "2f15874e-cec6-4c7f-bb97-166b609d095c",
   "metadata": {},
   "source": [
    "#### 2.3 check all related warc files"
   ]
  },
  {
   "cell_type": "code",
   "execution_count": 6,
   "id": "0ba12caa-f00d-4fcb-a606-69b2cd2dbe04",
   "metadata": {
    "tags": []
   },
   "outputs": [
    {
     "name": "stdout",
     "output_type": "stream",
     "text": [
      "['s3://commoncrawl/crawl-data/CC-MAIN-2023-23/segments/1685224648850.88/warc/CC-MAIN-20230602172755-20230602202755-00314.warc.gz', 's3://commoncrawl/crawl-data/CC-MAIN-2023-23/segments/1685224644309.7/warc/CC-MAIN-20230528150639-20230528180639-00428.warc.gz', 's3://commoncrawl/crawl-data/CC-MAIN-2023-23/segments/1685224656869.87/warc/CC-MAIN-20230609233952-20230610023952-00381.warc.gz', 's3://commoncrawl/crawl-data/CC-MAIN-2023-23/segments/1685224648695.4/warc/CC-MAIN-20230602140602-20230602170602-00361.warc.gz', 's3://commoncrawl/crawl-data/CC-MAIN-2023-23/segments/1685224644867.89/warc/CC-MAIN-20230529141542-20230529171542-00297.warc.gz', 's3://commoncrawl/crawl-data/CC-MAIN-2023-23/segments/1685224645810.57/warc/CC-MAIN-20230530131531-20230530161531-00076.warc.gz', 's3://commoncrawl/crawl-data/CC-MAIN-2023-23/segments/1685224645417.33/warc/CC-MAIN-20230530063958-20230530093958-00756.warc.gz', 's3://commoncrawl/crawl-data/CC-MAIN-2023-23/segments/1685224653608.76/warc/CC-MAIN-20230607042751-20230607072751-00477.warc.gz', 's3://commoncrawl/crawl-data/CC-MAIN-2023-23/segments/1685224646652.16/warc/CC-MAIN-20230610233020-20230611023020-00516.warc.gz', 's3://commoncrawl/crawl-data/CC-MAIN-2023-23/segments/1685224647639.37/warc/CC-MAIN-20230601074606-20230601104606-00476.warc.gz', 's3://commoncrawl/crawl-data/CC-MAIN-2023-23/segments/1685224649348.41/warc/CC-MAIN-20230603233121-20230604023121-00156.warc.gz', 's3://commoncrawl/crawl-data/CC-MAIN-2023-23/segments/1685224646144.69/warc/CC-MAIN-20230530194919-20230530224919-00423.warc.gz', 's3://commoncrawl/crawl-data/CC-MAIN-2023-23/segments/1685224656737.96/warc/CC-MAIN-20230609132648-20230609162648-00492.warc.gz', 's3://commoncrawl/crawl-data/CC-MAIN-2023-23/segments/1685224644817.32/warc/CC-MAIN-20230529074001-20230529104001-00302.warc.gz', 's3://commoncrawl/crawl-data/CC-MAIN-2023-23/segments/1685224653608.76/warc/CC-MAIN-20230607042751-20230607072751-00294.warc.gz', 's3://commoncrawl/crawl-data/CC-MAIN-2023-23/segments/1685224643462.13/warc/CC-MAIN-20230528015553-20230528045553-00303.warc.gz', 's3://commoncrawl/crawl-data/CC-MAIN-2023-23/segments/1685224643585.23/warc/CC-MAIN-20230528051321-20230528081321-00355.warc.gz', 's3://commoncrawl/crawl-data/CC-MAIN-2023-23/segments/1685224652494.25/warc/CC-MAIN-20230606082037-20230606112037-00281.warc.gz', 's3://commoncrawl/crawl-data/CC-MAIN-2023-23/segments/1685224646350.59/warc/CC-MAIN-20230610200654-20230610230654-00080.warc.gz', 's3://commoncrawl/crawl-data/CC-MAIN-2023-23/segments/1685224652161.52/warc/CC-MAIN-20230605185809-20230605215809-00653.warc.gz', 's3://commoncrawl/crawl-data/CC-MAIN-2023-23/segments/1685224644855.6/warc/CC-MAIN-20230529105815-20230529135815-00489.warc.gz']\n"
     ]
    }
   ],
   "source": [
    "filename_list"
   ]
  },
  {
   "cell_type": "markdown",
   "id": "ae88bf83-552f-44b5-8c65-5ea102c56b07",
   "metadata": {},
   "source": [
    "## 3. Parse, extract and clean all these warc Files and write them into S3 bucket"
   ]
  },
  {
   "cell_type": "code",
   "execution_count": 7,
   "id": "abece8b8-674b-4ce7-8e5b-1ce80a7b23aa",
   "metadata": {
    "tags": []
   },
   "outputs": [
    {
     "name": "stdout",
     "output_type": "stream",
     "text": [
      "\n"
     ]
    }
   ],
   "source": [
    "from pyspark.sql import SparkSession\n",
    "from pyspark.sql.functions import pandas_udf, PandasUDFType, lit, udf, col\n",
    "from pyspark.sql.types import StructType, StructField, StringType, MapType, ArrayType\n",
    "from smart_open import open\n",
    "from warcio.archiveiterator import ArchiveIterator\n",
    "from goose3 import Goose\n",
    "import pandas as pd\n",
    "import re\n",
    "from bs4 import BeautifulSoup\n",
    "\n",
    "def post_process(content):\n",
    "    content = content.replace('\\r\\n', '\\n')\n",
    "    content = re.sub(r'\\n+', '\\n', content)\n",
    "    return content\n",
    "\n",
    "schema = StructType([\n",
    "    StructField('URL', StringType(), True),\n",
    "    StructField('MimeType', StringType(), True),\n",
    "    StructField('RawHTML', StringType(), True),\n",
    "    StructField('ContentProcessed', StringType(), True),\n",
    "    StructField('Title', StringType(), True),\n",
    "    StructField('WARC-Date', StringType(), True),\n",
    "    StructField('WARC-Record-ID', StringType(), True),\n",
    "    StructField('Content-Length', StringType(), True),\n",
    "    StructField('WARC-Filename', StringType(), True),\n",
    "    StructField('WARC-Warcinfo-ID', StringType(), True),\n",
    "    StructField('WARC-IP-Address', StringType(), True),\n",
    "    StructField('WARC-Concurrent-To', StringType(), True),\n",
    "    StructField('WARC-Payload-Digest', StringType(), True),\n",
    "    StructField('WARC-Block-Digest', StringType(), True),\n",
    "    StructField('WARC-Truncated', StringType(), True),\n",
    "    StructField('WARC-S3Path', StringType(), True)\n",
    "])\n",
    "\n",
    "@pandas_udf(schema, PandasUDFType.GROUPED_MAP)\n",
    "def generate_rows(pdf):\n",
    "    url = pdf['url'][0]\n",
    "    extractor = Goose()\n",
    "    stream = open(url, 'rb')\n",
    "    rows = []\n",
    "    \n",
    "    for record in ArchiveIterator(stream):\n",
    "        page_uri = record.rec_headers.get_header('WARC-Target-URI', \"\")\n",
    "\n",
    "        target_url = \"https://en.wikipedia.org/wiki/List_of_high-altitude_object_events_in_2023\"\n",
    "\n",
    "        if record.rec_type == 'response' and page_uri.startswith(target_url):\n",
    "            raw_html = record.content_stream().read()\n",
    "            html_content = str(raw_html, 'utf-8', errors=\"ignore\")\n",
    "            article = extractor.extract(raw_html=html_content)\n",
    "            content_processed = post_process(article.cleaned_text)\n",
    "            title = article.title\n",
    "            row = {\n",
    "                'URL': record.rec_headers.get_header('WARC-Target-URI'),\n",
    "                'MimeType': record.http_headers.get_header('Content-Type'),\n",
    "                'RawHTML': raw_html,\n",
    "                'ContentProcessed': content_processed,\n",
    "                'Title': title,\n",
    "                'WARC-Date': record.rec_headers.get_header('WARC-Date'),\n",
    "                'WARC-Record-ID': record.rec_headers.get_header('WARC-Record-ID'),\n",
    "                'Content-Length': record.rec_headers.get_header('Content-Length'),\n",
    "                'WARC-Filename': record.rec_headers.get_header('WARC-Filename'),\n",
    "                'WARC-Warcinfo-ID': record.rec_headers.get_header('WARC-Warcinfo-ID'),\n",
    "                'WARC-IP-Address': record.rec_headers.get_header('WARC-IP-Address'),\n",
    "                'WARC-Concurrent-To': record.rec_headers.get_header('WARC-Concurrent-To'),\n",
    "                'WARC-Payload-Digest': record.rec_headers.get_header('WARC-Payload-Digest'),\n",
    "                'WARC-Block-Digest': record.rec_headers.get_header('WARC-Block-Digest'),\n",
    "                'WARC-Truncated': record.rec_headers.get_header('WARC-Truncated'),\n",
    "                'WARC-S3Path': url\n",
    "            }\n",
    "            rows.append(row)\n",
    "    return pd.DataFrame(rows)\n",
    "\n",
    "def clean_with_goose_or_bs(raw_html):\n",
    "    g = Goose()\n",
    "    article = g.extract(raw_html=raw_html)\n",
    "    # if article.cleaned_text:\n",
    "    #     clean_text = article.cleaned_text\n",
    "    # else:\n",
    "    soup = BeautifulSoup(raw_html, 'html.parser')\n",
    "    clean_text = soup.get_text()\n",
    "    \n",
    "    # return re.sub('\\s+', ' ', clean_text.replace('\\n', '')).strip()\n",
    "    return clean_text"
   ]
  },
  {
   "cell_type": "code",
   "execution_count": 8,
   "id": "d419cd08-3f4b-4993-8a6f-d73e73198e1e",
   "metadata": {
    "tags": []
   },
   "outputs": [
    {
     "name": "stdout",
     "output_type": "stream",
     "text": [
      "/opt/amazon/spark/python/lib/pyspark.zip/pyspark/sql/pandas/group_ops.py:98: UserWarning: It is preferred to use 'applyInPandas' over this API. This API will be deprecated in the future releases. See SPARK-28264 for more details.\n"
     ]
    }
   ],
   "source": [
    "urls_df = spark.createDataFrame([(url,) for url in filename_list], [\"url\"])\n",
    "result_df = urls_df.groupby(\"url\").apply(generate_rows)\n",
    "\n",
    "clean_udf = udf(clean_with_goose_or_bs, StringType())\n",
    "result_df = result_df.withColumn(\"CleanText_Goose_or_BS\", clean_udf(result_df[\"RawHTML\"]))"
   ]
  },
  {
   "cell_type": "code",
   "execution_count": 9,
   "id": "93626bcb-5a82-4f93-8539-bd89fcb661bd",
   "metadata": {
    "tags": []
   },
   "outputs": [
    {
     "name": "stdout",
     "output_type": "stream",
     "text": [
      "\n"
     ]
    }
   ],
   "source": [
    "from pyspark.sql.functions import udf\n",
    "from pyspark.sql.types import StringType\n",
    "\n",
    "def remove_special_characters(input_string):\n",
    "    # 定义一个正则表达式模式，匹配除了字母、数字、空格之外的任何字符\n",
    "    pattern = r'[^a-zA-Z0-9\\s]'\n",
    "    \n",
    "    # 使用 re.sub() 函数将匹配到的特殊字符替换为空字符串\n",
    "    cleaned_string = re.sub(pattern, '', input_string)\n",
    "    \n",
    "    return cleaned_string.replace(' ', '_')\n",
    "\n",
    "def write_to_s3(title, content, bucket):\n",
    "    new_title = remove_special_characters(title)\n",
    "    s3_path = \"s3://{}/ai-content/{}.txt\".format(bucket, new_title)\n",
    "    with open(s3_path, 'w') as s3_file:\n",
    "        s3_file.write(content)\n",
    "        \n",
    "    return s3_path"
   ]
  },
  {
   "cell_type": "code",
   "execution_count": 10,
   "id": "699128cd-d91a-490d-8bab-a88e2444e8a3",
   "metadata": {
    "tags": []
   },
   "outputs": [
    {
     "name": "stdout",
     "output_type": "stream",
     "text": [
      "\n"
     ]
    }
   ],
   "source": [
    "process_row_udf = udf(write_to_s3, StringType())\n",
    "final_df = result_df.withColumn(\"s3_path\", process_row_udf(col('Title'), col('CleanText_Goose_or_BS'), lit(s3_bucket)))"
   ]
  },
  {
   "cell_type": "markdown",
   "id": "a5be0784-01d9-4d33-9078-36c1e5468e50",
   "metadata": {},
   "source": [
    "**Note: please be patient,  which may last for few minutes**"
   ]
  },
  {
   "cell_type": "code",
   "execution_count": null,
   "id": "412eaf49-94c7-4dbd-a4dc-ceea7d6e10be",
   "metadata": {
    "tags": []
   },
   "outputs": [],
   "source": [
    "s3_files = final_df.collect()"
   ]
  },
  {
   "cell_type": "markdown",
   "id": "488773c3-7f76-4615-b653-5d913357d747",
   "metadata": {},
   "source": [
    "**Note: After it finish, all content will be ingested into OpenSearch automatically**"
   ]
  },
  {
   "cell_type": "code",
   "execution_count": null,
   "id": "a48d5e5b-6d8b-4d50-ad15-3d92f0c2501c",
   "metadata": {
    "tags": []
   },
   "outputs": [],
   "source": [
    "spark.stop()"
   ]
  }
 ],
 "metadata": {
  "availableInstances": [
   {
    "_defaultOrder": 0,
    "_isFastLaunch": true,
    "category": "General purpose",
    "gpuNum": 0,
    "hideHardwareSpecs": false,
    "memoryGiB": 4,
    "name": "ml.t3.medium",
    "vcpuNum": 2
   },
   {
    "_defaultOrder": 1,
    "_isFastLaunch": false,
    "category": "General purpose",
    "gpuNum": 0,
    "hideHardwareSpecs": false,
    "memoryGiB": 8,
    "name": "ml.t3.large",
    "vcpuNum": 2
   },
   {
    "_defaultOrder": 2,
    "_isFastLaunch": false,
    "category": "General purpose",
    "gpuNum": 0,
    "hideHardwareSpecs": false,
    "memoryGiB": 16,
    "name": "ml.t3.xlarge",
    "vcpuNum": 4
   },
   {
    "_defaultOrder": 3,
    "_isFastLaunch": false,
    "category": "General purpose",
    "gpuNum": 0,
    "hideHardwareSpecs": false,
    "memoryGiB": 32,
    "name": "ml.t3.2xlarge",
    "vcpuNum": 8
   },
   {
    "_defaultOrder": 4,
    "_isFastLaunch": true,
    "category": "General purpose",
    "gpuNum": 0,
    "hideHardwareSpecs": false,
    "memoryGiB": 8,
    "name": "ml.m5.large",
    "vcpuNum": 2
   },
   {
    "_defaultOrder": 5,
    "_isFastLaunch": false,
    "category": "General purpose",
    "gpuNum": 0,
    "hideHardwareSpecs": false,
    "memoryGiB": 16,
    "name": "ml.m5.xlarge",
    "vcpuNum": 4
   },
   {
    "_defaultOrder": 6,
    "_isFastLaunch": false,
    "category": "General purpose",
    "gpuNum": 0,
    "hideHardwareSpecs": false,
    "memoryGiB": 32,
    "name": "ml.m5.2xlarge",
    "vcpuNum": 8
   },
   {
    "_defaultOrder": 7,
    "_isFastLaunch": false,
    "category": "General purpose",
    "gpuNum": 0,
    "hideHardwareSpecs": false,
    "memoryGiB": 64,
    "name": "ml.m5.4xlarge",
    "vcpuNum": 16
   },
   {
    "_defaultOrder": 8,
    "_isFastLaunch": false,
    "category": "General purpose",
    "gpuNum": 0,
    "hideHardwareSpecs": false,
    "memoryGiB": 128,
    "name": "ml.m5.8xlarge",
    "vcpuNum": 32
   },
   {
    "_defaultOrder": 9,
    "_isFastLaunch": false,
    "category": "General purpose",
    "gpuNum": 0,
    "hideHardwareSpecs": false,
    "memoryGiB": 192,
    "name": "ml.m5.12xlarge",
    "vcpuNum": 48
   },
   {
    "_defaultOrder": 10,
    "_isFastLaunch": false,
    "category": "General purpose",
    "gpuNum": 0,
    "hideHardwareSpecs": false,
    "memoryGiB": 256,
    "name": "ml.m5.16xlarge",
    "vcpuNum": 64
   },
   {
    "_defaultOrder": 11,
    "_isFastLaunch": false,
    "category": "General purpose",
    "gpuNum": 0,
    "hideHardwareSpecs": false,
    "memoryGiB": 384,
    "name": "ml.m5.24xlarge",
    "vcpuNum": 96
   },
   {
    "_defaultOrder": 12,
    "_isFastLaunch": false,
    "category": "General purpose",
    "gpuNum": 0,
    "hideHardwareSpecs": false,
    "memoryGiB": 8,
    "name": "ml.m5d.large",
    "vcpuNum": 2
   },
   {
    "_defaultOrder": 13,
    "_isFastLaunch": false,
    "category": "General purpose",
    "gpuNum": 0,
    "hideHardwareSpecs": false,
    "memoryGiB": 16,
    "name": "ml.m5d.xlarge",
    "vcpuNum": 4
   },
   {
    "_defaultOrder": 14,
    "_isFastLaunch": false,
    "category": "General purpose",
    "gpuNum": 0,
    "hideHardwareSpecs": false,
    "memoryGiB": 32,
    "name": "ml.m5d.2xlarge",
    "vcpuNum": 8
   },
   {
    "_defaultOrder": 15,
    "_isFastLaunch": false,
    "category": "General purpose",
    "gpuNum": 0,
    "hideHardwareSpecs": false,
    "memoryGiB": 64,
    "name": "ml.m5d.4xlarge",
    "vcpuNum": 16
   },
   {
    "_defaultOrder": 16,
    "_isFastLaunch": false,
    "category": "General purpose",
    "gpuNum": 0,
    "hideHardwareSpecs": false,
    "memoryGiB": 128,
    "name": "ml.m5d.8xlarge",
    "vcpuNum": 32
   },
   {
    "_defaultOrder": 17,
    "_isFastLaunch": false,
    "category": "General purpose",
    "gpuNum": 0,
    "hideHardwareSpecs": false,
    "memoryGiB": 192,
    "name": "ml.m5d.12xlarge",
    "vcpuNum": 48
   },
   {
    "_defaultOrder": 18,
    "_isFastLaunch": false,
    "category": "General purpose",
    "gpuNum": 0,
    "hideHardwareSpecs": false,
    "memoryGiB": 256,
    "name": "ml.m5d.16xlarge",
    "vcpuNum": 64
   },
   {
    "_defaultOrder": 19,
    "_isFastLaunch": false,
    "category": "General purpose",
    "gpuNum": 0,
    "hideHardwareSpecs": false,
    "memoryGiB": 384,
    "name": "ml.m5d.24xlarge",
    "vcpuNum": 96
   },
   {
    "_defaultOrder": 20,
    "_isFastLaunch": false,
    "category": "General purpose",
    "gpuNum": 0,
    "hideHardwareSpecs": true,
    "memoryGiB": 0,
    "name": "ml.geospatial.interactive",
    "supportedImageNames": [
     "sagemaker-geospatial-v1-0"
    ],
    "vcpuNum": 0
   },
   {
    "_defaultOrder": 21,
    "_isFastLaunch": true,
    "category": "Compute optimized",
    "gpuNum": 0,
    "hideHardwareSpecs": false,
    "memoryGiB": 4,
    "name": "ml.c5.large",
    "vcpuNum": 2
   },
   {
    "_defaultOrder": 22,
    "_isFastLaunch": false,
    "category": "Compute optimized",
    "gpuNum": 0,
    "hideHardwareSpecs": false,
    "memoryGiB": 8,
    "name": "ml.c5.xlarge",
    "vcpuNum": 4
   },
   {
    "_defaultOrder": 23,
    "_isFastLaunch": false,
    "category": "Compute optimized",
    "gpuNum": 0,
    "hideHardwareSpecs": false,
    "memoryGiB": 16,
    "name": "ml.c5.2xlarge",
    "vcpuNum": 8
   },
   {
    "_defaultOrder": 24,
    "_isFastLaunch": false,
    "category": "Compute optimized",
    "gpuNum": 0,
    "hideHardwareSpecs": false,
    "memoryGiB": 32,
    "name": "ml.c5.4xlarge",
    "vcpuNum": 16
   },
   {
    "_defaultOrder": 25,
    "_isFastLaunch": false,
    "category": "Compute optimized",
    "gpuNum": 0,
    "hideHardwareSpecs": false,
    "memoryGiB": 72,
    "name": "ml.c5.9xlarge",
    "vcpuNum": 36
   },
   {
    "_defaultOrder": 26,
    "_isFastLaunch": false,
    "category": "Compute optimized",
    "gpuNum": 0,
    "hideHardwareSpecs": false,
    "memoryGiB": 96,
    "name": "ml.c5.12xlarge",
    "vcpuNum": 48
   },
   {
    "_defaultOrder": 27,
    "_isFastLaunch": false,
    "category": "Compute optimized",
    "gpuNum": 0,
    "hideHardwareSpecs": false,
    "memoryGiB": 144,
    "name": "ml.c5.18xlarge",
    "vcpuNum": 72
   },
   {
    "_defaultOrder": 28,
    "_isFastLaunch": false,
    "category": "Compute optimized",
    "gpuNum": 0,
    "hideHardwareSpecs": false,
    "memoryGiB": 192,
    "name": "ml.c5.24xlarge",
    "vcpuNum": 96
   },
   {
    "_defaultOrder": 29,
    "_isFastLaunch": true,
    "category": "Accelerated computing",
    "gpuNum": 1,
    "hideHardwareSpecs": false,
    "memoryGiB": 16,
    "name": "ml.g4dn.xlarge",
    "vcpuNum": 4
   },
   {
    "_defaultOrder": 30,
    "_isFastLaunch": false,
    "category": "Accelerated computing",
    "gpuNum": 1,
    "hideHardwareSpecs": false,
    "memoryGiB": 32,
    "name": "ml.g4dn.2xlarge",
    "vcpuNum": 8
   },
   {
    "_defaultOrder": 31,
    "_isFastLaunch": false,
    "category": "Accelerated computing",
    "gpuNum": 1,
    "hideHardwareSpecs": false,
    "memoryGiB": 64,
    "name": "ml.g4dn.4xlarge",
    "vcpuNum": 16
   },
   {
    "_defaultOrder": 32,
    "_isFastLaunch": false,
    "category": "Accelerated computing",
    "gpuNum": 1,
    "hideHardwareSpecs": false,
    "memoryGiB": 128,
    "name": "ml.g4dn.8xlarge",
    "vcpuNum": 32
   },
   {
    "_defaultOrder": 33,
    "_isFastLaunch": false,
    "category": "Accelerated computing",
    "gpuNum": 4,
    "hideHardwareSpecs": false,
    "memoryGiB": 192,
    "name": "ml.g4dn.12xlarge",
    "vcpuNum": 48
   },
   {
    "_defaultOrder": 34,
    "_isFastLaunch": false,
    "category": "Accelerated computing",
    "gpuNum": 1,
    "hideHardwareSpecs": false,
    "memoryGiB": 256,
    "name": "ml.g4dn.16xlarge",
    "vcpuNum": 64
   },
   {
    "_defaultOrder": 35,
    "_isFastLaunch": false,
    "category": "Accelerated computing",
    "gpuNum": 1,
    "hideHardwareSpecs": false,
    "memoryGiB": 61,
    "name": "ml.p3.2xlarge",
    "vcpuNum": 8
   },
   {
    "_defaultOrder": 36,
    "_isFastLaunch": false,
    "category": "Accelerated computing",
    "gpuNum": 4,
    "hideHardwareSpecs": false,
    "memoryGiB": 244,
    "name": "ml.p3.8xlarge",
    "vcpuNum": 32
   },
   {
    "_defaultOrder": 37,
    "_isFastLaunch": false,
    "category": "Accelerated computing",
    "gpuNum": 8,
    "hideHardwareSpecs": false,
    "memoryGiB": 488,
    "name": "ml.p3.16xlarge",
    "vcpuNum": 64
   },
   {
    "_defaultOrder": 38,
    "_isFastLaunch": false,
    "category": "Accelerated computing",
    "gpuNum": 8,
    "hideHardwareSpecs": false,
    "memoryGiB": 768,
    "name": "ml.p3dn.24xlarge",
    "vcpuNum": 96
   },
   {
    "_defaultOrder": 39,
    "_isFastLaunch": false,
    "category": "Memory Optimized",
    "gpuNum": 0,
    "hideHardwareSpecs": false,
    "memoryGiB": 16,
    "name": "ml.r5.large",
    "vcpuNum": 2
   },
   {
    "_defaultOrder": 40,
    "_isFastLaunch": false,
    "category": "Memory Optimized",
    "gpuNum": 0,
    "hideHardwareSpecs": false,
    "memoryGiB": 32,
    "name": "ml.r5.xlarge",
    "vcpuNum": 4
   },
   {
    "_defaultOrder": 41,
    "_isFastLaunch": false,
    "category": "Memory Optimized",
    "gpuNum": 0,
    "hideHardwareSpecs": false,
    "memoryGiB": 64,
    "name": "ml.r5.2xlarge",
    "vcpuNum": 8
   },
   {
    "_defaultOrder": 42,
    "_isFastLaunch": false,
    "category": "Memory Optimized",
    "gpuNum": 0,
    "hideHardwareSpecs": false,
    "memoryGiB": 128,
    "name": "ml.r5.4xlarge",
    "vcpuNum": 16
   },
   {
    "_defaultOrder": 43,
    "_isFastLaunch": false,
    "category": "Memory Optimized",
    "gpuNum": 0,
    "hideHardwareSpecs": false,
    "memoryGiB": 256,
    "name": "ml.r5.8xlarge",
    "vcpuNum": 32
   },
   {
    "_defaultOrder": 44,
    "_isFastLaunch": false,
    "category": "Memory Optimized",
    "gpuNum": 0,
    "hideHardwareSpecs": false,
    "memoryGiB": 384,
    "name": "ml.r5.12xlarge",
    "vcpuNum": 48
   },
   {
    "_defaultOrder": 45,
    "_isFastLaunch": false,
    "category": "Memory Optimized",
    "gpuNum": 0,
    "hideHardwareSpecs": false,
    "memoryGiB": 512,
    "name": "ml.r5.16xlarge",
    "vcpuNum": 64
   },
   {
    "_defaultOrder": 46,
    "_isFastLaunch": false,
    "category": "Memory Optimized",
    "gpuNum": 0,
    "hideHardwareSpecs": false,
    "memoryGiB": 768,
    "name": "ml.r5.24xlarge",
    "vcpuNum": 96
   },
   {
    "_defaultOrder": 47,
    "_isFastLaunch": false,
    "category": "Accelerated computing",
    "gpuNum": 1,
    "hideHardwareSpecs": false,
    "memoryGiB": 16,
    "name": "ml.g5.xlarge",
    "vcpuNum": 4
   },
   {
    "_defaultOrder": 48,
    "_isFastLaunch": false,
    "category": "Accelerated computing",
    "gpuNum": 1,
    "hideHardwareSpecs": false,
    "memoryGiB": 32,
    "name": "ml.g5.2xlarge",
    "vcpuNum": 8
   },
   {
    "_defaultOrder": 49,
    "_isFastLaunch": false,
    "category": "Accelerated computing",
    "gpuNum": 1,
    "hideHardwareSpecs": false,
    "memoryGiB": 64,
    "name": "ml.g5.4xlarge",
    "vcpuNum": 16
   },
   {
    "_defaultOrder": 50,
    "_isFastLaunch": false,
    "category": "Accelerated computing",
    "gpuNum": 1,
    "hideHardwareSpecs": false,
    "memoryGiB": 128,
    "name": "ml.g5.8xlarge",
    "vcpuNum": 32
   },
   {
    "_defaultOrder": 51,
    "_isFastLaunch": false,
    "category": "Accelerated computing",
    "gpuNum": 1,
    "hideHardwareSpecs": false,
    "memoryGiB": 256,
    "name": "ml.g5.16xlarge",
    "vcpuNum": 64
   },
   {
    "_defaultOrder": 52,
    "_isFastLaunch": false,
    "category": "Accelerated computing",
    "gpuNum": 4,
    "hideHardwareSpecs": false,
    "memoryGiB": 192,
    "name": "ml.g5.12xlarge",
    "vcpuNum": 48
   },
   {
    "_defaultOrder": 53,
    "_isFastLaunch": false,
    "category": "Accelerated computing",
    "gpuNum": 4,
    "hideHardwareSpecs": false,
    "memoryGiB": 384,
    "name": "ml.g5.24xlarge",
    "vcpuNum": 96
   },
   {
    "_defaultOrder": 54,
    "_isFastLaunch": false,
    "category": "Accelerated computing",
    "gpuNum": 8,
    "hideHardwareSpecs": false,
    "memoryGiB": 768,
    "name": "ml.g5.48xlarge",
    "vcpuNum": 192
   },
   {
    "_defaultOrder": 55,
    "_isFastLaunch": false,
    "category": "Accelerated computing",
    "gpuNum": 8,
    "hideHardwareSpecs": false,
    "memoryGiB": 1152,
    "name": "ml.p4d.24xlarge",
    "vcpuNum": 96
   },
   {
    "_defaultOrder": 56,
    "_isFastLaunch": false,
    "category": "Accelerated computing",
    "gpuNum": 8,
    "hideHardwareSpecs": false,
    "memoryGiB": 1152,
    "name": "ml.p4de.24xlarge",
    "vcpuNum": 96
   }
  ],
  "instance_type": "ml.m5.large",
  "kernelspec": {
   "display_name": "Glue Python [PySpark and Ray] (SparkAnalytics 2.0)",
   "language": "python",
   "name": "conda-env-sm_glue_is-glue_pyspark__SAGEMAKER_INTERNAL__arn:aws:sagemaker:us-east-1:081325390199:image/sagemaker-sparkanalytics-310-v1"
  },
  "language_info": {
   "codemirror_mode": {
    "name": "python",
    "version": 3
   },
   "file_extension": ".py",
   "mimetype": "text/x-python",
   "name": "Python_Glue_Session",
   "pygments_lexer": "python3"
  }
 },
 "nbformat": 4,
 "nbformat_minor": 5
}
