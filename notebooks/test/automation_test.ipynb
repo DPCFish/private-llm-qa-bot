{
 "cells": [
  {
   "cell_type": "markdown",
   "id": "4723ebfa-3f50-4e04-a5d4-d0d797ee503e",
   "metadata": {},
   "source": [
    "# Automation Test"
   ]
  },
  {
   "cell_type": "code",
   "execution_count": null,
   "id": "cfe81566",
   "metadata": {
    "tags": []
   },
   "outputs": [],
   "source": [
    "%pip install requests==2.31.0 --quiet"
   ]
  },
  {
   "cell_type": "markdown",
   "id": "c1cdf6db-1f37-4482-8717-924b512b9365",
   "metadata": {},
   "source": [
    "## You must Modify these Variable Definition according to your Backend Server"
   ]
  },
  {
   "cell_type": "code",
   "execution_count": null,
   "id": "93bbc696-edb3-4317-b1c4-5da80e1b29e7",
   "metadata": {
    "tags": []
   },
   "outputs": [],
   "source": [
    "API_URL = '{API_URL_placeholder}'\n",
    "MODEL_NAME = 'claude-v3-sonnet'\n",
    "COMPANY = \"{company_placeholder}\""
   ]
  },
  {
   "cell_type": "code",
   "execution_count": null,
   "id": "b42293e3",
   "metadata": {
    "tags": []
   },
   "outputs": [],
   "source": [
    "import requests\n",
    "\n",
    "class ChatbotWrapper:\n",
    "\n",
    "    def invoke_chatbot_api(self, prompt, model_name=MODEL_NAME, api_url=API_URL):\n",
    "\n",
    "        payload = {\n",
    "            \"msgid\": \"id-1699868804605-a4e9b6110d998_res\",\n",
    "            \"chat_name\": \"benchmark01\",\n",
    "            \"user_id\" : \"benchmark_user_01\",\n",
    "            \"prompt\": prompt,\n",
    "            \"system_role\": \"\",\n",
    "            \"use_qa\": True,\n",
    "            \"multi_rounds\": False,\n",
    "            \"hide_ref\": False,\n",
    "            \"system_role_prompt\": \"\",\n",
    "            \"obj_prefix\": \"ai-content/\",\n",
    "            \"use_stream\": True,\n",
    "            \"max_tokens\": 3000,\n",
    "            \"temperature\": 0.01,\n",
    "            \"use_trace\": False,\n",
    "            \"model_name\": model_name,\n",
    "            \"template_id\": \"default\",\n",
    "            \"username\": \"admin\",\n",
    "            \"company\" : COMPANY,\n",
    "            \"feature_config\" : \"search_disabled\"\n",
    "        }\n",
    "\n",
    "        headers = {\n",
    "            \"Content-Type\": \"application/json\"\n",
    "        }\n",
    "\n",
    "        response = requests.post(api_url, json=payload, headers=headers)\n",
    "\n",
    "        json_data = response.json()\n",
    "        return json_data"
   ]
  },
  {
   "cell_type": "markdown",
   "id": "3808f64d-2cfc-4e50-bc63-054b7b4e4e30",
   "metadata": {},
   "source": [
    "## Define Questions"
   ]
  },
  {
   "cell_type": "code",
   "execution_count": null,
   "id": "28dcf52f-c248-4def-af3f-6fb131a23d66",
   "metadata": {
    "tags": []
   },
   "outputs": [],
   "source": [
    "Test_Question_list = [\n",
    "    \"Q1\", \"Q2\", \"Q3\"\n",
    "]"
   ]
  },
  {
   "cell_type": "markdown",
   "id": "80a98d39-7f24-474c-b858-447e36f54cc5",
   "metadata": {},
   "source": [
    "## Standard Answer"
   ]
  },
  {
   "cell_type": "code",
   "execution_count": null,
   "id": "57a287a2-2441-4fe4-8e19-cffc52d8afc3",
   "metadata": {
    "tags": []
   },
   "outputs": [],
   "source": [
    "Test_Answer_list = ['TRUE','TRUE','FALSE','FALSE','FALSE','FALSE','FALSE']\n"
   ]
  },
  {
   "cell_type": "markdown",
   "id": "c7810bd0-0371-4352-93d5-ffe574f8aa12",
   "metadata": {},
   "source": [
    "## ChatBot Test"
   ]
  },
  {
   "cell_type": "code",
   "execution_count": null,
   "id": "205afe47-ad22-4f01-8bf1-fea5d7ccf2c2",
   "metadata": {
    "tags": []
   },
   "outputs": [],
   "source": [
    "chatbot=ChatbotWrapper()\n",
    "\n",
    "def judge_test(test_question_list, answer_list, test_name):\n",
    "    print(f\"--------{test_name}--------\")\n",
    "    for idx, question in enumerate(test_question_list):\n",
    "        result = chatbot.invoke_chatbot_api(question)\n",
    "        option = result['body'][0]['choices'][0]['text'].split('\\n')[0].replace('*','')\n",
    "        correct = ( option.upper() == answer_list[idx].upper())\n",
    "        print(f\"[{idx+1}] {correct} chatbot:{option.upper()} - standard:{answer_list[idx].upper()}\")\n",
    "\n",
    "judge_test(Test_Question_list, Test_Answer_list, 'AccountTest_1')"
   ]
  }
 ],
 "metadata": {
  "kernelspec": {
   "display_name": "conda_pytorch_p310",
   "language": "python",
   "name": "conda_pytorch_p310"
  },
  "language_info": {
   "codemirror_mode": {
    "name": "ipython",
    "version": 3
   },
   "file_extension": ".py",
   "mimetype": "text/x-python",
   "name": "python",
   "nbconvert_exporter": "python",
   "pygments_lexer": "ipython3",
   "version": "3.10.13"
  }
 },
 "nbformat": 4,
 "nbformat_minor": 5
}
