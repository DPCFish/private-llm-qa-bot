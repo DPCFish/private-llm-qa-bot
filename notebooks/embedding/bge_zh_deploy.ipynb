{
 "cells": [
  {
   "cell_type": "markdown",
   "id": "7060c891-cebd-4011-b350-b7d1e70b40b2",
   "metadata": {
    "tags": []
   },
   "source": [
    "### 1. 安装HuggingFace 并下载模型到本地"
   ]
  },
  {
   "cell_type": "code",
   "execution_count": 2,
   "id": "9f413314-c410-43d3-bb3a-ba0aa18ec1be",
   "metadata": {
    "tags": []
   },
   "outputs": [
    {
     "name": "stdout",
     "output_type": "stream",
     "text": [
      "Requirement already satisfied: sagemaker in /opt/conda/lib/python3.7/site-packages (2.175.0)\n",
      "Collecting sagemaker\n",
      "  Downloading sagemaker-2.177.1.tar.gz (857 kB)\n",
      "\u001b[2K     \u001b[90m━━━━━━━━━━━━━━━━━━━━━━━━━━━━━━━━━━━━━━━\u001b[0m \u001b[32m857.8/857.8 kB\u001b[0m \u001b[31m6.9 MB/s\u001b[0m eta \u001b[36m0:00:00\u001b[0m00:01\u001b[0m00:01\u001b[0m\n",
      "\u001b[?25h  Preparing metadata (setup.py) ... \u001b[?25ldone\n",
      "\u001b[?25hRequirement already satisfied: attrs<24,>=23.1.0 in /opt/conda/lib/python3.7/site-packages (from sagemaker) (23.1.0)\n",
      "Requirement already satisfied: boto3<2.0,>=1.26.131 in /opt/conda/lib/python3.7/site-packages (from sagemaker) (1.26.157)\n",
      "Requirement already satisfied: cloudpickle==2.2.1 in /opt/conda/lib/python3.7/site-packages (from sagemaker) (2.2.1)\n",
      "Requirement already satisfied: google-pasta in /opt/conda/lib/python3.7/site-packages (from sagemaker) (0.2.0)\n",
      "Requirement already satisfied: numpy<2.0,>=1.9.0 in /opt/conda/lib/python3.7/site-packages (from sagemaker) (1.21.6)\n",
      "Requirement already satisfied: protobuf<5.0,>=3.12 in /opt/conda/lib/python3.7/site-packages (from sagemaker) (3.20.3)\n",
      "Requirement already satisfied: smdebug_rulesconfig==1.0.1 in /opt/conda/lib/python3.7/site-packages (from sagemaker) (1.0.1)\n",
      "Requirement already satisfied: importlib-metadata<7.0,>=1.4.0 in /opt/conda/lib/python3.7/site-packages (from sagemaker) (4.13.0)\n",
      "Requirement already satisfied: packaging>=20.0 in /opt/conda/lib/python3.7/site-packages (from sagemaker) (23.1)\n",
      "Requirement already satisfied: pandas in /opt/conda/lib/python3.7/site-packages (from sagemaker) (1.3.5)\n",
      "Requirement already satisfied: pathos in /opt/conda/lib/python3.7/site-packages (from sagemaker) (0.3.0)\n",
      "Requirement already satisfied: schema in /opt/conda/lib/python3.7/site-packages (from sagemaker) (0.7.5)\n",
      "Requirement already satisfied: PyYAML~=6.0 in /opt/conda/lib/python3.7/site-packages (from sagemaker) (6.0)\n",
      "Requirement already satisfied: jsonschema in /opt/conda/lib/python3.7/site-packages (from sagemaker) (3.2.0)\n",
      "Requirement already satisfied: platformdirs in /opt/conda/lib/python3.7/site-packages (from sagemaker) (3.5.3)\n",
      "Requirement already satisfied: tblib==1.7.0 in /opt/conda/lib/python3.7/site-packages (from sagemaker) (1.7.0)\n",
      "Requirement already satisfied: botocore<1.30.0,>=1.29.157 in /opt/conda/lib/python3.7/site-packages (from boto3<2.0,>=1.26.131->sagemaker) (1.29.157)\n",
      "Requirement already satisfied: jmespath<2.0.0,>=0.7.1 in /opt/conda/lib/python3.7/site-packages (from boto3<2.0,>=1.26.131->sagemaker) (1.0.1)\n",
      "Requirement already satisfied: s3transfer<0.7.0,>=0.6.0 in /opt/conda/lib/python3.7/site-packages (from boto3<2.0,>=1.26.131->sagemaker) (0.6.1)\n",
      "Requirement already satisfied: zipp>=0.5 in /opt/conda/lib/python3.7/site-packages (from importlib-metadata<7.0,>=1.4.0->sagemaker) (2.2.0)\n",
      "Requirement already satisfied: typing-extensions>=3.6.4 in /opt/conda/lib/python3.7/site-packages (from importlib-metadata<7.0,>=1.4.0->sagemaker) (4.6.3)\n",
      "Requirement already satisfied: six in /opt/conda/lib/python3.7/site-packages (from google-pasta->sagemaker) (1.16.0)\n",
      "Requirement already satisfied: pyrsistent>=0.14.0 in /opt/conda/lib/python3.7/site-packages (from jsonschema->sagemaker) (0.15.7)\n",
      "Requirement already satisfied: setuptools in /opt/conda/lib/python3.7/site-packages (from jsonschema->sagemaker) (65.5.1)\n",
      "Requirement already satisfied: python-dateutil>=2.7.3 in /opt/conda/lib/python3.7/site-packages (from pandas->sagemaker) (2.8.2)\n",
      "Requirement already satisfied: pytz>=2017.3 in /opt/conda/lib/python3.7/site-packages (from pandas->sagemaker) (2019.3)\n",
      "Requirement already satisfied: ppft>=1.7.6.6 in /opt/conda/lib/python3.7/site-packages (from pathos->sagemaker) (1.7.6.6)\n",
      "Requirement already satisfied: dill>=0.3.6 in /opt/conda/lib/python3.7/site-packages (from pathos->sagemaker) (0.3.6)\n",
      "Requirement already satisfied: pox>=0.3.2 in /opt/conda/lib/python3.7/site-packages (from pathos->sagemaker) (0.3.2)\n",
      "Requirement already satisfied: multiprocess>=0.70.14 in /opt/conda/lib/python3.7/site-packages (from pathos->sagemaker) (0.70.14)\n",
      "Requirement already satisfied: contextlib2>=0.5.5 in /opt/conda/lib/python3.7/site-packages (from schema->sagemaker) (0.6.0.post1)\n",
      "Requirement already satisfied: urllib3<1.27,>=1.25.4 in /opt/conda/lib/python3.7/site-packages (from botocore<1.30.0,>=1.29.157->boto3<2.0,>=1.26.131->sagemaker) (1.26.16)\n",
      "Building wheels for collected packages: sagemaker\n",
      "  Building wheel for sagemaker (setup.py) ... \u001b[?25ldone\n",
      "\u001b[?25h  Created wheel for sagemaker: filename=sagemaker-2.177.1-py2.py3-none-any.whl size=1166001 sha256=4d974d413f1f94e8f7623d5e37e63200ff49f761237cda0fd253383ddf1e6e92\n",
      "  Stored in directory: /root/.cache/pip/wheels/4d/3f/29/a44088e382c815fd842f7d001b32aede28c9fdba7fd58ecf00\n",
      "Successfully built sagemaker\n",
      "\u001b[33mDEPRECATION: pyodbc 4.0.0-unsupported has a non-standard version number. pip 23.3 will enforce this behaviour change. A possible replacement is to upgrade to a newer version of pyodbc or contact the author to suggest that they release a version with a conforming version number. Discussion can be found at https://github.com/pypa/pip/issues/12063\u001b[0m\u001b[33m\n",
      "\u001b[0mInstalling collected packages: sagemaker\n",
      "  Attempting uninstall: sagemaker\n",
      "    Found existing installation: sagemaker 2.175.0\n",
      "    Uninstalling sagemaker-2.175.0:\n",
      "      Successfully uninstalled sagemaker-2.175.0\n",
      "Successfully installed sagemaker-2.177.1\n",
      "\u001b[33mWARNING: Running pip as the 'root' user can result in broken permissions and conflicting behaviour with the system package manager. It is recommended to use a virtual environment instead: https://pip.pypa.io/warnings/venv\u001b[0m\u001b[33m\n",
      "\u001b[0m"
     ]
    }
   ],
   "source": [
    "!pip install huggingface-hub -Uqq\n",
    "!pip install -U sagemaker"
   ]
  },
  {
   "cell_type": "markdown",
   "id": "df3b0a4b-f166-4f1a-a7cc-9c7277c68173",
   "metadata": {},
   "source": [
    "-  可以把下面cell中的en全部切换成zh即可部署中文版"
   ]
  },
  {
   "cell_type": "code",
   "execution_count": 2,
   "id": "be112a00-cbef-4387-b0d7-80e5e7b7030d",
   "metadata": {
    "tags": []
   },
   "outputs": [],
   "source": [
    "from huggingface_hub import snapshot_download\n",
    "from pathlib import Path\n",
    "\n",
    "local_model_path = Path(\"./bge-zh-model\")\n",
    "local_model_path.mkdir(exist_ok=True)\n",
    "model_name = \"BAAI/bge-large-zh\"\n",
    "commit_hash = \"1b543b301eb63dd32914b56d939db2a972df15d5\""
   ]
  },
  {
   "cell_type": "code",
   "execution_count": 3,
   "id": "902798dc-227b-4191-ade7-b736571543ac",
   "metadata": {
    "tags": []
   },
   "outputs": [
    {
     "data": {
      "application/vnd.jupyter.widget-view+json": {
       "model_id": "fb3b63bef3944c4090b8a725f55156ee",
       "version_major": 2,
       "version_minor": 0
      },
      "text/plain": [
       "HBox(children=(FloatProgress(value=0.0, description='Fetching 12 files', max=12.0, style=ProgressStyle(descrip…"
      ]
     },
     "metadata": {},
     "output_type": "display_data"
    },
    {
     "data": {
      "application/vnd.jupyter.widget-view+json": {
       "model_id": "4d6161a9c7f6433992e68fa5abe4c9f8",
       "version_major": 2,
       "version_minor": 0
      },
      "text/plain": [
       "HBox(children=(FloatProgress(value=0.0, description='Downloading (…)72df15d5/config.json', max=941.0, style=Pr…"
      ]
     },
     "metadata": {},
     "output_type": "display_data"
    },
    {
     "data": {
      "application/vnd.jupyter.widget-view+json": {
       "model_id": "f959a96a27cd4d439d659f52339a753f",
       "version_major": 2,
       "version_minor": 0
      },
      "text/plain": [
       "HBox(children=(FloatProgress(value=0.0, description='Downloading (…)_Pooling/config.json', max=191.0, style=Pr…"
      ]
     },
     "metadata": {},
     "output_type": "display_data"
    },
    {
     "data": {
      "application/vnd.jupyter.widget-view+json": {
       "model_id": "520692be45a741ce95485fba4177f81f",
       "version_major": 2,
       "version_minor": 0
      },
      "text/plain": [
       "HBox(children=(FloatProgress(value=0.0, description='Downloading (…)ce_transformers.json', max=124.0, style=Pr…"
      ]
     },
     "metadata": {},
     "output_type": "display_data"
    },
    {
     "data": {
      "application/vnd.jupyter.widget-view+json": {
       "model_id": "cf415224ba0c4095bb2e47e6b3a4ebdb",
       "version_major": 2,
       "version_minor": 0
      },
      "text/plain": [
       "HBox(children=(FloatProgress(value=0.0, description='Downloading (…)nce_bert_config.json', max=52.0, style=Pro…"
      ]
     },
     "metadata": {},
     "output_type": "display_data"
    },
    {
     "name": "stdout",
     "output_type": "stream",
     "text": [
      "\n",
      "\n"
     ]
    },
    {
     "data": {
      "application/vnd.jupyter.widget-view+json": {
       "model_id": "30f63c84133449e5be0b7463cdb349a7",
       "version_major": 2,
       "version_minor": 0
      },
      "text/plain": [
       "HBox(children=(FloatProgress(value=0.0, description='Downloading (…)f15d5/.gitattributes', max=1519.0, style=P…"
      ]
     },
     "metadata": {},
     "output_type": "display_data"
    },
    {
     "data": {
      "application/vnd.jupyter.widget-view+json": {
       "model_id": "e476c22426a9497aa83f6325aa558b47",
       "version_major": 2,
       "version_minor": 0
      },
      "text/plain": [
       "HBox(children=(FloatProgress(value=0.0, description='Downloading (…)a972df15d5/README.md', max=16550.0, style=…"
      ]
     },
     "metadata": {},
     "output_type": "display_data"
    },
    {
     "data": {
      "application/vnd.jupyter.widget-view+json": {
       "model_id": "7f47c844bf1d489a8fbcc6051c7e9671",
       "version_major": 2,
       "version_minor": 0
      },
      "text/plain": [
       "HBox(children=(FloatProgress(value=0.0, description='Downloading (…)2df15d5/modules.json', max=229.0, style=Pr…"
      ]
     },
     "metadata": {},
     "output_type": "display_data"
    },
    {
     "name": "stdout",
     "output_type": "stream",
     "text": [
      "\n",
      "\n",
      "\n",
      "\n",
      "\n"
     ]
    },
    {
     "data": {
      "application/vnd.jupyter.widget-view+json": {
       "model_id": "1b3a3bc8fb624898952bf87b82588911",
       "version_major": 2,
       "version_minor": 0
      },
      "text/plain": [
       "HBox(children=(FloatProgress(value=0.0, description='Downloading pytorch_model.bin', max=1302220525.0, style=P…"
      ]
     },
     "metadata": {},
     "output_type": "display_data"
    },
    {
     "data": {
      "application/vnd.jupyter.widget-view+json": {
       "model_id": "5076a28ada8b43c9ab5d2a203386cff5",
       "version_major": 2,
       "version_minor": 0
      },
      "text/plain": [
       "HBox(children=(FloatProgress(value=0.0, description='Downloading (…)cial_tokens_map.json', max=125.0, style=Pr…"
      ]
     },
     "metadata": {},
     "output_type": "display_data"
    },
    {
     "name": "stdout",
     "output_type": "stream",
     "text": [
      "\n"
     ]
    },
    {
     "data": {
      "application/vnd.jupyter.widget-view+json": {
       "model_id": "5bc9a1a687904f52914b2dc2aeb87360",
       "version_major": 2,
       "version_minor": 0
      },
      "text/plain": [
       "HBox(children=(FloatProgress(value=0.0, description='Downloading (…)f15d5/tokenizer.json', max=439124.0, style…"
      ]
     },
     "metadata": {},
     "output_type": "display_data"
    },
    {
     "data": {
      "application/vnd.jupyter.widget-view+json": {
       "model_id": "360000a1624a4a3aabee15bf894b31ce",
       "version_major": 2,
       "version_minor": 0
      },
      "text/plain": [
       "HBox(children=(FloatProgress(value=0.0, description='Downloading (…)a972df15d5/vocab.txt', max=109540.0, style…"
      ]
     },
     "metadata": {},
     "output_type": "display_data"
    },
    {
     "name": "stdout",
     "output_type": "stream",
     "text": [
      "\n"
     ]
    },
    {
     "data": {
      "application/vnd.jupyter.widget-view+json": {
       "model_id": "2738e416d42d443ebc09752232a25bdb",
       "version_major": 2,
       "version_minor": 0
      },
      "text/plain": [
       "HBox(children=(FloatProgress(value=0.0, description='Downloading (…)okenizer_config.json', max=366.0, style=Pr…"
      ]
     },
     "metadata": {},
     "output_type": "display_data"
    },
    {
     "name": "stdout",
     "output_type": "stream",
     "text": [
      "\n",
      "\n",
      "\n",
      "\n"
     ]
    },
    {
     "data": {
      "text/plain": [
       "'bge-zh-model/models--BAAI--bge-large-zh/snapshots/1b543b301eb63dd32914b56d939db2a972df15d5'"
      ]
     },
     "execution_count": 3,
     "metadata": {},
     "output_type": "execute_result"
    }
   ],
   "source": [
    "snapshot_download(repo_id=model_name, revision=commit_hash, cache_dir=local_model_path)"
   ]
  },
  {
   "cell_type": "markdown",
   "id": "a6b61ad8-a8c2-48c2-8539-e7c1e2afe773",
   "metadata": {},
   "source": [
    "### 2. 把模型拷贝到S3为后续部署做准备"
   ]
  },
  {
   "cell_type": "code",
   "execution_count": 4,
   "id": "5e1873f4-1bfe-4146-8297-584e9ad76fc9",
   "metadata": {
    "tags": []
   },
   "outputs": [],
   "source": [
    "import sagemaker\n",
    "from sagemaker import image_uris\n",
    "import boto3\n",
    "import os\n",
    "import time\n",
    "import json\n",
    "\n",
    "role = sagemaker.get_execution_role()  # execution role for the endpoint\n",
    "sess = sagemaker.session.Session()  # sagemaker session for interacting with different AWS APIs\n",
    "bucket = sess.default_bucket()  # bucket to house artifacts\n",
    "\n",
    "region = sess._region_name\n",
    "account_id = sess.account_id()\n",
    "\n",
    "s3_client = boto3.client(\"s3\")\n",
    "sm_client = boto3.client(\"sagemaker\")\n",
    "smr_client = boto3.client(\"sagemaker-runtime\")"
   ]
  },
  {
   "cell_type": "code",
   "execution_count": 7,
   "id": "68394e44-4d51-48ae-adc1-d02f520a5d4d",
   "metadata": {
    "tags": []
   },
   "outputs": [
    {
     "name": "stdout",
     "output_type": "stream",
     "text": [
      "s3_code_prefix: LLM-RAG/workshop/bge_zh_deploy_code\n",
      "model_snapshot_path: bge-zh-model/models--BAAI--bge-large-zh/snapshots/1b543b301eb63dd32914b56d939db2a972df15d5\n"
     ]
    }
   ],
   "source": [
    "s3_model_prefix = \"LLM-RAG/workshop/bge-zh-model\"  # folder where model checkpoint will go\n",
    "model_snapshot_path = list(local_model_path.glob(\"**/snapshots/*\"))[0]\n",
    "s3_code_prefix = \"LLM-RAG/workshop/bge_zh_deploy_code\"\n",
    "print(f\"s3_code_prefix: {s3_code_prefix}\")\n",
    "print(f\"model_snapshot_path: {model_snapshot_path}\")"
   ]
  },
  {
   "cell_type": "code",
   "execution_count": 8,
   "id": "0b9e177a-886d-4838-891e-2e612a3cbc9d",
   "metadata": {
    "tags": []
   },
   "outputs": [
    {
     "name": "stdout",
     "output_type": "stream",
     "text": [
      "upload: bge-zh-model/models--BAAI--bge-large-zh/snapshots/1b543b301eb63dd32914b56d939db2a972df15d5/.gitattributes to s3://sagemaker-us-east-2-946277762357/LLM-RAG/workshop/bge-zh-model/.gitattributes\n",
      "upload: bge-zh-model/models--BAAI--bge-large-zh/snapshots/1b543b301eb63dd32914b56d939db2a972df15d5/1_Pooling/config.json to s3://sagemaker-us-east-2-946277762357/LLM-RAG/workshop/bge-zh-model/1_Pooling/config.json\n",
      "upload: bge-zh-model/models--BAAI--bge-large-zh/snapshots/1b543b301eb63dd32914b56d939db2a972df15d5/config_sentence_transformers.json to s3://sagemaker-us-east-2-946277762357/LLM-RAG/workshop/bge-zh-model/config_sentence_transformers.json\n",
      "upload: bge-zh-model/models--BAAI--bge-large-zh/snapshots/1b543b301eb63dd32914b56d939db2a972df15d5/README.md to s3://sagemaker-us-east-2-946277762357/LLM-RAG/workshop/bge-zh-model/README.md\n",
      "upload: bge-zh-model/models--BAAI--bge-large-zh/snapshots/1b543b301eb63dd32914b56d939db2a972df15d5/config.json to s3://sagemaker-us-east-2-946277762357/LLM-RAG/workshop/bge-zh-model/config.json\n",
      "upload: bge-zh-model/models--BAAI--bge-large-zh/snapshots/1b543b301eb63dd32914b56d939db2a972df15d5/special_tokens_map.json to s3://sagemaker-us-east-2-946277762357/LLM-RAG/workshop/bge-zh-model/special_tokens_map.json\n",
      "upload: bge-zh-model/models--BAAI--bge-large-zh/snapshots/1b543b301eb63dd32914b56d939db2a972df15d5/sentence_bert_config.json to s3://sagemaker-us-east-2-946277762357/LLM-RAG/workshop/bge-zh-model/sentence_bert_config.json\n",
      "upload: bge-zh-model/models--BAAI--bge-large-zh/snapshots/1b543b301eb63dd32914b56d939db2a972df15d5/modules.json to s3://sagemaker-us-east-2-946277762357/LLM-RAG/workshop/bge-zh-model/modules.json\n",
      "upload: bge-zh-model/models--BAAI--bge-large-zh/snapshots/1b543b301eb63dd32914b56d939db2a972df15d5/tokenizer.json to s3://sagemaker-us-east-2-946277762357/LLM-RAG/workshop/bge-zh-model/tokenizer.json\n",
      "upload: bge-zh-model/models--BAAI--bge-large-zh/snapshots/1b543b301eb63dd32914b56d939db2a972df15d5/tokenizer_config.json to s3://sagemaker-us-east-2-946277762357/LLM-RAG/workshop/bge-zh-model/tokenizer_config.json\n",
      "upload: bge-zh-model/models--BAAI--bge-large-zh/snapshots/1b543b301eb63dd32914b56d939db2a972df15d5/vocab.txt to s3://sagemaker-us-east-2-946277762357/LLM-RAG/workshop/bge-zh-model/vocab.txt\n",
      "upload: bge-zh-model/models--BAAI--bge-large-zh/snapshots/1b543b301eb63dd32914b56d939db2a972df15d5/pytorch_model.bin to s3://sagemaker-us-east-2-946277762357/LLM-RAG/workshop/bge-zh-model/pytorch_model.bin\n"
     ]
    }
   ],
   "source": [
    "!aws s3 cp --recursive {model_snapshot_path} s3://{bucket}/{s3_model_prefix}"
   ]
  },
  {
   "cell_type": "markdown",
   "id": "59f35a6f-5988-42ec-87b0-de36eaebe41b",
   "metadata": {
    "tags": []
   },
   "source": [
    "### 3. 模型部署准备（entrypoint脚本，容器镜像，服务配置）"
   ]
  },
  {
   "cell_type": "code",
   "execution_count": 10,
   "id": "86daea77-a7ae-46b8-8800-212d07ce5605",
   "metadata": {
    "tags": []
   },
   "outputs": [
    {
     "name": "stdout",
     "output_type": "stream",
     "text": [
      "Image going to be used is ---- > 763104351884.dkr.ecr.us-east-2.amazonaws.com/djl-inference:0.23.0-deepspeed0.9.5-cu118\n"
     ]
    }
   ],
   "source": [
    "inference_image_uri = (\n",
    "    f\"763104351884.dkr.ecr.{region}.amazonaws.com/djl-inference:0.23.0-deepspeed0.9.5-cu118\"\n",
    ")\n",
    "\n",
    "#中国区需要替换为下面的image_uri\n",
    "# inference_image_uri = (\n",
    "#     f\"727897471807.dkr.ecr.{region}.amazonaws.com.cn/djl-inference:0.23.0-deepspeed0.9.5-cu118\"\n",
    "# )\n",
    "\n",
    "print(f\"Image going to be used is ---- > {inference_image_uri}\")"
   ]
  },
  {
   "cell_type": "code",
   "execution_count": 11,
   "id": "49435172-e6c5-492a-8dcb-43e3fffb0f5c",
   "metadata": {
    "tags": []
   },
   "outputs": [],
   "source": [
    "!mkdir -p bge_zh_deploy_code"
   ]
  },
  {
   "cell_type": "code",
   "execution_count": 12,
   "id": "70990dd3-431e-4dd0-a494-d26ceb454945",
   "metadata": {
    "tags": []
   },
   "outputs": [
    {
     "name": "stdout",
     "output_type": "stream",
     "text": [
      "Writing bge_zh_deploy_code/model.py\n"
     ]
    }
   ],
   "source": [
    "%%writefile bge_zh_deploy_code/model.py\n",
    "from djl_python import Input, Output\n",
    "import torch\n",
    "import logging\n",
    "import math\n",
    "import os\n",
    "# from FlagEmbedding import FlagModel\n",
    "from sentence_transformers import SentenceTransformer\n",
    "\n",
    "\n",
    "def load_model(properties):\n",
    "    tensor_parallel = properties[\"tensor_parallel_degree\"]\n",
    "    model_location = properties['model_dir']\n",
    "    if \"model_id\" in properties:\n",
    "        model_location = properties['model_id']\n",
    "    logging.info(f\"Loading model in {model_location}\")\n",
    "\n",
    "    # model =  FlagModel(model_location)\n",
    "    model = SentenceTransformer(model_location)\n",
    "    \n",
    "    return model\n",
    "\n",
    "model = None\n",
    "\n",
    "def handle(inputs: Input):\n",
    "    global model\n",
    "    if not model:\n",
    "        model = load_model(inputs.get_properties())\n",
    "\n",
    "    if inputs.is_empty():\n",
    "        return None\n",
    "    data = inputs.get_as_json()\n",
    "    \n",
    "    input_sentences = None\n",
    "    inputs = data[\"inputs\"]\n",
    "    if isinstance(inputs, list):\n",
    "        input_sentences = inputs\n",
    "    else:\n",
    "        input_sentences =  [inputs]\n",
    "        \n",
    "    is_query = data[\"is_query\"]\n",
    "    instruction = data[\"instruction\"]\n",
    "    logging.info(f\"inputs: {input_sentences}\")\n",
    "    logging.info(f\"is_query: {is_query}\")\n",
    "    logging.info(f\"instruction: {instruction}\")\n",
    "    \n",
    "    if is_query and instruction:\n",
    "        input_sentences = [ instruction + sent for sent in input_sentences ]\n",
    "        \n",
    "    sentence_embeddings =  model.encode(input_sentences,normalize_embeddings=True)\n",
    "        \n",
    "    result = {\"sentence_embeddings\": sentence_embeddings}\n",
    "    return Output().add_as_json(result)"
   ]
  },
  {
   "cell_type": "code",
   "execution_count": 13,
   "id": "0f4c6d5f",
   "metadata": {
    "tags": []
   },
   "outputs": [
    {
     "name": "stdout",
     "output_type": "stream",
     "text": [
      "option.s3url ==> s3://sagemaker-us-east-2-946277762357/LLM-RAG/workshop/bge-zh-model/\n"
     ]
    }
   ],
   "source": [
    "print(f\"option.s3url ==> s3://{bucket}/{s3_model_prefix}/\")"
   ]
  },
  {
   "cell_type": "markdown",
   "id": "a1e1ecec-79cf-4ed4-bba1-95e2fe79daea",
   "metadata": {},
   "source": [
    "#### Note: option.s3url 需要按照自己的账号进行修改, 可以拷贝上一个cell的输出"
   ]
  },
  {
   "cell_type": "code",
   "execution_count": 14,
   "id": "ab5ee385-5c6c-493c-bd40-9b57ae0c8e1d",
   "metadata": {
    "tags": []
   },
   "outputs": [
    {
     "name": "stdout",
     "output_type": "stream",
     "text": [
      "Writing bge_zh_deploy_code/serving.properties\n"
     ]
    }
   ],
   "source": [
    "%%writefile bge_zh_deploy_code/serving.properties\n",
    "engine=Python\n",
    "option.tensor_parallel_degree=1\n",
    "option.s3url = s3://sagemaker-us-east-2-946277762357/LLM-RAG/workshop/bge-zh-model/"
   ]
  },
  {
   "cell_type": "code",
   "execution_count": 15,
   "id": "38bf548e-fb01-4951-b49f-15a91c61fb2e",
   "metadata": {
    "tags": []
   },
   "outputs": [
    {
     "name": "stdout",
     "output_type": "stream",
     "text": [
      "Writing bge_zh_deploy_code/requirements.txt\n"
     ]
    }
   ],
   "source": [
    "%%writefile bge_zh_deploy_code/requirements.txt\n",
    "transformers==4.30.2\n",
    "sentence-transformers"
   ]
  },
  {
   "cell_type": "code",
   "execution_count": 16,
   "id": "ffe41472-c2cf-4bb5-99aa-84df76c629b3",
   "metadata": {
    "tags": []
   },
   "outputs": [
    {
     "name": "stdout",
     "output_type": "stream",
     "text": [
      "bge_zh_deploy_code/\n",
      "bge_zh_deploy_code/model.py\n",
      "bge_zh_deploy_code/requirements.txt\n",
      "bge_zh_deploy_code/serving.properties\n"
     ]
    }
   ],
   "source": [
    "!rm s2e_model.tar.gz\n",
    "!cd bge_zh_deploy_code && rm -rf \".ipynb_checkpoints\"\n",
    "!tar czvf s2e_model.tar.gz bge_zh_deploy_code"
   ]
  },
  {
   "cell_type": "code",
   "execution_count": 17,
   "id": "1fabd7ce-b855-4569-857c-ad872662800b",
   "metadata": {
    "tags": []
   },
   "outputs": [
    {
     "name": "stdout",
     "output_type": "stream",
     "text": [
      "S3 Code or Model tar ball uploaded to --- > s3://sagemaker-us-east-2-946277762357/LLM-RAG/workshop/bge_zh_deploy_code/s2e_model.tar.gz\n"
     ]
    }
   ],
   "source": [
    "s3_code_artifact = sess.upload_data(\"s2e_model.tar.gz\", bucket, s3_code_prefix)\n",
    "print(f\"S3 Code or Model tar ball uploaded to --- > {s3_code_artifact}\")"
   ]
  },
  {
   "cell_type": "markdown",
   "id": "18fb01ed-6bd3-4880-a647-cfd71e692820",
   "metadata": {
    "tags": []
   },
   "source": [
    "### 4. 创建模型 & 创建endpoint"
   ]
  },
  {
   "cell_type": "code",
   "execution_count": 18,
   "id": "e6209d24-8473-4256-93d3-02e4e144386b",
   "metadata": {
    "tags": []
   },
   "outputs": [
    {
     "name": "stdout",
     "output_type": "stream",
     "text": [
      "bge-large-zh-2023-08-18-02-01-52-029\n",
      "Image going to be used is ---- > 763104351884.dkr.ecr.us-east-2.amazonaws.com/djl-inference:0.23.0-deepspeed0.9.5-cu118\n",
      "Created Model: arn:aws:sagemaker:us-east-2:946277762357:model/bge-large-zh-2023-08-18-02-01-52-029\n"
     ]
    }
   ],
   "source": [
    "from sagemaker.utils import name_from_base\n",
    "import boto3\n",
    "\n",
    "model_name = name_from_base(\"bge-large-zh\") #Note: Need to specify model_name\n",
    "print(model_name)\n",
    "print(f\"Image going to be used is ---- > {inference_image_uri}\")\n",
    "\n",
    "create_model_response = sm_client.create_model(\n",
    "    ModelName=model_name,\n",
    "    ExecutionRoleArn=role,\n",
    "    PrimaryContainer={\n",
    "        \"Image\": inference_image_uri,\n",
    "        \"ModelDataUrl\": s3_code_artifact\n",
    "    },\n",
    "    \n",
    ")\n",
    "model_arn = create_model_response[\"ModelArn\"]\n",
    "\n",
    "print(f\"Created Model: {model_arn}\")"
   ]
  },
  {
   "cell_type": "code",
   "execution_count": 22,
   "id": "686abae8-5db7-4ebd-9fbf-5bd54f36c0ab",
   "metadata": {
    "tags": []
   },
   "outputs": [
    {
     "data": {
      "text/plain": [
       "{'EndpointConfigArn': 'arn:aws:sagemaker:us-east-2:946277762357:endpoint-config/bge-large-zh-2023-08-18-02-01-52-029-config',\n",
       " 'ResponseMetadata': {'RequestId': '57d9d016-ed97-4d47-9d52-eef9c7aaa384',\n",
       "  'HTTPStatusCode': 200,\n",
       "  'HTTPHeaders': {'x-amzn-requestid': '57d9d016-ed97-4d47-9d52-eef9c7aaa384',\n",
       "   'content-type': 'application/x-amz-json-1.1',\n",
       "   'content-length': '124',\n",
       "   'date': 'Fri, 18 Aug 2023 02:05:49 GMT'},\n",
       "  'RetryAttempts': 0}}"
      ]
     },
     "execution_count": 22,
     "metadata": {},
     "output_type": "execute_result"
    }
   ],
   "source": [
    "endpoint_config_name = f\"{model_name}-config\"\n",
    "endpoint_name = f\"{model_name}-endpoint\"\n",
    "\n",
    "endpoint_config_response = sm_client.create_endpoint_config(\n",
    "    EndpointConfigName=endpoint_config_name,\n",
    "    ProductionVariants=[\n",
    "        {\n",
    "            \"VariantName\": \"variant1\",\n",
    "            \"ModelName\": model_name,\n",
    "            \"InstanceType\": \"ml.g4dn.xlarge\",\n",
    "            \"InitialInstanceCount\": 1,\n",
    "            # \"VolumeSizeInGB\" : 400,\n",
    "            # \"ModelDataDownloadTimeoutInSeconds\": 2400,\n",
    "            \"ContainerStartupHealthCheckTimeoutInSeconds\": 10*60,\n",
    "        },\n",
    "    ],\n",
    ")\n",
    "endpoint_config_response"
   ]
  },
  {
   "cell_type": "code",
   "execution_count": 23,
   "id": "f4c1df06-ae4a-42e2-9695-da0afa9ad734",
   "metadata": {
    "tags": []
   },
   "outputs": [
    {
     "name": "stdout",
     "output_type": "stream",
     "text": [
      "Created Endpoint: arn:aws:sagemaker:us-east-2:946277762357:endpoint/bge-large-zh-2023-08-18-02-01-52-029-endpoint\n"
     ]
    }
   ],
   "source": [
    "create_endpoint_response = sm_client.create_endpoint(\n",
    "    EndpointName=f\"{endpoint_name}\", EndpointConfigName=endpoint_config_name\n",
    ")\n",
    "print(f\"Created Endpoint: {create_endpoint_response['EndpointArn']}\")"
   ]
  },
  {
   "cell_type": "code",
   "execution_count": 24,
   "id": "d9c71240-6878-4fed-bf7d-2c1cf75f4ac5",
   "metadata": {
    "tags": []
   },
   "outputs": [
    {
     "name": "stdout",
     "output_type": "stream",
     "text": [
      "Status: Creating\n",
      "Status: Creating\n",
      "Status: Creating\n",
      "Status: Creating\n",
      "Status: Creating\n",
      "Status: Creating\n",
      "Status: InService\n",
      "Arn: arn:aws:sagemaker:us-east-2:946277762357:endpoint/bge-large-zh-2023-08-18-02-01-52-029-endpoint\n",
      "Status: InService\n"
     ]
    }
   ],
   "source": [
    "import time\n",
    "\n",
    "resp = sm_client.describe_endpoint(EndpointName=endpoint_name)\n",
    "status = resp[\"EndpointStatus\"]\n",
    "print(\"Status: \" + status)\n",
    "\n",
    "while status == \"Creating\":\n",
    "    time.sleep(60)\n",
    "    resp = sm_client.describe_endpoint(EndpointName=endpoint_name)\n",
    "    status = resp[\"EndpointStatus\"]\n",
    "    print(\"Status: \" + status)\n",
    "\n",
    "print(\"Arn: \" + resp[\"EndpointArn\"])\n",
    "print(\"Status: \" + status)"
   ]
  },
  {
   "cell_type": "markdown",
   "id": "f47bd4f0-dc3e-4471-a511-8646553694d3",
   "metadata": {},
   "source": [
    "### 5. 设置autoscaling(optional)"
   ]
  },
  {
   "cell_type": "code",
   "execution_count": null,
   "id": "cf889c90-7e59-4f33-87f9-ad700b7de98c",
   "metadata": {
    "tags": []
   },
   "outputs": [],
   "source": [
    "asg = boto3.client('application-autoscaling')\n",
    "\n",
    "# Resource type is variant and the unique identifier is the resource ID.\n",
    "resource_id=f\"endpoint/{endpoint_name}/variant/variant1\"\n",
    "\n",
    "# scaling configuration\n",
    "response = asg.register_scalable_target(\n",
    "    ServiceNamespace='sagemaker', #\n",
    "    ResourceId=resource_id,\n",
    "    ScalableDimension='sagemaker:variant:DesiredInstanceCount', \n",
    "    MinCapacity=1,\n",
    "    MaxCapacity=4\n",
    ")"
   ]
  },
  {
   "cell_type": "code",
   "execution_count": null,
   "id": "1c81cfc1-98dd-4603-a4ef-4f8fcd9d8000",
   "metadata": {
    "tags": []
   },
   "outputs": [],
   "source": [
    "response = asg.put_scaling_policy(\n",
    "    PolicyName=f'Request-ScalingPolicy-{endpoint_name}',\n",
    "    ServiceNamespace='sagemaker',\n",
    "    ResourceId=resource_id,\n",
    "    ScalableDimension='sagemaker:variant:DesiredInstanceCount',\n",
    "    PolicyType='TargetTrackingScaling',\n",
    "    TargetTrackingScalingPolicyConfiguration={\n",
    "        'TargetValue': 10.0, # Threshold\n",
    "        'PredefinedMetricSpecification': {\n",
    "            'PredefinedMetricType': 'SageMakerVariantInvocationsPerInstance',\n",
    "        },\n",
    "        'ScaleInCooldown': 300, # duration until scale in\n",
    "        'ScaleOutCooldown': 60 # duration between scale out\n",
    "    }\n",
    ")"
   ]
  },
  {
   "cell_type": "markdown",
   "id": "dddba20e-fc18-480d-9940-ae39695ac450",
   "metadata": {},
   "source": [
    "### 6. 模型测试"
   ]
  },
  {
   "cell_type": "code",
   "execution_count": 25,
   "id": "1f28db25-6996-440c-b004-14f96cfd982d",
   "metadata": {
    "tags": []
   },
   "outputs": [],
   "source": [
    "def get_vector_by_sm_endpoint(questions, sm_client, endpoint_name):\n",
    "    parameters = {\n",
    "    }\n",
    "    # instruction =  \"Represent this sentence for searching relevant passages:\"\n",
    "    instruction = \"为这个句子生成表示以用于检索相关文章：\"\n",
    "    response_model = sm_client.invoke_endpoint(\n",
    "        EndpointName=endpoint_name,\n",
    "        Body=json.dumps(\n",
    "            {\n",
    "                \"inputs\": questions,\n",
    "                \"is_query\": True,\n",
    "                \"instruction\" : instruction\n",
    "            }\n",
    "        ),\n",
    "        ContentType=\"application/json\",\n",
    "    )\n",
    "    # 中文instruction => 为这个句子生成表示以用于检索相关文章：\n",
    "    json_str = response_model['Body'].read().decode('utf8')\n",
    "    json_obj = json.loads(json_str)\n",
    "    embeddings = json_obj['sentence_embeddings']\n",
    "    return embeddings"
   ]
  },
  {
   "cell_type": "code",
   "execution_count": 27,
   "id": "52d4f56a-092e-4a6a-a920-48550ec9f20c",
   "metadata": {
    "tags": []
   },
   "outputs": [
    {
     "name": "stdout",
     "output_type": "stream",
     "text": [
      "1024\n",
      "[0.02285151369869709, -0.015070997178554535, -0.013117046095430851, 0.00557536818087101, 0.021118616685271263, 0.024973174557089806, -0.017808184027671814, -0.02665492706000805, 0.025437485426664352, 0.01158227026462555, 0.0009396620444022119, 0.06347035616636276, -0.023801323026418686, -0.02833905629813671, -0.03059929795563221, -0.021495161578059196, 0.05410164222121239, 0.00881141796708107, 0.001953735714778304, -0.027573958039283752, 0.024827953428030014, 0.0064697908237576485, -0.011672352440655231, -0.015389867126941681, -0.016045548021793365, 0.0032304946798831224, 0.009333808906376362, -0.008296824991703033, 0.03669346496462822, -0.034027907997369766, -0.0313534289598465, -0.011205460876226425, 0.014368308708071709, 0.01182760950177908, -0.03035094030201435, -0.004441733006387949, -0.014640008099377155, 0.02478623390197754, 0.0019168019061908126, -0.037123315036296844, -0.01629898138344288, 0.00479609239846468, 0.013669213280081749, 0.015322056598961353, 0.0022918314207345247, 0.01896888203918934, 0.03686266019940376, -0.027616942301392555, 0.021619845181703568, -0.041050080209970474, -0.020051579922437668, -0.04187997803092003, -0.016469603404402733, 0.02382834441959858, -0.016884414479136467, 0.010569939389824867, 0.05475013330578804, -0.009742661379277706, -0.008219090290367603, 0.04432603344321251, 0.020138554275035858, 0.17108705639839172, -0.03393084183335304, 0.026965459808707237, -0.025968186557292938, 0.00864645466208458, 0.0007524634711444378, -0.052325379103422165, -0.014543642289936543, 0.026414792984724045, 0.04367538169026375, 0.06259114295244217, 0.02350899949669838, -0.006541329901665449, 0.01858692057430744, -0.009588537737727165, -0.029360583052039146, -0.00485496548935771, 0.009320206008851528, -0.03708982095122337, -0.05628335848450661, -0.0019262097775936127, -0.023576704785227776, -0.024375250563025475, 0.015244913287460804, -0.011537224054336548, 0.014608909375965595, 0.44521060585975647, 0.0077396584674716, -0.0021416987292468548, -0.018845360726118088, 0.01571439579129219, -0.012720671482384205, 0.011830438859760761, 0.008853886276483536, -0.029572734609246254, -0.04693686217069626, -0.0692499577999115, -0.006511504761874676, 0.0029297033324837685, 0.0562455989420414, 0.00029338704189285636, -0.004394778050482273, -0.002147054998204112, -0.0486462377011776, -0.01888962835073471, 0.024560365825891495, -0.0032928341533988714, -0.005319471936672926, 0.037677329033613205, 0.011824026703834534, -0.04351774975657463, -0.027555661275982857, 0.047162219882011414, 0.05128779634833336, -0.024885928258299828, -0.0031305435113608837, -0.0018304784316569567, 0.023058375343680382, -0.028053998947143555, -0.024199634790420532, -0.031243160367012024, 0.029666170477867126, 0.025047559291124344, 0.01781367138028145, -0.051561255007982254, 0.06391505151987076, -0.027561364695429802, 0.03099832683801651, -0.01998922787606716, 0.030228333547711372, 0.007771019358187914, -0.018963612616062164, -0.02633870206773281, -0.008030837401747704, -0.006120538339018822, 0.028687138110399246, 0.04915350675582886, -0.019182903692126274, 0.009634280577301979, 0.02231445536017418, -0.02403002791106701, 0.016210442408919334, -0.009495798498392105, 0.02246107906103134, -0.015938445925712585, 0.04079439118504524, 0.021230075508356094, 0.036125827580690384, -0.01843228191137314, 0.009287972003221512, -0.0362602137029171, -0.018652241677045822, -0.005631185136735439, 0.0016569088911637664, -0.02073732390999794, 0.02390560507774353, 0.04058057814836502, -0.01077973935753107, -0.03270067274570465, -0.007161431480199099, -0.02170182392001152, -0.01626219041645527, 0.058312829583883286, -0.04027734696865082, -0.014429207891225815, 0.0385156013071537, -0.011477355845272541, 0.0005600294680334628, -0.0020590098574757576, -0.010831035673618317, -0.003489609807729721, -0.04137929528951645, 0.006256969645619392, -0.048689015209674835, -0.002195984125137329, 0.0035310874227434397, 0.05988457798957825, -0.0020187764894217253, -0.01650535687804222, 0.013124175369739532, 0.016369719058275223, -0.035314083099365234, 0.0031488919630646706, 0.011280804872512817, 0.03219282999634743, 0.0009560877806507051, 0.017864659428596497, 0.012980827130377293, -0.05909106135368347, 0.01751907914876938, 0.024682167917490005, -0.044178541749715805, 0.05241452157497406, -0.018172744661569595, -0.05128229781985283, -0.010341196320950985, -0.004906267859041691, -0.05924464017152786, 0.009148337878286839, 0.013686366379261017, -0.009533138014376163, 0.012287276796996593, -0.0016051792772486806, -0.0016718722181394696, 0.02579190395772457, -0.003391905687749386, 0.02474125847220421, 0.018142882734537125, -0.007993859238922596, 0.008543635718524456, 0.029026133939623833, -0.00042668715468607843, 0.011473593302071095, 0.01698424108326435, -0.007509295362979174, 0.03720609471201897, -0.0563163086771965, 0.002018942264840007, 0.03622767701745033, 0.01928441785275936, 0.014377751387655735, -0.014173719100654125, -0.007166601251810789, 0.046585287898778915, 0.011293258517980576, -0.03154566138982773, 0.024036742746829987, -0.02227061241865158, -0.0013152888277545571, -0.016832802444696426, 0.0245644710958004, -0.0022844679187983274, 0.005871025379747152, -0.0117191756144166, 0.0027098441496491432, 0.0075485543347895145, -0.013511944562196732, -0.012432651594281197, -0.0058832005597651005, -0.03409910202026367, -0.00982106663286686, -0.030079634860157967, 0.02012437768280506, -0.014652756042778492, 0.0038775105495005846, 0.020233746618032455, 0.04018073156476021, -0.00700383773073554, 0.04612814635038376, -0.004141004290431738, -0.018560277298092842, 0.010313805192708969, -0.0002755782043095678, 0.04073935002088547, 0.0016213259659707546, 0.039808012545108795, -0.016102444380521774, 0.026474962010979652, 0.09869073331356049, 0.033257778733968735, -0.03576882183551788, -0.00347782950848341, -0.014181393198668957, 0.02435985393822193, -0.022569434717297554, -0.01984342932701111, 0.03369699791073799, 0.002678429475054145, 0.005376925226300955, -0.01708206720650196, -0.024875633418560028, -0.017494307830929756, 0.04057413712143898, -0.022930368781089783, 0.016246039420366287, -0.03497016802430153, -0.015330418944358826, -0.042501598596572876, -0.037621933966875076, 0.011179208755493164, 0.026585400104522705, -0.010786812752485275, 0.017676150426268578, -0.018337830901145935, -0.008508209139108658, -0.01568744331598282, -0.007420525886118412, -0.008011259138584137, 0.003294134046882391, 0.018330730497837067, 0.02550097368657589, -0.03529480844736099, -0.052672408521175385, -0.015700234100222588, 0.042914703488349915, -0.0011886588763445616, 0.011809524148702621, -0.03061097487807274, -0.032555289566516876, 0.017478246241807938, 0.039685603231191635, 0.022229939699172974, -0.04845033586025238, -0.04286496341228485, -0.03288498520851135, -0.03944315016269684, 0.034359343349933624, -0.05544910579919815, -0.03470999002456665, 0.0029412906151264906, 0.003526209155097604, 0.0062684183940291405, -0.017676811665296555, 0.04937642812728882, 0.008329620584845543, 0.05795282870531082, 0.008111241273581982, 0.02746412344276905, 0.015982605516910553, 0.0269743911921978, 0.007427339907735586, 0.001222565770149231, -0.04225243628025055, -0.01197991892695427, 0.03611987456679344, -0.04085199534893036, 0.011865711770951748, 0.05653871223330498, -0.012202484533190727, -0.005264626815915108, 0.01522119902074337, -0.009199573658406734, -0.02057955414056778, -0.009091852232813835, -0.010145986452698708, -0.0433739498257637, 0.003452989272773266, -0.010173583403229713, 0.032982002943754196, -0.02698465622961521, 0.0021511425729840994, -0.001387084717862308, -0.03641309216618538, 0.04885945841670036, -0.015595847740769386, 0.021326115354895592, -0.006546333897858858, -0.0399257056415081, -0.0014594283420592546, 0.033164869993925095, 0.059106405824422836, 0.05159056931734085, -0.0012634017039090395, 0.014064467512071133, 0.023025112226605415, -0.054268307983875275, 0.008999781683087349, 0.013038072735071182, 0.01152196153998375, -0.018529430031776428, -0.018222061917185783, 0.016894051805138588, 0.010211070999503136, -0.01548705529421568, -0.0011272496776655316, -0.0413316935300827, -0.015554218553006649, -0.08903289586305618, -0.0006587906973436475, -0.047853630036115646, -0.015023951418697834, -0.000841835280880332, -0.0035055754706263542, -0.02787245251238346, -0.015001521445810795, 0.03111381083726883, -0.008885974064469337, -0.010676993057131767, -0.054269012063741684, 0.012116347439587116, 0.02228712849318981, -0.008119149133563042, -0.021374555304646492, -0.025996539741754532, 0.006889274809509516, 0.035362277179956436, -0.010277090594172478, 0.02220982126891613, 0.014846845529973507, -0.04931209981441498, 0.05263239145278931, 0.04665932431817055, -0.0022439826279878616, 0.01772882230579853, -0.0373782254755497, 0.03229939192533493, -0.040725741535425186, -0.028338339179754257, -0.0322171188890934, -0.0012459695572033525, -0.04001367464661598, -0.018760792911052704, -0.06107373535633087, -0.0177745558321476, -0.0028842564206570387, 0.013802103698253632, 0.010222526267170906, 0.022105436772108078, -0.009646836668252945, -0.0178257767111063, 0.025195488706231117, -0.03609853237867355, -0.014530453830957413, -0.007567581254988909, -0.0047609866596758366, 0.01428794302046299, 0.03430432453751564, -0.05880801007151604, 0.00256560742855072, 0.004847620148211718, 0.006972580682486296, 0.02112704887986183, -0.05552782118320465, -0.004015423357486725, -0.011899321340024471, 0.011145518161356449, -0.008820419199764729, -0.061805929988622665, -0.01802266761660576, 0.0040391236543655396, 0.04838137701153755, 0.023894865065813065, 0.0187197495251894, 0.011382660828530788, -0.026990430429577827, -0.03347666934132576, -0.03237970545887947, -0.04551197588443756, -0.012945752590894699, -0.050826843827962875, -0.048090796917676926, -0.021810093894600868, 0.0004886734532192349, 0.015201486647129059, -0.008793200366199017, -0.0059792459942400455, 0.04694362357258797, -0.008916022256016731, 0.01813034899532795, -0.0043553551658988, -0.0019531860016286373, -0.024256113916635513, -0.021104922518134117, -0.004614240024238825, -0.015871010720729828, -0.016398509964346886, -0.022492237389087677, 0.03433962166309357, -0.016673745587468147, 0.038359176367521286, -0.008620213717222214, -0.04800387844443321, -0.04386591166257858, -0.0008981958380900323, -0.05654304474592209, -0.008373149670660496, -0.015123340301215649, -0.016040418297052383, -0.003887607017531991, 0.0369611419737339, -0.008251016959547997, 0.004237341228872538, 0.001109302625991404, -0.01274640392512083, 0.008484787307679653, -0.009436389431357384, 0.0059414273127913475, -0.026852477341890335, 0.012770788744091988, 0.020396428182721138, -0.03562729060649872, 0.0081828273832798, 0.04183506593108177, 0.002808098215609789, -0.014291249215602875, 0.05287286639213562, -0.03040032647550106, -0.02021207846701145, 0.004023886751383543, 0.026299623772501945, -0.003637693589553237, 0.05543974041938782, 0.0075023965910077095, -0.03692689910531044, 0.03401060402393341, 0.008593900129199028, 0.0001473074808018282, 0.017333388328552246, -0.006716769188642502, -0.010647735558450222, -0.006644746754318476, -0.004227404482662678, -0.009558136574923992, -0.0018432408105581999, -0.0033889231272041798, -0.04466741532087326, 0.01591087318956852, 0.0021411285270005465, 0.00924860779196024, 0.026084883138537407, 0.005491737741976976, -0.01149336714297533, 0.008372446522116661, 0.01874135620892048, 0.02009386382997036, -0.006724846549332142, 0.044942375272512436, 0.026362106204032898, -0.017775045707821846, 0.015525906346738338, 0.00033871029154397547, 0.008351290598511696, -0.015273968689143658, 0.036511026322841644, 0.023619456216692924, -0.0382549948990345, 0.05475382134318352, 0.04189419746398926, -0.010386361740529537, -0.03785857558250427, 0.03351827710866928, -0.014899701811373234, 0.01447485014796257, 0.014580560848116875, -0.05094446614384651, 0.04862247034907341, -0.01473814994096756, -0.03859250992536545, -0.032456886023283005, -0.0033686310052871704, 0.011038325726985931, 0.018555397167801857, -0.057580381631851196, -0.021103385835886, -0.022016426548361778, 0.04181893169879913, 0.05049648880958557, 0.04412461444735527, 0.01853388175368309, 0.008383618667721748, 0.014372852630913258, 0.007264067884534597, -0.020415663719177246, -0.0006800044793635607, -0.047998253256082535, -0.03174053132534027, -0.02007686160504818, 0.0301843099296093, 0.005932293366640806, 0.004531527869403362, -0.0266034584492445, -0.022039858624339104, 0.004186440259218216, -0.019628167152404785, -0.006794268731027842, -0.08241111785173416, 0.014240551739931107, 0.028430284932255745, -0.022975105792284012, 0.0017844308167696, 0.019933270290493965, -0.013167619705200195, -0.035659607499837875, 0.01851947046816349, -0.024800794199109077, 0.04409073293209076, 0.008753315545618534, 0.026379181072115898, -0.033676598221063614, 0.01916159689426422, 0.047217145562171936, 0.01890513300895691, 0.02495693601667881, -0.0015606677625328302, -0.009767824783921242, -0.007146826479583979, 0.04206562042236328, -0.030928120017051697, -0.01864027790725231, -0.013313259929418564, 0.039035845547914505, 0.019291190430521965, -0.00333131174556911, 0.07375949621200562, 0.0017187505727633834, 0.003643330419436097, 0.0016292581567540765, -0.029673419892787933, 0.018567657098174095, -0.018166573718190193, 0.005697327665984631, -0.014646134339272976, -0.03232460096478462, 0.025706928223371506, -0.03237413987517357, 0.0045775482431054115, 0.057219043374061584, -0.01908993348479271, -0.0429285392165184, 0.014823101460933685, 0.008282157592475414, -0.004382434766739607, -0.024656841531395912, -0.049952808767557144, -0.014997792430222034, -0.026328861713409424, 0.02987588942050934, -0.029443688690662384, 0.03151997923851013, 0.023860225453972816, -0.019035372883081436, -0.048791833221912384, -0.011882510967552662, 0.011902529746294022, -0.010440788231790066, 0.008482517674565315, 0.03577248007059097, -0.019723936915397644, 0.03596729412674904, -0.002348523586988449, -0.002397922333329916, -0.04653889685869217, -0.042338963598012924, 0.04500003159046173, -0.04848559573292732, -0.004017169121652842, 0.011873852461576462, 0.007253671996295452, -0.02382456324994564, -0.044610340148210526, 0.02348223514854908, -0.004347281064838171, -0.008153467439115047, -0.0283425934612751, -0.05178062990307808, -0.03184391185641289, -0.024457966908812523, 0.02421703189611435, -0.04235789552330971, -0.04820258170366287, -0.014231131412088871, -0.013541058637201786, -0.011417622677981853, 0.004167442675679922, -0.014341582544147968, 0.042904406785964966, 0.009630528278648853, -0.0031136570032685995, -0.043568335473537445, -0.01478408183902502, 0.005667499266564846, 0.008392213843762875, -0.010990871116518974, 0.055579327046871185, -0.04023689776659012, -0.02257430925965309, -0.006160448305308819, 0.026173565536737442, -0.002004766371101141, -0.03968028351664543, -0.02692950889468193, -0.022278444841504097, 0.005503145046532154, -0.022202832624316216, -0.034166835248470306, -0.0016119449865072966, 0.024240491911768913, -0.009408177807927132, -0.021538132801651955, 0.05657172203063965, 0.005013545509427786, 0.03182022646069527, 0.05466726794838905, -0.03997531160712242, 0.04701131954789162, 0.002045273082330823, 0.0021544641349464655, 0.03425314649939537, 0.009035135619342327, -0.029174406081438065, -0.04685535281896591, 0.0455981083214283, -0.03904671221971512, 0.04250553622841835, 0.03412119671702385, -0.07874786853790283, -0.0154262725263834, -0.011243709363043308, 0.038177695125341415, -0.03576500341296196, -0.0179215706884861, -0.03908848017454147, -0.033235203474760056, -0.02440343052148819, -0.0001771410315996036, -0.003236176446080208, 0.03570648655295372, -0.03013324737548828, 0.016178829595446587, 0.005829291418194771, -0.017682814970612526, 0.0020856796763837337, -0.029841028153896332, -0.020396612584590912, -0.05497961491346359, -0.0177222341299057, 0.019741788506507874, 0.01790040172636509, 0.005384724587202072, 0.029215583577752113, 0.006460152100771666, -0.03957192227244377, -0.0038551543839275837, 0.022623851895332336, -0.0018099581357091665, 0.027477199211716652, 0.04616428166627884, -0.015812061727046967, -0.03420392423868179, -0.010659477673470974, -0.031942278146743774, 0.03609577193856239, -0.026540059596300125, -0.02159520797431469, 0.005444539710879326, -0.013556634075939655, -0.007052662782371044, -0.013349439948797226, -0.005704791750758886, 0.012759224511682987, -0.007297343574464321, 0.04368260130286217, 0.015633264556527138, 0.0033015983644872904, -0.019951555877923965, -0.017243748530745506, -0.0008652760297991335, 0.0034485659562051296, 0.028725432232022285, 0.01212118286639452, -0.003111868165433407, -0.05863312631845474, 0.03728008642792702, -0.01609721966087818, -0.022976987063884735, 0.024274565279483795, 0.035197664052248, 0.008398438803851604, 0.014738932251930237, -0.025117088109254837, 0.03316653519868851, -0.021212799474596977, 0.006861701607704163, -0.02713065780699253, -0.050795115530490875, 0.04361747205257416, 0.019497912377119064, -0.017941348254680634, 0.021100539714097977, -0.03421486169099808, -0.012271177023649216, 0.028227197006344795, 0.009813481010496616, -0.05347958952188492, -0.031115813180804253, -0.04781543090939522, 0.016971204429864883, 0.007550698705017567, 0.011822161264717579, 0.01258313748985529, 0.05237313732504845, -0.02779371291399002, 0.013425975106656551, -0.002692976500838995, -0.019179770722985268, 0.011092351749539375, 0.007843432947993279, -0.041084278374910355, 0.002964000916108489, -0.05868890881538391, 0.03387453034520149, 0.00879509188234806, -0.06045788899064064, 0.010643060319125652, -0.015679815784096718, -0.008984599262475967, 0.01298500131815672, -0.03235509991645813, -0.01680939272046089, -0.04636377841234207, -0.009840652346611023, 0.00816282071173191, 0.0020851311273872852, 0.04293021932244301, -0.01680615544319153, 0.014763761311769485, 0.02665593847632408, -0.015158497728407383, 0.03425935283303261, -0.023010851815342903, -0.020706476643681526, 0.013505424372851849, -0.0059380740858614445, -0.028736932203173637, -0.023702938109636307, 0.04024055600166321, 0.0007106676348485053, 0.012251830659806728, 0.004640504252165556, 0.020959343761205673, 0.030635597184300423, 0.04228886216878891, -0.019396532326936722, -0.019310712814331055, -0.0203374195843935, 0.01456950232386589, -0.02919316291809082, 0.0031083214562386274, -0.0010638334788382053, 0.001873078290373087, -0.0250394307076931, 0.0026458262000232935, -0.014837720431387424, 0.015831705182790756, 0.007717354688793421, 0.005288173444569111, 0.032855551689863205, 0.02406638115644455, 0.015477203764021397, 0.06227145716547966, -0.022577481344342232, 0.05552970990538597, -0.01950502023100853, -0.017016062512993813, 0.032548367977142334, -0.01793023571372032, 0.03418916091322899, 0.010815679095685482, -0.03766419366002083, 0.04170151799917221, -0.0065107946284115314, 0.0011524003930389881, 0.02228538878262043, 0.04346038028597832, 0.014207776635885239, -0.008625025860965252, -0.01707305945456028, -0.017160143703222275, 0.03384571149945259, 0.008497270755469799, -0.07850082218647003, -0.037654727697372437, -0.00855896808207035, -0.039439667016267776, -0.03122149594128132, 0.03455457091331482, 0.052021775394678116, -0.010030696168541908, 0.009730544872581959, 0.007235086988657713, -0.03534107655286789, 0.033556003123521805, 0.028690600767731667, -0.016084881499409676, 0.05192910507321358, -0.032438330352306366, 0.015305813401937485, -0.03672163560986519, -0.03383015841245651, -0.03301819786429405, -0.002388484077528119, 0.0670967847108841, 0.014377094805240631, -0.007992674596607685, -0.027586547657847404, -0.002091614995151758, -0.02907700277864933, 0.010053823702037334, 0.04535225033760071, -0.02731918729841709, 0.022824732586741447, -0.02209075167775154, 0.04678620770573616, 0.010940571315586567, -0.008264930918812752, -0.0044520264491438866, -0.012208368629217148, 0.04935171455144882, 0.0241997130215168, 0.000869518262334168, -0.003318199422210455, 0.03655906394124031, -0.033702097833156586, -0.04943416640162468, 0.013467587530612946, -0.0013050170382484794, 0.02216494455933571, 0.024178873747587204, -0.07685250043869019, 0.009498813189566135, 0.011292987503111362, -0.019411617890000343, -0.008993548341095448, 0.02205813117325306, 0.033899687230587006, 0.02067132480442524, -0.007189152296632528, -0.019529422745108604, 0.004907355178147554, 0.0090888487175107, 0.025273682549595833, -0.019266415387392044, -0.013147438876330853, -0.021566195413470268, -0.009776856750249863, 0.0039501311257481575, 0.005438143387436867, 0.01623842865228653, 0.03675474971532822, -0.031190145760774612, -0.018528804183006287, -0.004317061044275761, 0.039399631321430206, -0.01846044324338436, 0.03573548048734665, -0.025127803906798363, 0.021251732483506203, -0.03992035612463951, 0.05026622489094734, -0.0015818215906620026, 0.0062761190347373486, -0.06556816399097443, 0.01794034242630005, -0.005715836305171251, 0.04263186827301979, 0.038743242621421814, -0.0011537866666913033, -0.01984451152384281, 0.013998187147080898, -0.0018210489070042968, 0.023605946451425552, 0.001962549751624465, -0.052530430257320404, -0.041783999651670456, 0.017834054306149483, 0.0028513178694993258, -0.01391543447971344, 0.022502737119793892, -0.01850876398384571, -0.017059924080967903, -0.0051097203977406025, 0.02180579863488674, -0.0019247106974944472, 0.033374615013599396, 0.0100464578717947, -0.0025848473887890577, -0.0003070634265895933, 0.0716451033949852, 0.00351712666451931, -0.0036603135522454977, 0.03376816585659981, -0.03786845877766609, -0.02752765268087387, -0.03205718472599983, -0.009260190650820732, -0.03574633598327637, -0.005789517425000668, 0.02189750038087368, 0.009859860874712467, -0.005284091457724571, 0.002051496645435691, 0.01205701194703579, -0.018968624994158745, -0.026890063658356667, -0.0005840669036842883, 0.027919558808207512, 0.035377565771341324, -0.02167746052145958, 0.010247518308460712, 0.0157634150236845, -0.10191239416599274, -0.006716158706694841, -0.017020102590322495, 0.02095656283199787, -0.014274760149419308, -0.005981151945888996, 0.00773000018671155, -0.011398258619010448, 0.02800242230296135, -0.003895834553986788, -0.029996955767273903, -0.012442860752344131, -0.036804791539907455, -0.018480343744158745, 0.005540176760405302, 0.004135562106966972, 0.008327484130859375, 0.015895672142505646, -0.028628626838326454, -0.01918000914156437, 0.02243327535688877, -0.02754155546426773, -0.0551585853099823, -0.014738005585968494, -0.023858042433857918, -0.025722790509462357, 0.025582367554306984, 0.00918820220977068, 0.014569045975804329, 0.00672512361779809, 0.024022100493311882, 0.027447424829006195, 0.00939228292554617]\n"
     ]
    }
   ],
   "source": [
    "prompts1 = [\"MSK是什么？\", \"aws cleanroom是什么？\"]\n",
    "\n",
    "emb = get_vector_by_sm_endpoint(prompts1, smr_client, endpoint_name)\n",
    "print(len(emb[0]))\n",
    "print(emb[1])"
   ]
  },
  {
   "cell_type": "code",
   "execution_count": 28,
   "id": "aa0d6623-236d-4a5d-8360-4b07f8d8d40c",
   "metadata": {
    "tags": []
   },
   "outputs": [],
   "source": [
    "!aws sagemaker delete-endpoint --endpoint-name {endpoint_name}"
   ]
  },
  {
   "cell_type": "code",
   "execution_count": 29,
   "id": "36281bf3-b6f5-450f-b1b8-9f1285b1dad0",
   "metadata": {
    "tags": []
   },
   "outputs": [],
   "source": [
    "!aws sagemaker delete-endpoint-config --endpoint-config-name {endpoint_config_name}"
   ]
  },
  {
   "cell_type": "code",
   "execution_count": 30,
   "id": "f9700aff",
   "metadata": {},
   "outputs": [],
   "source": [
    "!aws sagemaker delete-model --model-name {model_name}"
   ]
  },
  {
   "cell_type": "code",
   "execution_count": null,
   "id": "12212b1a-cf09-441e-a720-98d673878612",
   "metadata": {},
   "outputs": [],
   "source": []
  }
 ],
 "metadata": {
  "availableInstances": [
   {
    "_defaultOrder": 0,
    "_isFastLaunch": true,
    "category": "General purpose",
    "gpuNum": 0,
    "hideHardwareSpecs": false,
    "memoryGiB": 4,
    "name": "ml.t3.medium",
    "vcpuNum": 2
   },
   {
    "_defaultOrder": 1,
    "_isFastLaunch": false,
    "category": "General purpose",
    "gpuNum": 0,
    "hideHardwareSpecs": false,
    "memoryGiB": 8,
    "name": "ml.t3.large",
    "vcpuNum": 2
   },
   {
    "_defaultOrder": 2,
    "_isFastLaunch": false,
    "category": "General purpose",
    "gpuNum": 0,
    "hideHardwareSpecs": false,
    "memoryGiB": 16,
    "name": "ml.t3.xlarge",
    "vcpuNum": 4
   },
   {
    "_defaultOrder": 3,
    "_isFastLaunch": false,
    "category": "General purpose",
    "gpuNum": 0,
    "hideHardwareSpecs": false,
    "memoryGiB": 32,
    "name": "ml.t3.2xlarge",
    "vcpuNum": 8
   },
   {
    "_defaultOrder": 4,
    "_isFastLaunch": true,
    "category": "General purpose",
    "gpuNum": 0,
    "hideHardwareSpecs": false,
    "memoryGiB": 8,
    "name": "ml.m5.large",
    "vcpuNum": 2
   },
   {
    "_defaultOrder": 5,
    "_isFastLaunch": false,
    "category": "General purpose",
    "gpuNum": 0,
    "hideHardwareSpecs": false,
    "memoryGiB": 16,
    "name": "ml.m5.xlarge",
    "vcpuNum": 4
   },
   {
    "_defaultOrder": 6,
    "_isFastLaunch": false,
    "category": "General purpose",
    "gpuNum": 0,
    "hideHardwareSpecs": false,
    "memoryGiB": 32,
    "name": "ml.m5.2xlarge",
    "vcpuNum": 8
   },
   {
    "_defaultOrder": 7,
    "_isFastLaunch": false,
    "category": "General purpose",
    "gpuNum": 0,
    "hideHardwareSpecs": false,
    "memoryGiB": 64,
    "name": "ml.m5.4xlarge",
    "vcpuNum": 16
   },
   {
    "_defaultOrder": 8,
    "_isFastLaunch": false,
    "category": "General purpose",
    "gpuNum": 0,
    "hideHardwareSpecs": false,
    "memoryGiB": 128,
    "name": "ml.m5.8xlarge",
    "vcpuNum": 32
   },
   {
    "_defaultOrder": 9,
    "_isFastLaunch": false,
    "category": "General purpose",
    "gpuNum": 0,
    "hideHardwareSpecs": false,
    "memoryGiB": 192,
    "name": "ml.m5.12xlarge",
    "vcpuNum": 48
   },
   {
    "_defaultOrder": 10,
    "_isFastLaunch": false,
    "category": "General purpose",
    "gpuNum": 0,
    "hideHardwareSpecs": false,
    "memoryGiB": 256,
    "name": "ml.m5.16xlarge",
    "vcpuNum": 64
   },
   {
    "_defaultOrder": 11,
    "_isFastLaunch": false,
    "category": "General purpose",
    "gpuNum": 0,
    "hideHardwareSpecs": false,
    "memoryGiB": 384,
    "name": "ml.m5.24xlarge",
    "vcpuNum": 96
   },
   {
    "_defaultOrder": 12,
    "_isFastLaunch": false,
    "category": "General purpose",
    "gpuNum": 0,
    "hideHardwareSpecs": false,
    "memoryGiB": 8,
    "name": "ml.m5d.large",
    "vcpuNum": 2
   },
   {
    "_defaultOrder": 13,
    "_isFastLaunch": false,
    "category": "General purpose",
    "gpuNum": 0,
    "hideHardwareSpecs": false,
    "memoryGiB": 16,
    "name": "ml.m5d.xlarge",
    "vcpuNum": 4
   },
   {
    "_defaultOrder": 14,
    "_isFastLaunch": false,
    "category": "General purpose",
    "gpuNum": 0,
    "hideHardwareSpecs": false,
    "memoryGiB": 32,
    "name": "ml.m5d.2xlarge",
    "vcpuNum": 8
   },
   {
    "_defaultOrder": 15,
    "_isFastLaunch": false,
    "category": "General purpose",
    "gpuNum": 0,
    "hideHardwareSpecs": false,
    "memoryGiB": 64,
    "name": "ml.m5d.4xlarge",
    "vcpuNum": 16
   },
   {
    "_defaultOrder": 16,
    "_isFastLaunch": false,
    "category": "General purpose",
    "gpuNum": 0,
    "hideHardwareSpecs": false,
    "memoryGiB": 128,
    "name": "ml.m5d.8xlarge",
    "vcpuNum": 32
   },
   {
    "_defaultOrder": 17,
    "_isFastLaunch": false,
    "category": "General purpose",
    "gpuNum": 0,
    "hideHardwareSpecs": false,
    "memoryGiB": 192,
    "name": "ml.m5d.12xlarge",
    "vcpuNum": 48
   },
   {
    "_defaultOrder": 18,
    "_isFastLaunch": false,
    "category": "General purpose",
    "gpuNum": 0,
    "hideHardwareSpecs": false,
    "memoryGiB": 256,
    "name": "ml.m5d.16xlarge",
    "vcpuNum": 64
   },
   {
    "_defaultOrder": 19,
    "_isFastLaunch": false,
    "category": "General purpose",
    "gpuNum": 0,
    "hideHardwareSpecs": false,
    "memoryGiB": 384,
    "name": "ml.m5d.24xlarge",
    "vcpuNum": 96
   },
   {
    "_defaultOrder": 20,
    "_isFastLaunch": false,
    "category": "General purpose",
    "gpuNum": 0,
    "hideHardwareSpecs": true,
    "memoryGiB": 0,
    "name": "ml.geospatial.interactive",
    "supportedImageNames": [
     "sagemaker-geospatial-v1-0"
    ],
    "vcpuNum": 0
   },
   {
    "_defaultOrder": 21,
    "_isFastLaunch": true,
    "category": "Compute optimized",
    "gpuNum": 0,
    "hideHardwareSpecs": false,
    "memoryGiB": 4,
    "name": "ml.c5.large",
    "vcpuNum": 2
   },
   {
    "_defaultOrder": 22,
    "_isFastLaunch": false,
    "category": "Compute optimized",
    "gpuNum": 0,
    "hideHardwareSpecs": false,
    "memoryGiB": 8,
    "name": "ml.c5.xlarge",
    "vcpuNum": 4
   },
   {
    "_defaultOrder": 23,
    "_isFastLaunch": false,
    "category": "Compute optimized",
    "gpuNum": 0,
    "hideHardwareSpecs": false,
    "memoryGiB": 16,
    "name": "ml.c5.2xlarge",
    "vcpuNum": 8
   },
   {
    "_defaultOrder": 24,
    "_isFastLaunch": false,
    "category": "Compute optimized",
    "gpuNum": 0,
    "hideHardwareSpecs": false,
    "memoryGiB": 32,
    "name": "ml.c5.4xlarge",
    "vcpuNum": 16
   },
   {
    "_defaultOrder": 25,
    "_isFastLaunch": false,
    "category": "Compute optimized",
    "gpuNum": 0,
    "hideHardwareSpecs": false,
    "memoryGiB": 72,
    "name": "ml.c5.9xlarge",
    "vcpuNum": 36
   },
   {
    "_defaultOrder": 26,
    "_isFastLaunch": false,
    "category": "Compute optimized",
    "gpuNum": 0,
    "hideHardwareSpecs": false,
    "memoryGiB": 96,
    "name": "ml.c5.12xlarge",
    "vcpuNum": 48
   },
   {
    "_defaultOrder": 27,
    "_isFastLaunch": false,
    "category": "Compute optimized",
    "gpuNum": 0,
    "hideHardwareSpecs": false,
    "memoryGiB": 144,
    "name": "ml.c5.18xlarge",
    "vcpuNum": 72
   },
   {
    "_defaultOrder": 28,
    "_isFastLaunch": false,
    "category": "Compute optimized",
    "gpuNum": 0,
    "hideHardwareSpecs": false,
    "memoryGiB": 192,
    "name": "ml.c5.24xlarge",
    "vcpuNum": 96
   },
   {
    "_defaultOrder": 29,
    "_isFastLaunch": true,
    "category": "Accelerated computing",
    "gpuNum": 1,
    "hideHardwareSpecs": false,
    "memoryGiB": 16,
    "name": "ml.g4dn.xlarge",
    "vcpuNum": 4
   },
   {
    "_defaultOrder": 30,
    "_isFastLaunch": false,
    "category": "Accelerated computing",
    "gpuNum": 1,
    "hideHardwareSpecs": false,
    "memoryGiB": 32,
    "name": "ml.g4dn.2xlarge",
    "vcpuNum": 8
   },
   {
    "_defaultOrder": 31,
    "_isFastLaunch": false,
    "category": "Accelerated computing",
    "gpuNum": 1,
    "hideHardwareSpecs": false,
    "memoryGiB": 64,
    "name": "ml.g4dn.4xlarge",
    "vcpuNum": 16
   },
   {
    "_defaultOrder": 32,
    "_isFastLaunch": false,
    "category": "Accelerated computing",
    "gpuNum": 1,
    "hideHardwareSpecs": false,
    "memoryGiB": 128,
    "name": "ml.g4dn.8xlarge",
    "vcpuNum": 32
   },
   {
    "_defaultOrder": 33,
    "_isFastLaunch": false,
    "category": "Accelerated computing",
    "gpuNum": 4,
    "hideHardwareSpecs": false,
    "memoryGiB": 192,
    "name": "ml.g4dn.12xlarge",
    "vcpuNum": 48
   },
   {
    "_defaultOrder": 34,
    "_isFastLaunch": false,
    "category": "Accelerated computing",
    "gpuNum": 1,
    "hideHardwareSpecs": false,
    "memoryGiB": 256,
    "name": "ml.g4dn.16xlarge",
    "vcpuNum": 64
   },
   {
    "_defaultOrder": 35,
    "_isFastLaunch": false,
    "category": "Accelerated computing",
    "gpuNum": 1,
    "hideHardwareSpecs": false,
    "memoryGiB": 61,
    "name": "ml.p3.2xlarge",
    "vcpuNum": 8
   },
   {
    "_defaultOrder": 36,
    "_isFastLaunch": false,
    "category": "Accelerated computing",
    "gpuNum": 4,
    "hideHardwareSpecs": false,
    "memoryGiB": 244,
    "name": "ml.p3.8xlarge",
    "vcpuNum": 32
   },
   {
    "_defaultOrder": 37,
    "_isFastLaunch": false,
    "category": "Accelerated computing",
    "gpuNum": 8,
    "hideHardwareSpecs": false,
    "memoryGiB": 488,
    "name": "ml.p3.16xlarge",
    "vcpuNum": 64
   },
   {
    "_defaultOrder": 38,
    "_isFastLaunch": false,
    "category": "Accelerated computing",
    "gpuNum": 8,
    "hideHardwareSpecs": false,
    "memoryGiB": 768,
    "name": "ml.p3dn.24xlarge",
    "vcpuNum": 96
   },
   {
    "_defaultOrder": 39,
    "_isFastLaunch": false,
    "category": "Memory Optimized",
    "gpuNum": 0,
    "hideHardwareSpecs": false,
    "memoryGiB": 16,
    "name": "ml.r5.large",
    "vcpuNum": 2
   },
   {
    "_defaultOrder": 40,
    "_isFastLaunch": false,
    "category": "Memory Optimized",
    "gpuNum": 0,
    "hideHardwareSpecs": false,
    "memoryGiB": 32,
    "name": "ml.r5.xlarge",
    "vcpuNum": 4
   },
   {
    "_defaultOrder": 41,
    "_isFastLaunch": false,
    "category": "Memory Optimized",
    "gpuNum": 0,
    "hideHardwareSpecs": false,
    "memoryGiB": 64,
    "name": "ml.r5.2xlarge",
    "vcpuNum": 8
   },
   {
    "_defaultOrder": 42,
    "_isFastLaunch": false,
    "category": "Memory Optimized",
    "gpuNum": 0,
    "hideHardwareSpecs": false,
    "memoryGiB": 128,
    "name": "ml.r5.4xlarge",
    "vcpuNum": 16
   },
   {
    "_defaultOrder": 43,
    "_isFastLaunch": false,
    "category": "Memory Optimized",
    "gpuNum": 0,
    "hideHardwareSpecs": false,
    "memoryGiB": 256,
    "name": "ml.r5.8xlarge",
    "vcpuNum": 32
   },
   {
    "_defaultOrder": 44,
    "_isFastLaunch": false,
    "category": "Memory Optimized",
    "gpuNum": 0,
    "hideHardwareSpecs": false,
    "memoryGiB": 384,
    "name": "ml.r5.12xlarge",
    "vcpuNum": 48
   },
   {
    "_defaultOrder": 45,
    "_isFastLaunch": false,
    "category": "Memory Optimized",
    "gpuNum": 0,
    "hideHardwareSpecs": false,
    "memoryGiB": 512,
    "name": "ml.r5.16xlarge",
    "vcpuNum": 64
   },
   {
    "_defaultOrder": 46,
    "_isFastLaunch": false,
    "category": "Memory Optimized",
    "gpuNum": 0,
    "hideHardwareSpecs": false,
    "memoryGiB": 768,
    "name": "ml.r5.24xlarge",
    "vcpuNum": 96
   },
   {
    "_defaultOrder": 47,
    "_isFastLaunch": false,
    "category": "Accelerated computing",
    "gpuNum": 1,
    "hideHardwareSpecs": false,
    "memoryGiB": 16,
    "name": "ml.g5.xlarge",
    "vcpuNum": 4
   },
   {
    "_defaultOrder": 48,
    "_isFastLaunch": false,
    "category": "Accelerated computing",
    "gpuNum": 1,
    "hideHardwareSpecs": false,
    "memoryGiB": 32,
    "name": "ml.g5.2xlarge",
    "vcpuNum": 8
   },
   {
    "_defaultOrder": 49,
    "_isFastLaunch": false,
    "category": "Accelerated computing",
    "gpuNum": 1,
    "hideHardwareSpecs": false,
    "memoryGiB": 64,
    "name": "ml.g5.4xlarge",
    "vcpuNum": 16
   },
   {
    "_defaultOrder": 50,
    "_isFastLaunch": false,
    "category": "Accelerated computing",
    "gpuNum": 1,
    "hideHardwareSpecs": false,
    "memoryGiB": 128,
    "name": "ml.g5.8xlarge",
    "vcpuNum": 32
   },
   {
    "_defaultOrder": 51,
    "_isFastLaunch": false,
    "category": "Accelerated computing",
    "gpuNum": 1,
    "hideHardwareSpecs": false,
    "memoryGiB": 256,
    "name": "ml.g5.16xlarge",
    "vcpuNum": 64
   },
   {
    "_defaultOrder": 52,
    "_isFastLaunch": false,
    "category": "Accelerated computing",
    "gpuNum": 4,
    "hideHardwareSpecs": false,
    "memoryGiB": 192,
    "name": "ml.g5.12xlarge",
    "vcpuNum": 48
   },
   {
    "_defaultOrder": 53,
    "_isFastLaunch": false,
    "category": "Accelerated computing",
    "gpuNum": 4,
    "hideHardwareSpecs": false,
    "memoryGiB": 384,
    "name": "ml.g5.24xlarge",
    "vcpuNum": 96
   },
   {
    "_defaultOrder": 54,
    "_isFastLaunch": false,
    "category": "Accelerated computing",
    "gpuNum": 8,
    "hideHardwareSpecs": false,
    "memoryGiB": 768,
    "name": "ml.g5.48xlarge",
    "vcpuNum": 192
   },
   {
    "_defaultOrder": 55,
    "_isFastLaunch": false,
    "category": "Accelerated computing",
    "gpuNum": 8,
    "hideHardwareSpecs": false,
    "memoryGiB": 1152,
    "name": "ml.p4d.24xlarge",
    "vcpuNum": 96
   },
   {
    "_defaultOrder": 56,
    "_isFastLaunch": false,
    "category": "Accelerated computing",
    "gpuNum": 8,
    "hideHardwareSpecs": false,
    "memoryGiB": 1152,
    "name": "ml.p4de.24xlarge",
    "vcpuNum": 96
   }
  ],
  "instance_type": "ml.t3.medium",
  "kernelspec": {
   "display_name": "Python 3 (Data Science)",
   "language": "python",
   "name": "python3__SAGEMAKER_INTERNAL__arn:aws:sagemaker:us-east-2:429704687514:image/datascience-1.0"
  },
  "language_info": {
   "codemirror_mode": {
    "name": "ipython",
    "version": 3
   },
   "file_extension": ".py",
   "mimetype": "text/x-python",
   "name": "python",
   "nbconvert_exporter": "python",
   "pygments_lexer": "ipython3",
   "version": "3.7.10"
  }
 },
 "nbformat": 4,
 "nbformat_minor": 5
}
