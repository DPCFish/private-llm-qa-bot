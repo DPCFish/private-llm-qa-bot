{
 "cells": [
  {
   "cell_type": "markdown",
   "id": "abfe7cef-2bb1-4ec0-bfcb-91340ac2946c",
   "metadata": {},
   "source": [
    "- 本Notebook主要用于:\n",
    "    + Bge 向量模型的选型、调优，效果对比分析\n",
    "    + Bge Rerank模型的微调、效果对比分析\n",
    "\n",
    "**结合blog[<基于大语言模型知识问答应用落地实践 - 知识召回调优(下)>](https://aws.amazon.com/cn/blogs/china/practice-of-knowledge-question-answering-application-based-on-llm-knowledge-base-construction-part-4/)使用**"
   ]
  },
  {
   "cell_type": "code",
   "execution_count": null,
   "id": "73337842-6f48-4df6-a3e1-d071a1864ce3",
   "metadata": {
    "tags": []
   },
   "outputs": [],
   "source": [
    "!pip install git+https://github.com/FlagOpen/FlagEmbedding.git -Uq\n",
    "!pip install -Uq sentence-transformers \n",
    "!pip install faiss-cpu -Uq"
   ]
  },
  {
   "cell_type": "markdown",
   "id": "95cd5298-0542-4e1a-8d45-1b9b561edf05",
   "metadata": {},
   "source": [
    "### Generate random negative label\n",
    "\n",
    "基于LLM增强的数据输入，生成BGE向量模型训练的数据，采用随机负采样的方式\n",
    "\n",
    "**LLM增强的输入数据(chatgpt_synthesis.jsonl)格式如下** \n",
    "```\n",
    "{\n",
    "    \"origin_question\": \"什么是 EMR Studio？\", \n",
    "    \"origin_answer\": \"EMR Studio 是一个集成开发环境 (IDE)，使数据科学家和数据工程师能够轻松地开发、可视化和调试用 R、Python、Scala 和 PySpark 编写的数据工程和数据科学应用程序。\\n它是一个完全托管的应用程序，具有单点登录、完全托管的 Jupyter Notebooks、自动基础设施预置，并且能够在不登录 AWS 控制台或集群的情况下调试作业。数据科学家和分析人员可以安装自定义内核和库，使用代码库（如 GitHub 和 BitBucket）与同事协作，或者使用 Apache Airflow、AWS Step Functions 和 Amazon Managed Workflows for Apache Airflow 等编排服务，将参数化笔记本作为计划工作流的一部分运行。 您可以使用 Amazon MWAA 读取 Amazon EMR 笔记本上的编排分析作业，以了解更多信息。EMR Studio 内核和应用程序在 EMR 集群上运行，因此您可以利用性能优化的适用于 Apache Spark 的 Amazon EMR 运行时，获得分布式数据处理带来的优势。管理员可以设置 EMR Studio，以便分析师可以在现有 EMR 集群上运行其应用程序，或使用 EMR 的预定义 AWS CloudFormation 模板创建新集群。\", \n",
    "    \"generate_question\": \"EMR Studio 是用来做什么的？\", \n",
    "    \"generate_answer\": \"EMR Studio 是一个集成开发环境 (IDE)，用于开发、可视化和调试数据工程和数据科学应用程序。\"\n",
    "}\n",
    "{\n",
    "    \"origin_question\": \"什么是 EMR Studio？\", \n",
    "    \"origin_answer\": \"EMR Studio 是一个集成开发环境 (IDE)，使数据科学家和数据工程师能够轻松地开发、可视化和调试用 R、Python、Scala 和 PySpark 编写的数据工程和数据科学应用程序。\\n它是一个完全托管的应用程序，具有单点登录、完全托管的 Jupyter Notebooks、自动基础设施预置，并且能够在不登录 AWS 控制台或集群的情况下调试作业。数据科学家和分析人员可以安装自定义内核和库，使用代码库（如 GitHub 和 BitBucket）与同事协作，或者使用 Apache Airflow、AWS Step Functions 和 Amazon Managed Workflows for Apache Airflow 等编排服务，将参数化笔记本作为计划工作流的一部分运行。 您可以使用 Amazon MWAA 读取 Amazon EMR 笔记本上的编排分析作业，以了解更多信息。EMR Studio 内核和应用程序在 EMR 集群上运行，因此您可以利用性能优化的适用于 Apache Spark 的 Amazon EMR 运行时，获得分布式数据处理带来的优势。管理员可以设置 EMR Studio，以便分析师可以在现有 EMR 集群上运行其应用程序，或使用 EMR 的预定义 AWS CloudFormation 模板创建新集群。\", \n",
    "    \"generate_question\": \"EMR Studio 支持哪些编程语言？\",\n",
    "    \"generate_answer\": \"EMR Studio 支持 R、Python、Scala 和 PySpark 这些编程语言。\"\n",
    "}\n",
    "```"
   ]
  },
  {
   "cell_type": "code",
   "execution_count": 99,
   "id": "7a3dd10b-b601-4165-b902-f2e4ac5baa95",
   "metadata": {},
   "outputs": [],
   "source": [
    "# use LLM enhanced data\n",
    "import random\n",
    "import json\n",
    "import os\n",
    "FAQ_FILE = 'chatgpt_synthesis.jsonl'\n",
    "\n",
    "def generate_train_data(train_data, output_suffix='train'):\n",
    "    size_train_data = len(train_data)\n",
    "    qq_labels = []\n",
    "    gqga_labels = []\n",
    "    gqoa_labels = []\n",
    "    for line in train_data:\n",
    "        json_obj = json.loads(line)\n",
    "        \n",
    "        o_query = json_obj['origin_question'].strip()\n",
    "        o_answer = json_obj['origin_answer']\n",
    "        g_query = json_obj['generate_question']\n",
    "        g_answer = json_obj['generate_answer']\n",
    "        \n",
    "        # 可能的召回策略是：\n",
    "        # 知识库构建时，o_query，g_query，o_answer，g_answer 均做向量化。\n",
    "        # 查询时去做QQ召回，QA召回\n",
    "        \n",
    "        # 求 origin_Q - generated_Q 的相似性， 判断QQ召回的可行性\n",
    "        qq_labels.append((o_query, g_query)) \n",
    "        \n",
    "        #求 origin_Q - generated_D 的相似性， 判断QD召回的可行性\n",
    "        gqga_labels.append((g_query, g_answer)) \n",
    "        \n",
    "        #求 origin_Q - origin_D 的相似性， 判断QD召回的可行性\n",
    "        gqoa_labels.append((g_query, o_answer))\n",
    "        \n",
    "    qq1_file = open(f\"chatgpt_synthesis/qq1_{output_suffix}.jsonl\", 'w')\n",
    "    for idx, (query_a, query_b) in enumerate(qq_labels):\n",
    "        N = range(len(qq_labels))\n",
    "        m = 20\n",
    "        idx_list = random.sample(N, m)\n",
    "        neg_list = [ qq_labels[i][1] for i in idx_list if i != idx ]\n",
    "        record = json.dumps({ \"query\": query_a, \"pos\": [query_b], \"neg\": neg_list }, ensure_ascii=False)\n",
    "        qq1_file.write(record)\n",
    "        qq1_file.write('\\n')\n",
    "        \n",
    "    qq2_file = open(f\"chatgpt_synthesis/qq2_{output_suffix}.jsonl\", 'w')\n",
    "    for idx, (query_a, query_b) in enumerate(qq_labels):\n",
    "        N = range(len(qq_labels))\n",
    "        m = 20\n",
    "        idx_list = random.sample(N, m)\n",
    "        neg_list = [ qq_labels[i][0] for i in idx_list if i != idx ]\n",
    "        record = json.dumps({ \"query\": query_a, \"pos\": [query_b], \"neg\": neg_list }, ensure_ascii=False)\n",
    "        qq2_file.write(record)\n",
    "        qq2_file.write('\\n')\n",
    "    \n",
    "    oqgd_file = open(f\"chatgpt_synthesis/gqga_{output_suffix}.jsonl\", 'w')\n",
    "    for idx, (query_g, answer_g) in enumerate(gqga_labels):\n",
    "        N = range(len(gqga_labels))\n",
    "        m = 20\n",
    "        idx_list = random.sample(N, m)\n",
    "        neg_list = [ gqga_labels[i][1] for i in idx_list if i != idx ]\n",
    "        record = json.dumps({ \"query\": \"为这个句子生成表示以用于检索相关文章：\" + query_g, \"pos\": [answer_g], \"neg\": neg_list }, ensure_ascii=False)\n",
    "        oqgd_file.write(record)\n",
    "        oqgd_file.write('\\n')\n",
    "        \n",
    "    gqod_file = open(f\"chatgpt_synthesis/gqoa_{output_suffix}.jsonl\", 'w')\n",
    "    for idx, (query_g, answer_o) in enumerate(gqoa_labels):\n",
    "        N = range(len(gqoa_labels))\n",
    "        m = 20\n",
    "        idx_list = random.sample(N, m)\n",
    "        neg_list = [ gqoa_labels[i][1] for i in idx_list if i != idx ]\n",
    "        record = json.dumps({ \"query\": \"为这个句子生成表示以用于检索相关文章：\" + query_g, \"pos\": [answer_o], \"neg\": neg_list }, ensure_ascii=False)\n",
    "        gqod_file.write(record)\n",
    "        gqod_file.write('\\n')\n",
    "    \n",
    "\n",
    "test_data= None\n",
    "train_data = None\n",
    "with open(FAQ_FILE, 'r') as file:\n",
    "    data_arr = file.readlines()\n",
    "    data_count = len(data_arr)\n",
    "    train_count = int(data_count * 0.9)\n",
    "    test_count = data_count - train_count\n",
    "    test_data = data_arr[:test_count]\n",
    "    train_data = data_arr[test_count:]\n",
    "    valid_data = data_arr[train_count:]\n",
    "    \n",
    "if not os.path.exists('chatgpt_synthesis'):\n",
    "    os.mkdir('chatgpt_synthesis')\n",
    "generate_train_data(test_data, 'test')\n",
    "generate_train_data(train_data, 'train')\n",
    "generate_train_data(valid_data, 'valid')\n",
    "\n",
    "def generate_FAQ(data_arr, sep='\\n=====\\n', faq_name='enhanced_faq'):\n",
    "    def generate_item(data_arr):\n",
    "        for line in data_arr:\n",
    "            json_obj = json.loads(line)\n",
    "\n",
    "            o_query = json_obj['origin_question'].strip()\n",
    "            o_answer = json_obj['origin_answer']\n",
    "            g_query = json_obj['generate_question']\n",
    "            g_answer = json_obj['generate_answer']\n",
    "\n",
    "            faq_template = \"Question: {}\\nAnswer: {}\"\n",
    "\n",
    "            if len(o_query) > 5:\n",
    "                faq1 = faq_template.format(o_query, o_answer)\n",
    "                yield faq1\n",
    "            faq2 = faq_template.format(g_query, o_answer)\n",
    "            yield faq2\n",
    "            faq3 = faq_template.format(g_query, g_answer)\n",
    "            yield faq3\n",
    "            \n",
    "    with open(f\"{faq_name}.faq\", 'w') as outfile:\n",
    "        no_dup_kg = list(set(generate_item(data_arr)))\n",
    "        outfile.write(sep.join(no_dup_kg))\n",
    "\n",
    "generate_FAQ(data_arr, faq_name=\"chatgpt_enhanced_faq\")"
   ]
  },
  {
   "cell_type": "markdown",
   "id": "96489db5-0989-4d56-bc6f-a37d1a1e09f8",
   "metadata": {},
   "source": [
    "### Generate train/test data\n",
    "\n",
    "合并上面生成的各个数据得到训练集和测试集"
   ]
  },
  {
   "cell_type": "code",
   "execution_count": 101,
   "id": "5d4d5113-c73d-4ab7-9e95-66f0cc12900d",
   "metadata": {
    "tags": []
   },
   "outputs": [],
   "source": [
    "!cat ./chatgpt_synthesis/*train.jsonl > chatgpt_synthesis/train_merged.jsonl"
   ]
  },
  {
   "cell_type": "code",
   "execution_count": 102,
   "id": "de8e7d4c-53ce-4968-94cd-5dee52b6e190",
   "metadata": {},
   "outputs": [
    {
     "name": "stdout",
     "output_type": "stream",
     "text": [
      "26268 chatgpt_synthesis/train_merged.jsonl\n"
     ]
    }
   ],
   "source": [
    "!wc -l chatgpt_synthesis/train_merged.jsonl"
   ]
  },
  {
   "cell_type": "code",
   "execution_count": 103,
   "id": "f71fd37e-7f55-4234-a308-f5bdb140c13e",
   "metadata": {
    "tags": []
   },
   "outputs": [],
   "source": [
    "!cat ./chatgpt_synthesis/*test.jsonl > chatgpt_synthesis/test_merged.jsonl"
   ]
  },
  {
   "cell_type": "code",
   "execution_count": 104,
   "id": "de63e1ae-a552-4b3c-a58e-1d789f095360",
   "metadata": {
    "tags": []
   },
   "outputs": [
    {
     "name": "stdout",
     "output_type": "stream",
     "text": [
      "2920 chatgpt_synthesis/test_merged.jsonl\n"
     ]
    }
   ],
   "source": [
    "!wc -l chatgpt_synthesis/test_merged.jsonl"
   ]
  },
  {
   "cell_type": "code",
   "execution_count": 105,
   "id": "f7eda27e-2b71-4bb8-92f6-f970ab0c6025",
   "metadata": {
    "tags": []
   },
   "outputs": [],
   "source": [
    "!cat ./chatgpt_synthesis/*valid.jsonl > chatgpt_synthesis/valid_merged.jsonl"
   ]
  },
  {
   "cell_type": "code",
   "execution_count": 106,
   "id": "913671f7-88f1-4226-b613-ba57a24d2351",
   "metadata": {
    "tags": []
   },
   "outputs": [
    {
     "name": "stdout",
     "output_type": "stream",
     "text": [
      "2920 chatgpt_synthesis/valid_merged.jsonl\n"
     ]
    }
   ],
   "source": [
    "!wc -l chatgpt_synthesis/valid_merged.jsonl"
   ]
  },
  {
   "cell_type": "markdown",
   "id": "b5fd44c3-f02c-4cd9-b948-49fb752c98c4",
   "metadata": {},
   "source": [
    "### Finetune Bge-large-zh-v1.5\n",
    "每一百步打印loss，注意观察loss的变化"
   ]
  },
  {
   "cell_type": "code",
   "execution_count": null,
   "id": "a5d6c851-9daa-4b5f-b309-5a1857427e42",
   "metadata": {},
   "outputs": [],
   "source": [
    "!torchrun --nproc_per_node 4 \\\n",
    "-m FlagEmbedding.baai_general_embedding.finetune.run \\\n",
    "--output_dir ./finetune_bge_large_zh15 \\\n",
    "--model_name_or_path BAAI/bge-large-zh-v1.5 \\\n",
    "--train_data ./chatgpt_synthesis/train_merged.jsonl \\\n",
    "--learning_rate 1e-5 \\\n",
    "--fp16 \\\n",
    "--num_train_epochs 5 \\\n",
    "--per_device_train_batch_size 1 \\\n",
    "--normlized True \\\n",
    "--temperature 0.02 \\\n",
    "--query_max_len 128 \\\n",
    "--passage_max_len 512 \\\n",
    "--train_group_size 9 \\\n",
    "--logging_steps 100 "
   ]
  },
  {
   "cell_type": "markdown",
   "id": "ac5eda6f-eddb-4512-ad5a-0381ce97e3bc",
   "metadata": {},
   "source": [
    "### Generate hard negative label (optional)\n",
    "\n",
    "这步主要是为了得到Ranker模型的训练数据和测试数据，分别进行抽取"
   ]
  },
  {
   "cell_type": "code",
   "execution_count": null,
   "id": "77927f04-c4fc-42a2-b776-3cb28299e30d",
   "metadata": {
    "tags": []
   },
   "outputs": [],
   "source": [
    "!python -m FlagEmbedding.baai_general_embedding.finetune.hn_mine \\\n",
    "--model_name_or_path BAAI/bge-large-zh \\\n",
    "--input_file chatgpt_synthesis/train_merged.jsonl \\\n",
    "--output_file chatgpt_synthesis/train_merged_minedHN.jsonl \\\n",
    "--range_for_sampling 2-200"
   ]
  },
  {
   "cell_type": "code",
   "execution_count": 108,
   "id": "b5ee71c7-0d93-4984-b315-2e92012eccfd",
   "metadata": {
    "tags": []
   },
   "outputs": [],
   "source": [
    "out_file = open('chatgpt_synthesis/train_merged_hardneg.jsonl', 'w')\n",
    "with open('chatgpt_synthesis/train_merged_minedHN.jsonl', 'r') as file:\n",
    "    for line in file.readlines():\n",
    "        json_obj = json.loads(line)\n",
    "        out_file.write(json.dumps(json_obj, ensure_ascii=False))\n",
    "        out_file.write('\\n')\n",
    "        \n",
    "out_file.close()"
   ]
  },
  {
   "cell_type": "code",
   "execution_count": null,
   "id": "6681472d-95d6-4665-bb45-81d0b84f79ac",
   "metadata": {
    "tags": []
   },
   "outputs": [],
   "source": [
    "!python -m FlagEmbedding.baai_general_embedding.finetune.hn_mine \\\n",
    "--model_name_or_path BAAI/bge-large-zh \\\n",
    "--input_file chatgpt_synthesis/test_merged.jsonl \\\n",
    "--output_file chatgpt_synthesis/test_merged_minedHN.jsonl \\\n",
    "--range_for_sampling 2-200"
   ]
  },
  {
   "cell_type": "code",
   "execution_count": 149,
   "id": "34e59825-ff34-4e5a-bb90-c4cc5fecb3e7",
   "metadata": {
    "tags": []
   },
   "outputs": [],
   "source": [
    "out_file = open('chatgpt_synthesis/test_merged_hardneg.jsonl', 'w')\n",
    "with open('chatgpt_synthesis/test_merged_minedHN.jsonl', 'r') as file:\n",
    "    for line in file.readlines():\n",
    "        json_obj = json.loads(line)\n",
    "        out_file.write(json.dumps(json_obj, ensure_ascii=False))\n",
    "        out_file.write('\\n')\n",
    "        \n",
    "out_file.close()"
   ]
  },
  {
   "cell_type": "markdown",
   "id": "10308384-4ee7-49b0-a9e5-260da343d370",
   "metadata": {},
   "source": [
    "### Train For Reranker\n",
    "\n",
    "训练Rerank模型"
   ]
  },
  {
   "cell_type": "code",
   "execution_count": null,
   "id": "61a36406-918f-4de3-add2-3375ed9e2faa",
   "metadata": {
    "tags": []
   },
   "outputs": [],
   "source": [
    "!torchrun --nproc_per_node 4 \\\n",
    "-m FlagEmbedding.reranker.run \\\n",
    "--output_dir ./rerank_bge_base_zh15 \\\n",
    "--model_name_or_path BAAI/bge-reranker-base \\\n",
    "--train_data ./chatgpt_synthesis/train_merged_hardneg.jsonl \\\n",
    "--learning_rate 6e-5 \\\n",
    "--fp16 \\\n",
    "--num_train_epochs 3 \\\n",
    "--per_device_train_batch_size 1 \\\n",
    "--gradient_accumulation_steps 4 \\\n",
    "--dataloader_drop_last True \\\n",
    "--train_group_size 9 \\\n",
    "--max_len 512 \\\n",
    "--weight_decay 0.01 \\\n",
    "--logging_steps 100"
   ]
  },
  {
   "cell_type": "markdown",
   "id": "bbdaa050-ecc4-4ecf-819e-e663529e2dce",
   "metadata": {},
   "source": [
    "### Prepare Finetuned Embedding Model Configuration\n",
    "\n",
    "准备微调后的Embedding配置信息"
   ]
  },
  {
   "cell_type": "code",
   "execution_count": 110,
   "id": "62c8f0e8-10d2-46f1-823d-fff5c079906d",
   "metadata": {},
   "outputs": [],
   "source": [
    "import sagemaker\n",
    "from sagemaker import image_uris\n",
    "import boto3\n",
    "import os\n",
    "import time\n",
    "import json\n",
    "\n",
    "role = sagemaker.get_execution_role()  # execution role for the endpoint\n",
    "sess = sagemaker.session.Session()  # sagemaker session for interacting with different AWS APIs\n",
    "bucket = sess.default_bucket()  # bucket to house artifacts\n",
    "\n",
    "region = sess._region_name\n",
    "account_id = sess.account_id()\n",
    "\n",
    "s3_client = boto3.client(\"s3\")\n",
    "sm_client = boto3.client(\"sagemaker\")\n",
    "smr_client = boto3.client(\"sagemaker-runtime\")"
   ]
  },
  {
   "cell_type": "code",
   "execution_count": 82,
   "id": "e1023771-e979-4af8-9c7e-cb386bca0157",
   "metadata": {
    "tags": []
   },
   "outputs": [
    {
     "name": "stdout",
     "output_type": "stream",
     "text": [
      "s3_code_prefix: LLM-RAG/workshop/finetuned-bge15-large-zh-code\n",
      "model_snapshot_path: ./finetune_bge_large_zh15\n"
     ]
    }
   ],
   "source": [
    "s3_model_prefix = \"LLM-RAG/workshop/finetuned-bge15-large-zh-model\"  # folder where model checkpoint will go\n",
    "model_snapshot_path = \"./finetune_bge_large_zh15\"\n",
    "s3_code_prefix = \"LLM-RAG/workshop/finetuned-bge15-large-zh-code\"\n",
    "print(f\"s3_code_prefix: {s3_code_prefix}\")\n",
    "print(f\"model_snapshot_path: {model_snapshot_path}\")"
   ]
  },
  {
   "cell_type": "code",
   "execution_count": null,
   "id": "733c9406-be14-4a80-b625-6c339aaf611f",
   "metadata": {
    "tags": []
   },
   "outputs": [],
   "source": [
    "!aws s3 cp --recursive {model_snapshot_path} s3://{bucket}/{s3_model_prefix}"
   ]
  },
  {
   "cell_type": "code",
   "execution_count": 84,
   "id": "dc6094f6-f99d-414b-b7b3-14701b05d926",
   "metadata": {
    "tags": []
   },
   "outputs": [
    {
     "name": "stdout",
     "output_type": "stream",
     "text": [
      "Image going to be used is ---- > 763104351884.dkr.ecr.us-east-1.amazonaws.com/djl-inference:0.23.0-deepspeed0.9.5-cu118\n"
     ]
    }
   ],
   "source": [
    "inference_image_uri = (\n",
    "    f\"763104351884.dkr.ecr.{region}.amazonaws.com/djl-inference:0.23.0-deepspeed0.9.5-cu118\"\n",
    ")\n",
    "\n",
    "#中国区需要替换为下面的image_uri\n",
    "# inference_image_uri = (\n",
    "#     f\"727897471807.dkr.ecr.{region}.amazonaws.com.cn/djl-inference:0.21.0-deepspeed0.8.3-cu117\"\n",
    "# )\n",
    "\n",
    "print(f\"Image going to be used is ---- > {inference_image_uri}\")"
   ]
  },
  {
   "cell_type": "code",
   "execution_count": 85,
   "id": "98d9ef4d-26a0-47c3-95f9-81887b7ef675",
   "metadata": {
    "tags": []
   },
   "outputs": [],
   "source": [
    "!mkdir -p finetuned-bge15-large-zh-code"
   ]
  },
  {
   "cell_type": "code",
   "execution_count": 86,
   "id": "02719fb0-cc87-4d5e-9c11-c3552ffafdd7",
   "metadata": {
    "tags": []
   },
   "outputs": [
    {
     "name": "stdout",
     "output_type": "stream",
     "text": [
      "Overwriting finetuned-bge15-large-zh-code/model.py\n"
     ]
    }
   ],
   "source": [
    "%%writefile finetuned-bge15-large-zh-code/model.py\n",
    "from djl_python import Input, Output\n",
    "import torch\n",
    "import logging\n",
    "import math\n",
    "import os\n",
    "from FlagEmbedding import FlagModel\n",
    "\n",
    "device = torch.device('cuda:0' if torch.cuda.is_available() else 'cpu')\n",
    "print(f'--device={device}')\n",
    "\n",
    "def load_model(properties):\n",
    "    tensor_parallel = properties[\"tensor_parallel_degree\"]\n",
    "    model_location = properties['model_dir']\n",
    "    if \"model_id\" in properties:\n",
    "        model_location = properties['model_id']\n",
    "    logging.info(f\"Loading model in {model_location}\")\n",
    "\n",
    "    model =  FlagModel(model_location)\n",
    "    \n",
    "    return model\n",
    "\n",
    "model = None\n",
    "\n",
    "def handle(inputs: Input):\n",
    "    global model\n",
    "    if not model:\n",
    "        model = load_model(inputs.get_properties())\n",
    "\n",
    "    if inputs.is_empty():\n",
    "        return None\n",
    "    data = inputs.get_as_json()\n",
    "    \n",
    "    input_sentences = None\n",
    "    inputs = data[\"inputs\"]\n",
    "    if isinstance(inputs, list):\n",
    "        input_sentences = inputs\n",
    "    else:\n",
    "        input_sentences =  [inputs]\n",
    "        \n",
    "    is_query = data[\"is_query\"]\n",
    "    instruction = data[\"instruction\"]\n",
    "    logging.info(f\"inputs: {input_sentences}\")\n",
    "    logging.info(f\"is_query: {is_query}\")\n",
    "    logging.info(f\"instruction: {instruction}\")\n",
    "    \n",
    "    if is_query and instruction:\n",
    "        input_sentences = [ instruction + sent for sent in input_sentences ]\n",
    "        \n",
    "    sentence_embeddings =  model.encode(input_sentences)\n",
    "        \n",
    "    result = {\"sentence_embeddings\": sentence_embeddings}\n",
    "    return Output().add_as_json(result)"
   ]
  },
  {
   "cell_type": "code",
   "execution_count": 87,
   "id": "b5e13400-5f2a-4097-bd6d-9719d0a0702f",
   "metadata": {},
   "outputs": [
    {
     "name": "stdout",
     "output_type": "stream",
     "text": [
      "option.s3url ==> s3://sagemaker-us-east-1-106839800180/LLM-RAG/workshop/finetuned-bge15-large-zh-model/\n"
     ]
    }
   ],
   "source": [
    "print(f\"option.s3url ==> s3://{bucket}/{s3_model_prefix}/\")"
   ]
  },
  {
   "cell_type": "markdown",
   "id": "74e1306d-3c59-404c-8a46-52d53aa1f7ac",
   "metadata": {},
   "source": [
    "#### 设置 serving.properties，requirements.txt"
   ]
  },
  {
   "cell_type": "code",
   "execution_count": 88,
   "id": "3b23a17d-9de1-4a32-a7d3-139eb64098df",
   "metadata": {
    "tags": []
   },
   "outputs": [],
   "source": [
    "with open('finetuned-bge15-large-zh-code/serving.properties', 'w') as file:\n",
    "    prop = f\"\"\"engine=Python\n",
    "option.tensor_parallel_degree=1\n",
    "option.s3url = s3://{bucket}/{s3_model_prefix}/\"\"\"\n",
    "    file.write(prop)"
   ]
  },
  {
   "cell_type": "code",
   "execution_count": 89,
   "id": "79c92fc5-f4f4-419c-af32-3b11db3cbef2",
   "metadata": {
    "tags": []
   },
   "outputs": [],
   "source": [
    "with open('finetuned-bge15-large-zh-code/requirements.txt', 'w') as file:\n",
    "    requirements = \"\"\"transformers==4.28.1\\nFlagEmbedding\"\"\"\n",
    "    file.write(requirements)"
   ]
  },
  {
   "cell_type": "code",
   "execution_count": null,
   "id": "98ab64e7-4d3e-4219-a8dc-2ff30a89bb86",
   "metadata": {},
   "outputs": [],
   "source": [
    "!rm s2e_model.tar.gz\n",
    "!cd finetuned-bge15-large-zh-code && rm -rf \".ipynb_checkpoints\"\n",
    "!tar czvf s2e_model.tar.gz finetuned-bge15-large-zh-code"
   ]
  },
  {
   "cell_type": "code",
   "execution_count": 91,
   "id": "5ad5e4f1-350e-4fdc-9647-cc58da41a6f0",
   "metadata": {
    "tags": []
   },
   "outputs": [
    {
     "name": "stdout",
     "output_type": "stream",
     "text": [
      "S3 Code or Model tar ball uploaded to --- > s3://sagemaker-us-east-1-106839800180/LLM-RAG/workshop/finetuned-bge15-large-zh-code/s2e_model.tar.gz\n"
     ]
    }
   ],
   "source": [
    "s3_code_artifact = sess.upload_data(\"s2e_model.tar.gz\", bucket, s3_code_prefix)\n",
    "print(f\"S3 Code or Model tar ball uploaded to --- > {s3_code_artifact}\")"
   ]
  },
  {
   "cell_type": "markdown",
   "id": "716241c8-b883-44ea-930e-1931a4d359f3",
   "metadata": {},
   "source": [
    "### Setup Finetuned Embedding model Endpoint \n",
    "\n",
    "创建微调模型 & 创建endpoint"
   ]
  },
  {
   "cell_type": "code",
   "execution_count": null,
   "id": "517a6ae9-d0af-4835-871a-1389573b23a6",
   "metadata": {
    "tags": []
   },
   "outputs": [],
   "source": [
    "from sagemaker.utils import name_from_base\n",
    "import boto3\n",
    "\n",
    "model_name = name_from_base(\"bge15-finetuned\") #Note: Need to specify model_name\n",
    "print(model_name)\n",
    "print(f\"Image going to be used is ---- > {inference_image_uri}\")\n",
    "\n",
    "create_model_response = sm_client.create_model(\n",
    "    ModelName=model_name,\n",
    "    ExecutionRoleArn=role,\n",
    "    PrimaryContainer={\n",
    "        \"Image\": inference_image_uri,\n",
    "        \"ModelDataUrl\": s3_code_artifact\n",
    "    },\n",
    "    \n",
    ")\n",
    "model_arn = create_model_response[\"ModelArn\"]\n",
    "\n",
    "print(f\"Created Model: {model_arn}\")"
   ]
  },
  {
   "cell_type": "code",
   "execution_count": null,
   "id": "40203a41-93b7-4c35-a108-50febae4bb4c",
   "metadata": {
    "tags": []
   },
   "outputs": [],
   "source": [
    "endpoint_config_name = f\"{model_name}-config\"\n",
    "endpoint_name = f\"{model_name}-endpoint\"\n",
    "\n",
    "endpoint_config_response = sm_client.create_endpoint_config(\n",
    "    EndpointConfigName=endpoint_config_name,\n",
    "    ProductionVariants=[\n",
    "        {\n",
    "            \"VariantName\": \"variant1\",\n",
    "            \"ModelName\": model_name,\n",
    "            \"InstanceType\": \"ml.g4dn.xlarge\",\n",
    "            \"InitialInstanceCount\": 1,\n",
    "            # \"VolumeSizeInGB\" : 400,\n",
    "            # \"ModelDataDownloadTimeoutInSeconds\": 2400,\n",
    "            \"ContainerStartupHealthCheckTimeoutInSeconds\": 15*60,\n",
    "        },\n",
    "    ],\n",
    ")\n",
    "endpoint_config_response"
   ]
  },
  {
   "cell_type": "code",
   "execution_count": null,
   "id": "4c669b1a-c2d9-4243-812b-d8f0cef6940f",
   "metadata": {
    "tags": []
   },
   "outputs": [],
   "source": [
    "create_endpoint_response = sm_client.create_endpoint(\n",
    "    EndpointName=f\"{endpoint_name}\", EndpointConfigName=endpoint_config_name\n",
    ")\n",
    "print(f\"Created Endpoint: {create_endpoint_response['EndpointArn']}\")"
   ]
  },
  {
   "cell_type": "code",
   "execution_count": null,
   "id": "30380eda-37a9-4064-b66c-49b335700671",
   "metadata": {
    "tags": []
   },
   "outputs": [],
   "source": [
    "import time\n",
    "\n",
    "resp = sm_client.describe_endpoint(EndpointName=endpoint_name)\n",
    "status = resp[\"EndpointStatus\"]\n",
    "print(\"Status: \" + status)\n",
    "\n",
    "while status == \"Creating\":\n",
    "    time.sleep(60)\n",
    "    resp = sm_client.describe_endpoint(EndpointName=endpoint_name)\n",
    "    status = resp[\"EndpointStatus\"]\n",
    "    print(\"Status: \" + status)\n",
    "\n",
    "print(\"Arn: \" + resp[\"EndpointArn\"])\n",
    "print(\"Status: \" + status)"
   ]
  },
  {
   "cell_type": "markdown",
   "id": "00b098f9-c649-4ba2-9e7a-7c994026ae23",
   "metadata": {
    "tags": []
   },
   "source": [
    "### Test Embedding model Endpoint \n",
    "\n",
    "测试向量模型"
   ]
  },
  {
   "cell_type": "code",
   "execution_count": null,
   "id": "1cc423d4-04c1-4f84-8ea2-856631b81df0",
   "metadata": {
    "tags": []
   },
   "outputs": [],
   "source": [
    "def get_vector_by_sm_endpoint(questions, sm_client, endpoint_name):\n",
    "    parameters = {\n",
    "    }\n",
    "\n",
    "    response_model = sm_client.invoke_endpoint(\n",
    "        EndpointName=endpoint_name,\n",
    "        Body=json.dumps(\n",
    "            {\n",
    "                \"inputs\": questions,\n",
    "                \"is_query\": True,\n",
    "                \"instruction\" :  \"Represent this sentence for searching relevant passages:\"\n",
    "            }\n",
    "        ),\n",
    "        ContentType=\"application/json\",\n",
    "    )\n",
    "    # 中文instruction => 为这个句子生成表示以用于检索相关文章：\n",
    "    json_str = response_model['Body'].read().decode('utf8')\n",
    "    json_obj = json.loads(json_str)\n",
    "    embeddings = json_obj['sentence_embeddings']\n",
    "    return embeddings"
   ]
  },
  {
   "cell_type": "code",
   "execution_count": null,
   "id": "79431143-c5ed-4c8d-8751-c0710e85793b",
   "metadata": {
    "tags": []
   },
   "outputs": [],
   "source": [
    "prompts1 = [\"what is the default brightness setting on this device?\", \"how are you going\"]\n",
    "\n",
    "emb = get_vector_by_sm_endpoint(prompts1, smr_client, endpoint_name)\n",
    "print(len(emb[0]))\n",
    "print(emb)"
   ]
  },
  {
   "cell_type": "markdown",
   "id": "f0fbbbbb-ff7d-49d8-8664-60d440a6618d",
   "metadata": {},
   "source": [
    "####  **【注意】部署完finetune后的模型后，如果需要对比微调前后的向量模型质量，可以转到同目录的另外一个notebook : visualize_emb_benchmark.ipynb**"
   ]
  },
  {
   "cell_type": "markdown",
   "id": "79c33ed4-8f56-4a3c-bd63-24abeeaf5d9c",
   "metadata": {},
   "source": [
    "### Deploy Rerank model\n",
    "\n",
    "部署Rerank 模型"
   ]
  },
  {
   "cell_type": "code",
   "execution_count": 120,
   "id": "a29a6fa8-c191-4588-951d-fc7be1e204c1",
   "metadata": {
    "tags": []
   },
   "outputs": [
    {
     "name": "stdout",
     "output_type": "stream",
     "text": [
      "s3_code_prefix: LLM-RAG/workshop/finetuned-bge-reranker-base-code\n",
      "model_snapshot_path: ./rerank_bge_base_zh15\n"
     ]
    }
   ],
   "source": [
    "s3_model_prefix = \"LLM-RAG/workshop/finetuned-bge-reranker-base-model\"  # folder where model checkpoint will go\n",
    "model_snapshot_path = \"./rerank_bge_base_zh15\"\n",
    "s3_code_prefix = \"LLM-RAG/workshop/finetuned-bge-reranker-base-code\"\n",
    "print(f\"s3_code_prefix: {s3_code_prefix}\")\n",
    "print(f\"model_snapshot_path: {model_snapshot_path}\")"
   ]
  },
  {
   "cell_type": "code",
   "execution_count": null,
   "id": "0f884b51-0894-4475-b77b-38950922c872",
   "metadata": {
    "tags": []
   },
   "outputs": [],
   "source": [
    "!aws s3 cp --recursive {model_snapshot_path} s3://{bucket}/{s3_model_prefix}"
   ]
  },
  {
   "cell_type": "code",
   "execution_count": null,
   "id": "9f992eb7-9fe4-4986-9961-841d786bf803",
   "metadata": {
    "tags": []
   },
   "outputs": [],
   "source": [
    "inference_image_uri = (\n",
    "    f\"763104351884.dkr.ecr.{region}.amazonaws.com/djl-inference:0.23.0-deepspeed0.9.5-cu118\"\n",
    ")\n",
    "\n",
    "#中国区需要替换为下面的image_uri\n",
    "# inference_image_uri = (\n",
    "#     f\"727897471807.dkr.ecr.{region}.amazonaws.com.cn/djl-inference:0.21.0-deepspeed0.8.3-cu117\"\n",
    "# )\n",
    "\n",
    "print(f\"Image going to be used is ---- > {inference_image_uri}\")"
   ]
  },
  {
   "cell_type": "code",
   "execution_count": 123,
   "id": "a9b1ffaf-946a-4c3b-a267-7400d71be889",
   "metadata": {
    "tags": []
   },
   "outputs": [],
   "source": [
    "!mkdir -p finetuned-bge-reranker-base-code"
   ]
  },
  {
   "cell_type": "code",
   "execution_count": 132,
   "id": "93ca1da6-851a-4b01-a2e6-93d30d904939",
   "metadata": {
    "tags": []
   },
   "outputs": [],
   "source": [
    "%%writefile finetuned-bge-reranker-base-code/model.py\n",
    "from djl_python import Input, Output\n",
    "import torch\n",
    "import logging\n",
    "import math\n",
    "import os\n",
    "from FlagEmbedding import FlagReranker\n",
    "\n",
    "device = torch.device('cuda:0' if torch.cuda.is_available() else 'cpu')\n",
    "print(f'--device={device}')\n",
    "\n",
    "def load_model(properties):\n",
    "    tensor_parallel = properties[\"tensor_parallel_degree\"]\n",
    "    model_location = properties['model_dir']\n",
    "    if \"model_id\" in properties:\n",
    "        model_location = properties['model_id']\n",
    "    logging.info(f\"Loading model in {model_location}\")\n",
    "\n",
    "    reranker = FlagReranker(model_location, use_fp16=True)\n",
    "    \n",
    "    return reranker\n",
    "\n",
    "reranker = None\n",
    "\n",
    "def handle(inputs: Input):\n",
    "    global reranker\n",
    "    if not reranker:\n",
    "        reranker = load_model(inputs.get_properties())\n",
    "\n",
    "    if inputs.is_empty():\n",
    "        return None\n",
    "    data = inputs.get_as_json()\n",
    "    \n",
    "    inputs = data[\"inputs\"]\n",
    "    inputs_batch = []\n",
    "    if len(inputs) == 0:\n",
    "        result = {\"error\": \"empty inputs\" }\n",
    "        return Output().add_as_json(result)\n",
    "    else:\n",
    "        if isinstance(inputs[0], str):\n",
    "            inputs_batch.append(inputs)\n",
    "        elif isinstance(inputs[0], list):\n",
    "            inputs_batch = inputs\n",
    "        else:\n",
    "            result = {\"error\": \"unsupport input type, please input with [['sent1', 'sent2'], ...]\" }\n",
    "            return Output().add_as_json(result)\n",
    "    \n",
    "    scores = reranker.compute_score(inputs_batch)\n",
    "    \n",
    "    result = {\"scores\": scores}\n",
    "    return Output().add_as_json(result)"
   ]
  },
  {
   "cell_type": "code",
   "execution_count": null,
   "id": "94da0b18-8ac4-47bb-bc64-13904169d66d",
   "metadata": {
    "tags": []
   },
   "outputs": [],
   "source": [
    "import os \n",
    "\n",
    "with open('finetuned-bge-reranker-base-code/serving.properties', 'w') as file:\n",
    "    prop = f\"\"\"engine=Python\n",
    "option.tensor_parallel_degree=1\n",
    "option.s3url = s3://{bucket}/{s3_model_prefix}/\"\"\"\n",
    "    file.write(prop)\n",
    "    \n",
    "with open('finetuned-bge-reranker-base-code/requirements.txt', 'w') as file:\n",
    "    requirements = \"\"\"transformers==4.28.1\\nFlagEmbedding\"\"\"\n",
    "    file.write(requirements)\n",
    "    \n",
    "os.system('rm bge_rank_model.tar.gz')\n",
    "os.system('cd finetuned-bge-reranker-base-code && rm -rf \".ipynb_checkpoints\"')\n",
    "os.system('tar czvf bge_rank_model.tar.gz finetuned-bge-reranker-base-code')\n",
    "\n",
    "s3_code_artifact = sess.upload_data(\"bge_rank_model.tar.gz\", bucket, s3_code_prefix)\n",
    "print(f\"S3 Code or Model tar ball uploaded to --- > {s3_code_artifact}\")"
   ]
  },
  {
   "cell_type": "code",
   "execution_count": null,
   "id": "7e061b52-dc90-4cc5-a392-a460e2a98a7b",
   "metadata": {
    "tags": []
   },
   "outputs": [],
   "source": [
    "from sagemaker.utils import name_from_base\n",
    "import boto3\n",
    "\n",
    "model_name = name_from_base(\"bge-ranker\") #Note: Need to specify model_name\n",
    "print(model_name)\n",
    "print(f\"Image going to be used is ---- > {inference_image_uri}\")\n",
    "\n",
    "create_model_response = sm_client.create_model(\n",
    "    ModelName=model_name,\n",
    "    ExecutionRoleArn=role,\n",
    "    PrimaryContainer={\n",
    "        \"Image\": inference_image_uri,\n",
    "        \"ModelDataUrl\": s3_code_artifact\n",
    "    },\n",
    "    \n",
    ")\n",
    "model_arn = create_model_response[\"ModelArn\"]\n",
    "\n",
    "print(f\"Created Model: {model_arn}\")\n",
    "\n",
    "endpoint_config_name = f\"{model_name}-config\"\n",
    "endpoint_name = f\"{model_name}-endpoint\"\n",
    "\n",
    "endpoint_config_response = sm_client.create_endpoint_config(\n",
    "    EndpointConfigName=endpoint_config_name,\n",
    "    ProductionVariants=[\n",
    "        {\n",
    "            \"VariantName\": \"variant1\",\n",
    "            \"ModelName\": model_name,\n",
    "            \"InstanceType\": \"ml.g4dn.xlarge\",\n",
    "            \"InitialInstanceCount\": 1,\n",
    "            # \"VolumeSizeInGB\" : 400,\n",
    "            # \"ModelDataDownloadTimeoutInSeconds\": 2400,\n",
    "            \"ContainerStartupHealthCheckTimeoutInSeconds\": 15*60,\n",
    "        },\n",
    "    ],\n",
    ")\n",
    "\n",
    "print(f\"Created Endpoint Config: {endpoint_config_response}\")\n",
    "\n",
    "create_endpoint_response = sm_client.create_endpoint(\n",
    "    EndpointName=f\"{endpoint_name}\", EndpointConfigName=endpoint_config_name\n",
    ")\n",
    "print(f\"Created Endpoint: {create_endpoint_response['EndpointArn']}\")"
   ]
  },
  {
   "cell_type": "code",
   "execution_count": null,
   "id": "582de5c7-eab9-47c6-9239-4ff5c4e65296",
   "metadata": {
    "tags": []
   },
   "outputs": [],
   "source": [
    "import time\n",
    "\n",
    "resp = sm_client.describe_endpoint(EndpointName=endpoint_name)\n",
    "status = resp[\"EndpointStatus\"]\n",
    "print(\"Status: \" + status)\n",
    "\n",
    "while status == \"Creating\":\n",
    "    time.sleep(60)\n",
    "    resp = sm_client.describe_endpoint(EndpointName=endpoint_name)\n",
    "    status = resp[\"EndpointStatus\"]\n",
    "    print(\"Status: \" + status)\n",
    "\n",
    "print(\"Arn: \" + resp[\"EndpointArn\"])\n",
    "print(\"Status: \" + status)"
   ]
  },
  {
   "cell_type": "markdown",
   "id": "d7950dfc-8da0-467f-a248-8d3780673871",
   "metadata": {},
   "source": [
    "### Verify Rerank performance\n",
    "\n",
    "验证Rerank 模型的效果"
   ]
  },
  {
   "cell_type": "code",
   "execution_count": 207,
   "id": "febc218c-8c62-4663-8dd6-d9acd4547b31",
   "metadata": {
    "tags": []
   },
   "outputs": [],
   "source": [
    "import matplotlib.pyplot as plt\n",
    "from collections import Counter\n",
    "import random\n",
    "\n",
    "def calc_emb_similarity(recall_pairs, sm_client, emb_endpoint_name=''):\n",
    "    def call_emb_model(sentences, sm_client, emb_endpoint_name):\n",
    "        response_model = sm_client.invoke_endpoint(\n",
    "            EndpointName=emb_endpoint_name,\n",
    "            Body=json.dumps(\n",
    "                {\n",
    "                    \"inputs\": sentences,\n",
    "                    \"is_query\": True,\n",
    "                    \"instruction\" : \"\",\n",
    "                    \"parameters\" : \"\"\n",
    "                }\n",
    "            ),\n",
    "            ContentType=\"application/json\",\n",
    "        )\n",
    "\n",
    "        json_str = response_model['Body'].read().decode('utf8')\n",
    "        json_obj = json.loads(json_str)\n",
    "        embeddings = json_obj['sentence_embeddings']\n",
    "        return embeddings[0]\n",
    "    \n",
    "    def similarity_calc(vec1, vec2):\n",
    "        dot_product = np.dot(vec1, vec2)\n",
    "        norm_vec1 = np.sqrt(np.dot(vec1, vec1))\n",
    "        norm_vec2 = np.sqrt(np.dot(vec2, vec2))\n",
    "        cosine_sim = dot_product / (norm_vec1 * norm_vec2)\n",
    "\n",
    "        return cosine_sim\n",
    "    \n",
    "    pair_a_embs= [ call_emb_model(item[0], sm_client, emb_endpoint_name) for item in recall_pairs ]\n",
    "    pair_b_embs= [ call_emb_model(item[1], sm_client, emb_endpoint_name) for item in recall_pairs ]\n",
    "    \n",
    "    score_list = []\n",
    "    for idx in range(len(pair_a_embs)):\n",
    "        score = similarity_calc(pair_a_embs[idx], pair_b_embs[idx])\n",
    "        score_list.append(score)\n",
    "    \n",
    "    return score_list\n",
    "\n",
    "def call_ranker(recall_pairs, sm_client, endpoint_name):\n",
    "    response_model = sm_client.invoke_endpoint(\n",
    "        EndpointName=endpoint_name,\n",
    "        Body=json.dumps(\n",
    "            {\n",
    "                \"inputs\": recall_pairs\n",
    "            }\n",
    "        ),\n",
    "        ContentType=\"application/json\",\n",
    "    )\n",
    "\n",
    "    json_str = response_model['Body'].read().decode('utf8')\n",
    "    json_obj = json.loads(json_str)\n",
    "    scores = json_obj['scores']\n",
    "    if isinstance(scores, list):\n",
    "        return zip(recall_pairs, scores)\n",
    "    else:\n",
    "        return zip(recall_pairs, [scores])\n",
    "    \n",
    "def plot_stat(pos_rank_list):\n",
    "    def gen_label_name(k):\n",
    "        return \"other\" if k > 4 else f\"Top{k+1}\" \n",
    "    \n",
    "    pos_rank_str_list = [ gen_label_name(item) for item in pos_rank_list]\n",
    "    counter = Counter(pos_rank_str_list)\n",
    "    result_dict = { k : v for k, v in counter.items()}\n",
    "\n",
    "    plt.figure(figsize=(6, 6))\n",
    "    plt.pie(result_dict.values(), labels=result_dict.keys(), autopct='%1.1f%%', startangle=140, labeldistance=1.1)"
   ]
  },
  {
   "cell_type": "code",
   "execution_count": null,
   "id": "d6c52044-b61b-41df-948b-c46dbdbad5a7",
   "metadata": {},
   "outputs": [],
   "source": [
    "result = rank_recalls([[\"为这个句子生成表示以用于检索相关文章：烘焙值可以用来做什么？\", \"指挥官可以使用自己的烘焙值在\\\"分享蛋糕\\\"页兑换奖品。使用烘焙值不会影响排行榜名次和累计值。\"],[\"为这个句子生成表示以用于检索相关文章：烘焙值可以用来做什么？\", \"甜美倾心-金甜甜圈的效果是全体单位生命增加，1级效果3%，每升1级增加3%。\"]], smr_client, endpoint_name)\n",
    "print(list(result))"
   ]
  },
  {
   "cell_type": "markdown",
   "id": "4db934b1-c65b-42ec-a858-84a511e425a6",
   "metadata": {},
   "source": [
    "* check ranking ability without ranker （查看没有ranker模型时的排序效果）"
   ]
  },
  {
   "cell_type": "code",
   "execution_count": 205,
   "id": "020a405a-ca97-47e8-810c-20b9e842596e",
   "metadata": {
    "tags": []
   },
   "outputs": [
    {
     "name": "stderr",
     "output_type": "stream",
     "text": [
      "100%|██████████| 500/500 [07:45<00:00,  1.07it/s]\n"
     ]
    },
    {
     "data": {
      "image/png": "[encoded data removed]",
      "text/plain": [
       "<Figure size 600x600 with 1 Axes>"
      ]
     },
     "metadata": {},
     "output_type": "display_data"
    }
   ],
   "source": [
    "from tqdm import tqdm\n",
    "\n",
    "pos_rank_list = []\n",
    "\n",
    "with open('./chatgpt_synthesis/test_merged_hardneg.jsonl', 'r') as input_f:\n",
    "    lines = input_f.readlines()\n",
    "    for line in tqdm(lines[:500]):\n",
    "        json_obj = json.loads(line)\n",
    "        query = json_obj['query']\n",
    "        pos = json_obj['pos']\n",
    "        negs = json_obj['neg']\n",
    "        neg_pairs = [ [query, neg] for neg in negs ]\n",
    "        pos_pairs = [[query, pos[0]]]\n",
    "        \n",
    "        pos_score = calc_emb_similarity(pos_pairs, smr_client, emb_endpoint_name='bge15-finetuned-2023-09-19-23-59-44-451-endpoint')\n",
    "        neg_scores = calc_emb_similarity(neg_pairs, smr_client, emb_endpoint_name='bge15-finetuned-2023-09-19-23-59-44-451-endpoint')\n",
    "        \n",
    "        neg_scores.sort(reverse=True)\n",
    "        \n",
    "        pos_rank = 0\n",
    "        for item in neg_scores:\n",
    "            if pos_score < item:\n",
    "                pos_rank += 1\n",
    "                \n",
    "        pos_rank_list.append(pos_rank)\n",
    "        \n",
    "plot_stat(pos_rank_list)"
   ]
  },
  {
   "cell_type": "markdown",
   "id": "d14faf05-9db6-492d-8213-f07c296bc4a0",
   "metadata": {
    "tags": []
   },
   "source": [
    "* check ranking ability with ranker （查看有ranker模型时的排序效果）"
   ]
  },
  {
   "cell_type": "code",
   "execution_count": 208,
   "id": "8f62b79a-5c9a-48d3-9914-f78b61c16de7",
   "metadata": {
    "tags": []
   },
   "outputs": [
    {
     "name": "stderr",
     "output_type": "stream",
     "text": [
      "100%|██████████| 500/500 [00:26<00:00, 18.91it/s]\n"
     ]
    },
    {
     "data": {
      "image/png": "[encoded data removed]",
      "text/plain": [
       "<Figure size 600x600 with 1 Axes>"
      ]
     },
     "metadata": {},
     "output_type": "display_data"
    }
   ],
   "source": [
    "from tqdm import tqdm\n",
    "\n",
    "pos_rank_list = []\n",
    "with open('./chatgpt_synthesis/test_merged_hardneg.jsonl', 'r') as input_f:\n",
    "    lines = input_f.readlines()\n",
    "    for line in tqdm(lines[:500]):\n",
    "        json_obj = json.loads(line)\n",
    "        query = json_obj['query']\n",
    "        pos = json_obj['pos']\n",
    "        negs = json_obj['neg']\n",
    "        neg_pairs = [ [query, neg] for neg in negs ]\n",
    "        pos_pair = [[query, pos[0]]]\n",
    "        \n",
    "        pospair_scores = call_ranker(pos_pair, smr_client, endpoint_name)\n",
    "        negpair_scores = call_ranker(neg_pairs, smr_client, endpoint_name)\n",
    "        \n",
    "        pos_scores = [ item[1] for item in pospair_scores ]\n",
    "        neg_scores = [ item[1] for item in negpair_scores ]\n",
    "        neg_scores.sort(reverse=True)\n",
    "        pos_score = pos_scores[0]\n",
    "        \n",
    "        pos_rank = 0\n",
    "        for item in neg_scores:\n",
    "            if pos_score < item:\n",
    "                pos_rank += 1\n",
    "                \n",
    "        pos_rank_list.append(pos_rank)\n",
    "\n",
    "plot_stat(pos_rank_list)\n"
   ]
  }
 ],
 "metadata": {
  "availableInstances": [
   {
    "_defaultOrder": 0,
    "_isFastLaunch": true,
    "category": "General purpose",
    "gpuNum": 0,
    "hideHardwareSpecs": false,
    "memoryGiB": 4,
    "name": "ml.t3.medium",
    "vcpuNum": 2
   },
   {
    "_defaultOrder": 1,
    "_isFastLaunch": false,
    "category": "General purpose",
    "gpuNum": 0,
    "hideHardwareSpecs": false,
    "memoryGiB": 8,
    "name": "ml.t3.large",
    "vcpuNum": 2
   },
   {
    "_defaultOrder": 2,
    "_isFastLaunch": false,
    "category": "General purpose",
    "gpuNum": 0,
    "hideHardwareSpecs": false,
    "memoryGiB": 16,
    "name": "ml.t3.xlarge",
    "vcpuNum": 4
   },
   {
    "_defaultOrder": 3,
    "_isFastLaunch": false,
    "category": "General purpose",
    "gpuNum": 0,
    "hideHardwareSpecs": false,
    "memoryGiB": 32,
    "name": "ml.t3.2xlarge",
    "vcpuNum": 8
   },
   {
    "_defaultOrder": 4,
    "_isFastLaunch": true,
    "category": "General purpose",
    "gpuNum": 0,
    "hideHardwareSpecs": false,
    "memoryGiB": 8,
    "name": "ml.m5.large",
    "vcpuNum": 2
   },
   {
    "_defaultOrder": 5,
    "_isFastLaunch": false,
    "category": "General purpose",
    "gpuNum": 0,
    "hideHardwareSpecs": false,
    "memoryGiB": 16,
    "name": "ml.m5.xlarge",
    "vcpuNum": 4
   },
   {
    "_defaultOrder": 6,
    "_isFastLaunch": false,
    "category": "General purpose",
    "gpuNum": 0,
    "hideHardwareSpecs": false,
    "memoryGiB": 32,
    "name": "ml.m5.2xlarge",
    "vcpuNum": 8
   },
   {
    "_defaultOrder": 7,
    "_isFastLaunch": false,
    "category": "General purpose",
    "gpuNum": 0,
    "hideHardwareSpecs": false,
    "memoryGiB": 64,
    "name": "ml.m5.4xlarge",
    "vcpuNum": 16
   },
   {
    "_defaultOrder": 8,
    "_isFastLaunch": false,
    "category": "General purpose",
    "gpuNum": 0,
    "hideHardwareSpecs": false,
    "memoryGiB": 128,
    "name": "ml.m5.8xlarge",
    "vcpuNum": 32
   },
   {
    "_defaultOrder": 9,
    "_isFastLaunch": false,
    "category": "General purpose",
    "gpuNum": 0,
    "hideHardwareSpecs": false,
    "memoryGiB": 192,
    "name": "ml.m5.12xlarge",
    "vcpuNum": 48
   },
   {
    "_defaultOrder": 10,
    "_isFastLaunch": false,
    "category": "General purpose",
    "gpuNum": 0,
    "hideHardwareSpecs": false,
    "memoryGiB": 256,
    "name": "ml.m5.16xlarge",
    "vcpuNum": 64
   },
   {
    "_defaultOrder": 11,
    "_isFastLaunch": false,
    "category": "General purpose",
    "gpuNum": 0,
    "hideHardwareSpecs": false,
    "memoryGiB": 384,
    "name": "ml.m5.24xlarge",
    "vcpuNum": 96
   },
   {
    "_defaultOrder": 12,
    "_isFastLaunch": false,
    "category": "General purpose",
    "gpuNum": 0,
    "hideHardwareSpecs": false,
    "memoryGiB": 8,
    "name": "ml.m5d.large",
    "vcpuNum": 2
   },
   {
    "_defaultOrder": 13,
    "_isFastLaunch": false,
    "category": "General purpose",
    "gpuNum": 0,
    "hideHardwareSpecs": false,
    "memoryGiB": 16,
    "name": "ml.m5d.xlarge",
    "vcpuNum": 4
   },
   {
    "_defaultOrder": 14,
    "_isFastLaunch": false,
    "category": "General purpose",
    "gpuNum": 0,
    "hideHardwareSpecs": false,
    "memoryGiB": 32,
    "name": "ml.m5d.2xlarge",
    "vcpuNum": 8
   },
   {
    "_defaultOrder": 15,
    "_isFastLaunch": false,
    "category": "General purpose",
    "gpuNum": 0,
    "hideHardwareSpecs": false,
    "memoryGiB": 64,
    "name": "ml.m5d.4xlarge",
    "vcpuNum": 16
   },
   {
    "_defaultOrder": 16,
    "_isFastLaunch": false,
    "category": "General purpose",
    "gpuNum": 0,
    "hideHardwareSpecs": false,
    "memoryGiB": 128,
    "name": "ml.m5d.8xlarge",
    "vcpuNum": 32
   },
   {
    "_defaultOrder": 17,
    "_isFastLaunch": false,
    "category": "General purpose",
    "gpuNum": 0,
    "hideHardwareSpecs": false,
    "memoryGiB": 192,
    "name": "ml.m5d.12xlarge",
    "vcpuNum": 48
   },
   {
    "_defaultOrder": 18,
    "_isFastLaunch": false,
    "category": "General purpose",
    "gpuNum": 0,
    "hideHardwareSpecs": false,
    "memoryGiB": 256,
    "name": "ml.m5d.16xlarge",
    "vcpuNum": 64
   },
   {
    "_defaultOrder": 19,
    "_isFastLaunch": false,
    "category": "General purpose",
    "gpuNum": 0,
    "hideHardwareSpecs": false,
    "memoryGiB": 384,
    "name": "ml.m5d.24xlarge",
    "vcpuNum": 96
   },
   {
    "_defaultOrder": 20,
    "_isFastLaunch": false,
    "category": "General purpose",
    "gpuNum": 0,
    "hideHardwareSpecs": true,
    "memoryGiB": 0,
    "name": "ml.geospatial.interactive",
    "supportedImageNames": [
     "sagemaker-geospatial-v1-0"
    ],
    "vcpuNum": 0
   },
   {
    "_defaultOrder": 21,
    "_isFastLaunch": true,
    "category": "Compute optimized",
    "gpuNum": 0,
    "hideHardwareSpecs": false,
    "memoryGiB": 4,
    "name": "ml.c5.large",
    "vcpuNum": 2
   },
   {
    "_defaultOrder": 22,
    "_isFastLaunch": false,
    "category": "Compute optimized",
    "gpuNum": 0,
    "hideHardwareSpecs": false,
    "memoryGiB": 8,
    "name": "ml.c5.xlarge",
    "vcpuNum": 4
   },
   {
    "_defaultOrder": 23,
    "_isFastLaunch": false,
    "category": "Compute optimized",
    "gpuNum": 0,
    "hideHardwareSpecs": false,
    "memoryGiB": 16,
    "name": "ml.c5.2xlarge",
    "vcpuNum": 8
   },
   {
    "_defaultOrder": 24,
    "_isFastLaunch": false,
    "category": "Compute optimized",
    "gpuNum": 0,
    "hideHardwareSpecs": false,
    "memoryGiB": 32,
    "name": "ml.c5.4xlarge",
    "vcpuNum": 16
   },
   {
    "_defaultOrder": 25,
    "_isFastLaunch": false,
    "category": "Compute optimized",
    "gpuNum": 0,
    "hideHardwareSpecs": false,
    "memoryGiB": 72,
    "name": "ml.c5.9xlarge",
    "vcpuNum": 36
   },
   {
    "_defaultOrder": 26,
    "_isFastLaunch": false,
    "category": "Compute optimized",
    "gpuNum": 0,
    "hideHardwareSpecs": false,
    "memoryGiB": 96,
    "name": "ml.c5.12xlarge",
    "vcpuNum": 48
   },
   {
    "_defaultOrder": 27,
    "_isFastLaunch": false,
    "category": "Compute optimized",
    "gpuNum": 0,
    "hideHardwareSpecs": false,
    "memoryGiB": 144,
    "name": "ml.c5.18xlarge",
    "vcpuNum": 72
   },
   {
    "_defaultOrder": 28,
    "_isFastLaunch": false,
    "category": "Compute optimized",
    "gpuNum": 0,
    "hideHardwareSpecs": false,
    "memoryGiB": 192,
    "name": "ml.c5.24xlarge",
    "vcpuNum": 96
   },
   {
    "_defaultOrder": 29,
    "_isFastLaunch": true,
    "category": "Accelerated computing",
    "gpuNum": 1,
    "hideHardwareSpecs": false,
    "memoryGiB": 16,
    "name": "ml.g4dn.xlarge",
    "vcpuNum": 4
   },
   {
    "_defaultOrder": 30,
    "_isFastLaunch": false,
    "category": "Accelerated computing",
    "gpuNum": 1,
    "hideHardwareSpecs": false,
    "memoryGiB": 32,
    "name": "ml.g4dn.2xlarge",
    "vcpuNum": 8
   },
   {
    "_defaultOrder": 31,
    "_isFastLaunch": false,
    "category": "Accelerated computing",
    "gpuNum": 1,
    "hideHardwareSpecs": false,
    "memoryGiB": 64,
    "name": "ml.g4dn.4xlarge",
    "vcpuNum": 16
   },
   {
    "_defaultOrder": 32,
    "_isFastLaunch": false,
    "category": "Accelerated computing",
    "gpuNum": 1,
    "hideHardwareSpecs": false,
    "memoryGiB": 128,
    "name": "ml.g4dn.8xlarge",
    "vcpuNum": 32
   },
   {
    "_defaultOrder": 33,
    "_isFastLaunch": false,
    "category": "Accelerated computing",
    "gpuNum": 4,
    "hideHardwareSpecs": false,
    "memoryGiB": 192,
    "name": "ml.g4dn.12xlarge",
    "vcpuNum": 48
   },
   {
    "_defaultOrder": 34,
    "_isFastLaunch": false,
    "category": "Accelerated computing",
    "gpuNum": 1,
    "hideHardwareSpecs": false,
    "memoryGiB": 256,
    "name": "ml.g4dn.16xlarge",
    "vcpuNum": 64
   },
   {
    "_defaultOrder": 35,
    "_isFastLaunch": false,
    "category": "Accelerated computing",
    "gpuNum": 1,
    "hideHardwareSpecs": false,
    "memoryGiB": 61,
    "name": "ml.p3.2xlarge",
    "vcpuNum": 8
   },
   {
    "_defaultOrder": 36,
    "_isFastLaunch": false,
    "category": "Accelerated computing",
    "gpuNum": 4,
    "hideHardwareSpecs": false,
    "memoryGiB": 244,
    "name": "ml.p3.8xlarge",
    "vcpuNum": 32
   },
   {
    "_defaultOrder": 37,
    "_isFastLaunch": false,
    "category": "Accelerated computing",
    "gpuNum": 8,
    "hideHardwareSpecs": false,
    "memoryGiB": 488,
    "name": "ml.p3.16xlarge",
    "vcpuNum": 64
   },
   {
    "_defaultOrder": 38,
    "_isFastLaunch": false,
    "category": "Accelerated computing",
    "gpuNum": 8,
    "hideHardwareSpecs": false,
    "memoryGiB": 768,
    "name": "ml.p3dn.24xlarge",
    "vcpuNum": 96
   },
   {
    "_defaultOrder": 39,
    "_isFastLaunch": false,
    "category": "Memory Optimized",
    "gpuNum": 0,
    "hideHardwareSpecs": false,
    "memoryGiB": 16,
    "name": "ml.r5.large",
    "vcpuNum": 2
   },
   {
    "_defaultOrder": 40,
    "_isFastLaunch": false,
    "category": "Memory Optimized",
    "gpuNum": 0,
    "hideHardwareSpecs": false,
    "memoryGiB": 32,
    "name": "ml.r5.xlarge",
    "vcpuNum": 4
   },
   {
    "_defaultOrder": 41,
    "_isFastLaunch": false,
    "category": "Memory Optimized",
    "gpuNum": 0,
    "hideHardwareSpecs": false,
    "memoryGiB": 64,
    "name": "ml.r5.2xlarge",
    "vcpuNum": 8
   },
   {
    "_defaultOrder": 42,
    "_isFastLaunch": false,
    "category": "Memory Optimized",
    "gpuNum": 0,
    "hideHardwareSpecs": false,
    "memoryGiB": 128,
    "name": "ml.r5.4xlarge",
    "vcpuNum": 16
   },
   {
    "_defaultOrder": 43,
    "_isFastLaunch": false,
    "category": "Memory Optimized",
    "gpuNum": 0,
    "hideHardwareSpecs": false,
    "memoryGiB": 256,
    "name": "ml.r5.8xlarge",
    "vcpuNum": 32
   },
   {
    "_defaultOrder": 44,
    "_isFastLaunch": false,
    "category": "Memory Optimized",
    "gpuNum": 0,
    "hideHardwareSpecs": false,
    "memoryGiB": 384,
    "name": "ml.r5.12xlarge",
    "vcpuNum": 48
   },
   {
    "_defaultOrder": 45,
    "_isFastLaunch": false,
    "category": "Memory Optimized",
    "gpuNum": 0,
    "hideHardwareSpecs": false,
    "memoryGiB": 512,
    "name": "ml.r5.16xlarge",
    "vcpuNum": 64
   },
   {
    "_defaultOrder": 46,
    "_isFastLaunch": false,
    "category": "Memory Optimized",
    "gpuNum": 0,
    "hideHardwareSpecs": false,
    "memoryGiB": 768,
    "name": "ml.r5.24xlarge",
    "vcpuNum": 96
   },
   {
    "_defaultOrder": 47,
    "_isFastLaunch": false,
    "category": "Accelerated computing",
    "gpuNum": 1,
    "hideHardwareSpecs": false,
    "memoryGiB": 16,
    "name": "ml.g5.xlarge",
    "vcpuNum": 4
   },
   {
    "_defaultOrder": 48,
    "_isFastLaunch": false,
    "category": "Accelerated computing",
    "gpuNum": 1,
    "hideHardwareSpecs": false,
    "memoryGiB": 32,
    "name": "ml.g5.2xlarge",
    "vcpuNum": 8
   },
   {
    "_defaultOrder": 49,
    "_isFastLaunch": false,
    "category": "Accelerated computing",
    "gpuNum": 1,
    "hideHardwareSpecs": false,
    "memoryGiB": 64,
    "name": "ml.g5.4xlarge",
    "vcpuNum": 16
   },
   {
    "_defaultOrder": 50,
    "_isFastLaunch": false,
    "category": "Accelerated computing",
    "gpuNum": 1,
    "hideHardwareSpecs": false,
    "memoryGiB": 128,
    "name": "ml.g5.8xlarge",
    "vcpuNum": 32
   },
   {
    "_defaultOrder": 51,
    "_isFastLaunch": false,
    "category": "Accelerated computing",
    "gpuNum": 1,
    "hideHardwareSpecs": false,
    "memoryGiB": 256,
    "name": "ml.g5.16xlarge",
    "vcpuNum": 64
   },
   {
    "_defaultOrder": 52,
    "_isFastLaunch": false,
    "category": "Accelerated computing",
    "gpuNum": 4,
    "hideHardwareSpecs": false,
    "memoryGiB": 192,
    "name": "ml.g5.12xlarge",
    "vcpuNum": 48
   },
   {
    "_defaultOrder": 53,
    "_isFastLaunch": false,
    "category": "Accelerated computing",
    "gpuNum": 4,
    "hideHardwareSpecs": false,
    "memoryGiB": 384,
    "name": "ml.g5.24xlarge",
    "vcpuNum": 96
   },
   {
    "_defaultOrder": 54,
    "_isFastLaunch": false,
    "category": "Accelerated computing",
    "gpuNum": 8,
    "hideHardwareSpecs": false,
    "memoryGiB": 768,
    "name": "ml.g5.48xlarge",
    "vcpuNum": 192
   },
   {
    "_defaultOrder": 55,
    "_isFastLaunch": false,
    "category": "Accelerated computing",
    "gpuNum": 8,
    "hideHardwareSpecs": false,
    "memoryGiB": 1152,
    "name": "ml.p4d.24xlarge",
    "vcpuNum": 96
   },
   {
    "_defaultOrder": 56,
    "_isFastLaunch": false,
    "category": "Accelerated computing",
    "gpuNum": 8,
    "hideHardwareSpecs": false,
    "memoryGiB": 1152,
    "name": "ml.p4de.24xlarge",
    "vcpuNum": 96
   }
  ],
  "instance_type": "ml.m5.large",
  "kernelspec": {
   "display_name": "Python 3 (PyTorch 2.0.0 Python 3.10 GPU Optimized)",
   "language": "python",
   "name": "python3__SAGEMAKER_INTERNAL__arn:aws:sagemaker:us-east-1:081325390199:image/pytorch-2.0.0-gpu-py310"
  },
  "language_info": {
   "codemirror_mode": {
    "name": "ipython",
    "version": 3
   },
   "file_extension": ".py",
   "mimetype": "text/x-python",
   "name": "python",
   "nbconvert_exporter": "python",
   "pygments_lexer": "ipython3",
   "version": "3.10.8"
  }
 },
 "nbformat": 4,
 "nbformat_minor": 5
}
