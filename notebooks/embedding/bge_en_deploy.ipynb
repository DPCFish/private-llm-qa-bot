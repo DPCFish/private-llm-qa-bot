{
 "cells": [
  {
   "cell_type": "markdown",
   "id": "7060c891-cebd-4011-b350-b7d1e70b40b2",
   "metadata": {
    "tags": []
   },
   "source": [
    "### 1. 安装HuggingFace 并下载模型到本地"
   ]
  },
  {
   "cell_type": "code",
   "execution_count": 2,
   "id": "9f413314-c410-43d3-bb3a-ba0aa18ec1be",
   "metadata": {
    "tags": []
   },
   "outputs": [
    {
     "name": "stdout",
     "output_type": "stream",
     "text": [
      "Requirement already satisfied: sagemaker in /opt/conda/lib/python3.7/site-packages (2.175.0)\n",
      "Collecting sagemaker\n",
      "  Downloading sagemaker-2.177.1.tar.gz (857 kB)\n",
      "\u001b[2K     \u001b[90m━━━━━━━━━━━━━━━━━━━━━━━━━━━━━━━━━━━━━━━\u001b[0m \u001b[32m857.8/857.8 kB\u001b[0m \u001b[31m6.9 MB/s\u001b[0m eta \u001b[36m0:00:00\u001b[0m00:01\u001b[0m00:01\u001b[0m\n",
      "\u001b[?25h  Preparing metadata (setup.py) ... \u001b[?25ldone\n",
      "\u001b[?25hRequirement already satisfied: attrs<24,>=23.1.0 in /opt/conda/lib/python3.7/site-packages (from sagemaker) (23.1.0)\n",
      "Requirement already satisfied: boto3<2.0,>=1.26.131 in /opt/conda/lib/python3.7/site-packages (from sagemaker) (1.26.157)\n",
      "Requirement already satisfied: cloudpickle==2.2.1 in /opt/conda/lib/python3.7/site-packages (from sagemaker) (2.2.1)\n",
      "Requirement already satisfied: google-pasta in /opt/conda/lib/python3.7/site-packages (from sagemaker) (0.2.0)\n",
      "Requirement already satisfied: numpy<2.0,>=1.9.0 in /opt/conda/lib/python3.7/site-packages (from sagemaker) (1.21.6)\n",
      "Requirement already satisfied: protobuf<5.0,>=3.12 in /opt/conda/lib/python3.7/site-packages (from sagemaker) (3.20.3)\n",
      "Requirement already satisfied: smdebug_rulesconfig==1.0.1 in /opt/conda/lib/python3.7/site-packages (from sagemaker) (1.0.1)\n",
      "Requirement already satisfied: importlib-metadata<7.0,>=1.4.0 in /opt/conda/lib/python3.7/site-packages (from sagemaker) (4.13.0)\n",
      "Requirement already satisfied: packaging>=20.0 in /opt/conda/lib/python3.7/site-packages (from sagemaker) (23.1)\n",
      "Requirement already satisfied: pandas in /opt/conda/lib/python3.7/site-packages (from sagemaker) (1.3.5)\n",
      "Requirement already satisfied: pathos in /opt/conda/lib/python3.7/site-packages (from sagemaker) (0.3.0)\n",
      "Requirement already satisfied: schema in /opt/conda/lib/python3.7/site-packages (from sagemaker) (0.7.5)\n",
      "Requirement already satisfied: PyYAML~=6.0 in /opt/conda/lib/python3.7/site-packages (from sagemaker) (6.0)\n",
      "Requirement already satisfied: jsonschema in /opt/conda/lib/python3.7/site-packages (from sagemaker) (3.2.0)\n",
      "Requirement already satisfied: platformdirs in /opt/conda/lib/python3.7/site-packages (from sagemaker) (3.5.3)\n",
      "Requirement already satisfied: tblib==1.7.0 in /opt/conda/lib/python3.7/site-packages (from sagemaker) (1.7.0)\n",
      "Requirement already satisfied: botocore<1.30.0,>=1.29.157 in /opt/conda/lib/python3.7/site-packages (from boto3<2.0,>=1.26.131->sagemaker) (1.29.157)\n",
      "Requirement already satisfied: jmespath<2.0.0,>=0.7.1 in /opt/conda/lib/python3.7/site-packages (from boto3<2.0,>=1.26.131->sagemaker) (1.0.1)\n",
      "Requirement already satisfied: s3transfer<0.7.0,>=0.6.0 in /opt/conda/lib/python3.7/site-packages (from boto3<2.0,>=1.26.131->sagemaker) (0.6.1)\n",
      "Requirement already satisfied: zipp>=0.5 in /opt/conda/lib/python3.7/site-packages (from importlib-metadata<7.0,>=1.4.0->sagemaker) (2.2.0)\n",
      "Requirement already satisfied: typing-extensions>=3.6.4 in /opt/conda/lib/python3.7/site-packages (from importlib-metadata<7.0,>=1.4.0->sagemaker) (4.6.3)\n",
      "Requirement already satisfied: six in /opt/conda/lib/python3.7/site-packages (from google-pasta->sagemaker) (1.16.0)\n",
      "Requirement already satisfied: pyrsistent>=0.14.0 in /opt/conda/lib/python3.7/site-packages (from jsonschema->sagemaker) (0.15.7)\n",
      "Requirement already satisfied: setuptools in /opt/conda/lib/python3.7/site-packages (from jsonschema->sagemaker) (65.5.1)\n",
      "Requirement already satisfied: python-dateutil>=2.7.3 in /opt/conda/lib/python3.7/site-packages (from pandas->sagemaker) (2.8.2)\n",
      "Requirement already satisfied: pytz>=2017.3 in /opt/conda/lib/python3.7/site-packages (from pandas->sagemaker) (2019.3)\n",
      "Requirement already satisfied: ppft>=1.7.6.6 in /opt/conda/lib/python3.7/site-packages (from pathos->sagemaker) (1.7.6.6)\n",
      "Requirement already satisfied: dill>=0.3.6 in /opt/conda/lib/python3.7/site-packages (from pathos->sagemaker) (0.3.6)\n",
      "Requirement already satisfied: pox>=0.3.2 in /opt/conda/lib/python3.7/site-packages (from pathos->sagemaker) (0.3.2)\n",
      "Requirement already satisfied: multiprocess>=0.70.14 in /opt/conda/lib/python3.7/site-packages (from pathos->sagemaker) (0.70.14)\n",
      "Requirement already satisfied: contextlib2>=0.5.5 in /opt/conda/lib/python3.7/site-packages (from schema->sagemaker) (0.6.0.post1)\n",
      "Requirement already satisfied: urllib3<1.27,>=1.25.4 in /opt/conda/lib/python3.7/site-packages (from botocore<1.30.0,>=1.29.157->boto3<2.0,>=1.26.131->sagemaker) (1.26.16)\n",
      "Building wheels for collected packages: sagemaker\n",
      "  Building wheel for sagemaker (setup.py) ... \u001b[?25ldone\n",
      "\u001b[?25h  Created wheel for sagemaker: filename=sagemaker-2.177.1-py2.py3-none-any.whl size=1166001 sha256=4d974d413f1f94e8f7623d5e37e63200ff49f761237cda0fd253383ddf1e6e92\n",
      "  Stored in directory: /root/.cache/pip/wheels/4d/3f/29/a44088e382c815fd842f7d001b32aede28c9fdba7fd58ecf00\n",
      "Successfully built sagemaker\n",
      "\u001b[33mDEPRECATION: pyodbc 4.0.0-unsupported has a non-standard version number. pip 23.3 will enforce this behaviour change. A possible replacement is to upgrade to a newer version of pyodbc or contact the author to suggest that they release a version with a conforming version number. Discussion can be found at https://github.com/pypa/pip/issues/12063\u001b[0m\u001b[33m\n",
      "\u001b[0mInstalling collected packages: sagemaker\n",
      "  Attempting uninstall: sagemaker\n",
      "    Found existing installation: sagemaker 2.175.0\n",
      "    Uninstalling sagemaker-2.175.0:\n",
      "      Successfully uninstalled sagemaker-2.175.0\n",
      "Successfully installed sagemaker-2.177.1\n",
      "\u001b[33mWARNING: Running pip as the 'root' user can result in broken permissions and conflicting behaviour with the system package manager. It is recommended to use a virtual environment instead: https://pip.pypa.io/warnings/venv\u001b[0m\u001b[33m\n",
      "\u001b[0m"
     ]
    }
   ],
   "source": [
    "!pip install huggingface-hub -Uqq\n",
    "!pip install -U sagemaker"
   ]
  },
  {
   "cell_type": "markdown",
   "id": "df3b0a4b-f166-4f1a-a7cc-9c7277c68173",
   "metadata": {},
   "source": [
    "-  可以把下面cell中的en全部切换成zh即可部署中文版"
   ]
  },
  {
   "cell_type": "code",
   "execution_count": 3,
   "id": "be112a00-cbef-4387-b0d7-80e5e7b7030d",
   "metadata": {
    "tags": []
   },
   "outputs": [],
   "source": [
    "from huggingface_hub import snapshot_download\n",
    "from pathlib import Path\n",
    "\n",
    "local_model_path = Path(\"./bge-en-model\")\n",
    "local_model_path.mkdir(exist_ok=True)\n",
    "model_name = \"BAAI/bge-large-en\"\n",
    "commit_hash = \"48db88180e8c78ac7def7d8e359f2af4f7728a27\""
   ]
  },
  {
   "cell_type": "code",
   "execution_count": 4,
   "id": "902798dc-227b-4191-ade7-b736571543ac",
   "metadata": {
    "tags": []
   },
   "outputs": [
    {
     "data": {
      "application/vnd.jupyter.widget-view+json": {
       "model_id": "25bb3be015844a10ba0f199a6ffa1282",
       "version_major": 2,
       "version_minor": 0
      },
      "text/plain": [
       "HBox(children=(FloatProgress(value=0.0, description='Fetching 12 files', max=12.0, style=ProgressStyle(descrip…"
      ]
     },
     "metadata": {},
     "output_type": "display_data"
    },
    {
     "data": {
      "application/vnd.jupyter.widget-view+json": {
       "model_id": "406143331ce24f1b908cfcc510e8f3a7",
       "version_major": 2,
       "version_minor": 0
      },
      "text/plain": [
       "HBox(children=(FloatProgress(value=0.0, description='Downloading (…)f7728a27/config.json', max=720.0, style=Pr…"
      ]
     },
     "metadata": {},
     "output_type": "display_data"
    },
    {
     "data": {
      "application/vnd.jupyter.widget-view+json": {
       "model_id": "4239684377964a9d94f8c6c7f76e4577",
       "version_major": 2,
       "version_minor": 0
      },
      "text/plain": [
       "HBox(children=(FloatProgress(value=0.0, description='Downloading (…)f4f7728a27/README.md', max=78938.0, style=…"
      ]
     },
     "metadata": {},
     "output_type": "display_data"
    },
    {
     "data": {
      "application/vnd.jupyter.widget-view+json": {
       "model_id": "669771ba2c26476398ceeec8a194f429",
       "version_major": 2,
       "version_minor": 0
      },
      "text/plain": [
       "HBox(children=(FloatProgress(value=0.0, description='Downloading pytorch_model.bin', max=1340698349.0, style=P…"
      ]
     },
     "metadata": {},
     "output_type": "display_data"
    },
    {
     "data": {
      "application/vnd.jupyter.widget-view+json": {
       "model_id": "9b1e8d533cc24a409f690b9f319bf3a9",
       "version_major": 2,
       "version_minor": 0
      },
      "text/plain": [
       "HBox(children=(FloatProgress(value=0.0, description='Downloading (…)ce_transformers.json', max=124.0, style=Pr…"
      ]
     },
     "metadata": {},
     "output_type": "display_data"
    },
    {
     "data": {
      "application/vnd.jupyter.widget-view+json": {
       "model_id": "4ac76ec3c2e24bdfb0a2549f86412d10",
       "version_major": 2,
       "version_minor": 0
      },
      "text/plain": [
       "HBox(children=(FloatProgress(value=0.0, description='Downloading (…)nce_bert_config.json', max=52.0, style=Pro…"
      ]
     },
     "metadata": {},
     "output_type": "display_data"
    },
    {
     "name": "stdout",
     "output_type": "stream",
     "text": [
      "\n",
      "\n"
     ]
    },
    {
     "data": {
      "application/vnd.jupyter.widget-view+json": {
       "model_id": "6359c2b53521457b9a12f038b0745874",
       "version_major": 2,
       "version_minor": 0
      },
      "text/plain": [
       "HBox(children=(FloatProgress(value=0.0, description='Downloading (…)7728a27/modules.json', max=229.0, style=Pr…"
      ]
     },
     "metadata": {},
     "output_type": "display_data"
    },
    {
     "data": {
      "application/vnd.jupyter.widget-view+json": {
       "model_id": "aed4a296ceaa465ab2a894426b690064",
       "version_major": 2,
       "version_minor": 0
      },
      "text/plain": [
       "HBox(children=(FloatProgress(value=0.0, description='Downloading (…)_Pooling/config.json', max=191.0, style=Pr…"
      ]
     },
     "metadata": {},
     "output_type": "display_data"
    },
    {
     "name": "stdout",
     "output_type": "stream",
     "text": [
      "\n"
     ]
    },
    {
     "data": {
      "application/vnd.jupyter.widget-view+json": {
       "model_id": "060393dee7d249d1a893a5b0fdf2aa75",
       "version_major": 2,
       "version_minor": 0
      },
      "text/plain": [
       "HBox(children=(FloatProgress(value=0.0, description='Downloading (…)28a27/.gitattributes', max=1519.0, style=P…"
      ]
     },
     "metadata": {},
     "output_type": "display_data"
    },
    {
     "name": "stdout",
     "output_type": "stream",
     "text": [
      "\n",
      "\n",
      "\n",
      "\n"
     ]
    },
    {
     "data": {
      "application/vnd.jupyter.widget-view+json": {
       "model_id": "ba5816db5c0b4bee9b0d8e1a07b3d19d",
       "version_major": 2,
       "version_minor": 0
      },
      "text/plain": [
       "HBox(children=(FloatProgress(value=0.0, description='Downloading (…)cial_tokens_map.json', max=125.0, style=Pr…"
      ]
     },
     "metadata": {},
     "output_type": "display_data"
    },
    {
     "data": {
      "application/vnd.jupyter.widget-view+json": {
       "model_id": "0bfa5389881e470cbb438d936d70a7d7",
       "version_major": 2,
       "version_minor": 0
      },
      "text/plain": [
       "HBox(children=(FloatProgress(value=0.0, description='Downloading (…)okenizer_config.json', max=366.0, style=Pr…"
      ]
     },
     "metadata": {},
     "output_type": "display_data"
    },
    {
     "name": "stdout",
     "output_type": "stream",
     "text": [
      "\n"
     ]
    },
    {
     "data": {
      "application/vnd.jupyter.widget-view+json": {
       "model_id": "5220d3fce89f4fb5ac7a7b73774cbdaa",
       "version_major": 2,
       "version_minor": 0
      },
      "text/plain": [
       "HBox(children=(FloatProgress(value=0.0, description='Downloading (…)28a27/tokenizer.json', max=711396.0, style…"
      ]
     },
     "metadata": {},
     "output_type": "display_data"
    },
    {
     "name": "stdout",
     "output_type": "stream",
     "text": [
      "\n"
     ]
    },
    {
     "data": {
      "application/vnd.jupyter.widget-view+json": {
       "model_id": "cd7b05f699234209bb1eff8daa76338a",
       "version_major": 2,
       "version_minor": 0
      },
      "text/plain": [
       "HBox(children=(FloatProgress(value=0.0, description='Downloading (…)f4f7728a27/vocab.txt', max=231508.0, style…"
      ]
     },
     "metadata": {},
     "output_type": "display_data"
    },
    {
     "name": "stdout",
     "output_type": "stream",
     "text": [
      "\n",
      "\n",
      "\n",
      "\n"
     ]
    },
    {
     "data": {
      "text/plain": [
       "'bge-en-model/models--BAAI--bge-large-en/snapshots/48db88180e8c78ac7def7d8e359f2af4f7728a27'"
      ]
     },
     "execution_count": 4,
     "metadata": {},
     "output_type": "execute_result"
    }
   ],
   "source": [
    "snapshot_download(repo_id=model_name, revision=commit_hash, cache_dir=local_model_path)"
   ]
  },
  {
   "cell_type": "markdown",
   "id": "a6b61ad8-a8c2-48c2-8539-e7c1e2afe773",
   "metadata": {},
   "source": [
    "### 2. 把模型拷贝到S3为后续部署做准备"
   ]
  },
  {
   "cell_type": "code",
   "execution_count": 5,
   "id": "5e1873f4-1bfe-4146-8297-584e9ad76fc9",
   "metadata": {
    "tags": []
   },
   "outputs": [],
   "source": [
    "import sagemaker\n",
    "from sagemaker import image_uris\n",
    "import boto3\n",
    "import os\n",
    "import time\n",
    "import json\n",
    "\n",
    "role = sagemaker.get_execution_role()  # execution role for the endpoint\n",
    "sess = sagemaker.session.Session()  # sagemaker session for interacting with different AWS APIs\n",
    "bucket = sess.default_bucket()  # bucket to house artifacts\n",
    "\n",
    "region = sess._region_name\n",
    "account_id = sess.account_id()\n",
    "\n",
    "s3_client = boto3.client(\"s3\")\n",
    "sm_client = boto3.client(\"sagemaker\")\n",
    "smr_client = boto3.client(\"sagemaker-runtime\")"
   ]
  },
  {
   "cell_type": "code",
   "execution_count": 7,
   "id": "68394e44-4d51-48ae-adc1-d02f520a5d4d",
   "metadata": {
    "tags": []
   },
   "outputs": [
    {
     "name": "stdout",
     "output_type": "stream",
     "text": [
      "s3_code_prefix: LLM-RAG/workshop/bge_en_deploy_code\n",
      "model_snapshot_path: bge-en-model/models--BAAI--bge-large-en/snapshots/48db88180e8c78ac7def7d8e359f2af4f7728a27\n"
     ]
    }
   ],
   "source": [
    "s3_model_prefix = \"LLM-RAG/workshop/bge-en-model\"  # folder where model checkpoint will go\n",
    "model_snapshot_path = list(local_model_path.glob(\"**/snapshots/*\"))[0]\n",
    "s3_code_prefix = \"LLM-RAG/workshop/bge_en_deploy_code\"\n",
    "print(f\"s3_code_prefix: {s3_code_prefix}\")\n",
    "print(f\"model_snapshot_path: {model_snapshot_path}\")"
   ]
  },
  {
   "cell_type": "code",
   "execution_count": 8,
   "id": "0b9e177a-886d-4838-891e-2e612a3cbc9d",
   "metadata": {
    "tags": []
   },
   "outputs": [
    {
     "name": "stdout",
     "output_type": "stream",
     "text": [
      "upload: bge-en-model/models--BAAI--bge-large-en/snapshots/48db88180e8c78ac7def7d8e359f2af4f7728a27/config.json to s3://sagemaker-us-east-2-946277762357/LLM-RAG/workshop/bge-en-model/config.json\n",
      "upload: bge-en-model/models--BAAI--bge-large-en/snapshots/48db88180e8c78ac7def7d8e359f2af4f7728a27/1_Pooling/config.json to s3://sagemaker-us-east-2-946277762357/LLM-RAG/workshop/bge-en-model/1_Pooling/config.json\n",
      "upload: bge-en-model/models--BAAI--bge-large-en/snapshots/48db88180e8c78ac7def7d8e359f2af4f7728a27/modules.json to s3://sagemaker-us-east-2-946277762357/LLM-RAG/workshop/bge-en-model/modules.json\n",
      "upload: bge-en-model/models--BAAI--bge-large-en/snapshots/48db88180e8c78ac7def7d8e359f2af4f7728a27/tokenizer_config.json to s3://sagemaker-us-east-2-946277762357/LLM-RAG/workshop/bge-en-model/tokenizer_config.json\n",
      "upload: bge-en-model/models--BAAI--bge-large-en/snapshots/48db88180e8c78ac7def7d8e359f2af4f7728a27/.gitattributes to s3://sagemaker-us-east-2-946277762357/LLM-RAG/workshop/bge-en-model/.gitattributes\n",
      "upload: bge-en-model/models--BAAI--bge-large-en/snapshots/48db88180e8c78ac7def7d8e359f2af4f7728a27/special_tokens_map.json to s3://sagemaker-us-east-2-946277762357/LLM-RAG/workshop/bge-en-model/special_tokens_map.json\n",
      "upload: bge-en-model/models--BAAI--bge-large-en/snapshots/48db88180e8c78ac7def7d8e359f2af4f7728a27/sentence_bert_config.json to s3://sagemaker-us-east-2-946277762357/LLM-RAG/workshop/bge-en-model/sentence_bert_config.json\n",
      "upload: bge-en-model/models--BAAI--bge-large-en/snapshots/48db88180e8c78ac7def7d8e359f2af4f7728a27/README.md to s3://sagemaker-us-east-2-946277762357/LLM-RAG/workshop/bge-en-model/README.md\n",
      "upload: bge-en-model/models--BAAI--bge-large-en/snapshots/48db88180e8c78ac7def7d8e359f2af4f7728a27/vocab.txt to s3://sagemaker-us-east-2-946277762357/LLM-RAG/workshop/bge-en-model/vocab.txt\n",
      "upload: bge-en-model/models--BAAI--bge-large-en/snapshots/48db88180e8c78ac7def7d8e359f2af4f7728a27/config_sentence_transformers.json to s3://sagemaker-us-east-2-946277762357/LLM-RAG/workshop/bge-en-model/config_sentence_transformers.json\n",
      "upload: bge-en-model/models--BAAI--bge-large-en/snapshots/48db88180e8c78ac7def7d8e359f2af4f7728a27/tokenizer.json to s3://sagemaker-us-east-2-946277762357/LLM-RAG/workshop/bge-en-model/tokenizer.json\n",
      "upload: bge-en-model/models--BAAI--bge-large-en/snapshots/48db88180e8c78ac7def7d8e359f2af4f7728a27/pytorch_model.bin to s3://sagemaker-us-east-2-946277762357/LLM-RAG/workshop/bge-en-model/pytorch_model.bin\n"
     ]
    }
   ],
   "source": [
    "!aws s3 cp --recursive {model_snapshot_path} s3://{bucket}/{s3_model_prefix}"
   ]
  },
  {
   "cell_type": "markdown",
   "id": "59f35a6f-5988-42ec-87b0-de36eaebe41b",
   "metadata": {
    "tags": []
   },
   "source": [
    "### 3. 模型部署准备（entrypoint脚本，容器镜像，服务配置）"
   ]
  },
  {
   "cell_type": "code",
   "execution_count": 9,
   "id": "86daea77-a7ae-46b8-8800-212d07ce5605",
   "metadata": {
    "tags": []
   },
   "outputs": [
    {
     "name": "stdout",
     "output_type": "stream",
     "text": [
      "Image going to be used is ---- > 763104351884.dkr.ecr.us-east-2.amazonaws.com/djl-inference:0.23.0-deepspeed0.9.5-cu118\n"
     ]
    }
   ],
   "source": [
    "inference_image_uri = (\n",
    "    f\"763104351884.dkr.ecr.{region}.amazonaws.com/djl-inference:0.23.0-deepspeed0.9.5-cu118\"\n",
    ")\n",
    "\n",
    "#中国区需要替换为下面的image_uri\n",
    "# inference_image_uri = (\n",
    "#     f\"727897471807.dkr.ecr.{region}.amazonaws.com.cn/djl-inference:0.21.0-deepspeed0.8.3-cu117\"\n",
    "# )\n",
    "\n",
    "print(f\"Image going to be used is ---- > {inference_image_uri}\")"
   ]
  },
  {
   "cell_type": "code",
   "execution_count": 11,
   "id": "e267e985-6370-4900-a5a0-e3dd8c992dd1",
   "metadata": {
    "tags": []
   },
   "outputs": [
    {
     "name": "stdout",
     "output_type": "stream",
     "text": [
      "\u001b[33mDEPRECATION: pyodbc 4.0.0-unsupported has a non-standard version number. pip 23.3 will enforce this behaviour change. A possible replacement is to upgrade to a newer version of pyodbc or contact the author to suggest that they release a version with a conforming version number. Discussion can be found at https://github.com/pypa/pip/issues/12063\u001b[0m\u001b[33m\n",
      "\u001b[0m\u001b[33mWARNING: Running pip as the 'root' user can result in broken permissions and conflicting behaviour with the system package manager. It is recommended to use a virtual environment instead: https://pip.pypa.io/warnings/venv\u001b[0m\u001b[33m\n",
      "\u001b[0m"
     ]
    }
   ],
   "source": [
    "!pip install sentence-transformers -q"
   ]
  },
  {
   "cell_type": "code",
   "execution_count": 13,
   "id": "381adaf6-0e7c-4b52-b181-48bfbb80955e",
   "metadata": {
    "tags": []
   },
   "outputs": [
    {
     "name": "stdout",
     "output_type": "stream",
     "text": [
      "Name: sentence-transformers\n",
      "Version: 2.2.2\n",
      "Summary: Multilingual text embeddings\n",
      "Home-page: https://github.com/UKPLab/sentence-transformers\n",
      "Author: Nils Reimers\n",
      "Author-email: info@nils-reimers.de\n",
      "License: Apache License 2.0\n",
      "Location: /opt/conda/lib/python3.7/site-packages\n",
      "Requires: huggingface-hub, nltk, numpy, scikit-learn, scipy, sentencepiece, torch, torchvision, tqdm, transformers\n",
      "Required-by: \n"
     ]
    }
   ],
   "source": [
    "!pip show sentence-transformers"
   ]
  },
  {
   "cell_type": "code",
   "execution_count": 14,
   "id": "49435172-e6c5-492a-8dcb-43e3fffb0f5c",
   "metadata": {
    "tags": []
   },
   "outputs": [],
   "source": [
    "!mkdir -p bge_en_deploy_code"
   ]
  },
  {
   "cell_type": "code",
   "execution_count": 38,
   "id": "70990dd3-431e-4dd0-a494-d26ceb454945",
   "metadata": {
    "tags": []
   },
   "outputs": [
    {
     "name": "stdout",
     "output_type": "stream",
     "text": [
      "Overwriting bge_en_deploy_code/model.py\n"
     ]
    }
   ],
   "source": [
    "%%writefile bge_en_deploy_code/model.py\n",
    "from djl_python import Input, Output\n",
    "import torch\n",
    "import logging\n",
    "import math\n",
    "import os\n",
    "# from FlagEmbedding import FlagModel\n",
    "from sentence_transformers import SentenceTransformer\n",
    "\n",
    "\n",
    "def load_model(properties):\n",
    "    tensor_parallel = properties[\"tensor_parallel_degree\"]\n",
    "    model_location = properties['model_dir']\n",
    "    if \"model_id\" in properties:\n",
    "        model_location = properties['model_id']\n",
    "    logging.info(f\"Loading model in {model_location}\")\n",
    "\n",
    "    # model =  FlagModel(model_location)\n",
    "    model = SentenceTransformer(model_location)\n",
    "    \n",
    "    return model\n",
    "\n",
    "model = None\n",
    "\n",
    "def handle(inputs: Input):\n",
    "    global model\n",
    "    if not model:\n",
    "        model = load_model(inputs.get_properties())\n",
    "\n",
    "    if inputs.is_empty():\n",
    "        return None\n",
    "    data = inputs.get_as_json()\n",
    "    \n",
    "    input_sentences = None\n",
    "    inputs = data[\"inputs\"]\n",
    "    if isinstance(inputs, list):\n",
    "        input_sentences = inputs\n",
    "    else:\n",
    "        input_sentences =  [inputs]\n",
    "        \n",
    "    is_query = data[\"is_query\"]\n",
    "    instruction = data[\"instruction\"]\n",
    "    logging.info(f\"inputs: {input_sentences}\")\n",
    "    logging.info(f\"is_query: {is_query}\")\n",
    "    logging.info(f\"instruction: {instruction}\")\n",
    "    \n",
    "    if is_query and instruction:\n",
    "        input_sentences = [ instruction + sent for sent in input_sentences ]\n",
    "        \n",
    "    sentence_embeddings =  model.encode(input_sentences,normalize_embeddings=True)\n",
    "        \n",
    "    result = {\"sentence_embeddings\": sentence_embeddings}\n",
    "    return Output().add_as_json(result)"
   ]
  },
  {
   "cell_type": "code",
   "execution_count": 39,
   "id": "0f4c6d5f",
   "metadata": {
    "tags": []
   },
   "outputs": [
    {
     "name": "stdout",
     "output_type": "stream",
     "text": [
      "option.s3url ==> s3://sagemaker-us-east-2-946277762357/LLM-RAG/workshop/bge-en-model/\n"
     ]
    }
   ],
   "source": [
    "print(f\"option.s3url ==> s3://{bucket}/{s3_model_prefix}/\")"
   ]
  },
  {
   "cell_type": "markdown",
   "id": "a1e1ecec-79cf-4ed4-bba1-95e2fe79daea",
   "metadata": {},
   "source": [
    "#### Note: option.s3url 需要按照自己的账号进行修改, 可以拷贝上一个cell的输出"
   ]
  },
  {
   "cell_type": "code",
   "execution_count": 40,
   "id": "ab5ee385-5c6c-493c-bd40-9b57ae0c8e1d",
   "metadata": {
    "tags": []
   },
   "outputs": [
    {
     "name": "stdout",
     "output_type": "stream",
     "text": [
      "Overwriting bge_en_deploy_code/serving.properties\n"
     ]
    }
   ],
   "source": [
    "%%writefile bge_en_deploy_code/serving.properties\n",
    "engine=Python\n",
    "option.tensor_parallel_degree=1\n",
    "option.s3url = s3://sagemaker-us-east-2-946277762357/LLM-RAG/workshop/bge-en-model/"
   ]
  },
  {
   "cell_type": "code",
   "execution_count": 41,
   "id": "38bf548e-fb01-4951-b49f-15a91c61fb2e",
   "metadata": {
    "tags": []
   },
   "outputs": [
    {
     "name": "stdout",
     "output_type": "stream",
     "text": [
      "Overwriting bge_en_deploy_code/requirements.txt\n"
     ]
    }
   ],
   "source": [
    "%%writefile bge_en_deploy_code/requirements.txt\n",
    "transformers==4.30.2\n",
    "sentence-transformers"
   ]
  },
  {
   "cell_type": "code",
   "execution_count": 42,
   "id": "ffe41472-c2cf-4bb5-99aa-84df76c629b3",
   "metadata": {
    "tags": []
   },
   "outputs": [
    {
     "name": "stdout",
     "output_type": "stream",
     "text": [
      "bge_en_deploy_code/\n",
      "bge_en_deploy_code/model.py\n",
      "bge_en_deploy_code/requirements.txt\n",
      "bge_en_deploy_code/serving.properties\n"
     ]
    }
   ],
   "source": [
    "!rm s2e_model.tar.gz\n",
    "!cd bge_en_deploy_code && rm -rf \".ipynb_checkpoints\"\n",
    "!tar czvf s2e_model.tar.gz bge_en_deploy_code"
   ]
  },
  {
   "cell_type": "code",
   "execution_count": 43,
   "id": "1fabd7ce-b855-4569-857c-ad872662800b",
   "metadata": {
    "tags": []
   },
   "outputs": [
    {
     "name": "stdout",
     "output_type": "stream",
     "text": [
      "S3 Code or Model tar ball uploaded to --- > s3://sagemaker-us-east-2-946277762357/LLM-RAG/workshop/bge_en_deploy_code/s2e_model.tar.gz\n"
     ]
    }
   ],
   "source": [
    "s3_code_artifact = sess.upload_data(\"s2e_model.tar.gz\", bucket, s3_code_prefix)\n",
    "print(f\"S3 Code or Model tar ball uploaded to --- > {s3_code_artifact}\")"
   ]
  },
  {
   "cell_type": "markdown",
   "id": "18fb01ed-6bd3-4880-a647-cfd71e692820",
   "metadata": {
    "tags": []
   },
   "source": [
    "### 4. 创建模型 & 创建endpoint"
   ]
  },
  {
   "cell_type": "code",
   "execution_count": 44,
   "id": "e6209d24-8473-4256-93d3-02e4e144386b",
   "metadata": {
    "tags": []
   },
   "outputs": [
    {
     "name": "stdout",
     "output_type": "stream",
     "text": [
      "bge-large-en-2023-08-17-10-15-55-952\n",
      "Image going to be used is ---- > 763104351884.dkr.ecr.us-east-2.amazonaws.com/djl-inference:0.23.0-deepspeed0.9.5-cu118\n",
      "Created Model: arn:aws:sagemaker:us-east-2:946277762357:model/bge-large-en-2023-08-17-10-15-55-952\n"
     ]
    }
   ],
   "source": [
    "from sagemaker.utils import name_from_base\n",
    "import boto3\n",
    "\n",
    "model_name = name_from_base(\"bge-large-en\") #Note: Need to specify model_name\n",
    "print(model_name)\n",
    "print(f\"Image going to be used is ---- > {inference_image_uri}\")\n",
    "\n",
    "create_model_response = sm_client.create_model(\n",
    "    ModelName=model_name,\n",
    "    ExecutionRoleArn=role,\n",
    "    PrimaryContainer={\n",
    "        \"Image\": inference_image_uri,\n",
    "        \"ModelDataUrl\": s3_code_artifact\n",
    "    },\n",
    "    \n",
    ")\n",
    "model_arn = create_model_response[\"ModelArn\"]\n",
    "\n",
    "print(f\"Created Model: {model_arn}\")"
   ]
  },
  {
   "cell_type": "code",
   "execution_count": 45,
   "id": "686abae8-5db7-4ebd-9fbf-5bd54f36c0ab",
   "metadata": {
    "tags": []
   },
   "outputs": [
    {
     "data": {
      "text/plain": [
       "{'EndpointConfigArn': 'arn:aws:sagemaker:us-east-2:946277762357:endpoint-config/bge-large-en-2023-08-17-10-15-55-952-config',\n",
       " 'ResponseMetadata': {'RequestId': 'ea0ad849-aa76-4174-873d-7df7648adbd8',\n",
       "  'HTTPStatusCode': 200,\n",
       "  'HTTPHeaders': {'x-amzn-requestid': 'ea0ad849-aa76-4174-873d-7df7648adbd8',\n",
       "   'content-type': 'application/x-amz-json-1.1',\n",
       "   'content-length': '124',\n",
       "   'date': 'Thu, 17 Aug 2023 10:16:02 GMT'},\n",
       "  'RetryAttempts': 0}}"
      ]
     },
     "execution_count": 45,
     "metadata": {},
     "output_type": "execute_result"
    }
   ],
   "source": [
    "endpoint_config_name = f\"{model_name}-config\"\n",
    "endpoint_name = f\"{model_name}-endpoint\"\n",
    "\n",
    "endpoint_config_response = sm_client.create_endpoint_config(\n",
    "    EndpointConfigName=endpoint_config_name,\n",
    "    ProductionVariants=[\n",
    "        {\n",
    "            \"VariantName\": \"variant1\",\n",
    "            \"ModelName\": model_name,\n",
    "            \"InstanceType\": \"ml.g4dn.xlarge\",\n",
    "            \"InitialInstanceCount\": 1,\n",
    "            # \"VolumeSizeInGB\" : 400,\n",
    "            # \"ModelDataDownloadTimeoutInSeconds\": 2400,\n",
    "            \"ContainerStartupHealthCheckTimeoutInSeconds\": 10*60,\n",
    "        },\n",
    "    ],\n",
    ")\n",
    "endpoint_config_response"
   ]
  },
  {
   "cell_type": "code",
   "execution_count": 46,
   "id": "f4c1df06-ae4a-42e2-9695-da0afa9ad734",
   "metadata": {
    "tags": []
   },
   "outputs": [
    {
     "name": "stdout",
     "output_type": "stream",
     "text": [
      "Created Endpoint: arn:aws:sagemaker:us-east-2:946277762357:endpoint/bge-large-en-2023-08-17-10-15-55-952-endpoint\n"
     ]
    }
   ],
   "source": [
    "create_endpoint_response = sm_client.create_endpoint(\n",
    "    EndpointName=f\"{endpoint_name}\", EndpointConfigName=endpoint_config_name\n",
    ")\n",
    "print(f\"Created Endpoint: {create_endpoint_response['EndpointArn']}\")"
   ]
  },
  {
   "cell_type": "code",
   "execution_count": 47,
   "id": "d9c71240-6878-4fed-bf7d-2c1cf75f4ac5",
   "metadata": {
    "tags": []
   },
   "outputs": [
    {
     "name": "stdout",
     "output_type": "stream",
     "text": [
      "Status: Creating\n",
      "Status: Creating\n",
      "Status: Creating\n",
      "Status: Creating\n",
      "Status: Creating\n",
      "Status: Creating\n",
      "Status: InService\n",
      "Arn: arn:aws:sagemaker:us-east-2:946277762357:endpoint/bge-large-en-2023-08-17-10-15-55-952-endpoint\n",
      "Status: InService\n"
     ]
    }
   ],
   "source": [
    "import time\n",
    "\n",
    "resp = sm_client.describe_endpoint(EndpointName=endpoint_name)\n",
    "status = resp[\"EndpointStatus\"]\n",
    "print(\"Status: \" + status)\n",
    "\n",
    "while status == \"Creating\":\n",
    "    time.sleep(60)\n",
    "    resp = sm_client.describe_endpoint(EndpointName=endpoint_name)\n",
    "    status = resp[\"EndpointStatus\"]\n",
    "    print(\"Status: \" + status)\n",
    "\n",
    "print(\"Arn: \" + resp[\"EndpointArn\"])\n",
    "print(\"Status: \" + status)"
   ]
  },
  {
   "cell_type": "markdown",
   "id": "f47bd4f0-dc3e-4471-a511-8646553694d3",
   "metadata": {},
   "source": [
    "### 5. 设置autoscaling(optional)"
   ]
  },
  {
   "cell_type": "code",
   "execution_count": null,
   "id": "cf889c90-7e59-4f33-87f9-ad700b7de98c",
   "metadata": {
    "tags": []
   },
   "outputs": [],
   "source": [
    "asg = boto3.client('application-autoscaling')\n",
    "\n",
    "# Resource type is variant and the unique identifier is the resource ID.\n",
    "resource_id=f\"endpoint/{endpoint_name}/variant/variant1\"\n",
    "\n",
    "# scaling configuration\n",
    "response = asg.register_scalable_target(\n",
    "    ServiceNamespace='sagemaker', #\n",
    "    ResourceId=resource_id,\n",
    "    ScalableDimension='sagemaker:variant:DesiredInstanceCount', \n",
    "    MinCapacity=1,\n",
    "    MaxCapacity=4\n",
    ")"
   ]
  },
  {
   "cell_type": "code",
   "execution_count": null,
   "id": "1c81cfc1-98dd-4603-a4ef-4f8fcd9d8000",
   "metadata": {
    "tags": []
   },
   "outputs": [],
   "source": [
    "response = asg.put_scaling_policy(\n",
    "    PolicyName=f'Request-ScalingPolicy-{endpoint_name}',\n",
    "    ServiceNamespace='sagemaker',\n",
    "    ResourceId=resource_id,\n",
    "    ScalableDimension='sagemaker:variant:DesiredInstanceCount',\n",
    "    PolicyType='TargetTrackingScaling',\n",
    "    TargetTrackingScalingPolicyConfiguration={\n",
    "        'TargetValue': 10.0, # Threshold\n",
    "        'PredefinedMetricSpecification': {\n",
    "            'PredefinedMetricType': 'SageMakerVariantInvocationsPerInstance',\n",
    "        },\n",
    "        'ScaleInCooldown': 300, # duration until scale in\n",
    "        'ScaleOutCooldown': 60 # duration between scale out\n",
    "    }\n",
    ")"
   ]
  },
  {
   "cell_type": "markdown",
   "id": "dddba20e-fc18-480d-9940-ae39695ac450",
   "metadata": {},
   "source": [
    "### 6. 模型测试"
   ]
  },
  {
   "cell_type": "code",
   "execution_count": 48,
   "id": "1f28db25-6996-440c-b004-14f96cfd982d",
   "metadata": {
    "tags": []
   },
   "outputs": [],
   "source": [
    "def get_vector_by_sm_endpoint(questions, sm_client, endpoint_name):\n",
    "    parameters = {\n",
    "    }\n",
    "\n",
    "    response_model = sm_client.invoke_endpoint(\n",
    "        EndpointName=endpoint_name,\n",
    "        Body=json.dumps(\n",
    "            {\n",
    "                \"inputs\": questions,\n",
    "                \"is_query\": True,\n",
    "                \"instruction\" :  \"Represent this sentence for searching relevant passages:\"\n",
    "            }\n",
    "        ),\n",
    "        ContentType=\"application/json\",\n",
    "    )\n",
    "    # 中文instruction => 为这个句子生成表示以用于检索相关文章：\n",
    "    json_str = response_model['Body'].read().decode('utf8')\n",
    "    json_obj = json.loads(json_str)\n",
    "    embeddings = json_obj['sentence_embeddings']\n",
    "    return embeddings"
   ]
  },
  {
   "cell_type": "code",
   "execution_count": 49,
   "id": "52d4f56a-092e-4a6a-a920-48550ec9f20c",
   "metadata": {
    "tags": []
   },
   "outputs": [
    {
     "name": "stdout",
     "output_type": "stream",
     "text": [
      "1024\n",
      "[[-0.3202632963657379, -0.35580018162727356, 0.22652894258499146, 0.19627542793750763, -0.6515024304389954, -0.23634003102779388, 0.006288265343755484, -0.007732868194580078, 0.14111003279685974, 0.514111340045929, 0.20397549867630005, -0.2515910267829895, 0.4812667667865753, -0.4476335644721985, -0.33535605669021606, -0.330646812915802, -0.7489869594573975, -0.3768373429775238, -0.13736592233181, 0.204591304063797, -0.13429085910320282, 0.13185717165470123, -1.2364554405212402, -0.5269641876220703, -0.5693536996841431, 0.9334635138511658, -0.13673290610313416, 0.2575847804546356, 1.2615278959274292, 1.2323713302612305, -0.4911298155784607, -0.6189811825752258, 0.515214204788208, -0.6988679766654968, -0.4431953430175781, -0.1529766470193863, 0.26056113839149475, -0.02504306472837925, -0.7690331935882568, -0.30944889783859253, 0.8968692421913147, -0.09690576791763306, 0.5038586258888245, -1.0798859596252441, -0.7485232949256897, -0.0613873153924942, -0.5474157333374023, -0.730916440486908, 0.33475956320762634, -0.9664164781570435, -0.569284200668335, 0.1341802030801773, 0.4468231797218323, 0.18456324934959412, 0.03796837851405144, -0.12882062792778015, -0.05989336967468262, -0.034764885902404785, -0.6252027750015259, 0.21801677346229553, 0.4832274615764618, 0.7654786109924316, 0.3203177750110626, -0.7263851761817932, 0.700373649597168, 0.35640111565589905, 0.22792647778987885, 0.19326326251029968, 0.3249790668487549, 0.2969290316104889, -0.011379222385585308, 0.5556970834732056, -0.6386018991470337, -1.1201142072677612, 0.4074293375015259, 0.5054986476898193, -0.05978119373321533, -0.09145866334438324, -0.0225472841411829, 0.4039403200149536, 0.08896252512931824, 0.35880663990974426, 0.1392059326171875, 0.21982422471046448, -1.1283843517303467, -0.04392409324645996, 0.39550045132637024, -0.16857457160949707, -0.35617539286613464, 0.2504807412624359, 0.13433106243610382, 0.7381717562675476, -0.04239954054355621, -0.37347549200057983, 0.6684413552284241, 0.7775642275810242, -0.11088410764932632, -0.004150278866291046, 0.282970666885376, 0.0654202401638031, 0.3603271245956421, 0.38637518882751465, -0.4040446877479553, 1.2301846742630005, -0.12831580638885498, 0.14963582158088684, 0.4035482704639435, -0.35471341013908386, -0.6844040155410767, -0.8057838678359985, 0.055933233350515366, 0.1644047647714615, 0.008725419640541077, 0.3452916145324707, -0.34035345911979675, 0.8145831823348999, -0.21321992576122284, 0.32428669929504395, -0.2019140124320984, 0.23952651023864746, 0.6131241917610168, 0.2751091420650482, 0.5867452025413513, -0.34137269854545593, -0.45418718457221985, 0.08222032338380814, -0.30402281880378723, 1.0395973920822144, -0.7387444376945496, -0.9217525124549866, 0.12448947876691818, -0.8509582877159119, 0.3327762186527252, 0.6733254790306091, -0.2839585244655609, 0.4936697781085968, -0.19019798934459686, 0.7678959369659424, 0.4698012173175812, -1.2031221389770508, 0.38790401816368103, -0.09562815725803375, -0.48718851804733276, 1.5679585933685303, 0.07149553298950195, 0.7136999368667603, -0.2725837528705597, 0.17648345232009888, -0.8583123087882996, 0.21471689641475677, -0.3188270330429077, 0.9227471947669983, -0.2469041794538498, 0.6089521050453186, 0.10641796141862869, -0.6037753224372864, -0.28983187675476074, 0.9448896050453186, 0.13474643230438232, 0.12433456629514694, 0.21877579391002655, 0.8148739337921143, -0.5893077254295349, 1.089434027671814, -0.1232205331325531, 1.2330394983291626, -0.9709597826004028, -0.720947265625, 0.15689025819301605, -0.23037411272525787, 0.1642504632472992, -0.5177403688430786, 0.19810855388641357, 0.5517759323120117, 0.5317857265472412, 0.2067389190196991, 0.8360744714736938, -0.0407412014901638, 0.5995023846626282, 0.6805446743965149, -0.43849289417266846, -0.40909984707832336, 0.030117901042103767, 0.8954504728317261, 0.11643777042627335, 0.23555579781532288, -0.2524246275424957, -0.4526693820953369, -1.1531486511230469, -0.27497604489326477, -0.16066870093345642, 0.18625307083129883, -0.20917697250843048, 0.3825283646583557, -0.08493978530168533, 0.004541793372482061, -0.7421892881393433, -0.04708299785852432, -0.44270360469818115, -1.0646017789840698, 0.019484151154756546, 0.6990939378738403, -0.8315174579620361, 0.514135479927063, 0.09380006045103073, -0.332675576210022, 0.3485995829105377, 1.1732244491577148, -0.08553365617990494, 0.053709208965301514, 0.6381856203079224, 0.5711647868156433, -0.6369395852088928, 0.22195905447006226, 0.6080502271652222, -0.107306107878685, -0.3670385777950287, 0.3453187048435211, -0.6300032138824463, 0.291959285736084, -0.02100985497236252, 0.023838872089982033, 1.0045171976089478, 0.33917707204818726, -0.25520652532577515, 0.19681915640830994, 0.208539217710495, 0.6570771932601929, 0.2586727738380432, -0.27364036440849304, -0.45729950070381165, 0.4851401746273041, 0.09272003173828125, 1.0697555541992188, 0.3974584937095642, 0.36505642533302307, 0.33918824791908264, -0.07026389986276627, 0.057828497141599655, 0.10697474330663681, -0.297317773103714, 0.2069924920797348, 0.7206383943557739, 0.4324789047241211, 0.12520568072795868, 0.2494552880525589, -0.18594518303871155, -0.3981037735939026, -0.7279863953590393, 0.30428338050842285, -0.2588130533695221, 0.8783936500549316, 0.17160503566265106, 0.3961796164512634, -0.5582235455513, -0.12045780569314957, 0.5914513468742371, 1.2200268507003784, -0.2725856602191925, -0.09188174456357956, -0.38879886269569397, 0.17138540744781494, 0.05983605235815048, -0.15732167661190033, 0.2561046779155731, 0.8118067383766174, 0.14722594618797302, 0.6024218201637268, 0.17010533809661865, -0.895462691783905, -0.7887620329856873, -0.8387318253517151, -0.7903551459312439, -0.5558840036392212, -0.36833876371383667, 0.1386333554983139, 0.7448497414588928, -0.8633837699890137, 0.6032536029815674, -0.22397275269031525, 0.14376258850097656, -0.793800413608551, 0.09943326562643051, 0.6383929252624512, -0.2624388635158539, 0.8741207122802734, -0.43801429867744446, 0.7909358739852905, -0.35580822825431824, 0.4779541790485382, -0.47417762875556946, -0.026862677186727524, -0.13650836050510406, -0.8428975343704224, -0.014567567966878414, -0.1615912914276123, 0.16443516314029694, 0.3071233928203583, -0.9994852542877197, -0.6658209562301636, -0.21685345470905304, -0.10644955933094025, -0.1524454951286316, -0.11444197595119476, -0.8000606298446655, 0.7465167045593262, 0.6218538284301758, -0.36819523572921753, 0.7595305442810059, 0.8587160706520081, -0.9061503410339355, 0.5178184509277344, 0.4214332103729248, 0.014968044124543667, -0.7972618341445923, 0.08770106732845306, 0.19990001618862152, 0.14150726795196533, -0.5506556034088135, 0.15891650319099426, -0.417195200920105, -0.18897533416748047, 0.13317428529262543, -0.7601882815361023, -0.6668657064437866, 0.5376752614974976, 0.6740760207176208, -1.2828888893127441, 0.720995306968689, -0.9259403944015503, -0.8226301670074463, -0.8497228622436523, -0.6217288970947266, 0.5368995666503906, 0.5104698538780212, 0.4073072671890259, 0.17168079316616058, -0.1609009951353073, -0.06331883370876312, 0.4538566768169403, 0.8985797762870789, -0.17857050895690918, 0.03162331506609917, 0.40336906909942627, -0.12682563066482544, 0.511252760887146, 0.6813292503356934, -0.17928056418895721, -0.14481329917907715, -0.13003091514110565, 0.10090543329715729, -0.2118050456047058, 0.43557143211364746, 0.041089218109846115, 0.6663642525672913, 0.29320940375328064, -0.43766167759895325, -0.14375576376914978, 0.06466851383447647, -0.9121964573860168, 0.6861349940299988, 0.34898632764816284, 0.4611520767211914, -0.04366552457213402, 0.18091906607151031, -0.9518516063690186, 0.6435834169387817, 0.6438398957252502, 0.8164613842964172, -0.6263464689254761, 0.6634505987167358, -0.559590220451355, -0.5963989496231079, 0.11395485699176788, -1.0888773202896118, 0.7754977941513062, 1.6410859823226929, -0.029822221025824547, 1.0545281171798706, -0.9362112879753113, 0.6003268957138062, -0.1693844050168991, -0.056966204196214676, 0.7257221341133118, -0.34809911251068115, 0.3893868029117584, -0.4270484745502472, 0.3612768054008484, -0.2770955562591553, -0.47123289108276367, 0.21343740820884705, -0.46331119537353516, -0.04800376296043396, -0.16439393162727356, -1.2160694599151611, -0.842269778251648, 0.2254238724708557, 0.3133656084537506, 0.2283007800579071, 0.37010669708251953, 0.6998482942581177, -0.24376563727855682, 0.4605882465839386, 0.1960473358631134, -0.7002285718917847, -0.2854304909706116, 0.12627919018268585, 0.6734441518783569, -0.18131422996520996, -0.7325138449668884, -1.1134514808654785, -0.43396255373954773, -0.4356307089328766, 0.6411882638931274, -0.48770326375961304, 0.1700623780488968, -0.7406636476516724, -0.02799246273934841, 0.27900072932243347, 1.2369048595428467, -0.2509692311286926, -0.06979697197675705, -0.5696248412132263, 0.3032171428203583, -0.12115173041820526, -0.15434736013412476, -0.12256792932748795, -0.8637247085571289, 0.8868005275726318, 0.7848725318908691, -0.3500131368637085, -0.7076951265335083, -0.4121820032596588, -0.6559348106384277, -0.4697172939777374, 0.5803045630455017, 0.6543615460395813, 0.26269984245300293, 0.6800181269645691, -0.40131452679634094, 0.6893041729927063, 0.8046478629112244, -0.5140424966812134, 0.5996848940849304, 0.3039768636226654, 0.5091744661331177, 0.08870556950569153, 0.003695077495649457, -0.2790239453315735, -0.43590250611305237, 0.8055030107498169, -0.9693322777748108, 0.8318588733673096, -0.13609057664871216, -0.473314106464386, 0.34308376908302307, 0.03142090141773224, 0.07544810324907303, 0.4186040759086609, -0.35234126448631287, 0.2062072604894638, -0.11881056427955627, 0.4095328152179718, -0.7300190925598145, -0.5850071310997009, 0.4376122057437897, -0.5666203498840332, -0.31698110699653625, 0.6587717533111572, 0.427859902381897, -0.3707978129386902, 0.5100641250610352, 0.2919763922691345, -0.8496993780136108, 0.24259257316589355, -0.4314771890640259, 0.1793937236070633, -0.6955538988113403, -0.17300169169902802, -0.16858799755573273, -0.42050841450691223, 0.6261773109436035, -0.4880588948726654, -0.1046513095498085, -0.4951692819595337, -1.0245460271835327, -0.14106649160385132, 0.38525739312171936, -0.8454176187515259, 0.5668346285820007, 0.02004821226000786, 0.21332597732543945, -0.09883379191160202, -0.00323047349229455, -0.492002010345459, -0.018351810052990913, -0.9798085689544678, 0.12565743923187256, 0.7105304002761841, 0.11247410625219345, 0.44478973746299744, -0.828145444393158, -0.9701337814331055, 0.4471621513366699, 0.12080870568752289, -0.4460204541683197, -0.7555575370788574, 0.6048462986946106, -0.1999199390411377, -0.4773402512073517, 0.021100858226418495, -0.31593313813209534, 0.14195400476455688, 0.2718183398246765, 0.5204216837882996, 0.05466393008828163, 0.625741183757782, -0.17950376868247986, -0.7872934341430664, 1.3065747022628784, 0.4509592056274414, -0.7087160348892212, -0.4394524395465851, 0.9534879326820374, 0.03210395202040672, 0.6223839521408081, -0.27438533306121826, -0.2815389931201935, -0.8839629888534546, -0.3746073544025421, -0.12657150626182556, -0.41417089104652405, -0.1035732552409172, -1.0991721153259277, -0.10255159437656403, -0.5179636478424072, 0.7637394070625305, -0.1611843854188919, -0.6451646685600281, 0.5602878332138062, -0.5486268997192383, -0.023113558068871498, -0.8121005892753601, -0.5134475231170654, -0.22031989693641663, -0.44736507534980774, -0.5646239519119263, 0.7945955991744995, 0.007992677390575409, 0.1948534995317459, 0.3971980810165405, 0.14516422152519226, 0.16109254956245422, -0.2323245108127594, -0.8029837608337402, -0.17918576300144196, -0.2437501698732376, 0.193162202835083, -0.16356109082698822, -0.3004775643348694, -0.32926300168037415, 0.6311612725257874, -1.0384989976882935, 0.5281892418861389, -0.03702135756611824, 0.2346210777759552, -0.07949134707450867, 0.09944505989551544, 0.9254119992256165, -0.2721739709377289, 0.35139480233192444, -0.0654766708612442, -0.11354302614927292, 0.8770167231559753, -0.14395295083522797, -0.49963900446891785, -0.8170649409294128, -0.4962531626224518, -0.8885512351989746, 0.22881044447422028, -0.48000791668891907, 0.21560361981391907, -0.5272479057312012, 0.03757962957024574, 0.4074995517730713, -0.5948048830032349, 0.6062689423561096, 0.9443439841270447, -0.1122884601354599, -0.17484673857688904, -0.6430782079696655, 0.8979130983352661, 0.910426914691925, -0.4354385435581207, -0.22948038578033447, -0.3452523946762085, 0.010312703438103199, -0.24398930370807648, -0.6838101148605347, -0.7605884671211243, -1.430525302886963, -0.06660815328359604, 0.5886379480361938, -0.29905566573143005, 0.8603911995887756, 0.8574531078338623, -0.7890474796295166, -0.297230988740921, 1.019138216972351, -0.19023238122463226, 0.6928648352622986, 0.23022183775901794, 0.17692583799362183, -0.20931443572044373, 1.3026078939437866, -0.19705593585968018, 0.04242117330431938, -0.9841581583023071, 0.998163640499115, 0.24839268624782562, -0.8125887513160706, 0.4368511736392975, 0.5633907318115234, -1.227056860923767, -1.0265626907348633, 0.23518887162208557, -0.03652811050415039, -0.25413063168525696, -1.249099850654602, 0.4251280725002289, -0.3242341876029968, -0.6413065791130066, 0.028539344668388367, 0.16553762555122375, 0.24908901751041412, 0.8825883865356445, 0.23628130555152893, 0.5343191027641296, -0.5737708806991577, 0.1978994905948639, 0.3540421724319458, -0.4104703962802887, -0.20268622040748596, -0.5922874808311462, -0.09118766337633133, -0.4407835602760315, -0.33863961696624756, 1.2406514883041382, -0.3096958100795746, -0.041075173765420914, 0.5845841765403748, -0.27139565348625183, 0.8351302146911621, 0.21133601665496826, -0.0167700182646513, 0.5780255198478699, -1.0277973413467407, -0.6244257092475891, -0.5899860858917236, 0.9402341842651367, 0.2746226489543915, 0.6171783208847046, -0.4769948124885559, -0.04611563682556152, 0.9853355288505554, 0.2783578932285309, -0.5105105638504028, -0.5414066910743713, -0.6035143733024597, -0.908749520778656, -0.593177318572998, -0.6965818405151367, -0.49720919132232666, 0.24853390455245972, 0.3664114475250244, 0.20200446248054504, -0.2623787820339203, 0.07026193290948868, 0.39106905460357666, -0.5337163805961609, 0.32087409496307373, -0.29077211022377014, 0.08200813829898834, -0.814677357673645, -0.6383907794952393, -1.10698401927948, -0.3048969805240631, -0.4399314224720001, 0.23261147737503052, -0.009888976812362671, 0.49449920654296875, -0.36269381642341614, 0.5349557399749756, -0.49434858560562134, 0.44395262002944946, -0.38497012853622437, -0.1394023448228836, -0.12959417700767517, 0.4765540063381195, -0.08101335912942886, 0.543703019618988, 1.3764835596084595, -0.4501037895679474, 0.08072198182344437, -0.23671776056289673, -0.22947490215301514, -0.1974860280752182, 0.42139315605163574, 0.16066643595695496, -0.4005105793476105, -0.3170241415500641, -0.16237042844295502, 0.1571071594953537, -1.0576387643814087, 0.38377633690834045, -0.5022913813591003, 0.13428179919719696, 0.23877570033073425, 0.02702745608985424, 0.2450287938117981, 0.7894006967544556, 0.5627777576446533, 0.21439997851848602, -0.20441526174545288, 0.048974376171827316, 0.20219209790229797, -0.1530132293701172, 0.32255440950393677, 0.47682255506515503, 0.35298702120780945, -1.0573135614395142, 0.6284126043319702, 0.47768881916999817, -0.27929362654685974, 0.5480135083198547, -0.5135452747344971, -0.5390177369117737, -0.8936269283294678, -0.44658467173576355, -0.10382150113582611, 0.6061158776283264, 0.33228790760040283, 0.0437067449092865, 0.2528354525566101, -0.10056943446397781, -0.6002750396728516, 0.4099806547164917, -0.9920839667320251, -0.5868852138519287, 0.5569027662277222, -0.6858583688735962, -0.291513592004776, -0.3143635392189026, -0.9000691771507263, 0.3422123193740845, -0.044183894991874695, 0.004384281113743782, -0.21233440935611725, 0.8423750400543213, 0.13673940300941467, 1.218759298324585, -0.2471870630979538, 0.2263963669538498, 0.6029272675514221, 0.5483283996582031, -0.6413929462432861, -0.9133606553077698, 0.2866228520870209, 0.7754523754119873, 0.06791668385267258, -0.4211679697036743, -0.4342992305755615, -0.1525615006685257, -0.1131463572382927, 0.34514567255973816, -0.5018898248672485, 0.25066661834716797, -0.6071283221244812, 1.1360533237457275, -0.1696079671382904, 0.11700930446386337, -0.2616209387779236, 0.7491511702537537, 0.17830611765384674, -0.6195940375328064, -0.20110444724559784, 0.41034698486328125, 1.166346788406372, -0.6982788443565369, 0.2794729769229889, 0.22265391051769257, 0.7651245594024658, -0.40432924032211304, 0.20109745860099792, -0.45716187357902527, 0.8684151768684387, 0.4303528070449829, 0.6097654700279236, -0.2664359509944916, -0.14183254539966583, 1.1362357139587402, -0.09938842803239822, 0.19923736155033112, 0.608844518661499, 0.3384276032447815, -0.5561216473579407, 0.22416244447231293, -0.417005330324173, -0.12497470527887344, 0.06209845840930939, 0.048976998776197433, -0.4522038996219635, -0.1533188819885254, 0.33650392293930054, -0.2574400007724762, -0.33251264691352844, 0.7421952486038208, -0.5935233235359192, 0.057416196912527084, 0.5250977873802185, -0.3508020341396332, 0.30296793580055237, 0.7630341649055481, 0.21632030606269836, -0.09333240985870361, 0.7141363620758057, 1.1086968183517456, -0.3571510314941406, 0.8414268493652344, 0.42923787236213684, 0.17705513536930084, -0.32075732946395874, 0.6090306043624878, -0.02574837952852249, -0.5991129279136658, -0.11684558540582657, -0.22487621009349823, -0.6768099665641785, 0.4952397346496582, -0.20185436308383942, -0.26404067873954773, 0.24291519820690155, -1.0082757472991943, 0.20037399232387543, -0.5845354199409485, 0.3803863525390625, -0.751133918762207, -0.3839106261730194, 0.7821508646011353, 0.09559576213359833, -0.4646899402141571, 0.31222113966941833, -0.43025287985801697, 0.17616581916809082, 0.3978677988052368, 0.9739744663238525, -0.08073922991752625, 1.5962748527526855, 0.2919907569885254, -0.44510382413864136, -1.0842010974884033, -0.038145530968904495, -0.5602499842643738, 0.01848221756517887, 0.08259326219558716, -0.3590155243873596, 0.32496505975723267, -0.0067040217109024525, -0.26034513115882874, 0.24615508317947388, 0.48385125398635864, 0.5339661240577698, -0.6153067946434021, -0.19842860102653503, -0.00918036699295044, -0.4161975085735321, -0.12892986834049225, 0.8347107172012329, 0.4072820842266083, -0.2006537914276123, -0.36568644642829895, -0.5501244068145752, -0.6075055003166199, 0.1129583939909935, -0.029372908174991608, 0.3802318274974823, -0.38919708132743835, -0.23136185109615326, -0.7485200762748718, -0.35184499621391296, -0.5777560472488403, 0.24000269174575806, -0.6513607501983643, -0.6237517595291138, 0.13678188621997833, 0.5540847778320312, 0.10155247896909714, 0.1854255199432373, 0.07078767567873001, -0.2991276681423187, 0.045361295342445374, 1.3162699937820435, -0.16570588946342468, 0.8066635727882385, 0.8610497713088989, 0.34372851252555847, 0.6955490708351135, -0.2977771759033203, 0.7494203448295593, -0.41472649574279785, 0.22467298805713654, -0.20559217035770416, -0.33376598358154297, 0.03160528838634491, -0.7553092837333679, 0.09520608186721802, 0.278950035572052, -0.41314756870269775, -0.24893377721309662, -1.0699851512908936, -0.5581803917884827, -1.210947036743164, 0.11673034727573395, -0.4790186583995819, 0.7283703088760376, -0.4083675742149353, 0.4583583474159241, -0.4884313941001892, -1.538369059562683, 4.2498040199279785, 1.2981326580047607, 0.9783569574356079, 0.29175612330436707, 0.3753206133842468, 0.7988623380661011, 0.6363602876663208, -0.9330370426177979, -0.24701948463916779, -0.5423207879066467, 0.4746111035346985, -0.3676641881465912, 0.14005470275878906, 0.6585432291030884, 0.15130527317523956, 0.6361929774284363, -0.7608354091644287, -0.39879918098449707, 0.8778073787689209, -0.7925342321395874, -0.5863425135612488, -0.03539177030324936, 0.18892356753349304, 0.32272496819496155, -0.48012596368789673, 0.3000006079673767, 0.45042330026626587, -0.7851530909538269, -0.36705878376960754, -0.5572152733802795, -0.02158336713910103, -1.0408134460449219, 0.9725525975227356, -0.32751449942588806, -1.0576244592666626, 0.5003200173377991, -0.38633543252944946, -0.7663583755493164, -0.6089227795600891, 0.041717447340488434, -0.16614004969596863, 0.12755127251148224, 0.323170006275177, -0.30959102511405945, 0.021209264174103737, -0.07843785732984543, -0.3432076573371887, -0.14908111095428467, 0.08098307251930237, -0.7664680480957031, 1.324787974357605, -1.30210280418396, -0.17873655259609222, 0.320916086435318, -0.847412109375, 0.2604422867298126, 0.05694782733917236, -0.03409627452492714, 0.5561361312866211, 0.38669994473457336, 0.21760208904743195, 0.17002205550670624, -0.5444578528404236, -0.4011014997959137, -0.6139875650405884, 0.16568155586719513, -0.35999828577041626, 1.0452457666397095, -0.0797155573964119, -0.12568578124046326, -0.4277256727218628, -0.503455400466919, -0.5078871250152588, -0.3449361026287079, 0.5239520072937012, 0.16730211675167084, 0.01023014634847641, 0.2078431248664856, 0.33856654167175293, -0.5646761059761047, -0.07072733342647552, 0.023726994171738625, -0.0013530206633731723, -0.04629059508442879, 0.771352231502533, 0.6823146343231201, -1.104682445526123, -0.7234271168708801, -0.676967978477478, 0.4379258453845978, 0.7551522850990295, 0.6245163083076477, -0.04605076089501381, -0.6760575175285339, -0.08884178102016449], [0.40937167406082153, -0.17986924946308136, -0.5387704968452454, 0.6244575381278992, -0.8480865359306335, -0.8356732726097107, -0.010569904930889606, 0.894004225730896, 0.48309528827667236, -0.09913993626832962, 0.15090961754322052, -0.05013038590550423, 0.08623172342777252, -0.3378950357437134, -0.901408314704895, 0.17142638564109802, -0.2885710895061493, -0.3914833068847656, -0.16671939194202423, 0.427115261554718, -0.14848487079143524, 0.47908055782318115, -1.1737079620361328, 0.36781999468803406, -0.42552173137664795, 0.4941634237766266, 0.4316661059856415, -0.3879842758178711, 1.2883621454238892, 0.8432990312576294, -0.7155948281288147, 0.2952553927898407, 0.6880673766136169, -0.9766342043876648, -0.45260927081108093, -0.46131619811058044, 0.5582739114761353, -0.5157166123390198, -0.10661325603723526, -0.7899987101554871, 0.35170769691467285, 0.21351993083953857, 0.9663905501365662, -0.15280528366565704, -0.9603779315948486, 0.2373320311307907, 0.19078268110752106, -0.7065752744674683, 0.2038244754076004, -0.5617889165878296, -0.3527304530143738, 0.5682528018951416, 0.4240190088748932, -0.5634139776229858, 0.23507046699523926, 0.1291298121213913, 0.5717874765396118, 0.6632744073867798, -0.34377527236938477, 0.14149685204029083, 0.8640270829200745, 0.18614763021469116, 0.04813390597701073, -0.9383813142776489, 0.8857420086860657, 0.3951520621776581, -0.17390726506710052, -0.6193841099739075, 0.38164833188056946, -0.4982622563838959, -0.9531492590904236, 0.31825435161590576, -0.6663112640380859, -0.45000752806663513, 0.23237065970897675, 0.4259546995162964, 0.21274662017822266, -0.46572259068489075, 0.5524401068687439, -0.020297124981880188, 0.16062556207180023, 0.514868438243866, 0.1515144407749176, 0.2574857473373413, -0.9319385886192322, 0.004423698876053095, -0.17613275349140167, 0.40758052468299866, 0.7129875421524048, 0.3237228989601135, 0.3325115442276001, 1.1103819608688354, -0.31956371665000916, -0.5875920057296753, 0.5170510411262512, 1.503971815109253, -0.667240560054779, 0.5992183685302734, -0.034649111330509186, -0.19399142265319824, 0.2011161893606186, 0.5691137313842773, -0.007429411634802818, 0.8987581133842468, -0.9413237571716309, 0.20537947118282318, 0.3296751081943512, -0.28111347556114197, -0.3202900290489197, -0.6498363614082336, -0.507670521736145, -0.24198800325393677, 0.0941585823893547, 0.37529900670051575, 0.224633127450943, 1.0749627351760864, 0.3424180746078491, 0.399151086807251, -0.5745260715484619, 0.39372026920318604, 0.3956444561481476, -0.20150676369667053, 0.5553191304206848, -0.05141007527709007, 0.5378252267837524, -0.3879464864730835, -0.007586409337818623, 1.2225250005722046, -0.5371243357658386, -0.6874517798423767, -0.03158089518547058, -0.31176596879959106, 0.3942926824092865, 0.740558385848999, -0.07560043036937714, 0.5318161845207214, -0.1116054579615593, 0.8771352171897888, 0.27648496627807617, -1.325171709060669, 0.6613651514053345, 0.33682510256767273, 0.0669739693403244, 1.5607002973556519, 0.2682250738143921, 0.8269868493080139, -0.11844898015260696, -0.18221928179264069, -0.6459667682647705, 0.3920219838619232, -0.6687346696853638, 0.8691088557243347, -0.22589997947216034, 0.401762455701828, -0.47803589701652527, 0.0808623656630516, 0.04237313196063042, 0.39811715483665466, 0.013275068253278732, 0.2593434154987335, -0.33320412039756775, -0.5022239089012146, -0.8493123054504395, 0.8420194983482361, -0.5775058269500732, 0.615769624710083, -0.4791805148124695, 0.556857168674469, -0.023061545565724373, -0.48785674571990967, 0.2276221215724945, 0.02773568406701088, -0.23383156955242157, 0.6141764521598816, 0.012515394017100334, 0.8309811353683472, 0.6077581644058228, -0.07877790182828903, 1.0542916059494019, 0.20544391870498657, -0.18748807907104492, -0.1974184215068817, 0.23610244691371918, 0.9478076696395874, -0.025678709149360657, 0.022290566936135292, 0.42660006880760193, -0.3700341284275055, -0.8060491681098938, -0.6280379891395569, -0.3427814245223999, 0.5594927668571472, -0.7085708379745483, 0.7898975610733032, -0.2968459129333496, -0.06377342343330383, -0.06108778342604637, 0.07506157457828522, -0.41364967823028564, -0.6946893930435181, -0.6436348557472229, 0.616061270236969, -0.3494073748588562, 0.9549911022186279, -0.09680540859699249, -0.24292266368865967, 0.05669257789850235, 0.1498306691646576, -0.048752639442682266, 0.2790243327617645, 0.8437744975090027, 0.25560587644577026, -0.1548185795545578, -0.7390785813331604, 0.5771481394767761, -0.37014004588127136, -0.47407299280166626, 0.6170269846916199, -0.16230258345603943, -0.06294079124927521, 0.012064527720212936, 0.21759311854839325, 0.6228450536727905, 0.5635064244270325, -0.16666485369205475, -0.7641630172729492, 0.20806655287742615, 0.5504196882247925, -0.3798014521598816, -0.18593117594718933, 0.05898084491491318, 0.6003146171569824, 0.5989763140678406, 0.7770736217498779, 0.33820071816444397, 0.1398223638534546, 0.7660481929779053, 0.38152074813842773, -0.18304401636123657, 0.16342571377754211, 0.2524528205394745, 0.12103736400604248, 0.6837286949157715, -0.041341811418533325, 0.07886607944965363, 0.39829331636428833, -0.6990121603012085, -0.46076688170433044, -0.4076976180076599, 0.03033697046339512, 0.14643323421478271, 0.45521241426467896, 0.26029253005981445, 0.37235894799232483, -0.6676098108291626, 0.1794852316379547, 0.1921672821044922, 1.0017915964126587, -0.5420665740966797, -0.647968053817749, 0.5949137210845947, 0.43649429082870483, 0.01467874739319086, -0.19272500276565552, 0.7603904604911804, 0.29914170503616333, -0.2349230945110321, 0.35547712445259094, -0.13991323113441467, -0.6719261407852173, -0.4114967882633209, -0.3536783754825592, -0.7865313291549683, -0.6540979146957397, -1.0197633504867554, 0.11384833604097366, 0.8303701281547546, -0.4483453333377838, 0.3164621889591217, -0.009488491341471672, 0.16925498843193054, -0.9066770672798157, -0.6999164819717407, 0.642527163028717, 0.40621355175971985, 0.4511432349681854, -0.89372718334198, -0.2953200042247772, -0.048374101519584656, 0.5782155990600586, -0.7987673878669739, -0.515521764755249, -0.49764302372932434, -0.7220486402511597, 0.29942014813423157, -0.5410159826278687, 0.5175884366035461, 0.08896879851818085, -0.8892478346824646, -0.8439062237739563, 0.33887284994125366, -0.19786204397678375, 0.022960813716053963, 0.24236594140529633, -0.31411075592041016, 0.4645743668079376, 1.051371693611145, -0.32585999369621277, 0.17061330378055573, 0.7974297404289246, -0.7176556587219238, 0.2600085735321045, 0.5811274647712708, -0.3656059205532074, -1.0269222259521484, 0.8918305039405823, 1.059800624847412, 0.23437286913394928, -0.6188903450965881, -0.6795575022697449, -0.6112135648727417, 0.3514108955860138, 0.47011154890060425, -0.11017192900180817, -0.6131512522697449, 0.9225952625274658, 0.41402265429496765, -1.3846606016159058, 0.9620088338851929, -0.6131481528282166, -0.3513188362121582, -0.5815984606742859, -0.7425602078437805, 0.25127923488616943, 0.4509522616863251, 0.5428512096405029, -0.20537275075912476, 0.0620369128882885, 0.4676457345485687, 0.01780276745557785, 0.6054072976112366, -0.3586442768573761, -0.19049471616744995, 0.26319098472595215, -0.47988075017929077, 0.7835267782211304, 0.4722312092781067, -0.32321029901504517, 0.21523229777812958, 0.30910181999206543, -0.15700599551200867, 0.34646332263946533, 0.20015165209770203, -0.5742272138595581, 0.034661512821912766, 1.2095155715942383, -0.9005809426307678, -0.18959099054336548, 0.30932551622390747, -0.04195939004421234, 1.0615811347961426, 0.27260521054267883, 0.21668219566345215, 0.06651552766561508, -0.21356414258480072, -0.6187886595726013, 1.0111541748046875, 0.4713476598262787, 0.5297930240631104, -0.9762889742851257, 1.1651499271392822, -0.3754417598247528, -0.13004617393016815, 0.41114136576652527, -1.0455901622772217, -0.1517588347196579, 0.6629325747489929, -0.11691729724407196, -0.2209169715642929, -0.776302695274353, 0.8752789497375488, -0.3332841992378235, 0.5277684926986694, 0.4354676306247711, -0.4153841435909271, 0.496063232421875, -0.9263883233070374, 0.4296301305294037, -0.10874953866004944, -0.19719529151916504, 0.006988907232880592, -0.5861242413520813, -0.2899659276008606, -0.5956124067306519, -0.5775336623191833, -0.9793403744697571, 0.8660997748374939, 0.7991266250610352, 0.357993483543396, 0.13060712814331055, 0.7105764746665955, 0.44667595624923706, 0.8964325785636902, 1.1289591789245605, -0.31462976336479187, 0.10109540075063705, -0.604170560836792, 0.48533257842063904, 0.5057481527328491, -0.48714107275009155, -0.365011602640152, 0.10608375072479248, -0.4227603077888489, 0.4440135359764099, 0.27000749111175537, -0.13815996050834656, -0.4002050459384918, 0.11045198142528534, -0.16670626401901245, 0.27738937735557556, 0.037161968648433685, -0.8504408001899719, -0.3492974638938904, 0.34617140889167786, -0.03415203094482422, -0.21871693432331085, 0.4606378674507141, -0.7506294846534729, 0.9344518780708313, 0.9113480448722839, 0.1417885273694992, -0.5894737839698792, -0.572147011756897, -0.6768791079521179, -0.8946725130081177, 0.02399074286222458, 0.4070635437965393, -0.40363970398902893, -0.06276688724756241, -0.9758646488189697, 0.30544647574424744, 0.4673228859901428, -0.2311984896659851, 0.4816325902938843, -0.37172266840934753, 0.29645639657974243, -0.31917643547058105, 0.3499201834201813, -0.31192147731781006, -0.9134796261787415, 0.9446454048156738, -1.5141657590866089, -0.21550995111465454, 0.07217635214328766, -1.0037956237792969, 0.4160188138484955, -0.29079410433769226, 0.08892670273780823, 0.433585524559021, 0.001818034565076232, -0.14778457581996918, -0.39437225461006165, 0.7333150506019592, -0.6924397945404053, -0.55784010887146, 0.6478984355926514, 0.4745033383369446, 0.08594205230474472, 0.9133784770965576, 0.585980236530304, -0.4355027377605438, 0.041159894317388535, 0.6919934749603271, -0.1487511843442917, 0.38907739520072937, -0.7031952738761902, 0.22455714643001556, 0.20431667566299438, -0.04032374918460846, -0.05172164365649223, -0.17921169102191925, 0.2621225416660309, -0.27921542525291443, -0.7055061459541321, -0.07153404504060745, -1.1548833847045898, 0.008754336275160313, 0.14841175079345703, -0.6534068584442139, 0.7516022324562073, -0.18759039044380188, -0.2836328446865082, -0.15104742348194122, 0.08583982288837433, -0.1549253612756729, -0.5297724604606628, -0.2592175602912903, -0.024824680760502815, 0.2090384066104889, 0.09680825471878052, -0.06354285776615143, -0.23613283038139343, -0.7951222658157349, -0.19848868250846863, 0.35114967823028564, -0.9583054184913635, -0.4860098659992218, -0.034958869218826294, -0.7881890535354614, -0.07923559844493866, -0.6226165890693665, 0.12635019421577454, -0.043735627084970474, 0.27714240550994873, 0.9152634739875793, -0.15604180097579956, 0.16740155220031738, 0.4069240093231201, -0.9242793321609497, 0.7192062139511108, 0.7890068888664246, -0.3337080478668213, -0.33253470063209534, 0.6573871374130249, 0.280231237411499, 0.9939883351325989, -0.2300128936767578, -0.7790922522544861, -0.42564764618873596, -1.4244517087936401, 0.1460127830505371, -0.5835583806037903, -0.7852712869644165, -0.5018504858016968, -0.4195416569709778, -0.26383131742477417, 0.5612922310829163, -0.25604331493377686, 0.14290295541286469, -0.40713438391685486, -0.8854429125785828, 0.29629355669021606, -0.7802109122276306, -0.6151069402694702, -0.791199266910553, 0.0007616039365530014, 0.2882663905620575, 0.29938292503356934, -0.08648362010717392, 0.2017991840839386, 0.22784379124641418, 0.09029572457075119, 0.19098684191703796, -0.22581294178962708, -0.6366174817085266, -0.26064789295196533, -0.0897921621799469, 0.4898050129413605, -0.29396989941596985, -0.09104176610708237, -0.6995786428451538, 0.6317530870437622, -1.211661458015442, 0.21359647810459137, -0.02209360897541046, 0.07878857105970383, -0.22942298650741577, -0.14147086441516876, 0.9014082551002502, -0.12406688928604126, -0.24675410985946655, 0.05416031554341316, 0.4376785159111023, 0.44725024700164795, -0.20602062344551086, -0.5023671388626099, -0.04744765907526016, -0.7110268473625183, -1.310133934020996, 0.6488651037216187, -0.5752315521240234, -0.23997995257377625, -0.7836470007896423, -0.09553743153810501, 0.585022509098053, 0.1479135900735855, 1.0531798601150513, 1.301527500152588, -0.20554563403129578, -0.16473616659641266, -1.0424432754516602, 0.11062271147966385, 0.7196817994117737, -0.36831772327423096, -0.4258767366409302, -0.34618857502937317, -0.6416815519332886, -0.14317841827869415, -0.06829095631837845, -0.7836322784423828, -0.7821271419525146, -0.08557229489088058, 1.0611205101013184, 0.5166454911231995, 0.5518486499786377, -0.025112999603152275, -0.37589767575263977, -0.9509506225585938, 1.0602643489837646, -0.12485542893409729, 0.17263872921466827, 0.4804893434047699, 0.17209388315677643, -0.5527585744857788, 0.15483948588371277, 0.1604669839143753, -0.36598119139671326, -0.36183688044548035, 1.330287218093872, -0.30721375346183777, -1.0341299772262573, 0.7207738757133484, 0.8140189051628113, -0.6825023293495178, -1.016664743423462, -0.677370548248291, -0.12174022942781448, -0.029561247676610947, -0.08271092176437378, 0.3585613965988159, 0.3025990128517151, -0.13056127727031708, 0.18660293519496918, 0.12470792233943939, -0.1093483418226242, 0.5135971307754517, -0.05061562731862068, 0.6221455931663513, -0.6147964000701904, 0.2300190031528473, 0.44284170866012573, -0.9979405403137207, 0.09477193653583527, -0.7293893098831177, -0.38477063179016113, -0.2618042528629303, -0.056329790502786636, 0.5433230996131897, -0.59684157371521, 0.30583494901657104, 0.9286048412322998, -0.5406352281570435, 0.1832180619239807, 0.3144875764846802, -0.40774187445640564, 0.3408321440219879, -0.9647955298423767, -0.7675796747207642, -0.3040802776813507, 0.4551636576652527, 0.057360682636499405, 0.08066649734973907, -0.9464243650436401, -0.5930027961730957, 0.8231561183929443, -0.053329478949308395, -0.03082394413650036, -0.8274482488632202, -0.6201973557472229, -1.0676114559173584, -1.0611475706100464, -0.494497150182724, -0.49559739232063293, -0.8414841890335083, 0.4684218168258667, 0.31401771306991577, -0.9586656093597412, 0.4091324210166931, 0.6535031795501709, 0.22052660584449768, 0.5863298177719116, -0.6991832852363586, 0.787886917591095, -0.3933696150779724, -0.4165468215942383, -0.25100573897361755, 0.15800872445106506, 0.2014281004667282, 0.01959136873483658, 0.10113392025232315, 0.13465316593647003, 0.22662942111492157, 0.3595297336578369, 0.21847721934318542, -0.2829558849334717, -0.7061240673065186, -0.880919337272644, -0.7029027342796326, 0.06919322162866592, -0.3989238142967224, 0.3028927445411682, 0.6977855563163757, -0.02883184514939785, 0.45356741547584534, 0.3953125774860382, -0.28004691004753113, -0.07887312024831772, 0.10191205888986588, 0.17714756727218628, -0.5969270467758179, -0.5501618385314941, -0.7166775465011597, 0.09139838814735413, -0.5288551449775696, 0.07744765281677246, -0.7194558382034302, 0.14592665433883667, -0.09605561941862106, 0.25537729263305664, 0.12510493397712708, 0.5748244524002075, 0.2021949142217636, 0.5780014991760254, 0.5478842854499817, 0.6430061459541321, 0.4832617938518524, 0.5525631904602051, 0.11187324672937393, 0.2956550121307373, 0.3851802945137024, -0.6827883720397949, 0.05415811017155647, 0.6171653270721436, -0.1549483984708786, 0.9134484529495239, -0.16819524765014648, -0.7155874371528625, -0.47208938002586365, -0.3910274803638458, -0.18716685473918915, 1.0095711946487427, 0.5504616498947144, -0.509743869304657, 0.017478037625551224, -0.19712139666080475, -1.0436910390853882, 0.006766351405531168, -0.6580474376678467, -0.4120706617832184, 0.3813006579875946, -0.4069373309612274, -0.17137733101844788, -0.7361921668052673, -0.26660552620887756, 0.3499271273612976, 0.22806255519390106, 0.03234511613845825, -0.809782862663269, 0.5206055045127869, 0.4673694670200348, 0.6216345429420471, -0.43684038519859314, 0.3093045651912689, 0.16166634857654572, 0.3656414747238159, -0.09071524441242218, -1.076759696006775, -0.038591418415308, 0.021318016573786736, 0.3096174895763397, -0.10292958468198776, 0.4077683985233307, 0.4139319360256195, 0.04740150645375252, 0.43871352076530457, -0.10291162878274918, 0.15042468905448914, 0.036402445286512375, -0.019244084134697914, 0.02642635628581047, -0.14169776439666748, -0.902779221534729, 0.40218791365623474, 0.06824404746294022, -0.7791011929512024, -0.09148388355970383, 0.7307604551315308, 0.6413144469261169, -0.0963694229722023, 0.4290904700756073, -0.05859515070915222, 1.2264128923416138, -0.17084072530269623, -0.4462100565433502, -0.7767093181610107, 0.8236970901489258, 0.524522066116333, 0.053319573402404785, -0.1318454146385193, -0.2415466159582138, 0.8629292845726013, -0.202744260430336, 0.15851078927516937, 0.8755788803100586, 0.010066719725728035, -0.6818028688430786, -0.2234562784433365, -0.23919422924518585, 0.42334797978401184, -0.07233579456806183, -0.19327540695667267, 0.0347844623029232, -0.18445228040218353, -0.49714896082878113, -0.012285783886909485, -0.6446475386619568, 0.6056442856788635, -0.7817015647888184, -0.6207526326179504, 0.05910702049732208, -0.43258535861968994, 0.025572489947080612, 0.8648729920387268, 1.0395300388336182, -0.1009153425693512, 0.772905170917511, 0.007218573242425919, 0.6464964151382446, 0.9374192953109741, 0.6248570680618286, -0.5119811296463013, -0.8404385447502136, 0.1694181114435196, 0.9528900384902954, -0.4764733910560608, -0.3790811002254486, 0.40053144097328186, -0.28115808963775635, 0.4312132000923157, -0.11417005956172943, -0.136416956782341, 0.6760571002960205, -0.7903082966804504, -0.01782597415149212, -0.5558599233627319, 0.6502875685691833, -0.9048147797584534, -0.037719547748565674, 0.8278898596763611, -0.5972383618354797, -0.04771341010928154, 0.6273106336593628, 0.14062945544719696, 0.6858660578727722, -0.4299878776073456, 1.018273949623108, -0.07560288161039352, 0.7113916873931885, 1.2137973308563232, 0.02647048979997635, -0.5215458273887634, 0.10428085923194885, -0.7016503810882568, -0.27908530831336975, -0.25861045718193054, -0.5141153335571289, 0.19469235837459564, -0.5079253911972046, -0.46546268463134766, -0.17439621686935425, 1.049228310585022, 0.11973252147436142, -0.627829372882843, -0.2685697674751282, -0.055704448372125626, -0.19068597257137299, 0.7159438133239746, -0.13086876273155212, 0.40730082988739014, -0.14164261519908905, 0.3676498830318451, -0.21775837242603302, -0.3462880849838257, 0.26723513007164, -0.42528435587882996, 0.18474739789962769, -0.4793703556060791, -0.7356430292129517, -0.4613989591598511, -0.6462004780769348, -0.14227813482284546, -0.1548299938440323, -0.8257027864456177, -0.733086109161377, -0.26733827590942383, 0.44396448135375977, -0.09012934565544128, -0.11266361176967621, -0.25617778301239014, 0.23637035489082336, 0.3326019048690796, 0.9472686648368835, -0.27023395895957947, 0.3784140646457672, 0.34624966979026794, -0.3453851342201233, 0.13079270720481873, -0.7223156094551086, 0.9973913431167603, 0.07902025431394577, -0.24387234449386597, -0.56429123878479, 0.6732533574104309, 0.11292968690395355, -0.9101052284240723, 0.32589834928512573, 1.0134178400039673, 0.1373247355222702, -0.8318043947219849, -1.287302017211914, -0.7040378451347351, -0.8803716897964478, 0.3357813060283661, -0.2166128009557724, 0.9899142384529114, -0.1468522548675537, -0.06809774786233902, 0.32387739419937134, -1.0748528242111206, 4.296374797821045, 0.8045477271080017, 1.5879669189453125, 0.30643054842948914, 0.32015886902809143, 0.49934807419776917, 0.16108699142932892, 0.10269107669591904, -0.3577285706996918, -0.14880135655403137, 0.672976553440094, 0.046693094074726105, 0.4878526031970978, 0.11630948632955551, 0.5189783573150635, 0.6433303356170654, -0.344795286655426, 0.17543379962444305, 0.16266168653964996, -0.5987740755081177, -0.21997259557247162, 0.1302451342344284, 0.41683098673820496, 0.18081851303577423, 0.21971814334392548, -0.08978666365146637, 0.9307229518890381, -0.9213775396347046, -0.287323921918869, -0.4453904926776886, -0.026582594960927963, -0.622083842754364, 0.7316329479217529, -0.5504387021064758, -0.973404586315155, 0.07217401266098022, -0.17234934866428375, -0.4968571960926056, -0.04581248015165329, 0.48582011461257935, -0.38363924622535706, -0.6218557953834534, 0.004548624623566866, -0.6900643110275269, 0.12780028581619263, 0.5196041464805603, -0.817636251449585, 0.3892783522605896, 0.00948550458997488, -0.5363919734954834, 1.2890187501907349, -0.8195396065711975, 0.03998934477567673, -1.0858908891677856, -0.051289670169353485, -0.04728234186768532, 0.024889683350920677, -0.21017923951148987, -0.43108057975769043, -0.053360145539045334, 0.6607666611671448, 0.16865812242031097, -0.01475890539586544, -0.21352212131023407, -0.656212329864502, 0.7784169316291809, 0.6727653741836548, 0.08251944929361343, -0.4354279339313507, -0.3482241630554199, -1.2094734907150269, 0.19164463877677917, -0.2968813478946686, 0.12381114065647125, 0.3539382517337799, 0.5637644529342651, -0.20319972932338715, 0.08494171500205994, -0.2830171287059784, -0.012898649089038372, 0.04598629102110863, -0.0667378231883049, -0.20097854733467102, -0.1002490296959877, 0.7757599949836731, 0.42039352655410767, -0.44867390394210815, -0.9376234412193298, -0.47187331318855286, 0.5137996077537537, 0.8649116158485413, -0.14837703108787537, -0.31417930126190186, -0.15987418591976166, -0.21656997501850128]]\n"
     ]
    }
   ],
   "source": [
    "prompts1 = [\"what is the default brightness setting on this device?\", \"how are you going\"]\n",
    "\n",
    "emb = get_vector_by_sm_endpoint(prompts1, smr_client, endpoint_name)\n",
    "print(len(emb[0]))\n",
    "print(emb)"
   ]
  },
  {
   "cell_type": "code",
   "execution_count": 51,
   "id": "aa0d6623-236d-4a5d-8360-4b07f8d8d40c",
   "metadata": {
    "tags": []
   },
   "outputs": [],
   "source": [
    "!aws sagemaker delete-endpoint --endpoint-name {endpoint_name}"
   ]
  },
  {
   "cell_type": "code",
   "execution_count": 52,
   "id": "36281bf3-b6f5-450f-b1b8-9f1285b1dad0",
   "metadata": {
    "tags": []
   },
   "outputs": [],
   "source": [
    "!aws sagemaker delete-endpoint-config --endpoint-config-name {endpoint_config_name}"
   ]
  },
  {
   "cell_type": "code",
   "execution_count": 53,
   "id": "f9700aff",
   "metadata": {},
   "outputs": [],
   "source": [
    "!aws sagemaker delete-model --model-name {model_name}"
   ]
  },
  {
   "cell_type": "code",
   "execution_count": null,
   "id": "12212b1a-cf09-441e-a720-98d673878612",
   "metadata": {},
   "outputs": [],
   "source": []
  }
 ],
 "metadata": {
  "availableInstances": [
   {
    "_defaultOrder": 0,
    "_isFastLaunch": true,
    "category": "General purpose",
    "gpuNum": 0,
    "hideHardwareSpecs": false,
    "memoryGiB": 4,
    "name": "ml.t3.medium",
    "vcpuNum": 2
   },
   {
    "_defaultOrder": 1,
    "_isFastLaunch": false,
    "category": "General purpose",
    "gpuNum": 0,
    "hideHardwareSpecs": false,
    "memoryGiB": 8,
    "name": "ml.t3.large",
    "vcpuNum": 2
   },
   {
    "_defaultOrder": 2,
    "_isFastLaunch": false,
    "category": "General purpose",
    "gpuNum": 0,
    "hideHardwareSpecs": false,
    "memoryGiB": 16,
    "name": "ml.t3.xlarge",
    "vcpuNum": 4
   },
   {
    "_defaultOrder": 3,
    "_isFastLaunch": false,
    "category": "General purpose",
    "gpuNum": 0,
    "hideHardwareSpecs": false,
    "memoryGiB": 32,
    "name": "ml.t3.2xlarge",
    "vcpuNum": 8
   },
   {
    "_defaultOrder": 4,
    "_isFastLaunch": true,
    "category": "General purpose",
    "gpuNum": 0,
    "hideHardwareSpecs": false,
    "memoryGiB": 8,
    "name": "ml.m5.large",
    "vcpuNum": 2
   },
   {
    "_defaultOrder": 5,
    "_isFastLaunch": false,
    "category": "General purpose",
    "gpuNum": 0,
    "hideHardwareSpecs": false,
    "memoryGiB": 16,
    "name": "ml.m5.xlarge",
    "vcpuNum": 4
   },
   {
    "_defaultOrder": 6,
    "_isFastLaunch": false,
    "category": "General purpose",
    "gpuNum": 0,
    "hideHardwareSpecs": false,
    "memoryGiB": 32,
    "name": "ml.m5.2xlarge",
    "vcpuNum": 8
   },
   {
    "_defaultOrder": 7,
    "_isFastLaunch": false,
    "category": "General purpose",
    "gpuNum": 0,
    "hideHardwareSpecs": false,
    "memoryGiB": 64,
    "name": "ml.m5.4xlarge",
    "vcpuNum": 16
   },
   {
    "_defaultOrder": 8,
    "_isFastLaunch": false,
    "category": "General purpose",
    "gpuNum": 0,
    "hideHardwareSpecs": false,
    "memoryGiB": 128,
    "name": "ml.m5.8xlarge",
    "vcpuNum": 32
   },
   {
    "_defaultOrder": 9,
    "_isFastLaunch": false,
    "category": "General purpose",
    "gpuNum": 0,
    "hideHardwareSpecs": false,
    "memoryGiB": 192,
    "name": "ml.m5.12xlarge",
    "vcpuNum": 48
   },
   {
    "_defaultOrder": 10,
    "_isFastLaunch": false,
    "category": "General purpose",
    "gpuNum": 0,
    "hideHardwareSpecs": false,
    "memoryGiB": 256,
    "name": "ml.m5.16xlarge",
    "vcpuNum": 64
   },
   {
    "_defaultOrder": 11,
    "_isFastLaunch": false,
    "category": "General purpose",
    "gpuNum": 0,
    "hideHardwareSpecs": false,
    "memoryGiB": 384,
    "name": "ml.m5.24xlarge",
    "vcpuNum": 96
   },
   {
    "_defaultOrder": 12,
    "_isFastLaunch": false,
    "category": "General purpose",
    "gpuNum": 0,
    "hideHardwareSpecs": false,
    "memoryGiB": 8,
    "name": "ml.m5d.large",
    "vcpuNum": 2
   },
   {
    "_defaultOrder": 13,
    "_isFastLaunch": false,
    "category": "General purpose",
    "gpuNum": 0,
    "hideHardwareSpecs": false,
    "memoryGiB": 16,
    "name": "ml.m5d.xlarge",
    "vcpuNum": 4
   },
   {
    "_defaultOrder": 14,
    "_isFastLaunch": false,
    "category": "General purpose",
    "gpuNum": 0,
    "hideHardwareSpecs": false,
    "memoryGiB": 32,
    "name": "ml.m5d.2xlarge",
    "vcpuNum": 8
   },
   {
    "_defaultOrder": 15,
    "_isFastLaunch": false,
    "category": "General purpose",
    "gpuNum": 0,
    "hideHardwareSpecs": false,
    "memoryGiB": 64,
    "name": "ml.m5d.4xlarge",
    "vcpuNum": 16
   },
   {
    "_defaultOrder": 16,
    "_isFastLaunch": false,
    "category": "General purpose",
    "gpuNum": 0,
    "hideHardwareSpecs": false,
    "memoryGiB": 128,
    "name": "ml.m5d.8xlarge",
    "vcpuNum": 32
   },
   {
    "_defaultOrder": 17,
    "_isFastLaunch": false,
    "category": "General purpose",
    "gpuNum": 0,
    "hideHardwareSpecs": false,
    "memoryGiB": 192,
    "name": "ml.m5d.12xlarge",
    "vcpuNum": 48
   },
   {
    "_defaultOrder": 18,
    "_isFastLaunch": false,
    "category": "General purpose",
    "gpuNum": 0,
    "hideHardwareSpecs": false,
    "memoryGiB": 256,
    "name": "ml.m5d.16xlarge",
    "vcpuNum": 64
   },
   {
    "_defaultOrder": 19,
    "_isFastLaunch": false,
    "category": "General purpose",
    "gpuNum": 0,
    "hideHardwareSpecs": false,
    "memoryGiB": 384,
    "name": "ml.m5d.24xlarge",
    "vcpuNum": 96
   },
   {
    "_defaultOrder": 20,
    "_isFastLaunch": false,
    "category": "General purpose",
    "gpuNum": 0,
    "hideHardwareSpecs": true,
    "memoryGiB": 0,
    "name": "ml.geospatial.interactive",
    "supportedImageNames": [
     "sagemaker-geospatial-v1-0"
    ],
    "vcpuNum": 0
   },
   {
    "_defaultOrder": 21,
    "_isFastLaunch": true,
    "category": "Compute optimized",
    "gpuNum": 0,
    "hideHardwareSpecs": false,
    "memoryGiB": 4,
    "name": "ml.c5.large",
    "vcpuNum": 2
   },
   {
    "_defaultOrder": 22,
    "_isFastLaunch": false,
    "category": "Compute optimized",
    "gpuNum": 0,
    "hideHardwareSpecs": false,
    "memoryGiB": 8,
    "name": "ml.c5.xlarge",
    "vcpuNum": 4
   },
   {
    "_defaultOrder": 23,
    "_isFastLaunch": false,
    "category": "Compute optimized",
    "gpuNum": 0,
    "hideHardwareSpecs": false,
    "memoryGiB": 16,
    "name": "ml.c5.2xlarge",
    "vcpuNum": 8
   },
   {
    "_defaultOrder": 24,
    "_isFastLaunch": false,
    "category": "Compute optimized",
    "gpuNum": 0,
    "hideHardwareSpecs": false,
    "memoryGiB": 32,
    "name": "ml.c5.4xlarge",
    "vcpuNum": 16
   },
   {
    "_defaultOrder": 25,
    "_isFastLaunch": false,
    "category": "Compute optimized",
    "gpuNum": 0,
    "hideHardwareSpecs": false,
    "memoryGiB": 72,
    "name": "ml.c5.9xlarge",
    "vcpuNum": 36
   },
   {
    "_defaultOrder": 26,
    "_isFastLaunch": false,
    "category": "Compute optimized",
    "gpuNum": 0,
    "hideHardwareSpecs": false,
    "memoryGiB": 96,
    "name": "ml.c5.12xlarge",
    "vcpuNum": 48
   },
   {
    "_defaultOrder": 27,
    "_isFastLaunch": false,
    "category": "Compute optimized",
    "gpuNum": 0,
    "hideHardwareSpecs": false,
    "memoryGiB": 144,
    "name": "ml.c5.18xlarge",
    "vcpuNum": 72
   },
   {
    "_defaultOrder": 28,
    "_isFastLaunch": false,
    "category": "Compute optimized",
    "gpuNum": 0,
    "hideHardwareSpecs": false,
    "memoryGiB": 192,
    "name": "ml.c5.24xlarge",
    "vcpuNum": 96
   },
   {
    "_defaultOrder": 29,
    "_isFastLaunch": true,
    "category": "Accelerated computing",
    "gpuNum": 1,
    "hideHardwareSpecs": false,
    "memoryGiB": 16,
    "name": "ml.g4dn.xlarge",
    "vcpuNum": 4
   },
   {
    "_defaultOrder": 30,
    "_isFastLaunch": false,
    "category": "Accelerated computing",
    "gpuNum": 1,
    "hideHardwareSpecs": false,
    "memoryGiB": 32,
    "name": "ml.g4dn.2xlarge",
    "vcpuNum": 8
   },
   {
    "_defaultOrder": 31,
    "_isFastLaunch": false,
    "category": "Accelerated computing",
    "gpuNum": 1,
    "hideHardwareSpecs": false,
    "memoryGiB": 64,
    "name": "ml.g4dn.4xlarge",
    "vcpuNum": 16
   },
   {
    "_defaultOrder": 32,
    "_isFastLaunch": false,
    "category": "Accelerated computing",
    "gpuNum": 1,
    "hideHardwareSpecs": false,
    "memoryGiB": 128,
    "name": "ml.g4dn.8xlarge",
    "vcpuNum": 32
   },
   {
    "_defaultOrder": 33,
    "_isFastLaunch": false,
    "category": "Accelerated computing",
    "gpuNum": 4,
    "hideHardwareSpecs": false,
    "memoryGiB": 192,
    "name": "ml.g4dn.12xlarge",
    "vcpuNum": 48
   },
   {
    "_defaultOrder": 34,
    "_isFastLaunch": false,
    "category": "Accelerated computing",
    "gpuNum": 1,
    "hideHardwareSpecs": false,
    "memoryGiB": 256,
    "name": "ml.g4dn.16xlarge",
    "vcpuNum": 64
   },
   {
    "_defaultOrder": 35,
    "_isFastLaunch": false,
    "category": "Accelerated computing",
    "gpuNum": 1,
    "hideHardwareSpecs": false,
    "memoryGiB": 61,
    "name": "ml.p3.2xlarge",
    "vcpuNum": 8
   },
   {
    "_defaultOrder": 36,
    "_isFastLaunch": false,
    "category": "Accelerated computing",
    "gpuNum": 4,
    "hideHardwareSpecs": false,
    "memoryGiB": 244,
    "name": "ml.p3.8xlarge",
    "vcpuNum": 32
   },
   {
    "_defaultOrder": 37,
    "_isFastLaunch": false,
    "category": "Accelerated computing",
    "gpuNum": 8,
    "hideHardwareSpecs": false,
    "memoryGiB": 488,
    "name": "ml.p3.16xlarge",
    "vcpuNum": 64
   },
   {
    "_defaultOrder": 38,
    "_isFastLaunch": false,
    "category": "Accelerated computing",
    "gpuNum": 8,
    "hideHardwareSpecs": false,
    "memoryGiB": 768,
    "name": "ml.p3dn.24xlarge",
    "vcpuNum": 96
   },
   {
    "_defaultOrder": 39,
    "_isFastLaunch": false,
    "category": "Memory Optimized",
    "gpuNum": 0,
    "hideHardwareSpecs": false,
    "memoryGiB": 16,
    "name": "ml.r5.large",
    "vcpuNum": 2
   },
   {
    "_defaultOrder": 40,
    "_isFastLaunch": false,
    "category": "Memory Optimized",
    "gpuNum": 0,
    "hideHardwareSpecs": false,
    "memoryGiB": 32,
    "name": "ml.r5.xlarge",
    "vcpuNum": 4
   },
   {
    "_defaultOrder": 41,
    "_isFastLaunch": false,
    "category": "Memory Optimized",
    "gpuNum": 0,
    "hideHardwareSpecs": false,
    "memoryGiB": 64,
    "name": "ml.r5.2xlarge",
    "vcpuNum": 8
   },
   {
    "_defaultOrder": 42,
    "_isFastLaunch": false,
    "category": "Memory Optimized",
    "gpuNum": 0,
    "hideHardwareSpecs": false,
    "memoryGiB": 128,
    "name": "ml.r5.4xlarge",
    "vcpuNum": 16
   },
   {
    "_defaultOrder": 43,
    "_isFastLaunch": false,
    "category": "Memory Optimized",
    "gpuNum": 0,
    "hideHardwareSpecs": false,
    "memoryGiB": 256,
    "name": "ml.r5.8xlarge",
    "vcpuNum": 32
   },
   {
    "_defaultOrder": 44,
    "_isFastLaunch": false,
    "category": "Memory Optimized",
    "gpuNum": 0,
    "hideHardwareSpecs": false,
    "memoryGiB": 384,
    "name": "ml.r5.12xlarge",
    "vcpuNum": 48
   },
   {
    "_defaultOrder": 45,
    "_isFastLaunch": false,
    "category": "Memory Optimized",
    "gpuNum": 0,
    "hideHardwareSpecs": false,
    "memoryGiB": 512,
    "name": "ml.r5.16xlarge",
    "vcpuNum": 64
   },
   {
    "_defaultOrder": 46,
    "_isFastLaunch": false,
    "category": "Memory Optimized",
    "gpuNum": 0,
    "hideHardwareSpecs": false,
    "memoryGiB": 768,
    "name": "ml.r5.24xlarge",
    "vcpuNum": 96
   },
   {
    "_defaultOrder": 47,
    "_isFastLaunch": false,
    "category": "Accelerated computing",
    "gpuNum": 1,
    "hideHardwareSpecs": false,
    "memoryGiB": 16,
    "name": "ml.g5.xlarge",
    "vcpuNum": 4
   },
   {
    "_defaultOrder": 48,
    "_isFastLaunch": false,
    "category": "Accelerated computing",
    "gpuNum": 1,
    "hideHardwareSpecs": false,
    "memoryGiB": 32,
    "name": "ml.g5.2xlarge",
    "vcpuNum": 8
   },
   {
    "_defaultOrder": 49,
    "_isFastLaunch": false,
    "category": "Accelerated computing",
    "gpuNum": 1,
    "hideHardwareSpecs": false,
    "memoryGiB": 64,
    "name": "ml.g5.4xlarge",
    "vcpuNum": 16
   },
   {
    "_defaultOrder": 50,
    "_isFastLaunch": false,
    "category": "Accelerated computing",
    "gpuNum": 1,
    "hideHardwareSpecs": false,
    "memoryGiB": 128,
    "name": "ml.g5.8xlarge",
    "vcpuNum": 32
   },
   {
    "_defaultOrder": 51,
    "_isFastLaunch": false,
    "category": "Accelerated computing",
    "gpuNum": 1,
    "hideHardwareSpecs": false,
    "memoryGiB": 256,
    "name": "ml.g5.16xlarge",
    "vcpuNum": 64
   },
   {
    "_defaultOrder": 52,
    "_isFastLaunch": false,
    "category": "Accelerated computing",
    "gpuNum": 4,
    "hideHardwareSpecs": false,
    "memoryGiB": 192,
    "name": "ml.g5.12xlarge",
    "vcpuNum": 48
   },
   {
    "_defaultOrder": 53,
    "_isFastLaunch": false,
    "category": "Accelerated computing",
    "gpuNum": 4,
    "hideHardwareSpecs": false,
    "memoryGiB": 384,
    "name": "ml.g5.24xlarge",
    "vcpuNum": 96
   },
   {
    "_defaultOrder": 54,
    "_isFastLaunch": false,
    "category": "Accelerated computing",
    "gpuNum": 8,
    "hideHardwareSpecs": false,
    "memoryGiB": 768,
    "name": "ml.g5.48xlarge",
    "vcpuNum": 192
   },
   {
    "_defaultOrder": 55,
    "_isFastLaunch": false,
    "category": "Accelerated computing",
    "gpuNum": 8,
    "hideHardwareSpecs": false,
    "memoryGiB": 1152,
    "name": "ml.p4d.24xlarge",
    "vcpuNum": 96
   },
   {
    "_defaultOrder": 56,
    "_isFastLaunch": false,
    "category": "Accelerated computing",
    "gpuNum": 8,
    "hideHardwareSpecs": false,
    "memoryGiB": 1152,
    "name": "ml.p4de.24xlarge",
    "vcpuNum": 96
   }
  ],
  "instance_type": "ml.t3.medium",
  "kernelspec": {
   "display_name": "Python 3 (Data Science)",
   "language": "python",
   "name": "python3__SAGEMAKER_INTERNAL__arn:aws:sagemaker:us-east-2:429704687514:image/datascience-1.0"
  },
  "language_info": {
   "codemirror_mode": {
    "name": "ipython",
    "version": 3
   },
   "file_extension": ".py",
   "mimetype": "text/x-python",
   "name": "python",
   "nbconvert_exporter": "python",
   "pygments_lexer": "ipython3",
   "version": "3.7.10"
  }
 },
 "nbformat": 4,
 "nbformat_minor": 5
}
