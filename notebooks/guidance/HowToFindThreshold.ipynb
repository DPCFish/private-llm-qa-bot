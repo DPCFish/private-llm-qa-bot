{
 "cells": [
  {
   "cell_type": "markdown",
   "id": "d3e1e95c-61c0-40ec-960c-40f6b8b3f714",
   "metadata": {},
   "source": [
    "## 如何实现拒答\n",
    "\n",
    "1. 把所有该拒答和不该拒答的问题收集起来（没有数据的时候，mock一部分问题）\n",
    "2. 计算这些问题与知识库里面的相似分数分布\n",
    "   1. 倒排方面，查看倒排得分逻辑，优化不合理得分\n",
    "   2. 向量方面，如果与正反馈的分数分布区分明显，直接找到该阈值，否则跳到下一步\n",
    "3. 拿上面两种进行向量微调，再次查看分数分布区分度，如果不合格再跳转到下一步\n",
    "4. 拿上面两种进行Rerank，再次查看分数分布区分度\n",
    "5. 如果区分度还存在问题，低风险分段进行提示词次软性拒答，高风险分段进行硬性拒答"
   ]
  },
  {
   "cell_type": "code",
   "execution_count": null,
   "id": "3df42c5d-2c87-4cf6-ad77-cf0d1322f460",
   "metadata": {},
   "outputs": [],
   "source": [
    "!pip install boto3\n",
    "!pip install git+https://github.com/FlagOpen/FlagEmbedding.git -Uq\n",
    "!pip install -Uq sentence-transformers \n",
    "!pip install faiss-cpu -Uq"
   ]
  },
  {
   "cell_type": "markdown",
   "id": "82374d33-dedf-4a23-870a-d71ec0eadca9",
   "metadata": {
    "tags": []
   },
   "source": [
    "### Step 1 整理全部应该拒答的问题"
   ]
  },
  {
   "cell_type": "code",
   "execution_count": 9,
   "id": "58f7cd49-93bc-437d-9d2a-5af724f7c272",
   "metadata": {
    "tags": []
   },
   "outputs": [],
   "source": [
    "import json\n",
    "import random\n",
    "import matplotlib.pyplot as plt\n",
    "import seaborn as sns\n",
    "from boto3 import client as boto3_client\n",
    "import boto3\n",
    "import os\n",
    "import numpy as np\n",
    "from tqdm import tqdm\n",
    "\n",
    "Tune_Specified_Chat_Name = 'OnlyForDEBUG'\n",
    "smr_client = boto3.client(\"sagemaker-runtime\")\n",
    "embedding_endpoint_name = 'bge-zh-15-2023-09-17-01-00-27-086-endpoint'\n",
    "\n",
    "lambda_client = boto3_client('lambda')\n",
    "\n",
    "def generate_train_dataset(query, embedding_endpoint_name):\n",
    "    data = {\n",
    "        'OPENAI_API_KEY': '', \n",
    "        'ws_endpoint': 'https://7bk6ty9c65.execute-api.us-west-2.amazonaws.com/Prod', \n",
    "        'msgid': 'id-1695293211608-da6836af1c57_res', \n",
    "        'chat_name': Tune_Specified_Chat_Name, \n",
    "        'prompt': query, \n",
    "        'model': 'chatglm', \n",
    "        'use_qa': True, \n",
    "        'imgurl': None, \n",
    "        'template_id': 'default', \n",
    "        'max_tokens': 4000, \n",
    "        'temperature': 0.01, \n",
    "        'system_role': 'AWSBot', \n",
    "        'system_role_prompt': '你是亚马逊云科技的智能客服', \n",
    "        'embedding_model': embedding_endpoint_name,\n",
    "        'channel_cnt' : 100\n",
    "    }\n",
    "\n",
    "    invoke_response = lambda_client.invoke(FunctionName='Ask_Assistant', \n",
    "                                           InvocationType='RequestResponse',\n",
    "                                           Payload=json.dumps(data))\n",
    "    ret_obj = json.loads(invoke_response['Payload'].read().decode('utf-8'))\n",
    "    if 'body' not in ret_obj.keys():\n",
    "        print(ret_obj)\n",
    "    info = ret_obj['body'][0]['extra_info']\n",
    "    query = info['query_input']\n",
    "    bm25_infos = info['opensearch_query_response']\n",
    "    bm25_scores = [ item['score'] for item in bm25_infos ] \n",
    "    knn_infos = info['opensearch_knn_respose']\n",
    "\n",
    "    bm25_negs = []\n",
    "    knn_negs = []\n",
    "    knn_qq_negs = []\n",
    "    knn_qd_negs = []\n",
    "    knn_qq_scores = []\n",
    "    knn_qd_scores = []\n",
    "    for item in knn_infos:\n",
    "        knn_negs.append(item['doc'])\n",
    "        mid = item['doc'].split('Answer: ')\n",
    "        q = mid[0].split('Question: ')[1]\n",
    "        a = mid[1]\n",
    "        \n",
    "        if item['doc_type'] == 'Question':\n",
    "            knn_qq_negs.append(q)\n",
    "            knn_qq_scores.append(item['score'])\n",
    "        elif item['doc_type'] == 'Paragraph':\n",
    "            knn_qd_negs.append(a)\n",
    "            knn_qd_scores.append(item['score'])\n",
    "    \n",
    "    for item in bm25_infos:\n",
    "        bm25_negs.append(item['doc'])\n",
    "    \n",
    "    return query, bm25_negs, bm25_scores, knn_qq_negs, knn_qq_scores, knn_qd_negs, knn_qd_scores\n",
    "\n",
    "# query, bm25_negs, bm25_scores, knn_qq_negs, knn_qq_scores, knn_qd_negs, knn_qd_scores = generate_train_dataset(query, embedding_endpoint_name)\n",
    "\n",
    "def get_vector_by_sm_endpoint(questions, sm_client, endpoint_name, instruction=''):\n",
    "    response_model = sm_client.invoke_endpoint(\n",
    "        EndpointName=endpoint_name,\n",
    "        Body=json.dumps(\n",
    "            {\n",
    "                \"inputs\": questions,\n",
    "                \"is_query\": True,\n",
    "                \"instruction\" :  instruction,\n",
    "                \"parameters\" : \"\"\n",
    "            }\n",
    "        ),\n",
    "        ContentType=\"application/json\",\n",
    "    )\n",
    "    # 中文instruction => 为这个句子生成表示以用于检索相关文章：\n",
    "    # English instruction => Represent this sentence for searching relevant passages:\n",
    "    json_str = response_model['Body'].read().decode('utf8')\n",
    "    json_obj = json.loads(json_str)\n",
    "    embeddings = json_obj['sentence_embeddings']\n",
    "    return embeddings[0]\n",
    "\n",
    "def similarity_calc(vec1, vec2):\n",
    "    dot_product = np.dot(vec1, vec2)\n",
    "    norm_vec1 = np.sqrt(np.dot(vec1, vec1))\n",
    "    norm_vec2 = np.sqrt(np.dot(vec2, vec2))\n",
    "    cosine_sim = dot_product / (norm_vec1 * norm_vec2)\n",
    "    \n",
    "    return cosine_sim\n",
    "\n",
    "def get_similiarity(sent1, sent2):\n",
    "    vec1 = get_vector_by_sm_endpoint(sent1, smr_client, embedding_endpoint_name)\n",
    "    vec2 = get_vector_by_sm_endpoint(sent2, smr_client, embedding_endpoint_name)\n",
    "    return similarity_calc(vec1, vec2)\n",
    "\n",
    "def plot_stat(pos_similarity_list, neg_similarity_list):\n",
    "    \n",
    "    plt.figure(figsize=(8, 6))\n",
    "    sns.set_style(\"whitegrid\")\n",
    "    L1 = len(pos_similarity_list)\n",
    "    L2 = len(neg_similarity_list)\n",
    "    if L1 > L2:\n",
    "        sample_neg_similarity_list = random.sample(neg_similarity_list, L2)\n",
    "        sample_pos_similarity_list = pos_similarity_list\n",
    "    else:\n",
    "        sample_neg_similarity_list = neg_similarity_list\n",
    "        sample_pos_similarity_list = random.sample(pos_similarity_list, L1)\n",
    "    \n",
    "    sns.histplot(data=sample_pos_similarity_list, bins=20)\n",
    "    sns.histplot(data=sample_neg_similarity_list, bins=20)\n",
    "    \n",
    "    # plt.tight_layout()\n",
    "    plt.show()"
   ]
  },
  {
   "cell_type": "code",
   "execution_count": 16,
   "id": "46a15196-5e7c-4036-8ca2-01d374be8cba",
   "metadata": {},
   "outputs": [
    {
     "name": "stderr",
     "output_type": "stream",
     "text": [
      "100%|██████████| 72/72 [00:44<00:00,  1.63it/s]\n"
     ]
    }
   ],
   "source": [
    "all_neg_bm25_scores = []\n",
    "all_neg_knn_qq_scores = []\n",
    "all_neg_knn_qd_scores = []\n",
    "\n",
    "neg_feedback_qa_triple = []\n",
    "neg_feedback_qq_triple = []\n",
    "\n",
    "# mock out_of_range question\n",
    "with open('aws_glue.faq') as mock_outofrange_faq:\n",
    "    all_content = mock_outofrange_faq.read()\n",
    "    qa_list = all_content.split('=====')\n",
    "    for qa in tqdm(qa_list):\n",
    "        parts = qa.split('\\nAnswer: ')\n",
    "        q = parts[0].split('Question: ')[1]\n",
    "        a = parts[1]\n",
    "        query, bm25_negs, bm25_scores, knn_qq_negs, knn_qq_scores, knn_qd_negs, knn_qd_scores = generate_train_dataset(q, embedding_endpoint_name)\n",
    "        all_neg_bm25_scores.extend(bm25_scores)\n",
    "        all_neg_knn_qq_scores.extend(knn_qq_scores)\n",
    "        all_neg_knn_qd_scores.extend(knn_qd_scores)\n",
    "        neg_feedback_qa_triple.append({\"query\":q, \"pos\": [a], \"neg\": bm25_negs + knn_qd_negs})\n",
    "        neg_feedback_qq_triple.append({\"query\":q, \"pos\": [], \"neg\": knn_qq_negs})"
   ]
  },
  {
   "cell_type": "code",
   "execution_count": 17,
   "id": "fb135d5f-552a-4ede-b718-e4a3d850b8e0",
   "metadata": {
    "tags": []
   },
   "outputs": [],
   "source": [
    "#mock questionable question\n",
    "all_pos_knn_qq_scores = []\n",
    "all_pos_knn_qd_scores = []\n",
    "\n",
    "with open('aws_emr_offical.json') as mock_normal_qlist:\n",
    "    lines = mock_normal_qlist.readlines()\n",
    "    for line in lines:\n",
    "        json_obj = json.loads(line)\n",
    "        o_query = json_obj['origin_question'].strip()\n",
    "        o_answer = json_obj['origin_answer'].strip()\n",
    "        g_query = json_obj['generate_question'].strip()\n",
    "        g_answer = json_obj['generate_answer'].strip()\n",
    "        \n",
    "        sim_qq = get_similiarity(g_query, o_query)\n",
    "        sim_qa1 = get_similiarity(g_query, o_answer)\n",
    "        sim_qa2 = get_similiarity(g_query, g_answer)\n",
    "        sim_qa3 = get_similiarity(o_query, o_answer)\n",
    "        all_pos_knn_qq_scores.append(sim_qq)\n",
    "        all_pos_knn_qd_scores.append(sim_qa1)\n",
    "        all_pos_knn_qd_scores.append(sim_qa2)\n",
    "        all_pos_knn_qd_scores.append(sim_qa3)"
   ]
  },
  {
   "cell_type": "code",
   "execution_count": null,
   "id": "2e580edb-6134-4171-aee9-58e7edeae65f",
   "metadata": {
    "tags": []
   },
   "outputs": [],
   "source": [
    "print(f\"len of all_pos_knn_qq_scores: {len(all_pos_knn_qq_scores)}\")\n",
    "print(all_pos_knn_qq_scores[:20])\n",
    "print(f\"len of all_neg_knn_qq_scores: {len(all_neg_knn_qq_scores)}\")\n",
    "print(all_neg_knn_qq_scores[:20])\n",
    "print(f\"len of all_pos_knn_qd_scores: {len(all_pos_knn_qd_scores)}\")\n",
    "print(all_pos_knn_qd_scores[:20])\n",
    "print(f\"len of all_neg_knn_qd_scores: {len(all_neg_knn_qd_scores)}\")\n",
    "print(all_neg_knn_qd_scores[:20])\n",
    "\n",
    "print(f\"len of neg_feedback_qq_triple: {len(neg_feedback_qq_triple)}\")\n",
    "print(neg_feedback_qq_triple[:20])"
   ]
  },
  {
   "cell_type": "markdown",
   "id": "3a8b4281-db2d-4a88-bdb3-a10249ae9c3d",
   "metadata": {},
   "source": [
    "### Step2 统计分数分布"
   ]
  },
  {
   "cell_type": "code",
   "execution_count": null,
   "id": "39ff4bc8-2d93-480b-b20d-3892b9c4b4b8",
   "metadata": {
    "tags": []
   },
   "outputs": [],
   "source": [
    "plot_stat(all_pos_knn_qq_scores, all_neg_knn_qq_scores)\n",
    "plot_stat(all_pos_knn_qd_scores, all_neg_knn_qd_scores)"
   ]
  },
  {
   "cell_type": "markdown",
   "id": "bf83347f-8d2d-4d07-9c31-68469e041eb0",
   "metadata": {},
   "source": [
    "### Step3 构建Finetune 数据集"
   ]
  },
  {
   "cell_type": "markdown",
   "id": "891a9db9-fc5a-4a9b-95e3-06012e333db0",
   "metadata": {},
   "source": [
    "### 构造finetune数据集\n",
    "- 如果没有QQ数据集，通过LLM给query换个提问角度,得到 query_mock\n",
    "- 如果没有QD数据集，通过LLM给query给出一个回答,得到 answer_mock\n",
    "- 融合知识库里面现有的问答，得到供训练的所需正负例\n",
    "    + (instruction+query, answer_mock, all_retrival_neg_answers)\n",
    "    + (query, query_mock, all_retrival_neg_querys)"
   ]
  },
  {
   "cell_type": "code",
   "execution_count": 24,
   "id": "1986ae86-ce9b-4e3f-b900-03972d24f777",
   "metadata": {},
   "outputs": [],
   "source": [
    "import boto3\n",
    "import json\n",
    "from tqdm import tqdm\n",
    "llm_endpoint_name='bc2-7b-stream-2023-09-21-10-07-30-023-endpoint'\n",
    "smr_client = boto3.client(\"sagemaker-runtime\")\n",
    "\n",
    "def mock_qq_dataset(llm_endpoint_name, smr_client, neg_feedback_qq_triple):\n",
    "    mock_query_template=\"\"\"给问题\"{}\"生成一个相似的问题\"\"\"\n",
    "    parameters = {\n",
    "      \"max_length\": 1024,\n",
    "      \"temperature\": 0.99,\n",
    "      \"top_p\":0.99\n",
    "    }\n",
    "    \n",
    "    def call_llm(prompt, smr_client):\n",
    "        response_model = smr_client.invoke_endpoint(\n",
    "                    EndpointName=llm_endpoint_name,\n",
    "                    Body=json.dumps(\n",
    "                    {\n",
    "                        \"inputs\": prompt,\n",
    "                        \"parameters\": parameters,\n",
    "                        \"history\" : []\n",
    "                    }\n",
    "                    ),\n",
    "                    ContentType=\"application/json\",\n",
    "                )\n",
    "\n",
    "        json_obj=json.loads(response_model['Body'].read().decode('utf8'))\n",
    "        return json_obj['outputs']\n",
    "    \n",
    "\n",
    "    for example_obj in tqdm(neg_feedback_qq_triple):\n",
    "        prompt = mock_query_template.format(example_obj['query'])\n",
    "        example_obj[\"pos\"] = [ call_llm(prompt, smr_client).strip('\"')]\n",
    "        \n",
    "    return neg_feedback_qq_triple"
   ]
  },
  {
   "cell_type": "code",
   "execution_count": 25,
   "id": "b03a86e2-5b9e-41a3-8b87-5a64db3d0663",
   "metadata": {
    "tags": []
   },
   "outputs": [
    {
     "name": "stderr",
     "output_type": "stream",
     "text": [
      "100%|██████████| 72/72 [00:44<00:00,  1.61it/s]\n"
     ]
    }
   ],
   "source": [
    "neg_feedback_qq_triple = mock_qq_dataset(llm_endpoint_name, smr_client, neg_feedback_qq_triple)"
   ]
  },
  {
   "cell_type": "code",
   "execution_count": null,
   "id": "98b3c5c6-b40c-4964-af9a-ed25e66b5a88",
   "metadata": {
    "tags": []
   },
   "outputs": [],
   "source": [
    "neg_feedback_qq_triple[0]"
   ]
  },
  {
   "cell_type": "code",
   "execution_count": 29,
   "id": "7ad954e9-a712-4f21-81e7-4c6f737f3f5e",
   "metadata": {
    "tags": []
   },
   "outputs": [
    {
     "name": "stdout",
     "output_type": "stream",
     "text": [
      "train_cnt: 963\n"
     ]
    }
   ],
   "source": [
    "data_size = len(neg_feedback_qq_triple)\n",
    "qq_train_data_set = neg_feedback_qq_triple[:int(data_size*0.9)]\n",
    "qq_test_data_set =  neg_feedback_qq_triple[int(data_size*0.9):]\n",
    "\n",
    "if not os.path.exists('./trainset'):\n",
    "    os.mkdir('./trainset')\n",
    "if not os.path.exists('./testset'):\n",
    "    os.mkdir('./testset')\n",
    "\n",
    "with open('./trainset/refuse_trainset.jsonl', 'w') as file1:\n",
    "    lines = [ json.dumps(example, ensure_ascii=False) for example in qq_train_data_set ]\n",
    "    file1.write(\"\\n\".join(lines))\n",
    "    \n",
    "with open('./testset/refuse_testset.jsonl', 'w') as file2:\n",
    "    lines = [ json.dumps(example, ensure_ascii=False) for example in qq_test_data_set ]\n",
    "    file2.write(\"\\n\".join(lines))\n",
    "    \n",
    "knowledgebase_qq_triple = []\n",
    "knowledgebase_gqoa_triple = []\n",
    "knowledgebase_gqga_triple = []\n",
    "all_g_q = []\n",
    "all_o_a = []\n",
    "all_g_a = []\n",
    "\n",
    "with open('aws_emr_offical.json') as mock_normal_qlist:\n",
    "    lines = mock_normal_qlist.readlines()\n",
    "    for idx, line in enumerate(lines):\n",
    "        json_obj = json.loads(line)\n",
    "        o_query = json_obj['origin_question'].strip()\n",
    "        o_answer = json_obj['origin_answer'].strip()\n",
    "        g_query = json_obj['generate_question'].strip()\n",
    "        g_answer = json_obj['generate_answer'].strip()\n",
    "        all_g_q.append(g_query)\n",
    "        all_o_a.append(o_answer)\n",
    "        all_g_a.append(g_answer)\n",
    "        knowledgebase_qq_triple.append({\"query\": o_query, \"pos\": [g_query], \"neg\" : idx})\n",
    "        knowledgebase_gqoa_triple.append({\"query\": g_query, \"pos\": [o_answer], \"neg\" : idx})\n",
    "        knowledgebase_gqga_triple.append({\"query\": g_query, \"pos\": [g_answer], \"neg\" : idx})\n",
    "        \n",
    "kg_data_size = len(knowledgebase_qq_triple)\n",
    "train_cnt = int(kg_data_size*0.9)\n",
    "print(f\"train_cnt: {train_cnt}\")\n",
    "\n",
    "for idx in range(kg_data_size):\n",
    "    knowledgebase_qq_triple[idx][\"neg\"] = all_g_q[:idx] + all_g_q[idx+1:]\n",
    "    knowledgebase_gqoa_triple[idx][\"neg\"] = all_o_a[:idx] + all_o_a[idx+1:]\n",
    "    knowledgebase_gqga_triple[idx][\"neg\"] = all_g_a[:idx] + all_g_a[idx+1:]\n",
    "    \n",
    "with open('./trainset/kg_qq_trainset.jsonl', 'w') as file3:\n",
    "    lines = [ json.dumps(example, ensure_ascii=False) for example in knowledgebase_qq_triple[:train_cnt] ]\n",
    "    file3.write(\"\\n\".join(lines))\n",
    "    \n",
    "with open('./testset/kg_qq_testset.jsonl', 'w') as file4:\n",
    "    lines = [ json.dumps(example, ensure_ascii=False) for example in knowledgebase_qq_triple[train_cnt:] ]\n",
    "    file4.write(\"\\n\".join(lines))\n",
    "    \n",
    "with open('./trainset/kg_gqoa_trainset.jsonl', 'w') as file5:\n",
    "    lines = [ json.dumps(example, ensure_ascii=False) for example in knowledgebase_gqoa_triple[:train_cnt] ]\n",
    "    file5.write(\"\\n\".join(lines))\n",
    "    \n",
    "with open('./testset/kg_gqoa_testset.jsonl', 'w') as file6:\n",
    "    lines = [ json.dumps(example, ensure_ascii=False) for example in knowledgebase_gqoa_triple[train_cnt:] ]\n",
    "    file6.write(\"\\n\".join(lines))\n",
    "    \n",
    "with open('./trainset/kg_gqga_trainset.jsonl', 'w') as file7:\n",
    "    lines = [ json.dumps(example, ensure_ascii=False) for example in knowledgebase_gqga_triple[:train_cnt] ]\n",
    "    file7.write(\"\\n\".join(lines))\n",
    "    \n",
    "with open('./testset/kg_gqga_testset.jsonl', 'w') as file8:\n",
    "    lines = [ json.dumps(example, ensure_ascii=False) for example in knowledgebase_gqga_triple[train_cnt:] ]\n",
    "    file8.write(\"\\n\".join(lines))"
   ]
  },
  {
   "cell_type": "code",
   "execution_count": 30,
   "id": "77f2a2ad-a99e-4d19-86be-873b13d50bce",
   "metadata": {
    "tags": []
   },
   "outputs": [
    {
     "data": {
      "text/plain": [
       "1070"
      ]
     },
     "execution_count": 30,
     "metadata": {},
     "output_type": "execute_result"
    }
   ],
   "source": [
    "len(knowledgebase_gqga_triple)"
   ]
  },
  {
   "cell_type": "markdown",
   "id": "04235ad5-7967-4a84-972c-c979bdcf8f79",
   "metadata": {},
   "source": [
    "### step4 Finetune Rerank"
   ]
  },
  {
   "cell_type": "code",
   "execution_count": 23,
   "id": "3a2f0240-3af2-4f70-bf94-558c30499964",
   "metadata": {
    "tags": []
   },
   "outputs": [],
   "source": [
    "!cat ./trainset/*.jsonl > trainset/kg_merged.jsonl"
   ]
  },
  {
   "cell_type": "code",
   "execution_count": null,
   "id": "8972d9a7-f253-4e70-b373-c48d49ba44a7",
   "metadata": {
    "tags": []
   },
   "outputs": [],
   "source": [
    "!wc -l trainset/kg_merged.jsonl"
   ]
  },
  {
   "cell_type": "code",
   "execution_count": null,
   "id": "3d40f2a1-236b-4f18-badd-105c67dd56c4",
   "metadata": {
    "tags": []
   },
   "outputs": [],
   "source": [
    "!cat ./testset/kg_*.jsonl > ./testset/kg_merged.jsonl"
   ]
  },
  {
   "cell_type": "code",
   "execution_count": null,
   "id": "7e9bee9c-7c02-424f-965c-df83d3d89966",
   "metadata": {
    "tags": []
   },
   "outputs": [],
   "source": [
    "!wc -l testset/kg_merged.jsonl"
   ]
  },
  {
   "cell_type": "code",
   "execution_count": null,
   "id": "69026e49-33e2-41ed-88c5-e912e2e1dcd3",
   "metadata": {},
   "outputs": [],
   "source": [
    "!torchrun --nproc_per_node 1 \\\n",
    "-m FlagEmbedding.reranker.run \\\n",
    "--output_dir ./refuse_rerank_bge_base_zh15 \\\n",
    "--model_name_or_path BAAI/bge-reranker-base \\\n",
    "--train_data ./trainset \\\n",
    "--learning_rate 6e-5 \\\n",
    "--fp16 \\\n",
    "--num_train_epochs 3 \\\n",
    "--per_device_train_batch_size 1 \\\n",
    "--gradient_accumulation_steps 4 \\\n",
    "--dataloader_drop_last True \\\n",
    "--train_group_size 9 \\\n",
    "--max_len 512 \\\n",
    "--weight_decay 0.01 \\\n",
    "--logging_steps 100"
   ]
  },
  {
   "cell_type": "code",
   "execution_count": null,
   "id": "ba5ff960-886f-4433-8a34-02e669eb369a",
   "metadata": {
    "tags": []
   },
   "outputs": [],
   "source": [
    "from FlagEmbedding import FlagReranker\n",
    "reranker = FlagReranker('./refuse_rerank_bge_base_zh15', use_fp16=True)\n",
    "\n",
    "scores = reranker.compute_score([['什么是 AWS Glue？', 'AWS Glue 是一项无服务器数据集成服务，它简化了发现、准备和合并数据以进行分析、机器学习和应用程序开发的工作。 AWS Glue 提供数据集成所需的全部功能，使您只需几分钟时间便可以开始分析数据并将数据投入使用，而不用耗时几个月。AWS Glue 为您提供可视化界面和基于代码的界面来简化数据集成。用户使用 AWS Glue 数据目录可以轻松找到并访问数据。数据工程师和 ETL（即提取、转换和加载）开发人员只需在 AWS Glue Studio 中点击几次，便能够以可视化的方式创建、运行和监控 ETL 工作流程。数据分析师和数据科学家可以使用 AWS Glue DataBrew 可视化方式丰富、清理和标准化数据，而无需编写代码。']])\n",
    "print(scores)"
   ]
  },
  {
   "cell_type": "code",
   "execution_count": 27,
   "id": "92f379da-c233-4c19-b30e-6ab36ea700ec",
   "metadata": {
    "tags": []
   },
   "outputs": [
    {
     "name": "stderr",
     "output_type": "stream",
     "text": [
      "Compute Scores: 100%|██████████| 24/24 [00:08<00:00,  2.95it/s]\n"
     ]
    },
    {
     "data": {
      "image/png": "[encoded data removed]",
      "text/plain": [
       "<Figure size 800x600 with 1 Axes>"
      ]
     },
     "metadata": {},
     "output_type": "display_data"
    }
   ],
   "source": [
    "train_neg_scores_after_rank = []\n",
    "train_pos_scores_after_rank = []\n",
    "\n",
    "with open('./trainset/kg_merged.jsonl', 'r') as p_t_file:\n",
    "    lines = p_t_file.readlines()\n",
    "    pos_pair_list = []\n",
    "    for line in lines:\n",
    "        try:\n",
    "            json_obj = json.loads(line)\n",
    "        except Exception as e:\n",
    "            continue\n",
    "        query = json_obj['query'].strip()\n",
    "        pos = json_obj['pos'][0].strip()\n",
    "        pos_pair_list.append([query, pos])\n",
    "    pos_scores = reranker.compute_score(pos_pair_list)\n",
    "    train_pos_scores_after_rank.extend(pos_scores)\n",
    "\n",
    "with open('./trainset/refuse_trainset.jsonl', 'r') as n_t_file:\n",
    "    lines = n_t_file.readlines()\n",
    "    for line in lines:\n",
    "        obj = json.loads(line)\n",
    "        neg_pair_list = [ [obj['query'].strip(), neg.strip()] for neg in obj['neg'] ]\n",
    "        neg_scores = reranker.compute_score(neg_pair_list)\n",
    "        train_neg_scores_after_rank.extend(neg_scores)\n",
    "        \n",
    "plot_stat(train_pos_scores_after_rank, train_neg_scores_after_rank)"
   ]
  },
  {
   "cell_type": "code",
   "execution_count": 28,
   "id": "924abc93-252b-45c9-89a6-545c99de3fc3",
   "metadata": {
    "tags": []
   },
   "outputs": [
    {
     "name": "stderr",
     "output_type": "stream",
     "text": [
      "Compute Scores: 100%|██████████| 2/2 [00:00<00:00,  3.00it/s]\n"
     ]
    }
   ],
   "source": [
    "test_neg_scores_after_rank = []\n",
    "test_pos_scores_after_rank = []\n",
    "\n",
    "with open('./testset/kg_merged.jsonl', 'r') as p_t_file:\n",
    "    lines = p_t_file.readlines()\n",
    "    pos_pair_list = []\n",
    "    for line in lines:\n",
    "        try:\n",
    "            json_obj = json.loads(line)\n",
    "        except Exception as e:\n",
    "            continue\n",
    "        query = json_obj['query'].strip()\n",
    "        pos = json_obj['pos'][0].strip()\n",
    "        pos_pair_list.append([query, pos])\n",
    "    pos_scores = reranker.compute_score(pos_pair_list)\n",
    "    test_pos_scores_after_rank.extend(pos_scores)\n",
    "\n",
    "with open('./testset/refuse_testset.jsonl', 'r') as n_t_file:\n",
    "    lines = n_t_file.readlines()\n",
    "    for line in lines:\n",
    "        obj = json.loads(line)\n",
    "        neg_pair_list = [ [obj['query'].strip(), neg.strip()] for neg in obj['neg'] ]\n",
    "        neg_scores = reranker.compute_score(neg_pair_list)\n",
    "        test_neg_scores_after_rank.extend(neg_scores)"
   ]
  },
  {
   "cell_type": "code",
   "execution_count": 22,
   "id": "4b0a4a79-922e-421f-94c5-c3e5d60b5f89",
   "metadata": {
    "tags": []
   },
   "outputs": [
    {
     "data": {
      "image/png": "[encoded data removed]",
      "text/plain": [
       "<Figure size 800x600 with 1 Axes>"
      ]
     },
     "metadata": {},
     "output_type": "display_data"
    }
   ],
   "source": [
    "plot_stat(test_pos_scores_after_rank, test_neg_scores_after_rank)"
   ]
  }
 ],
 "metadata": {
  "availableInstances": [
   {
    "_defaultOrder": 0,
    "_isFastLaunch": true,
    "category": "General purpose",
    "gpuNum": 0,
    "hideHardwareSpecs": false,
    "memoryGiB": 4,
    "name": "ml.t3.medium",
    "vcpuNum": 2
   },
   {
    "_defaultOrder": 1,
    "_isFastLaunch": false,
    "category": "General purpose",
    "gpuNum": 0,
    "hideHardwareSpecs": false,
    "memoryGiB": 8,
    "name": "ml.t3.large",
    "vcpuNum": 2
   },
   {
    "_defaultOrder": 2,
    "_isFastLaunch": false,
    "category": "General purpose",
    "gpuNum": 0,
    "hideHardwareSpecs": false,
    "memoryGiB": 16,
    "name": "ml.t3.xlarge",
    "vcpuNum": 4
   },
   {
    "_defaultOrder": 3,
    "_isFastLaunch": false,
    "category": "General purpose",
    "gpuNum": 0,
    "hideHardwareSpecs": false,
    "memoryGiB": 32,
    "name": "ml.t3.2xlarge",
    "vcpuNum": 8
   },
   {
    "_defaultOrder": 4,
    "_isFastLaunch": true,
    "category": "General purpose",
    "gpuNum": 0,
    "hideHardwareSpecs": false,
    "memoryGiB": 8,
    "name": "ml.m5.large",
    "vcpuNum": 2
   },
   {
    "_defaultOrder": 5,
    "_isFastLaunch": false,
    "category": "General purpose",
    "gpuNum": 0,
    "hideHardwareSpecs": false,
    "memoryGiB": 16,
    "name": "ml.m5.xlarge",
    "vcpuNum": 4
   },
   {
    "_defaultOrder": 6,
    "_isFastLaunch": false,
    "category": "General purpose",
    "gpuNum": 0,
    "hideHardwareSpecs": false,
    "memoryGiB": 32,
    "name": "ml.m5.2xlarge",
    "vcpuNum": 8
   },
   {
    "_defaultOrder": 7,
    "_isFastLaunch": false,
    "category": "General purpose",
    "gpuNum": 0,
    "hideHardwareSpecs": false,
    "memoryGiB": 64,
    "name": "ml.m5.4xlarge",
    "vcpuNum": 16
   },
   {
    "_defaultOrder": 8,
    "_isFastLaunch": false,
    "category": "General purpose",
    "gpuNum": 0,
    "hideHardwareSpecs": false,
    "memoryGiB": 128,
    "name": "ml.m5.8xlarge",
    "vcpuNum": 32
   },
   {
    "_defaultOrder": 9,
    "_isFastLaunch": false,
    "category": "General purpose",
    "gpuNum": 0,
    "hideHardwareSpecs": false,
    "memoryGiB": 192,
    "name": "ml.m5.12xlarge",
    "vcpuNum": 48
   },
   {
    "_defaultOrder": 10,
    "_isFastLaunch": false,
    "category": "General purpose",
    "gpuNum": 0,
    "hideHardwareSpecs": false,
    "memoryGiB": 256,
    "name": "ml.m5.16xlarge",
    "vcpuNum": 64
   },
   {
    "_defaultOrder": 11,
    "_isFastLaunch": false,
    "category": "General purpose",
    "gpuNum": 0,
    "hideHardwareSpecs": false,
    "memoryGiB": 384,
    "name": "ml.m5.24xlarge",
    "vcpuNum": 96
   },
   {
    "_defaultOrder": 12,
    "_isFastLaunch": false,
    "category": "General purpose",
    "gpuNum": 0,
    "hideHardwareSpecs": false,
    "memoryGiB": 8,
    "name": "ml.m5d.large",
    "vcpuNum": 2
   },
   {
    "_defaultOrder": 13,
    "_isFastLaunch": false,
    "category": "General purpose",
    "gpuNum": 0,
    "hideHardwareSpecs": false,
    "memoryGiB": 16,
    "name": "ml.m5d.xlarge",
    "vcpuNum": 4
   },
   {
    "_defaultOrder": 14,
    "_isFastLaunch": false,
    "category": "General purpose",
    "gpuNum": 0,
    "hideHardwareSpecs": false,
    "memoryGiB": 32,
    "name": "ml.m5d.2xlarge",
    "vcpuNum": 8
   },
   {
    "_defaultOrder": 15,
    "_isFastLaunch": false,
    "category": "General purpose",
    "gpuNum": 0,
    "hideHardwareSpecs": false,
    "memoryGiB": 64,
    "name": "ml.m5d.4xlarge",
    "vcpuNum": 16
   },
   {
    "_defaultOrder": 16,
    "_isFastLaunch": false,
    "category": "General purpose",
    "gpuNum": 0,
    "hideHardwareSpecs": false,
    "memoryGiB": 128,
    "name": "ml.m5d.8xlarge",
    "vcpuNum": 32
   },
   {
    "_defaultOrder": 17,
    "_isFastLaunch": false,
    "category": "General purpose",
    "gpuNum": 0,
    "hideHardwareSpecs": false,
    "memoryGiB": 192,
    "name": "ml.m5d.12xlarge",
    "vcpuNum": 48
   },
   {
    "_defaultOrder": 18,
    "_isFastLaunch": false,
    "category": "General purpose",
    "gpuNum": 0,
    "hideHardwareSpecs": false,
    "memoryGiB": 256,
    "name": "ml.m5d.16xlarge",
    "vcpuNum": 64
   },
   {
    "_defaultOrder": 19,
    "_isFastLaunch": false,
    "category": "General purpose",
    "gpuNum": 0,
    "hideHardwareSpecs": false,
    "memoryGiB": 384,
    "name": "ml.m5d.24xlarge",
    "vcpuNum": 96
   },
   {
    "_defaultOrder": 20,
    "_isFastLaunch": false,
    "category": "General purpose",
    "gpuNum": 0,
    "hideHardwareSpecs": true,
    "memoryGiB": 0,
    "name": "ml.geospatial.interactive",
    "supportedImageNames": [
     "sagemaker-geospatial-v1-0"
    ],
    "vcpuNum": 0
   },
   {
    "_defaultOrder": 21,
    "_isFastLaunch": true,
    "category": "Compute optimized",
    "gpuNum": 0,
    "hideHardwareSpecs": false,
    "memoryGiB": 4,
    "name": "ml.c5.large",
    "vcpuNum": 2
   },
   {
    "_defaultOrder": 22,
    "_isFastLaunch": false,
    "category": "Compute optimized",
    "gpuNum": 0,
    "hideHardwareSpecs": false,
    "memoryGiB": 8,
    "name": "ml.c5.xlarge",
    "vcpuNum": 4
   },
   {
    "_defaultOrder": 23,
    "_isFastLaunch": false,
    "category": "Compute optimized",
    "gpuNum": 0,
    "hideHardwareSpecs": false,
    "memoryGiB": 16,
    "name": "ml.c5.2xlarge",
    "vcpuNum": 8
   },
   {
    "_defaultOrder": 24,
    "_isFastLaunch": false,
    "category": "Compute optimized",
    "gpuNum": 0,
    "hideHardwareSpecs": false,
    "memoryGiB": 32,
    "name": "ml.c5.4xlarge",
    "vcpuNum": 16
   },
   {
    "_defaultOrder": 25,
    "_isFastLaunch": false,
    "category": "Compute optimized",
    "gpuNum": 0,
    "hideHardwareSpecs": false,
    "memoryGiB": 72,
    "name": "ml.c5.9xlarge",
    "vcpuNum": 36
   },
   {
    "_defaultOrder": 26,
    "_isFastLaunch": false,
    "category": "Compute optimized",
    "gpuNum": 0,
    "hideHardwareSpecs": false,
    "memoryGiB": 96,
    "name": "ml.c5.12xlarge",
    "vcpuNum": 48
   },
   {
    "_defaultOrder": 27,
    "_isFastLaunch": false,
    "category": "Compute optimized",
    "gpuNum": 0,
    "hideHardwareSpecs": false,
    "memoryGiB": 144,
    "name": "ml.c5.18xlarge",
    "vcpuNum": 72
   },
   {
    "_defaultOrder": 28,
    "_isFastLaunch": false,
    "category": "Compute optimized",
    "gpuNum": 0,
    "hideHardwareSpecs": false,
    "memoryGiB": 192,
    "name": "ml.c5.24xlarge",
    "vcpuNum": 96
   },
   {
    "_defaultOrder": 29,
    "_isFastLaunch": true,
    "category": "Accelerated computing",
    "gpuNum": 1,
    "hideHardwareSpecs": false,
    "memoryGiB": 16,
    "name": "ml.g4dn.xlarge",
    "vcpuNum": 4
   },
   {
    "_defaultOrder": 30,
    "_isFastLaunch": false,
    "category": "Accelerated computing",
    "gpuNum": 1,
    "hideHardwareSpecs": false,
    "memoryGiB": 32,
    "name": "ml.g4dn.2xlarge",
    "vcpuNum": 8
   },
   {
    "_defaultOrder": 31,
    "_isFastLaunch": false,
    "category": "Accelerated computing",
    "gpuNum": 1,
    "hideHardwareSpecs": false,
    "memoryGiB": 64,
    "name": "ml.g4dn.4xlarge",
    "vcpuNum": 16
   },
   {
    "_defaultOrder": 32,
    "_isFastLaunch": false,
    "category": "Accelerated computing",
    "gpuNum": 1,
    "hideHardwareSpecs": false,
    "memoryGiB": 128,
    "name": "ml.g4dn.8xlarge",
    "vcpuNum": 32
   },
   {
    "_defaultOrder": 33,
    "_isFastLaunch": false,
    "category": "Accelerated computing",
    "gpuNum": 4,
    "hideHardwareSpecs": false,
    "memoryGiB": 192,
    "name": "ml.g4dn.12xlarge",
    "vcpuNum": 48
   },
   {
    "_defaultOrder": 34,
    "_isFastLaunch": false,
    "category": "Accelerated computing",
    "gpuNum": 1,
    "hideHardwareSpecs": false,
    "memoryGiB": 256,
    "name": "ml.g4dn.16xlarge",
    "vcpuNum": 64
   },
   {
    "_defaultOrder": 35,
    "_isFastLaunch": false,
    "category": "Accelerated computing",
    "gpuNum": 1,
    "hideHardwareSpecs": false,
    "memoryGiB": 61,
    "name": "ml.p3.2xlarge",
    "vcpuNum": 8
   },
   {
    "_defaultOrder": 36,
    "_isFastLaunch": false,
    "category": "Accelerated computing",
    "gpuNum": 4,
    "hideHardwareSpecs": false,
    "memoryGiB": 244,
    "name": "ml.p3.8xlarge",
    "vcpuNum": 32
   },
   {
    "_defaultOrder": 37,
    "_isFastLaunch": false,
    "category": "Accelerated computing",
    "gpuNum": 8,
    "hideHardwareSpecs": false,
    "memoryGiB": 488,
    "name": "ml.p3.16xlarge",
    "vcpuNum": 64
   },
   {
    "_defaultOrder": 38,
    "_isFastLaunch": false,
    "category": "Accelerated computing",
    "gpuNum": 8,
    "hideHardwareSpecs": false,
    "memoryGiB": 768,
    "name": "ml.p3dn.24xlarge",
    "vcpuNum": 96
   },
   {
    "_defaultOrder": 39,
    "_isFastLaunch": false,
    "category": "Memory Optimized",
    "gpuNum": 0,
    "hideHardwareSpecs": false,
    "memoryGiB": 16,
    "name": "ml.r5.large",
    "vcpuNum": 2
   },
   {
    "_defaultOrder": 40,
    "_isFastLaunch": false,
    "category": "Memory Optimized",
    "gpuNum": 0,
    "hideHardwareSpecs": false,
    "memoryGiB": 32,
    "name": "ml.r5.xlarge",
    "vcpuNum": 4
   },
   {
    "_defaultOrder": 41,
    "_isFastLaunch": false,
    "category": "Memory Optimized",
    "gpuNum": 0,
    "hideHardwareSpecs": false,
    "memoryGiB": 64,
    "name": "ml.r5.2xlarge",
    "vcpuNum": 8
   },
   {
    "_defaultOrder": 42,
    "_isFastLaunch": false,
    "category": "Memory Optimized",
    "gpuNum": 0,
    "hideHardwareSpecs": false,
    "memoryGiB": 128,
    "name": "ml.r5.4xlarge",
    "vcpuNum": 16
   },
   {
    "_defaultOrder": 43,
    "_isFastLaunch": false,
    "category": "Memory Optimized",
    "gpuNum": 0,
    "hideHardwareSpecs": false,
    "memoryGiB": 256,
    "name": "ml.r5.8xlarge",
    "vcpuNum": 32
   },
   {
    "_defaultOrder": 44,
    "_isFastLaunch": false,
    "category": "Memory Optimized",
    "gpuNum": 0,
    "hideHardwareSpecs": false,
    "memoryGiB": 384,
    "name": "ml.r5.12xlarge",
    "vcpuNum": 48
   },
   {
    "_defaultOrder": 45,
    "_isFastLaunch": false,
    "category": "Memory Optimized",
    "gpuNum": 0,
    "hideHardwareSpecs": false,
    "memoryGiB": 512,
    "name": "ml.r5.16xlarge",
    "vcpuNum": 64
   },
   {
    "_defaultOrder": 46,
    "_isFastLaunch": false,
    "category": "Memory Optimized",
    "gpuNum": 0,
    "hideHardwareSpecs": false,
    "memoryGiB": 768,
    "name": "ml.r5.24xlarge",
    "vcpuNum": 96
   },
   {
    "_defaultOrder": 47,
    "_isFastLaunch": false,
    "category": "Accelerated computing",
    "gpuNum": 1,
    "hideHardwareSpecs": false,
    "memoryGiB": 16,
    "name": "ml.g5.xlarge",
    "vcpuNum": 4
   },
   {
    "_defaultOrder": 48,
    "_isFastLaunch": false,
    "category": "Accelerated computing",
    "gpuNum": 1,
    "hideHardwareSpecs": false,
    "memoryGiB": 32,
    "name": "ml.g5.2xlarge",
    "vcpuNum": 8
   },
   {
    "_defaultOrder": 49,
    "_isFastLaunch": false,
    "category": "Accelerated computing",
    "gpuNum": 1,
    "hideHardwareSpecs": false,
    "memoryGiB": 64,
    "name": "ml.g5.4xlarge",
    "vcpuNum": 16
   },
   {
    "_defaultOrder": 50,
    "_isFastLaunch": false,
    "category": "Accelerated computing",
    "gpuNum": 1,
    "hideHardwareSpecs": false,
    "memoryGiB": 128,
    "name": "ml.g5.8xlarge",
    "vcpuNum": 32
   },
   {
    "_defaultOrder": 51,
    "_isFastLaunch": false,
    "category": "Accelerated computing",
    "gpuNum": 1,
    "hideHardwareSpecs": false,
    "memoryGiB": 256,
    "name": "ml.g5.16xlarge",
    "vcpuNum": 64
   },
   {
    "_defaultOrder": 52,
    "_isFastLaunch": false,
    "category": "Accelerated computing",
    "gpuNum": 4,
    "hideHardwareSpecs": false,
    "memoryGiB": 192,
    "name": "ml.g5.12xlarge",
    "vcpuNum": 48
   },
   {
    "_defaultOrder": 53,
    "_isFastLaunch": false,
    "category": "Accelerated computing",
    "gpuNum": 4,
    "hideHardwareSpecs": false,
    "memoryGiB": 384,
    "name": "ml.g5.24xlarge",
    "vcpuNum": 96
   },
   {
    "_defaultOrder": 54,
    "_isFastLaunch": false,
    "category": "Accelerated computing",
    "gpuNum": 8,
    "hideHardwareSpecs": false,
    "memoryGiB": 768,
    "name": "ml.g5.48xlarge",
    "vcpuNum": 192
   },
   {
    "_defaultOrder": 55,
    "_isFastLaunch": false,
    "category": "Accelerated computing",
    "gpuNum": 8,
    "hideHardwareSpecs": false,
    "memoryGiB": 1152,
    "name": "ml.p4d.24xlarge",
    "vcpuNum": 96
   },
   {
    "_defaultOrder": 56,
    "_isFastLaunch": false,
    "category": "Accelerated computing",
    "gpuNum": 8,
    "hideHardwareSpecs": false,
    "memoryGiB": 1152,
    "name": "ml.p4de.24xlarge",
    "vcpuNum": 96
   }
  ],
  "instance_type": "ml.g5.2xlarge",
  "kernelspec": {
   "display_name": "Python 3 (PyTorch 2.0.0 Python 3.10 GPU Optimized)",
   "language": "python",
   "name": "python3__SAGEMAKER_INTERNAL__arn:aws:sagemaker:us-east-1:081325390199:image/pytorch-2.0.0-gpu-py310"
  },
  "language_info": {
   "codemirror_mode": {
    "name": "ipython",
    "version": 3
   },
   "file_extension": ".py",
   "mimetype": "text/x-python",
   "name": "python",
   "nbconvert_exporter": "python",
   "pygments_lexer": "ipython3",
   "version": "3.10.8"
  }
 },
 "nbformat": 4,
 "nbformat_minor": 5
}
