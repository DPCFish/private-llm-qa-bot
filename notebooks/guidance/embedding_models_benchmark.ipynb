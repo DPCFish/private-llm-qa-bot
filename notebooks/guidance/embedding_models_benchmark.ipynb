{
 "cells": [
  {
   "cell_type": "code",
   "execution_count": 73,
   "id": "e11099e3-8296-4a12-b240-fdd504a3fa70",
   "metadata": {
    "tags": []
   },
   "outputs": [
    {
     "name": "stdout",
     "output_type": "stream",
     "text": [
      "\u001b[31mERROR: pip's dependency resolver does not currently take into account all the packages that are installed. This behaviour is the source of the following dependency conflicts.\n",
      "spyder 5.3.3 requires pyqt5<5.16, which is not installed.\n",
      "spyder 5.3.3 requires pyqtwebengine<5.16, which is not installed.\n",
      "panel 0.13.1 requires bokeh<2.5.0,>=2.4.0, but you have bokeh 3.3.2 which is incompatible.\n",
      "spyder 5.3.3 requires ipython<8.0.0,>=7.31.1, but you have ipython 8.18.1 which is incompatible.\n",
      "spyder 5.3.3 requires pylint<3.0,>=2.5.0, but you have pylint 3.0.2 which is incompatible.\u001b[0m\u001b[31m\n",
      "\u001b[0m\u001b[33mWARNING: Running pip as the 'root' user can result in broken permissions and conflicting behaviour with the system package manager. It is recommended to use a virtual environment instead: https://pip.pypa.io/warnings/venv\u001b[0m\u001b[33m\n",
      "\u001b[0m\n",
      "\u001b[1m[\u001b[0m\u001b[34;49mnotice\u001b[0m\u001b[1;39;49m]\u001b[0m\u001b[39;49m A new release of pip is available: \u001b[0m\u001b[31;49m23.3.1\u001b[0m\u001b[39;49m -> \u001b[0m\u001b[32;49m24.0\u001b[0m\n",
      "\u001b[1m[\u001b[0m\u001b[34;49mnotice\u001b[0m\u001b[1;39;49m]\u001b[0m\u001b[39;49m To update, run: \u001b[0m\u001b[32;49mpip install --upgrade pip\u001b[0m\n"
     ]
    }
   ],
   "source": [
    "!pip install -Uq sentence-transformers"
   ]
  },
  {
   "cell_type": "code",
   "execution_count": 338,
   "id": "138f2c75-f0b7-420c-8ffd-f7a240e0d680",
   "metadata": {
    "tags": []
   },
   "outputs": [
    {
     "name": "stdout",
     "output_type": "stream",
     "text": [
      "Collecting langchain-openai\n",
      "  Downloading langchain_openai-0.0.5-py3-none-any.whl.metadata (2.5 kB)\n",
      "Collecting langchain-core<0.2,>=0.1.16 (from langchain-openai)\n",
      "  Downloading langchain_core-0.1.18-py3-none-any.whl.metadata (6.0 kB)\n",
      "Requirement already satisfied: numpy<2,>=1 in /opt/conda/lib/python3.10/site-packages (from langchain-openai) (1.26.2)\n",
      "Collecting openai<2.0.0,>=1.10.0 (from langchain-openai)\n",
      "  Downloading openai-1.11.1-py3-none-any.whl.metadata (18 kB)\n",
      "Collecting tiktoken<0.6.0,>=0.5.2 (from langchain-openai)\n",
      "  Downloading tiktoken-0.5.2-cp310-cp310-manylinux_2_17_x86_64.manylinux2014_x86_64.whl.metadata (6.6 kB)\n",
      "Requirement already satisfied: PyYAML>=5.3 in /opt/conda/lib/python3.10/site-packages/PyYAML-6.0-py3.10-linux-x86_64.egg (from langchain-core<0.2,>=0.1.16->langchain-openai) (6.0)\n",
      "Requirement already satisfied: anyio<5,>=3 in /opt/conda/lib/python3.10/site-packages (from langchain-core<0.2,>=0.1.16->langchain-openai) (3.5.0)\n",
      "Collecting jsonpatch<2.0,>=1.33 (from langchain-core<0.2,>=0.1.16->langchain-openai)\n",
      "  Downloading jsonpatch-1.33-py2.py3-none-any.whl.metadata (3.0 kB)\n",
      "Collecting langsmith<0.1,>=0.0.83 (from langchain-core<0.2,>=0.1.16->langchain-openai)\n",
      "  Downloading langsmith-0.0.86-py3-none-any.whl.metadata (10 kB)\n",
      "Collecting packaging<24.0,>=23.2 (from langchain-core<0.2,>=0.1.16->langchain-openai)\n",
      "  Downloading packaging-23.2-py3-none-any.whl.metadata (3.2 kB)\n",
      "Requirement already satisfied: pydantic<3,>=1 in /opt/conda/lib/python3.10/site-packages (from langchain-core<0.2,>=0.1.16->langchain-openai) (1.10.13)\n",
      "Requirement already satisfied: requests<3,>=2 in /opt/conda/lib/python3.10/site-packages (from langchain-core<0.2,>=0.1.16->langchain-openai) (2.31.0)\n",
      "Collecting tenacity<9.0.0,>=8.1.0 (from langchain-core<0.2,>=0.1.16->langchain-openai)\n",
      "  Downloading tenacity-8.2.3-py3-none-any.whl.metadata (1.0 kB)\n",
      "Collecting distro<2,>=1.7.0 (from openai<2.0.0,>=1.10.0->langchain-openai)\n",
      "  Downloading distro-1.9.0-py3-none-any.whl.metadata (6.8 kB)\n",
      "Collecting httpx<1,>=0.23.0 (from openai<2.0.0,>=1.10.0->langchain-openai)\n",
      "  Downloading httpx-0.26.0-py3-none-any.whl.metadata (7.6 kB)\n",
      "Requirement already satisfied: sniffio in /opt/conda/lib/python3.10/site-packages (from openai<2.0.0,>=1.10.0->langchain-openai) (1.2.0)\n",
      "Requirement already satisfied: tqdm>4 in /opt/conda/lib/python3.10/site-packages (from openai<2.0.0,>=1.10.0->langchain-openai) (4.64.1)\n",
      "Requirement already satisfied: typing-extensions<5,>=4.7 in /opt/conda/lib/python3.10/site-packages (from openai<2.0.0,>=1.10.0->langchain-openai) (4.9.0)\n",
      "Requirement already satisfied: regex>=2022.1.18 in /opt/conda/lib/python3.10/site-packages (from tiktoken<0.6.0,>=0.5.2->langchain-openai) (2022.7.9)\n",
      "Requirement already satisfied: idna>=2.8 in /opt/conda/lib/python3.10/site-packages (from anyio<5,>=3->langchain-core<0.2,>=0.1.16->langchain-openai) (3.3)\n",
      "Requirement already satisfied: certifi in /opt/conda/lib/python3.10/site-packages (from httpx<1,>=0.23.0->openai<2.0.0,>=1.10.0->langchain-openai) (2023.11.17)\n",
      "Collecting httpcore==1.* (from httpx<1,>=0.23.0->openai<2.0.0,>=1.10.0->langchain-openai)\n",
      "  Downloading httpcore-1.0.2-py3-none-any.whl.metadata (20 kB)\n",
      "Requirement already satisfied: h11<0.15,>=0.13 in /opt/conda/lib/python3.10/site-packages (from httpcore==1.*->httpx<1,>=0.23.0->openai<2.0.0,>=1.10.0->langchain-openai) (0.14.0)\n",
      "Requirement already satisfied: jsonpointer>=1.9 in /opt/conda/lib/python3.10/site-packages (from jsonpatch<2.0,>=1.33->langchain-core<0.2,>=0.1.16->langchain-openai) (2.1)\n",
      "Requirement already satisfied: charset-normalizer<4,>=2 in /opt/conda/lib/python3.10/site-packages (from requests<3,>=2->langchain-core<0.2,>=0.1.16->langchain-openai) (2.0.4)\n",
      "Requirement already satisfied: urllib3<3,>=1.21.1 in /opt/conda/lib/python3.10/site-packages (from requests<3,>=2->langchain-core<0.2,>=0.1.16->langchain-openai) (1.26.18)\n",
      "Downloading langchain_openai-0.0.5-py3-none-any.whl (29 kB)\n",
      "Downloading langchain_core-0.1.18-py3-none-any.whl (237 kB)\n",
      "\u001b[2K   \u001b[90m━━━━━━━━━━━━━━━━━━━━━━━━━━━━━━━━━━━━━━━━\u001b[0m \u001b[32m237.0/237.0 kB\u001b[0m \u001b[31m2.8 MB/s\u001b[0m eta \u001b[36m0:00:00\u001b[0m:00:01\u001b[0m\n",
      "\u001b[?25hDownloading openai-1.11.1-py3-none-any.whl (226 kB)\n",
      "\u001b[2K   \u001b[90m━━━━━━━━━━━━━━━━━━━━━━━━━━━━━━━━━━━━━━━━\u001b[0m \u001b[32m226.1/226.1 kB\u001b[0m \u001b[31m3.0 MB/s\u001b[0m eta \u001b[36m0:00:00\u001b[0m:00:01\u001b[0m\n",
      "\u001b[?25hDownloading tiktoken-0.5.2-cp310-cp310-manylinux_2_17_x86_64.manylinux2014_x86_64.whl (2.0 MB)\n",
      "\u001b[2K   \u001b[90m━━━━━━━━━━━━━━━━━━━━━━━━━━━━━━━━━━━━━━━━\u001b[0m \u001b[32m2.0/2.0 MB\u001b[0m \u001b[31m14.9 MB/s\u001b[0m eta \u001b[36m0:00:00\u001b[0m00:01\u001b[0m\n",
      "\u001b[?25hDownloading distro-1.9.0-py3-none-any.whl (20 kB)\n",
      "Downloading httpx-0.26.0-py3-none-any.whl (75 kB)\n",
      "\u001b[2K   \u001b[90m━━━━━━━━━━━━━━━━━━━━━━━━━━━━━━━━━━━━━━━━\u001b[0m \u001b[32m75.9/75.9 kB\u001b[0m \u001b[31m850.9 kB/s\u001b[0m eta \u001b[36m0:00:00\u001b[0ma \u001b[36m0:00:01\u001b[0m\n",
      "\u001b[?25hDownloading httpcore-1.0.2-py3-none-any.whl (76 kB)\n",
      "\u001b[2K   \u001b[90m━━━━━━━━━━━━━━━━━━━━━━━━━━━━━━━━━━━━━━━━\u001b[0m \u001b[32m76.9/76.9 kB\u001b[0m \u001b[31m855.5 kB/s\u001b[0m eta \u001b[36m0:00:00\u001b[0m \u001b[36m0:00:01\u001b[0m\n",
      "\u001b[?25hDownloading jsonpatch-1.33-py2.py3-none-any.whl (12 kB)\n",
      "Downloading langsmith-0.0.86-py3-none-any.whl (54 kB)\n",
      "\u001b[2K   \u001b[90m━━━━━━━━━━━━━━━━━━━━━━━━━━━━━━━━━━━━━━━━\u001b[0m \u001b[32m54.4/54.4 kB\u001b[0m \u001b[31m590.0 kB/s\u001b[0m eta \u001b[36m0:00:00\u001b[0ma \u001b[36m0:00:01\u001b[0m\n",
      "\u001b[?25hDownloading packaging-23.2-py3-none-any.whl (53 kB)\n",
      "\u001b[2K   \u001b[90m━━━━━━━━━━━━━━━━━━━━━━━━━━━━━━━━━━━━━━━━\u001b[0m \u001b[32m53.0/53.0 kB\u001b[0m \u001b[31m625.2 kB/s\u001b[0m eta \u001b[36m0:00:00\u001b[0ma \u001b[36m0:00:01\u001b[0m\n",
      "\u001b[?25hDownloading tenacity-8.2.3-py3-none-any.whl (24 kB)\n",
      "Installing collected packages: tenacity, packaging, jsonpatch, httpcore, distro, tiktoken, langsmith, httpx, openai, langchain-core, langchain-openai\n",
      "  Attempting uninstall: tenacity\n",
      "    Found existing installation: tenacity 8.0.1\n",
      "    Uninstalling tenacity-8.0.1:\n",
      "      Successfully uninstalled tenacity-8.0.1\n",
      "  Attempting uninstall: packaging\n",
      "    Found existing installation: packaging 21.3\n",
      "    Uninstalling packaging-21.3:\n",
      "      Successfully uninstalled packaging-21.3\n",
      "  Attempting uninstall: jsonpatch\n",
      "    Found existing installation: jsonpatch 1.32\n",
      "    Uninstalling jsonpatch-1.32:\n",
      "      Successfully uninstalled jsonpatch-1.32\n",
      "\u001b[31mERROR: pip's dependency resolver does not currently take into account all the packages that are installed. This behaviour is the source of the following dependency conflicts.\n",
      "spyder 5.3.3 requires pyqt5<5.16, which is not installed.\n",
      "spyder 5.3.3 requires pyqtwebengine<5.16, which is not installed.\n",
      "distributed 2022.7.0 requires tornado<6.2,>=6.0.3, but you have tornado 6.4 which is incompatible.\n",
      "jupyterlab 3.4.4 requires jupyter-server~=1.16, but you have jupyter-server 2.12.1 which is incompatible.\n",
      "jupyterlab-server 2.10.3 requires jupyter-server~=1.4, but you have jupyter-server 2.12.1 which is incompatible.\n",
      "notebook 6.5.6 requires jupyter-client<8,>=5.3.4, but you have jupyter-client 8.6.0 which is incompatible.\n",
      "notebook 6.5.6 requires pyzmq<25,>=17, but you have pyzmq 25.1.2 which is incompatible.\n",
      "panel 0.13.1 requires bokeh<2.5.0,>=2.4.0, but you have bokeh 3.3.2 which is incompatible.\n",
      "sagemaker-datawrangler 0.4.3 requires sagemaker-data-insights==0.4.0, but you have sagemaker-data-insights 0.3.3 which is incompatible.\n",
      "spyder 5.3.3 requires ipython<8.0.0,>=7.31.1, but you have ipython 8.18.1 which is incompatible.\n",
      "spyder 5.3.3 requires pylint<3.0,>=2.5.0, but you have pylint 3.0.2 which is incompatible.\n",
      "spyder-kernels 2.3.3 requires ipython<8,>=7.31.1; python_version >= \"3\", but you have ipython 8.18.1 which is incompatible.\n",
      "spyder-kernels 2.3.3 requires jupyter-client<8,>=7.3.4; python_version >= \"3\", but you have jupyter-client 8.6.0 which is incompatible.\u001b[0m\u001b[31m\n",
      "\u001b[0mSuccessfully installed distro-1.9.0 httpcore-1.0.2 httpx-0.26.0 jsonpatch-1.33 langchain-core-0.1.18 langchain-openai-0.0.5 langsmith-0.0.86 openai-1.11.1 packaging-23.2 tenacity-8.2.3 tiktoken-0.5.2\n",
      "\u001b[33mWARNING: Running pip as the 'root' user can result in broken permissions and conflicting behaviour with the system package manager. It is recommended to use a virtual environment instead: https://pip.pypa.io/warnings/venv\u001b[0m\u001b[33m\n",
      "\u001b[0m\n",
      "\u001b[1m[\u001b[0m\u001b[34;49mnotice\u001b[0m\u001b[1;39;49m]\u001b[0m\u001b[39;49m A new release of pip is available: \u001b[0m\u001b[31;49m23.3.1\u001b[0m\u001b[39;49m -> \u001b[0m\u001b[32;49m24.0\u001b[0m\n",
      "\u001b[1m[\u001b[0m\u001b[34;49mnotice\u001b[0m\u001b[1;39;49m]\u001b[0m\u001b[39;49m To update, run: \u001b[0m\u001b[32;49mpip install --upgrade pip\u001b[0m\n"
     ]
    }
   ],
   "source": [
    "!pip install langchain-openai"
   ]
  },
  {
   "cell_type": "code",
   "execution_count": 74,
   "id": "0b64ebab-6768-4fdc-8c2b-317cba66b7c7",
   "metadata": {
    "tags": []
   },
   "outputs": [],
   "source": [
    "import boto3\n",
    "import json\n",
    "import os"
   ]
  },
  {
   "cell_type": "code",
   "execution_count": 60,
   "id": "115f14ef-710c-4d5d-8eff-4c3352eac822",
   "metadata": {
    "tags": []
   },
   "outputs": [],
   "source": [
    "bedrock = boto3.client(service_name='bedrock-runtime',\n",
    "                       region_name= 'us-west-2')\n",
    "smr_client = boto3.client(\"sagemaker-runtime\")"
   ]
  },
  {
   "cell_type": "code",
   "execution_count": 61,
   "id": "9383e3df-27fd-449a-80be-c2afa09f5d83",
   "metadata": {
    "tags": []
   },
   "outputs": [],
   "source": [
    "BEDROCK_EMBEDDING_MODELID_LIST = [\"cohere.embed-multilingual-v3\",\"cohere.embed-english-v3\",\"amazon.titan-embed-text-v1\"]"
   ]
  },
  {
   "cell_type": "code",
   "execution_count": 62,
   "id": "08dac415-bae9-452d-af10-762547ab10e9",
   "metadata": {
    "tags": []
   },
   "outputs": [],
   "source": [
    "def get_embedding_bedrock(texts,model_id):\n",
    "    provider = model_id.split(\".\")[0]\n",
    "    if provider == \"cohere\":\n",
    "        body = json.dumps({\n",
    "            \"texts\": [texts] if isinstance(texts, str) else texts,\n",
    "            \"input_type\": \"search_document\"\n",
    "        })\n",
    "    else:\n",
    "        # includes common provider == \"amazon\"\n",
    "        body = json.dumps({\n",
    "            \"inputText\": texts if isinstance(texts, str) else texts[0],\n",
    "        })\n",
    "    bedrock_resp = bedrock.invoke_model(\n",
    "            body=body,\n",
    "            modelId=model_id,\n",
    "            accept=\"application/json\",\n",
    "            contentType=\"application/json\"\n",
    "        )\n",
    "    response_body = json.loads(bedrock_resp.get('body').read())\n",
    "    if provider == \"cohere\":\n",
    "        embeddings = response_body['embeddings']\n",
    "    else:\n",
    "        embeddings = [response_body['embedding']]\n",
    "    return embeddings"
   ]
  },
  {
   "cell_type": "code",
   "execution_count": 63,
   "id": "a904b2fd-e527-4bb7-897e-4a2d60b64879",
   "metadata": {
    "tags": []
   },
   "outputs": [],
   "source": [
    "def get_embedding(smr_client, text_arrs, endpoint_name):\n",
    "    if endpoint_name in BEDROCK_EMBEDDING_MODELID_LIST:\n",
    "        return get_embedding_bedrock(text_arrs,endpoint_name)\n",
    "    \n",
    "        \n",
    "    parameters = {\n",
    "    }\n",
    "\n",
    "    response_model = smr_client.invoke_endpoint(\n",
    "                EndpointName=endpoint_name,\n",
    "                Body=json.dumps(\n",
    "                {\n",
    "                    \"inputs\": text_arrs,\n",
    "                    \"parameters\": parameters,\n",
    "                    \"is_query\" : False,\n",
    "                    \"instruction\" :  None\n",
    "                }\n",
    "                ),\n",
    "                ContentType=\"application/json\",\n",
    "            )\n",
    "    \n",
    "    json_str = response_model['Body'].read().decode('utf8')\n",
    "    json_obj = json.loads(json_str)\n",
    "    embeddings = json_obj[\"sentence_embeddings\"]\n",
    "    \n",
    "    return embeddings"
   ]
  },
  {
   "cell_type": "code",
   "execution_count": 11,
   "id": "0c8a8186-0faf-44aa-bce5-fffc77280833",
   "metadata": {
    "tags": []
   },
   "outputs": [],
   "source": [
    "import numpy as np\n",
    "def cos_sim(vector1, vector2):\n",
    "    dot_product = np.dot(vector1, vector2)\n",
    "    norm_v1 = np.linalg.norm(vector1)\n",
    "    norm_v2 = np.linalg.norm(vector2)\n",
    "    cos_sim = dot_product / (norm_v1 * norm_v2)\n",
    "    return cos_sim"
   ]
  },
  {
   "cell_type": "code",
   "execution_count": 12,
   "id": "86b7603a-9b98-47de-9ab8-f34c4ab73ff2",
   "metadata": {
    "tags": []
   },
   "outputs": [],
   "source": [
    "model1 = 'bge-m3-2024-02-04-08-46-45-274-endpoint'\n",
    "model2 = 'cohere.embed-multilingual-v3'"
   ]
  },
  {
   "cell_type": "code",
   "execution_count": 22,
   "id": "e63ba4b8-0ea5-4bac-9227-40ce02497089",
   "metadata": {
    "tags": []
   },
   "outputs": [],
   "source": [
    "prompts1 = [\"How to compete with OCI\",\"如何与OCI竞争\",\"如何與OCI競爭\",\"how to compete with Azure?\",\"如何与Azure竞争\"]\n",
    "prompts2 = [\"战报里的属性，其他加成都有什么？\",\"无语了，没见过这么垃圾的玩意\",\"回复的什么乱七八糟的\",\"你这个系统弱智啊\",\"你们的服务烂透了\"]"
   ]
  },
  {
   "cell_type": "code",
   "execution_count": 23,
   "id": "928a04fa-e885-48c6-b211-69d3259d156d",
   "metadata": {
    "tags": []
   },
   "outputs": [],
   "source": [
    "#BGE\n",
    "emb = get_embedding(smr_client,prompts1,model1)"
   ]
  },
  {
   "cell_type": "code",
   "execution_count": 24,
   "id": "69dc3529-f005-4bb4-808e-5c4d3e932ce8",
   "metadata": {
    "tags": []
   },
   "outputs": [
    {
     "data": {
      "text/plain": [
       "['0->1:0.9578159281879426',\n",
       " '0->2:0.9591341398002522',\n",
       " '0->3:0.587384531840191',\n",
       " '0->4:0.5893676694480744',\n",
       " '1->2:0.9855927192713957',\n",
       " '1->3:0.654870073817726',\n",
       " '1->4:0.6771000040973838',\n",
       " '2->3:0.6409406130635309',\n",
       " '2->4:0.6616086197159503',\n",
       " '3->4:0.9335057855472207']"
      ]
     },
     "execution_count": 24,
     "metadata": {},
     "output_type": "execute_result"
    }
   ],
   "source": [
    "[f\"{i}->{j}:{cos_sim(emb[i],emb[j])}\" for i in range(len(emb)) for j in range(len(emb)) if i<j]"
   ]
  },
  {
   "cell_type": "code",
   "execution_count": 25,
   "id": "bf0fcb18-6343-4f26-bab0-ede4602f599c",
   "metadata": {
    "tags": []
   },
   "outputs": [],
   "source": [
    "#coherer\n",
    "emb = get_embedding(smr_client,prompts1,model2)"
   ]
  },
  {
   "cell_type": "code",
   "execution_count": 26,
   "id": "fcd377ef-2f76-47ab-af19-202b6f15a0bc",
   "metadata": {
    "tags": []
   },
   "outputs": [
    {
     "data": {
      "text/plain": [
       "['0->1:0.8052604221203034',\n",
       " '0->2:0.8250860994168235',\n",
       " '0->3:0.76823627327943',\n",
       " '0->4:0.6520136517935383',\n",
       " '1->2:0.9519627621491288',\n",
       " '1->3:0.6575757605314292',\n",
       " '1->4:0.8483881001910436',\n",
       " '2->3:0.6611007312877046',\n",
       " '2->4:0.806612793579891',\n",
       " '3->4:0.798907155186627']"
      ]
     },
     "execution_count": 26,
     "metadata": {},
     "output_type": "execute_result"
    }
   ],
   "source": [
    "[f\"{i}->{j}:{cos_sim(emb[i],emb[j])}\" for i in range(len(emb)) for j in range(len(emb)) if i<j]"
   ]
  },
  {
   "cell_type": "markdown",
   "id": "fe44fb58-67cc-422f-a658-54de6a123382",
   "metadata": {},
   "source": [
    "## 读取example 数据集"
   ]
  },
  {
   "cell_type": "code",
   "execution_count": 329,
   "id": "e80723e3-0572-4549-b1d2-04e8d7c0c4e4",
   "metadata": {
    "tags": []
   },
   "outputs": [],
   "source": [
    "path = '../../docs/intentions'\n",
    "files = [ f\"{path}/{fn}\" for fn in os.listdir(path) if fn != '.ipynb_checkpoints']"
   ]
  },
  {
   "cell_type": "code",
   "execution_count": 330,
   "id": "f64e8235-fee9-4187-88d4-18479556e762",
   "metadata": {
    "tags": []
   },
   "outputs": [
    {
     "data": {
      "text/plain": [
       "['../../docs/intentions/conversations.example',\n",
       " '../../docs/intentions/aws_service_status.example',\n",
       " '../../docs/intentions/comfort.example',\n",
       " '../../docs/intentions/aws_faq.example',\n",
       " '../../docs/intentions/assist.example',\n",
       " '../../docs/intentions/abbr.example',\n",
       " '../../docs/intentions/get_contact.example',\n",
       " '../../docs/intentions/aws_price.example',\n",
       " '../../docs/intentions/transfer.example']"
      ]
     },
     "execution_count": 330,
     "metadata": {},
     "output_type": "execute_result"
    }
   ],
   "source": [
    "files"
   ]
  },
  {
   "cell_type": "code",
   "execution_count": 57,
   "id": "f474a917-8f1c-4838-8890-5b96d7cb6653",
   "metadata": {
    "tags": []
   },
   "outputs": [],
   "source": [
    "data_groups = []"
   ]
  },
  {
   "cell_type": "code",
   "execution_count": 58,
   "id": "4300a95f-f76c-4aca-ada0-701d62675a63",
   "metadata": {
    "tags": []
   },
   "outputs": [],
   "source": [
    "for file in files:\n",
    "    with open(file,'r') as f:\n",
    "        content = json.loads(f.read())\n",
    "        func = content['examples'][0]['detection']['func']\n",
    "        queries = [ [it['query'],func] for it in content['examples']]\n",
    "        data_groups += queries"
   ]
  },
  {
   "cell_type": "code",
   "execution_count": 64,
   "id": "08ed6d28-8a92-4609-955e-095bdce04e9c",
   "metadata": {
    "tags": []
   },
   "outputs": [
    {
     "data": {
      "text/plain": [
       "[['早上好，你好吗?', 'chat'], ['你好', 'chat']]"
      ]
     },
     "execution_count": 64,
     "metadata": {},
     "output_type": "execute_result"
    }
   ],
   "source": [
    "data_groups[:2]"
   ]
  },
  {
   "cell_type": "code",
   "execution_count": 68,
   "id": "659d3d66-cc2e-4fdd-9bef-2539c28b4bcc",
   "metadata": {
    "tags": []
   },
   "outputs": [],
   "source": [
    "inputs = [i[0] for i in data_groups]"
   ]
  },
  {
   "cell_type": "code",
   "execution_count": 337,
   "id": "5773ef80-b802-468f-80cb-99e96931935d",
   "metadata": {
    "tags": []
   },
   "outputs": [
    {
     "data": {
      "text/html": [
       "<div>\n",
       "<style scoped>\n",
       "    .dataframe tbody tr th:only-of-type {\n",
       "        vertical-align: middle;\n",
       "    }\n",
       "\n",
       "    .dataframe tbody tr th {\n",
       "        vertical-align: top;\n",
       "    }\n",
       "\n",
       "    .dataframe thead th {\n",
       "        text-align: right;\n",
       "    }\n",
       "</style>\n",
       "<table border=\"1\" class=\"dataframe\">\n",
       "  <thead>\n",
       "    <tr style=\"text-align: right;\">\n",
       "      <th></th>\n",
       "      <th>example</th>\n",
       "      <th>intent</th>\n",
       "    </tr>\n",
       "  </thead>\n",
       "  <tbody>\n",
       "    <tr>\n",
       "      <th>43</th>\n",
       "      <td>怎么提交FOOB？</td>\n",
       "      <td>QA</td>\n",
       "    </tr>\n",
       "    <tr>\n",
       "      <th>49</th>\n",
       "      <td>需要提前多久申请FOOB？</td>\n",
       "      <td>QA</td>\n",
       "    </tr>\n",
       "    <tr>\n",
       "      <th>119</th>\n",
       "      <td>c5.xlarge的windows实例价格？</td>\n",
       "      <td>ec2_price</td>\n",
       "    </tr>\n",
       "    <tr>\n",
       "      <th>105</th>\n",
       "      <td>Lily 负责哪一部份？？</td>\n",
       "      <td>get_contact</td>\n",
       "    </tr>\n",
       "    <tr>\n",
       "      <th>64</th>\n",
       "      <td>ODCR预留怎么计费？</td>\n",
       "      <td>QA</td>\n",
       "    </tr>\n",
       "    <tr>\n",
       "      <th>7</th>\n",
       "      <td>蛋糕是一个谎言.</td>\n",
       "      <td>chat</td>\n",
       "    </tr>\n",
       "    <tr>\n",
       "      <th>79</th>\n",
       "      <td>改写得更简练，但是要适合口述演讲，不能机械化</td>\n",
       "      <td>assist</td>\n",
       "    </tr>\n",
       "    <tr>\n",
       "      <th>58</th>\n",
       "      <td>in what senarios, I need FOOB?</td>\n",
       "      <td>QA</td>\n",
       "    </tr>\n",
       "    <tr>\n",
       "      <th>6</th>\n",
       "      <td>我在做个东西.</td>\n",
       "      <td>chat</td>\n",
       "    </tr>\n",
       "    <tr>\n",
       "      <th>19</th>\n",
       "      <td>今天心情有点糟</td>\n",
       "      <td>chat</td>\n",
       "    </tr>\n",
       "    <tr>\n",
       "      <th>100</th>\n",
       "      <td>CSDC是啥？</td>\n",
       "      <td>explain_abbr</td>\n",
       "    </tr>\n",
       "    <tr>\n",
       "      <th>24</th>\n",
       "      <td>quicksight在中国区可用吗？</td>\n",
       "      <td>service_availability</td>\n",
       "    </tr>\n",
       "    <tr>\n",
       "      <th>112</th>\n",
       "      <td>Sagemaker相关问题应该联系谁？</td>\n",
       "      <td>get_contact</td>\n",
       "    </tr>\n",
       "    <tr>\n",
       "      <th>62</th>\n",
       "      <td>how to request for p4d, p5</td>\n",
       "      <td>QA</td>\n",
       "    </tr>\n",
       "    <tr>\n",
       "      <th>89</th>\n",
       "      <td>帮我写一段适用于sdxl生成图片的prompt，要求效果好</td>\n",
       "      <td>assist</td>\n",
       "    </tr>\n",
       "    <tr>\n",
       "      <th>18</th>\n",
       "      <td>中国首都是哪？</td>\n",
       "      <td>chat</td>\n",
       "    </tr>\n",
       "    <tr>\n",
       "      <th>123</th>\n",
       "      <td>g4dn.2xlarge在美西2的OnDemand什么价格？</td>\n",
       "      <td>ec2_price</td>\n",
       "    </tr>\n",
       "    <tr>\n",
       "      <th>60</th>\n",
       "      <td>请用中文回答 what if the customer has EBS requirement</td>\n",
       "      <td>QA</td>\n",
       "    </tr>\n",
       "    <tr>\n",
       "      <th>85</th>\n",
       "      <td>给我一段脚本，实现连接mysql数据库</td>\n",
       "      <td>assist</td>\n",
       "    </tr>\n",
       "    <tr>\n",
       "      <th>121</th>\n",
       "      <td>c5.4x的按需实例什么价格？</td>\n",
       "      <td>ec2_price</td>\n",
       "    </tr>\n",
       "  </tbody>\n",
       "</table>\n",
       "</div>"
      ],
      "text/plain": [
       "                                             example                intent\n",
       "43                                         怎么提交FOOB？                    QA\n",
       "49                                     需要提前多久申请FOOB？                    QA\n",
       "119                           c5.xlarge的windows实例价格？             ec2_price\n",
       "105                                    Lily 负责哪一部份？？           get_contact\n",
       "64                                       ODCR预留怎么计费？                    QA\n",
       "7                                           蛋糕是一个谎言.                  chat\n",
       "79                            改写得更简练，但是要适合口述演讲，不能机械化                assist\n",
       "58                    in what senarios, I need FOOB?                    QA\n",
       "6                                            我在做个东西.                  chat\n",
       "19                                           今天心情有点糟                  chat\n",
       "100                                          CSDC是啥？          explain_abbr\n",
       "24                                quicksight在中国区可用吗？  service_availability\n",
       "112                              Sagemaker相关问题应该联系谁？           get_contact\n",
       "62                        how to request for p4d, p5                    QA\n",
       "89                     帮我写一段适用于sdxl生成图片的prompt，要求效果好                assist\n",
       "18                                           中国首都是哪？                  chat\n",
       "123                   g4dn.2xlarge在美西2的OnDemand什么价格？             ec2_price\n",
       "60   请用中文回答 what if the customer has EBS requirement                    QA\n",
       "85                               给我一段脚本，实现连接mysql数据库                assist\n",
       "121                                  c5.4x的按需实例什么价格？             ec2_price"
      ]
     },
     "execution_count": 337,
     "metadata": {},
     "output_type": "execute_result"
    }
   ],
   "source": [
    "import pandas as pd\n",
    "pd.DataFrame(data_groups,columns=['example','intent']).sample(20)"
   ]
  },
  {
   "cell_type": "markdown",
   "id": "a38b7027-b8be-42f5-a249-1d945438562c",
   "metadata": {},
   "source": [
    "## 定义评估函数"
   ]
  },
  {
   "cell_type": "code",
   "execution_count": 413,
   "id": "07bb0f61-f1c3-42b9-9065-ec7d7974c6f3",
   "metadata": {
    "tags": []
   },
   "outputs": [],
   "source": [
    "from sentence_transformers import util\n",
    "import torch\n",
    "from sklearn import metrics"
   ]
  },
  {
   "cell_type": "code",
   "execution_count": 301,
   "id": "c5b7bcb9-036e-4ea6-9aeb-c20405f0925f",
   "metadata": {
    "tags": []
   },
   "outputs": [],
   "source": [
    "def evaluate_topk(emb,threshold,topk=5):\n",
    "    emb_t = torch.tensor(emb)\n",
    "    hits = util.semantic_search(query_embeddings = emb_t, corpus_embeddings = emb_t,top_k=topk)\n",
    "    testresults = [(data_groups[idx],\n",
    "                data_groups[h['corpus_id']],\n",
    "                h['score'], \n",
    "                0 if data_groups[idx][1] != data_groups[h['corpus_id']][1] else 1) for idx, hit in enumerate(hits) for h in hit if h['score'] > threshold]\n",
    "    fault_results = [t for t in testresults if t[3] == 0]\n",
    "    print(f\"threshold:{threshold:.2f},Total hits:{len(hits)*topk},Total results:{len(testresults)}, recall rate:{100*len(testresults)/len(hits)/topk:.2f}%, faults:{len(fault_results)}, faults rate:{100*len(fault_results)/len(testresults):.2f}%\")\n",
    "    return threshold,len(testresults)/len(hits)/topk,1-len(fault_results)/len(testresults)"
   ]
  },
  {
   "cell_type": "code",
   "execution_count": 306,
   "id": "25a64dcb-a1d5-4f91-aea2-359e6b35b879",
   "metadata": {
    "tags": []
   },
   "outputs": [],
   "source": [
    "def sims_label_topk(emb,topk=5):\n",
    "    emb_t = torch.tensor(emb)\n",
    "    hits = util.semantic_search(query_embeddings = emb_t, corpus_embeddings = emb_t,top_k=topk)\n",
    "    pred_labels = [( h['score'], \n",
    "                0 if data_groups[idx][1] != data_groups[h['corpus_id']][1] else 1) for idx, hit in enumerate(hits) for h in hit]\n",
    "    return pred_labels\n",
    "    "
   ]
  },
  {
   "cell_type": "code",
   "execution_count": 391,
   "id": "1f0457bd-6843-4c3b-9151-38cfe83405c3",
   "metadata": {
    "tags": []
   },
   "outputs": [],
   "source": [
    "def view_lable_topk(inputs,emb,topk=5):\n",
    "    emb_t = torch.tensor(emb)\n",
    "    hits = util.semantic_search(query_embeddings = emb_t, corpus_embeddings = emb_t,top_k=topk)\n",
    "    pred_labels = [( inputs[idx][0],\n",
    "                inputs[h['corpus_id']][0],\n",
    "        h['score'], \n",
    "                0 if data_groups[idx][1] != data_groups[h['corpus_id']][1] else 1) for idx, hit in enumerate(hits) for h in hit]\n",
    "    return pred_labels\n",
    "    "
   ]
  },
  {
   "cell_type": "code",
   "execution_count": 423,
   "id": "4e06ff44-f562-4f3b-8e4f-254b382e819e",
   "metadata": {
    "tags": []
   },
   "outputs": [],
   "source": [
    "def evaluate_topk_f1(data_groups,emb,threshold,topk=5):\n",
    "    emb_t = torch.tensor(emb)\n",
    "    hits = util.semantic_search(query_embeddings = emb_t, corpus_embeddings = emb_t,top_k=topk)\n",
    "    testresults = [(1 if h['score'] > threshold else 0,\n",
    "                0 if data_groups[idx][1] != data_groups[h['corpus_id']][1] else 1) for idx, hit in enumerate(hits) for h in hit]\n",
    "    y_pred = np.array([i[0] for i in testresults ] )\n",
    "    y_true = np.array([i[1] for i in testresults ] )\n",
    "    f1 = metrics.f1_score(y_true, y_pred)\n",
    "\n",
    "    print(f'threshold:{threshold:3f},F1 Score:{f1:.3f}')\n",
    "    \n",
    "    return threshold,f1"
   ]
  },
  {
   "cell_type": "code",
   "execution_count": 286,
   "id": "a6590e8b-f428-4533-81ae-5ec3da86484e",
   "metadata": {},
   "outputs": [],
   "source": [
    "\n",
    "import matplotlib.pyplot as plt\n",
    "import seaborn as sns\n",
    "import pandas as pd"
   ]
  },
  {
   "cell_type": "code",
   "execution_count": 311,
   "id": "3c52f714-7a92-43fc-8015-f2b5bf0e45da",
   "metadata": {
    "tags": []
   },
   "outputs": [],
   "source": [
    "# 画出在不同threshold下的recall和acc\n",
    "def plot_recall_acc(results):\n",
    "    df = pd.DataFrame(results,columns=['threshold','recall','acc'])\n",
    "    plt.plot(df['threshold'],df['recall'],label='recall')\n",
    "    plt.plot(df['threshold'],df['acc'],label='acc')\n",
    "    plt.xlabel('Threshold')\n",
    "    plt.ylabel('Rate')\n",
    "    plt.title('Recall and Acc')\n",
    "    plt.legend(loc=\"lower right\")\n",
    "    plt.show()"
   ]
  },
  {
   "cell_type": "code",
   "execution_count": 410,
   "id": "f18b0ebe-1d92-45c8-a4ba-d74a25414484",
   "metadata": {
    "tags": []
   },
   "outputs": [],
   "source": [
    "#  画出roc曲线，计算AUC\n",
    "def plot_roc(pred_labels):\n",
    "    y_pred = np.array([i[0] for i in pred_labels])\n",
    "    y_true = np.array([i[1] for i in pred_labels])\n",
    "\n",
    "    # 计算roc曲线\n",
    "    fpr, tpr, thresholds = metrics.roc_curve(y_true, y_pred)\n",
    "    roc_auc = metrics.auc(fpr, tpr)\n",
    "\n",
    "    # 画图\n",
    "    plt.figure()\n",
    "    lw = 2\n",
    "    plt.plot(fpr, tpr, color='darkorange', lw=lw, label='ROC curve (area = %0.2f)' % roc_auc)\n",
    "    plt.plot([0, 1], [0, 1], color='navy', lw=lw, linestyle='--')\n",
    "    plt.xlim([0.0, 1.0])\n",
    "    plt.ylim([0.0, 1.05])\n",
    "    plt.xlabel('False Positive Rate')\n",
    "    plt.ylabel('True Positive Rate')\n",
    "    plt.title('ROC')\n",
    "    plt.legend(loc=\"lower right\")\n",
    "    plt.show()"
   ]
  },
  {
   "cell_type": "code",
   "execution_count": 420,
   "id": "8c8cf2ec-2ca1-4d73-805f-f7400c940f64",
   "metadata": {
    "tags": []
   },
   "outputs": [],
   "source": [
    "def plot_f1_scores(f1_scores):\n",
    "    df = pd.DataFrame(f1_scores,columns=['threshold','f1_score'])\n",
    "    plt.plot(df['threshold'],df['f1_score'],label='f1_score')\n",
    "    plt.xlabel('Threshold')\n",
    "    plt.ylabel('f1_score')\n",
    "    plt.title('f1_score')\n",
    "    plt.legend(loc=\"lower right\")\n",
    "    plt.show()"
   ]
  },
  {
   "cell_type": "code",
   "execution_count": 402,
   "id": "dbf9e645-26b2-4734-b9ea-f7a059767916",
   "metadata": {
    "tags": []
   },
   "outputs": [],
   "source": [
    "steps = [i for i in np.arange(0.05,1,0.01)]"
   ]
  },
  {
   "cell_type": "code",
   "execution_count": 296,
   "id": "3dd66de4-ca4f-4e6e-b58d-ede1d9fb4be6",
   "metadata": {
    "tags": []
   },
   "outputs": [],
   "source": [
    "# !pip install -U seaborn matplotlib"
   ]
  },
  {
   "cell_type": "markdown",
   "id": "bd30709f-b1d3-4c9f-a64f-c3c131bbb5be",
   "metadata": {},
   "source": [
    "## 使用bge"
   ]
  },
  {
   "cell_type": "code",
   "execution_count": 228,
   "id": "33f10899-effd-46af-b759-8fc6b69cf5d1",
   "metadata": {
    "tags": []
   },
   "outputs": [],
   "source": [
    "emb1 = get_embedding(smr_client,inputs,model1)"
   ]
  },
  {
   "cell_type": "code",
   "execution_count": 395,
   "id": "3824e757-a607-4832-8d3b-22d79dde16e2",
   "metadata": {
    "tags": []
   },
   "outputs": [
    {
     "data": {
      "text/html": [
       "<div>\n",
       "<style scoped>\n",
       "    .dataframe tbody tr th:only-of-type {\n",
       "        vertical-align: middle;\n",
       "    }\n",
       "\n",
       "    .dataframe tbody tr th {\n",
       "        vertical-align: top;\n",
       "    }\n",
       "\n",
       "    .dataframe thead th {\n",
       "        text-align: right;\n",
       "    }\n",
       "</style>\n",
       "<table border=\"1\" class=\"dataframe\">\n",
       "  <thead>\n",
       "    <tr style=\"text-align: right;\">\n",
       "      <th></th>\n",
       "      <th>query</th>\n",
       "      <th>topkrecall</th>\n",
       "      <th>sims</th>\n",
       "      <th>label</th>\n",
       "    </tr>\n",
       "  </thead>\n",
       "  <tbody>\n",
       "    <tr>\n",
       "      <th>287</th>\n",
       "      <td>what are the use cases for FOOB?</td>\n",
       "      <td>in what senarios, I need FOOB?</td>\n",
       "      <td>0.761557</td>\n",
       "      <td>1</td>\n",
       "    </tr>\n",
       "    <tr>\n",
       "      <th>508</th>\n",
       "      <td>WWSO</td>\n",
       "      <td>一个 AWS 账户可以是多个 OU 的成员吗？</td>\n",
       "      <td>0.378659</td>\n",
       "      <td>0</td>\n",
       "    </tr>\n",
       "    <tr>\n",
       "      <th>134</th>\n",
       "      <td>DataZone在global region GA了吗？</td>\n",
       "      <td>中国区有没有glue interactive session?</td>\n",
       "      <td>0.483757</td>\n",
       "      <td>1</td>\n",
       "    </tr>\n",
       "    <tr>\n",
       "      <th>389</th>\n",
       "      <td>帮我写一个PPT大纲，用于年中汇报</td>\n",
       "      <td>帮我写一段适用于sdxl生成“运动会”图片的prompt，要求效果好，用英文</td>\n",
       "      <td>0.541954</td>\n",
       "      <td>1</td>\n",
       "    </tr>\n",
       "    <tr>\n",
       "      <th>190</th>\n",
       "      <td>对于创建堆栈失败期间回滚的资源，我是否需要付费？</td>\n",
       "      <td>对于创建堆栈失败期间回滚的资源，我是否需要付费？</td>\n",
       "      <td>1.000000</td>\n",
       "      <td>1</td>\n",
       "    </tr>\n",
       "    <tr>\n",
       "      <th>183</th>\n",
       "      <td>Amazon Rekognition 支持哪些图像和视频格式？</td>\n",
       "      <td>帮我把下面的文本整理成markdown格式</td>\n",
       "      <td>0.472277</td>\n",
       "      <td>0</td>\n",
       "    </tr>\n",
       "    <tr>\n",
       "      <th>261</th>\n",
       "      <td>怎么看资源分配是否有risk？</td>\n",
       "      <td>怎么看现有的Capacity？</td>\n",
       "      <td>0.630450</td>\n",
       "      <td>1</td>\n",
       "    </tr>\n",
       "    <tr>\n",
       "      <th>102</th>\n",
       "      <td>中国区有没有glue interactive session?</td>\n",
       "      <td>中国区sagemaker有jumpstart吗</td>\n",
       "      <td>0.525679</td>\n",
       "      <td>1</td>\n",
       "    </tr>\n",
       "    <tr>\n",
       "      <th>559</th>\n",
       "      <td>AIML北区的BD是谁？</td>\n",
       "      <td>quicksight的GTMS是谁</td>\n",
       "      <td>0.393278</td>\n",
       "      <td>1</td>\n",
       "    </tr>\n",
       "    <tr>\n",
       "      <th>623</th>\n",
       "      <td>SageMaker中ml.t3.large的什么价格？</td>\n",
       "      <td>c5.xlarge在美东1的价格？</td>\n",
       "      <td>0.570443</td>\n",
       "      <td>1</td>\n",
       "    </tr>\n",
       "  </tbody>\n",
       "</table>\n",
       "</div>"
      ],
      "text/plain": [
       "                                query                              topkrecall  \\\n",
       "287  what are the use cases for FOOB?          in what senarios, I need FOOB?   \n",
       "508                              WWSO                 一个 AWS 账户可以是多个 OU 的成员吗？   \n",
       "134      DataZone在global region GA了吗？         中国区有没有glue interactive session?   \n",
       "389                 帮我写一个PPT大纲，用于年中汇报  帮我写一段适用于sdxl生成“运动会”图片的prompt，要求效果好，用英文   \n",
       "190          对于创建堆栈失败期间回滚的资源，我是否需要付费？                对于创建堆栈失败期间回滚的资源，我是否需要付费？   \n",
       "183   Amazon Rekognition 支持哪些图像和视频格式？                   帮我把下面的文本整理成markdown格式   \n",
       "261                   怎么看资源分配是否有risk？                         怎么看现有的Capacity？   \n",
       "102   中国区有没有glue interactive session?                 中国区sagemaker有jumpstart吗   \n",
       "559                      AIML北区的BD是谁？                       quicksight的GTMS是谁   \n",
       "623       SageMaker中ml.t3.large的什么价格？                       c5.xlarge在美东1的价格？   \n",
       "\n",
       "         sims  label  \n",
       "287  0.761557      1  \n",
       "508  0.378659      0  \n",
       "134  0.483757      1  \n",
       "389  0.541954      1  \n",
       "190  1.000000      1  \n",
       "183  0.472277      0  \n",
       "261  0.630450      1  \n",
       "102  0.525679      1  \n",
       "559  0.393278      1  \n",
       "623  0.570443      1  "
      ]
     },
     "execution_count": 395,
     "metadata": {},
     "output_type": "execute_result"
    }
   ],
   "source": [
    "pd.DataFrame(view_lable_topk(data_groups,emb1,5),columns=['query','topkrecall','sims','label']).sample(10)"
   ]
  },
  {
   "cell_type": "code",
   "execution_count": 403,
   "id": "1f84f5a3-7924-4fbf-b557-8b96915c0f83",
   "metadata": {},
   "outputs": [
    {
     "name": "stdout",
     "output_type": "stream",
     "text": [
      "threshold:0.05,Total hits:655,Total results:655, recall rate:100.00%, faults:130, faults rate:19.85%\n",
      "threshold:0.06,Total hits:655,Total results:655, recall rate:100.00%, faults:130, faults rate:19.85%\n",
      "threshold:0.07,Total hits:655,Total results:655, recall rate:100.00%, faults:130, faults rate:19.85%\n",
      "threshold:0.08,Total hits:655,Total results:655, recall rate:100.00%, faults:130, faults rate:19.85%\n",
      "threshold:0.09,Total hits:655,Total results:655, recall rate:100.00%, faults:130, faults rate:19.85%\n",
      "threshold:0.10,Total hits:655,Total results:655, recall rate:100.00%, faults:130, faults rate:19.85%\n",
      "threshold:0.11,Total hits:655,Total results:655, recall rate:100.00%, faults:130, faults rate:19.85%\n",
      "threshold:0.12,Total hits:655,Total results:655, recall rate:100.00%, faults:130, faults rate:19.85%\n",
      "threshold:0.13,Total hits:655,Total results:655, recall rate:100.00%, faults:130, faults rate:19.85%\n",
      "threshold:0.14,Total hits:655,Total results:655, recall rate:100.00%, faults:130, faults rate:19.85%\n",
      "threshold:0.15,Total hits:655,Total results:655, recall rate:100.00%, faults:130, faults rate:19.85%\n",
      "threshold:0.16,Total hits:655,Total results:655, recall rate:100.00%, faults:130, faults rate:19.85%\n",
      "threshold:0.17,Total hits:655,Total results:655, recall rate:100.00%, faults:130, faults rate:19.85%\n",
      "threshold:0.18,Total hits:655,Total results:655, recall rate:100.00%, faults:130, faults rate:19.85%\n",
      "threshold:0.19,Total hits:655,Total results:655, recall rate:100.00%, faults:130, faults rate:19.85%\n",
      "threshold:0.20,Total hits:655,Total results:655, recall rate:100.00%, faults:130, faults rate:19.85%\n",
      "threshold:0.21,Total hits:655,Total results:655, recall rate:100.00%, faults:130, faults rate:19.85%\n",
      "threshold:0.22,Total hits:655,Total results:655, recall rate:100.00%, faults:130, faults rate:19.85%\n",
      "threshold:0.23,Total hits:655,Total results:655, recall rate:100.00%, faults:130, faults rate:19.85%\n",
      "threshold:0.24,Total hits:655,Total results:655, recall rate:100.00%, faults:130, faults rate:19.85%\n",
      "threshold:0.25,Total hits:655,Total results:655, recall rate:100.00%, faults:130, faults rate:19.85%\n",
      "threshold:0.26,Total hits:655,Total results:655, recall rate:100.00%, faults:130, faults rate:19.85%\n",
      "threshold:0.27,Total hits:655,Total results:655, recall rate:100.00%, faults:130, faults rate:19.85%\n",
      "threshold:0.28,Total hits:655,Total results:655, recall rate:100.00%, faults:130, faults rate:19.85%\n",
      "threshold:0.29,Total hits:655,Total results:655, recall rate:100.00%, faults:130, faults rate:19.85%\n",
      "threshold:0.30,Total hits:655,Total results:655, recall rate:100.00%, faults:130, faults rate:19.85%\n",
      "threshold:0.31,Total hits:655,Total results:655, recall rate:100.00%, faults:130, faults rate:19.85%\n",
      "threshold:0.32,Total hits:655,Total results:655, recall rate:100.00%, faults:130, faults rate:19.85%\n",
      "threshold:0.33,Total hits:655,Total results:655, recall rate:100.00%, faults:130, faults rate:19.85%\n",
      "threshold:0.34,Total hits:655,Total results:655, recall rate:100.00%, faults:130, faults rate:19.85%\n",
      "threshold:0.35,Total hits:655,Total results:654, recall rate:99.85%, faults:129, faults rate:19.72%\n",
      "threshold:0.36,Total hits:655,Total results:653, recall rate:99.69%, faults:128, faults rate:19.60%\n",
      "threshold:0.37,Total hits:655,Total results:651, recall rate:99.39%, faults:126, faults rate:19.35%\n",
      "threshold:0.38,Total hits:655,Total results:641, recall rate:97.86%, faults:118, faults rate:18.41%\n",
      "threshold:0.39,Total hits:655,Total results:636, recall rate:97.10%, faults:116, faults rate:18.24%\n",
      "threshold:0.40,Total hits:655,Total results:634, recall rate:96.79%, faults:115, faults rate:18.14%\n",
      "threshold:0.41,Total hits:655,Total results:631, recall rate:96.34%, faults:113, faults rate:17.91%\n",
      "threshold:0.42,Total hits:655,Total results:629, recall rate:96.03%, faults:111, faults rate:17.65%\n",
      "threshold:0.43,Total hits:655,Total results:624, recall rate:95.27%, faults:110, faults rate:17.63%\n",
      "threshold:0.44,Total hits:655,Total results:616, recall rate:94.05%, faults:105, faults rate:17.05%\n",
      "threshold:0.45,Total hits:655,Total results:604, recall rate:92.21%, faults:97, faults rate:16.06%\n",
      "threshold:0.46,Total hits:655,Total results:594, recall rate:90.69%, faults:91, faults rate:15.32%\n",
      "threshold:0.47,Total hits:655,Total results:587, recall rate:89.62%, faults:86, faults rate:14.65%\n",
      "threshold:0.48,Total hits:655,Total results:569, recall rate:86.87%, faults:78, faults rate:13.71%\n",
      "threshold:0.49,Total hits:655,Total results:550, recall rate:83.97%, faults:70, faults rate:12.73%\n",
      "threshold:0.50,Total hits:655,Total results:545, recall rate:83.21%, faults:69, faults rate:12.66%\n",
      "threshold:0.51,Total hits:655,Total results:539, recall rate:82.29%, faults:66, faults rate:12.24%\n",
      "threshold:0.52,Total hits:655,Total results:522, recall rate:79.69%, faults:62, faults rate:11.88%\n",
      "threshold:0.53,Total hits:655,Total results:501, recall rate:76.49%, faults:54, faults rate:10.78%\n",
      "threshold:0.54,Total hits:655,Total results:471, recall rate:71.91%, faults:46, faults rate:9.77%\n",
      "threshold:0.55,Total hits:655,Total results:446, recall rate:68.09%, faults:40, faults rate:8.97%\n",
      "threshold:0.56,Total hits:655,Total results:435, recall rate:66.41%, faults:38, faults rate:8.74%\n",
      "threshold:0.57,Total hits:655,Total results:416, recall rate:63.51%, faults:33, faults rate:7.93%\n",
      "threshold:0.58,Total hits:655,Total results:401, recall rate:61.22%, faults:30, faults rate:7.48%\n",
      "threshold:0.59,Total hits:655,Total results:390, recall rate:59.54%, faults:30, faults rate:7.69%\n",
      "threshold:0.60,Total hits:655,Total results:379, recall rate:57.86%, faults:26, faults rate:6.86%\n",
      "threshold:0.61,Total hits:655,Total results:364, recall rate:55.57%, faults:20, faults rate:5.49%\n",
      "threshold:0.62,Total hits:655,Total results:357, recall rate:54.50%, faults:19, faults rate:5.32%\n",
      "threshold:0.63,Total hits:655,Total results:345, recall rate:52.67%, faults:18, faults rate:5.22%\n",
      "threshold:0.64,Total hits:655,Total results:331, recall rate:50.53%, faults:17, faults rate:5.14%\n",
      "threshold:0.65,Total hits:655,Total results:315, recall rate:48.09%, faults:14, faults rate:4.44%\n",
      "threshold:0.66,Total hits:655,Total results:302, recall rate:46.11%, faults:14, faults rate:4.64%\n",
      "threshold:0.67,Total hits:655,Total results:282, recall rate:43.05%, faults:4, faults rate:1.42%\n",
      "threshold:0.68,Total hits:655,Total results:276, recall rate:42.14%, faults:4, faults rate:1.45%\n",
      "threshold:0.69,Total hits:655,Total results:266, recall rate:40.61%, faults:3, faults rate:1.13%\n",
      "threshold:0.70,Total hits:655,Total results:257, recall rate:39.24%, faults:3, faults rate:1.17%\n",
      "threshold:0.71,Total hits:655,Total results:247, recall rate:37.71%, faults:0, faults rate:0.00%\n",
      "threshold:0.72,Total hits:655,Total results:243, recall rate:37.10%, faults:0, faults rate:0.00%\n",
      "threshold:0.73,Total hits:655,Total results:232, recall rate:35.42%, faults:0, faults rate:0.00%\n",
      "threshold:0.74,Total hits:655,Total results:223, recall rate:34.05%, faults:0, faults rate:0.00%\n",
      "threshold:0.75,Total hits:655,Total results:216, recall rate:32.98%, faults:0, faults rate:0.00%\n",
      "threshold:0.76,Total hits:655,Total results:210, recall rate:32.06%, faults:0, faults rate:0.00%\n",
      "threshold:0.77,Total hits:655,Total results:202, recall rate:30.84%, faults:0, faults rate:0.00%\n",
      "threshold:0.78,Total hits:655,Total results:194, recall rate:29.62%, faults:0, faults rate:0.00%\n",
      "threshold:0.79,Total hits:655,Total results:189, recall rate:28.85%, faults:0, faults rate:0.00%\n",
      "threshold:0.80,Total hits:655,Total results:185, recall rate:28.24%, faults:0, faults rate:0.00%\n",
      "threshold:0.81,Total hits:655,Total results:181, recall rate:27.63%, faults:0, faults rate:0.00%\n",
      "threshold:0.82,Total hits:655,Total results:179, recall rate:27.33%, faults:0, faults rate:0.00%\n",
      "threshold:0.83,Total hits:655,Total results:175, recall rate:26.72%, faults:0, faults rate:0.00%\n",
      "threshold:0.84,Total hits:655,Total results:169, recall rate:25.80%, faults:0, faults rate:0.00%\n",
      "threshold:0.85,Total hits:655,Total results:163, recall rate:24.89%, faults:0, faults rate:0.00%\n",
      "threshold:0.86,Total hits:655,Total results:163, recall rate:24.89%, faults:0, faults rate:0.00%\n",
      "threshold:0.87,Total hits:655,Total results:159, recall rate:24.27%, faults:0, faults rate:0.00%\n",
      "threshold:0.88,Total hits:655,Total results:153, recall rate:23.36%, faults:0, faults rate:0.00%\n",
      "threshold:0.89,Total hits:655,Total results:149, recall rate:22.75%, faults:0, faults rate:0.00%\n",
      "threshold:0.90,Total hits:655,Total results:149, recall rate:22.75%, faults:0, faults rate:0.00%\n",
      "threshold:0.91,Total hits:655,Total results:147, recall rate:22.44%, faults:0, faults rate:0.00%\n",
      "threshold:0.92,Total hits:655,Total results:143, recall rate:21.83%, faults:0, faults rate:0.00%\n",
      "threshold:0.93,Total hits:655,Total results:143, recall rate:21.83%, faults:0, faults rate:0.00%\n",
      "threshold:0.94,Total hits:655,Total results:141, recall rate:21.53%, faults:0, faults rate:0.00%\n",
      "threshold:0.95,Total hits:655,Total results:137, recall rate:20.92%, faults:0, faults rate:0.00%\n",
      "threshold:0.96,Total hits:655,Total results:131, recall rate:20.00%, faults:0, faults rate:0.00%\n",
      "threshold:0.97,Total hits:655,Total results:131, recall rate:20.00%, faults:0, faults rate:0.00%\n",
      "threshold:0.98,Total hits:655,Total results:131, recall rate:20.00%, faults:0, faults rate:0.00%\n",
      "threshold:0.99,Total hits:655,Total results:131, recall rate:20.00%, faults:0, faults rate:0.00%\n"
     ]
    }
   ],
   "source": [
    "results = []\n",
    "for x in steps:\n",
    "    results.append(evaluate_topk(emb1,x))"
   ]
  },
  {
   "cell_type": "markdown",
   "id": "661be9a4-b36b-4238-b18f-63ff5a14c399",
   "metadata": {
    "tags": []
   },
   "source": [
    "### 计算f1 score"
   ]
  },
  {
   "cell_type": "code",
   "execution_count": 429,
   "id": "cd0109c7-700a-4e25-b33f-6a042cfe88b6",
   "metadata": {
    "tags": []
   },
   "outputs": [
    {
     "name": "stdout",
     "output_type": "stream",
     "text": [
      "threshold:0.050000,F1 Score:0.890\n",
      "threshold:0.060000,F1 Score:0.890\n",
      "threshold:0.070000,F1 Score:0.890\n",
      "threshold:0.080000,F1 Score:0.890\n",
      "threshold:0.090000,F1 Score:0.890\n",
      "threshold:0.100000,F1 Score:0.890\n",
      "threshold:0.110000,F1 Score:0.890\n",
      "threshold:0.120000,F1 Score:0.890\n",
      "threshold:0.130000,F1 Score:0.890\n",
      "threshold:0.140000,F1 Score:0.890\n",
      "threshold:0.150000,F1 Score:0.890\n",
      "threshold:0.160000,F1 Score:0.890\n",
      "threshold:0.170000,F1 Score:0.890\n",
      "threshold:0.180000,F1 Score:0.890\n",
      "threshold:0.190000,F1 Score:0.890\n",
      "threshold:0.200000,F1 Score:0.890\n",
      "threshold:0.210000,F1 Score:0.890\n",
      "threshold:0.220000,F1 Score:0.890\n",
      "threshold:0.230000,F1 Score:0.890\n",
      "threshold:0.240000,F1 Score:0.890\n",
      "threshold:0.250000,F1 Score:0.890\n",
      "threshold:0.260000,F1 Score:0.890\n",
      "threshold:0.270000,F1 Score:0.890\n",
      "threshold:0.280000,F1 Score:0.890\n",
      "threshold:0.290000,F1 Score:0.890\n",
      "threshold:0.300000,F1 Score:0.890\n",
      "threshold:0.310000,F1 Score:0.890\n",
      "threshold:0.320000,F1 Score:0.890\n",
      "threshold:0.330000,F1 Score:0.890\n",
      "threshold:0.340000,F1 Score:0.890\n",
      "threshold:0.350000,F1 Score:0.891\n",
      "threshold:0.360000,F1 Score:0.891\n",
      "threshold:0.370000,F1 Score:0.893\n",
      "threshold:0.380000,F1 Score:0.897\n",
      "threshold:0.390000,F1 Score:0.896\n",
      "threshold:0.400000,F1 Score:0.896\n",
      "threshold:0.410000,F1 Score:0.896\n",
      "threshold:0.420000,F1 Score:0.898\n",
      "threshold:0.430000,F1 Score:0.895\n",
      "threshold:0.440000,F1 Score:0.896\n",
      "threshold:0.450000,F1 Score:0.898\n",
      "threshold:0.460000,F1 Score:0.899\n",
      "threshold:0.470000,F1 Score:0.901\n",
      "threshold:0.480000,F1 Score:0.898\n",
      "threshold:0.490000,F1 Score:0.893\n",
      "threshold:0.500000,F1 Score:0.890\n",
      "threshold:0.510000,F1 Score:0.889\n",
      "threshold:0.520000,F1 Score:0.879\n",
      "threshold:0.530000,F1 Score:0.871\n",
      "threshold:0.540000,F1 Score:0.853\n",
      "threshold:0.550000,F1 Score:0.836\n",
      "threshold:0.560000,F1 Score:0.827\n",
      "threshold:0.570000,F1 Score:0.814\n",
      "threshold:0.580000,F1 Score:0.801\n",
      "threshold:0.590000,F1 Score:0.787\n",
      "threshold:0.600000,F1 Score:0.781\n",
      "threshold:0.610000,F1 Score:0.774\n",
      "threshold:0.620000,F1 Score:0.766\n",
      "threshold:0.630000,F1 Score:0.752\n",
      "threshold:0.640000,F1 Score:0.734\n",
      "threshold:0.650000,F1 Score:0.717\n",
      "threshold:0.660000,F1 Score:0.696\n",
      "threshold:0.670000,F1 Score:0.689\n",
      "threshold:0.680000,F1 Score:0.679\n",
      "threshold:0.690000,F1 Score:0.665\n",
      "threshold:0.700000,F1 Score:0.650\n",
      "threshold:0.710000,F1 Score:0.640\n",
      "threshold:0.720000,F1 Score:0.633\n",
      "threshold:0.730000,F1 Score:0.613\n",
      "threshold:0.740000,F1 Score:0.596\n",
      "threshold:0.750000,F1 Score:0.583\n",
      "threshold:0.760000,F1 Score:0.571\n",
      "threshold:0.770000,F1 Score:0.556\n",
      "threshold:0.780000,F1 Score:0.540\n",
      "threshold:0.790000,F1 Score:0.529\n",
      "threshold:0.800000,F1 Score:0.521\n",
      "threshold:0.810000,F1 Score:0.513\n",
      "threshold:0.820000,F1 Score:0.509\n",
      "threshold:0.830000,F1 Score:0.500\n",
      "threshold:0.840000,F1 Score:0.487\n",
      "threshold:0.850000,F1 Score:0.474\n",
      "threshold:0.860000,F1 Score:0.474\n",
      "threshold:0.870000,F1 Score:0.465\n",
      "threshold:0.880000,F1 Score:0.451\n",
      "threshold:0.890000,F1 Score:0.442\n",
      "threshold:0.900000,F1 Score:0.442\n",
      "threshold:0.910000,F1 Score:0.438\n",
      "threshold:0.920000,F1 Score:0.428\n",
      "threshold:0.930000,F1 Score:0.428\n",
      "threshold:0.940000,F1 Score:0.423\n",
      "threshold:0.950000,F1 Score:0.414\n",
      "threshold:0.960000,F1 Score:0.399\n",
      "threshold:0.970000,F1 Score:0.399\n",
      "threshold:0.980000,F1 Score:0.399\n",
      "threshold:0.990000,F1 Score:0.399\n"
     ]
    },
    {
     "data": {
      "image/png": "[encoded data removed]",
      "text/plain": [
       "<Figure size 640x480 with 1 Axes>"
      ]
     },
     "metadata": {},
     "output_type": "display_data"
    }
   ],
   "source": [
    "f1_scores = []\n",
    "for x in steps:\n",
    "    f1_scores.append(evaluate_topk_f1(data_groups,emb1,x))\n",
    "plot_f1_scores(f1_scores)"
   ]
  },
  {
   "cell_type": "code",
   "execution_count": 426,
   "id": "6d98f8bc-2982-4dcf-b856-8503d563c64e",
   "metadata": {
    "tags": []
   },
   "outputs": [
    {
     "data": {
      "image/png": "[encoded data removed]",
      "text/plain": [
       "<Figure size 640x480 with 1 Axes>"
      ]
     },
     "metadata": {},
     "output_type": "display_data"
    }
   ],
   "source": []
  },
  {
   "cell_type": "markdown",
   "id": "7502e1aa-72ff-4f2f-9226-d2c4bf8d2f0c",
   "metadata": {},
   "source": [
    "### 绘制在不同threshold下的recall和acc"
   ]
  },
  {
   "cell_type": "code",
   "execution_count": 404,
   "id": "bebc1369-89ae-4c5b-a9bd-ece7430ad58c",
   "metadata": {
    "tags": []
   },
   "outputs": [
    {
     "data": {
      "image/png": "[encoded data removed]",
      "text/plain": [
       "<Figure size 640x480 with 1 Axes>"
      ]
     },
     "metadata": {},
     "output_type": "display_data"
    }
   ],
   "source": [
    "plot_recall_acc(results)"
   ]
  },
  {
   "cell_type": "markdown",
   "id": "20452616-4672-4752-80ca-1fea0bab51e7",
   "metadata": {},
   "source": [
    "### 绘制ROC并计算AUC"
   ]
  },
  {
   "cell_type": "code",
   "execution_count": 408,
   "id": "d6ad4c4f-8e15-45fa-abcd-04de660b9c55",
   "metadata": {
    "tags": []
   },
   "outputs": [],
   "source": [
    "pred_labels = sims_label_topk(emb1,5)"
   ]
  },
  {
   "cell_type": "code",
   "execution_count": 411,
   "id": "2d3f0bdd-c6c6-40af-8010-afbe21c70a1c",
   "metadata": {
    "tags": []
   },
   "outputs": [
    {
     "data": {
      "image/png": "[encoded data removed]",
      "text/plain": [
       "<Figure size 640x480 with 1 Axes>"
      ]
     },
     "metadata": {},
     "output_type": "display_data"
    }
   ],
   "source": [
    "plot_roc(pred_labels)"
   ]
  },
  {
   "cell_type": "code",
   "execution_count": null,
   "id": "d1639068-0f94-47da-b57c-8e5a069559b6",
   "metadata": {},
   "outputs": [],
   "source": []
  },
  {
   "cell_type": "code",
   "execution_count": null,
   "id": "9035c8a7-140f-43b6-a5ed-42a9c985fc12",
   "metadata": {},
   "outputs": [],
   "source": []
  },
  {
   "cell_type": "markdown",
   "id": "56d8eb1f-d88b-4b47-afbe-69b5bc6596b3",
   "metadata": {},
   "source": [
    "## 使用cohere"
   ]
  },
  {
   "cell_type": "code",
   "execution_count": 191,
   "id": "2084afdf-a6bc-4642-a84e-4a0b34ee02cd",
   "metadata": {
    "tags": []
   },
   "outputs": [],
   "source": [
    "emb2_1 = get_embedding(smr_client,inputs[:64],model2)\n",
    "emb2_2 = get_embedding(smr_client,inputs[64:],model2)\n",
    "emb2 = emb2_1 + emb2_2"
   ]
  },
  {
   "cell_type": "code",
   "execution_count": 427,
   "id": "4381b3ad-38e5-48e9-96df-f350f6ad5e73",
   "metadata": {
    "tags": []
   },
   "outputs": [
    {
     "name": "stdout",
     "output_type": "stream",
     "text": [
      "threshold:0.05,Total hits:655,Total results:655, recall rate:100.00%, faults:148, faults rate:22.60%\n",
      "threshold:0.06,Total hits:655,Total results:655, recall rate:100.00%, faults:148, faults rate:22.60%\n",
      "threshold:0.07,Total hits:655,Total results:655, recall rate:100.00%, faults:148, faults rate:22.60%\n",
      "threshold:0.08,Total hits:655,Total results:655, recall rate:100.00%, faults:148, faults rate:22.60%\n",
      "threshold:0.09,Total hits:655,Total results:655, recall rate:100.00%, faults:148, faults rate:22.60%\n",
      "threshold:0.10,Total hits:655,Total results:655, recall rate:100.00%, faults:148, faults rate:22.60%\n",
      "threshold:0.11,Total hits:655,Total results:655, recall rate:100.00%, faults:148, faults rate:22.60%\n",
      "threshold:0.12,Total hits:655,Total results:655, recall rate:100.00%, faults:148, faults rate:22.60%\n",
      "threshold:0.13,Total hits:655,Total results:655, recall rate:100.00%, faults:148, faults rate:22.60%\n",
      "threshold:0.14,Total hits:655,Total results:655, recall rate:100.00%, faults:148, faults rate:22.60%\n",
      "threshold:0.15,Total hits:655,Total results:655, recall rate:100.00%, faults:148, faults rate:22.60%\n",
      "threshold:0.16,Total hits:655,Total results:655, recall rate:100.00%, faults:148, faults rate:22.60%\n",
      "threshold:0.17,Total hits:655,Total results:655, recall rate:100.00%, faults:148, faults rate:22.60%\n",
      "threshold:0.18,Total hits:655,Total results:655, recall rate:100.00%, faults:148, faults rate:22.60%\n",
      "threshold:0.19,Total hits:655,Total results:655, recall rate:100.00%, faults:148, faults rate:22.60%\n",
      "threshold:0.20,Total hits:655,Total results:655, recall rate:100.00%, faults:148, faults rate:22.60%\n",
      "threshold:0.21,Total hits:655,Total results:655, recall rate:100.00%, faults:148, faults rate:22.60%\n",
      "threshold:0.22,Total hits:655,Total results:655, recall rate:100.00%, faults:148, faults rate:22.60%\n",
      "threshold:0.23,Total hits:655,Total results:655, recall rate:100.00%, faults:148, faults rate:22.60%\n",
      "threshold:0.24,Total hits:655,Total results:655, recall rate:100.00%, faults:148, faults rate:22.60%\n",
      "threshold:0.25,Total hits:655,Total results:655, recall rate:100.00%, faults:148, faults rate:22.60%\n",
      "threshold:0.26,Total hits:655,Total results:655, recall rate:100.00%, faults:148, faults rate:22.60%\n",
      "threshold:0.27,Total hits:655,Total results:655, recall rate:100.00%, faults:148, faults rate:22.60%\n",
      "threshold:0.28,Total hits:655,Total results:655, recall rate:100.00%, faults:148, faults rate:22.60%\n",
      "threshold:0.29,Total hits:655,Total results:655, recall rate:100.00%, faults:148, faults rate:22.60%\n",
      "threshold:0.30,Total hits:655,Total results:655, recall rate:100.00%, faults:148, faults rate:22.60%\n",
      "threshold:0.31,Total hits:655,Total results:655, recall rate:100.00%, faults:148, faults rate:22.60%\n",
      "threshold:0.32,Total hits:655,Total results:655, recall rate:100.00%, faults:148, faults rate:22.60%\n",
      "threshold:0.33,Total hits:655,Total results:655, recall rate:100.00%, faults:148, faults rate:22.60%\n",
      "threshold:0.34,Total hits:655,Total results:655, recall rate:100.00%, faults:148, faults rate:22.60%\n",
      "threshold:0.35,Total hits:655,Total results:655, recall rate:100.00%, faults:148, faults rate:22.60%\n",
      "threshold:0.36,Total hits:655,Total results:655, recall rate:100.00%, faults:148, faults rate:22.60%\n",
      "threshold:0.37,Total hits:655,Total results:655, recall rate:100.00%, faults:148, faults rate:22.60%\n",
      "threshold:0.38,Total hits:655,Total results:655, recall rate:100.00%, faults:148, faults rate:22.60%\n",
      "threshold:0.39,Total hits:655,Total results:655, recall rate:100.00%, faults:148, faults rate:22.60%\n",
      "threshold:0.40,Total hits:655,Total results:655, recall rate:100.00%, faults:148, faults rate:22.60%\n",
      "threshold:0.41,Total hits:655,Total results:655, recall rate:100.00%, faults:148, faults rate:22.60%\n",
      "threshold:0.42,Total hits:655,Total results:655, recall rate:100.00%, faults:148, faults rate:22.60%\n",
      "threshold:0.43,Total hits:655,Total results:654, recall rate:99.85%, faults:148, faults rate:22.63%\n",
      "threshold:0.44,Total hits:655,Total results:654, recall rate:99.85%, faults:148, faults rate:22.63%\n",
      "threshold:0.45,Total hits:655,Total results:652, recall rate:99.54%, faults:148, faults rate:22.70%\n",
      "threshold:0.46,Total hits:655,Total results:650, recall rate:99.24%, faults:148, faults rate:22.77%\n",
      "threshold:0.47,Total hits:655,Total results:650, recall rate:99.24%, faults:148, faults rate:22.77%\n",
      "threshold:0.48,Total hits:655,Total results:649, recall rate:99.08%, faults:148, faults rate:22.80%\n",
      "threshold:0.49,Total hits:655,Total results:646, recall rate:98.63%, faults:147, faults rate:22.76%\n",
      "threshold:0.50,Total hits:655,Total results:643, recall rate:98.17%, faults:146, faults rate:22.71%\n",
      "threshold:0.51,Total hits:655,Total results:643, recall rate:98.17%, faults:146, faults rate:22.71%\n",
      "threshold:0.52,Total hits:655,Total results:635, recall rate:96.95%, faults:144, faults rate:22.68%\n",
      "threshold:0.53,Total hits:655,Total results:632, recall rate:96.49%, faults:143, faults rate:22.63%\n",
      "threshold:0.54,Total hits:655,Total results:631, recall rate:96.34%, faults:142, faults rate:22.50%\n",
      "threshold:0.55,Total hits:655,Total results:627, recall rate:95.73%, faults:140, faults rate:22.33%\n",
      "threshold:0.56,Total hits:655,Total results:625, recall rate:95.42%, faults:139, faults rate:22.24%\n",
      "threshold:0.57,Total hits:655,Total results:622, recall rate:94.96%, faults:139, faults rate:22.35%\n",
      "threshold:0.58,Total hits:655,Total results:621, recall rate:94.81%, faults:138, faults rate:22.22%\n",
      "threshold:0.59,Total hits:655,Total results:620, recall rate:94.66%, faults:137, faults rate:22.10%\n",
      "threshold:0.60,Total hits:655,Total results:618, recall rate:94.35%, faults:135, faults rate:21.84%\n",
      "threshold:0.61,Total hits:655,Total results:614, recall rate:93.74%, faults:133, faults rate:21.66%\n",
      "threshold:0.62,Total hits:655,Total results:607, recall rate:92.67%, faults:132, faults rate:21.75%\n",
      "threshold:0.63,Total hits:655,Total results:599, recall rate:91.45%, faults:127, faults rate:21.20%\n",
      "threshold:0.64,Total hits:655,Total results:586, recall rate:89.47%, faults:123, faults rate:20.99%\n",
      "threshold:0.65,Total hits:655,Total results:565, recall rate:86.26%, faults:109, faults rate:19.29%\n",
      "threshold:0.66,Total hits:655,Total results:539, recall rate:82.29%, faults:98, faults rate:18.18%\n",
      "threshold:0.67,Total hits:655,Total results:516, recall rate:78.78%, faults:88, faults rate:17.05%\n",
      "threshold:0.68,Total hits:655,Total results:489, recall rate:74.66%, faults:80, faults rate:16.36%\n",
      "threshold:0.69,Total hits:655,Total results:474, recall rate:72.37%, faults:76, faults rate:16.03%\n",
      "threshold:0.70,Total hits:655,Total results:449, recall rate:68.55%, faults:65, faults rate:14.48%\n",
      "threshold:0.71,Total hits:655,Total results:422, recall rate:64.43%, faults:58, faults rate:13.74%\n",
      "threshold:0.72,Total hits:655,Total results:411, recall rate:62.75%, faults:52, faults rate:12.65%\n",
      "threshold:0.73,Total hits:655,Total results:392, recall rate:59.85%, faults:47, faults rate:11.99%\n",
      "threshold:0.74,Total hits:655,Total results:372, recall rate:56.79%, faults:42, faults rate:11.29%\n",
      "threshold:0.75,Total hits:655,Total results:356, recall rate:54.35%, faults:34, faults rate:9.55%\n",
      "threshold:0.76,Total hits:655,Total results:339, recall rate:51.76%, faults:32, faults rate:9.44%\n",
      "threshold:0.77,Total hits:655,Total results:323, recall rate:49.31%, faults:30, faults rate:9.29%\n",
      "threshold:0.78,Total hits:655,Total results:299, recall rate:45.65%, faults:26, faults rate:8.70%\n",
      "threshold:0.79,Total hits:655,Total results:285, recall rate:43.51%, faults:22, faults rate:7.72%\n",
      "threshold:0.80,Total hits:655,Total results:267, recall rate:40.76%, faults:18, faults rate:6.74%\n",
      "threshold:0.81,Total hits:655,Total results:261, recall rate:39.85%, faults:16, faults rate:6.13%\n",
      "threshold:0.82,Total hits:655,Total results:249, recall rate:38.02%, faults:12, faults rate:4.82%\n",
      "threshold:0.83,Total hits:655,Total results:230, recall rate:35.11%, faults:10, faults rate:4.35%\n",
      "threshold:0.84,Total hits:655,Total results:215, recall rate:32.82%, faults:8, faults rate:3.72%\n",
      "threshold:0.85,Total hits:655,Total results:194, recall rate:29.62%, faults:4, faults rate:2.06%\n",
      "threshold:0.86,Total hits:655,Total results:179, recall rate:27.33%, faults:0, faults rate:0.00%\n",
      "threshold:0.87,Total hits:655,Total results:175, recall rate:26.72%, faults:0, faults rate:0.00%\n",
      "threshold:0.88,Total hits:655,Total results:165, recall rate:25.19%, faults:0, faults rate:0.00%\n",
      "threshold:0.89,Total hits:655,Total results:153, recall rate:23.36%, faults:0, faults rate:0.00%\n",
      "threshold:0.90,Total hits:655,Total results:147, recall rate:22.44%, faults:0, faults rate:0.00%\n",
      "threshold:0.91,Total hits:655,Total results:143, recall rate:21.83%, faults:0, faults rate:0.00%\n",
      "threshold:0.92,Total hits:655,Total results:141, recall rate:21.53%, faults:0, faults rate:0.00%\n",
      "threshold:0.93,Total hits:655,Total results:139, recall rate:21.22%, faults:0, faults rate:0.00%\n",
      "threshold:0.94,Total hits:655,Total results:135, recall rate:20.61%, faults:0, faults rate:0.00%\n",
      "threshold:0.95,Total hits:655,Total results:135, recall rate:20.61%, faults:0, faults rate:0.00%\n",
      "threshold:0.96,Total hits:655,Total results:135, recall rate:20.61%, faults:0, faults rate:0.00%\n",
      "threshold:0.97,Total hits:655,Total results:133, recall rate:20.31%, faults:0, faults rate:0.00%\n",
      "threshold:0.98,Total hits:655,Total results:131, recall rate:20.00%, faults:0, faults rate:0.00%\n",
      "threshold:0.99,Total hits:655,Total results:131, recall rate:20.00%, faults:0, faults rate:0.00%\n"
     ]
    }
   ],
   "source": [
    "results = []\n",
    "for x in steps:\n",
    "    results.append(evaluate_topk(emb2,x))"
   ]
  },
  {
   "cell_type": "code",
   "execution_count": 431,
   "id": "f061db26-d87c-44f2-854b-13a47fb6432d",
   "metadata": {
    "tags": []
   },
   "outputs": [
    {
     "name": "stdout",
     "output_type": "stream",
     "text": [
      "threshold:0.050000,F1 Score:0.873\n",
      "threshold:0.060000,F1 Score:0.873\n",
      "threshold:0.070000,F1 Score:0.873\n",
      "threshold:0.080000,F1 Score:0.873\n",
      "threshold:0.090000,F1 Score:0.873\n",
      "threshold:0.100000,F1 Score:0.873\n",
      "threshold:0.110000,F1 Score:0.873\n",
      "threshold:0.120000,F1 Score:0.873\n",
      "threshold:0.130000,F1 Score:0.873\n",
      "threshold:0.140000,F1 Score:0.873\n",
      "threshold:0.150000,F1 Score:0.873\n",
      "threshold:0.160000,F1 Score:0.873\n",
      "threshold:0.170000,F1 Score:0.873\n",
      "threshold:0.180000,F1 Score:0.873\n",
      "threshold:0.190000,F1 Score:0.873\n",
      "threshold:0.200000,F1 Score:0.873\n",
      "threshold:0.210000,F1 Score:0.873\n",
      "threshold:0.220000,F1 Score:0.873\n",
      "threshold:0.230000,F1 Score:0.873\n",
      "threshold:0.240000,F1 Score:0.873\n",
      "threshold:0.250000,F1 Score:0.873\n",
      "threshold:0.260000,F1 Score:0.873\n",
      "threshold:0.270000,F1 Score:0.873\n",
      "threshold:0.280000,F1 Score:0.873\n",
      "threshold:0.290000,F1 Score:0.873\n",
      "threshold:0.300000,F1 Score:0.873\n",
      "threshold:0.310000,F1 Score:0.873\n",
      "threshold:0.320000,F1 Score:0.873\n",
      "threshold:0.330000,F1 Score:0.873\n",
      "threshold:0.340000,F1 Score:0.873\n",
      "threshold:0.350000,F1 Score:0.873\n",
      "threshold:0.360000,F1 Score:0.873\n",
      "threshold:0.370000,F1 Score:0.873\n",
      "threshold:0.380000,F1 Score:0.873\n",
      "threshold:0.390000,F1 Score:0.873\n",
      "threshold:0.400000,F1 Score:0.873\n",
      "threshold:0.410000,F1 Score:0.873\n",
      "threshold:0.420000,F1 Score:0.873\n",
      "threshold:0.430000,F1 Score:0.872\n",
      "threshold:0.440000,F1 Score:0.872\n",
      "threshold:0.450000,F1 Score:0.870\n",
      "threshold:0.460000,F1 Score:0.868\n",
      "threshold:0.470000,F1 Score:0.868\n",
      "threshold:0.480000,F1 Score:0.867\n",
      "threshold:0.490000,F1 Score:0.866\n",
      "threshold:0.500000,F1 Score:0.864\n",
      "threshold:0.510000,F1 Score:0.864\n",
      "threshold:0.520000,F1 Score:0.860\n",
      "threshold:0.530000,F1 Score:0.859\n",
      "threshold:0.540000,F1 Score:0.859\n",
      "threshold:0.550000,F1 Score:0.859\n",
      "threshold:0.560000,F1 Score:0.859\n",
      "threshold:0.570000,F1 Score:0.856\n",
      "threshold:0.580000,F1 Score:0.856\n",
      "threshold:0.590000,F1 Score:0.857\n",
      "threshold:0.600000,F1 Score:0.859\n",
      "threshold:0.610000,F1 Score:0.858\n",
      "threshold:0.620000,F1 Score:0.853\n",
      "threshold:0.630000,F1 Score:0.854\n",
      "threshold:0.640000,F1 Score:0.847\n",
      "threshold:0.650000,F1 Score:0.851\n",
      "threshold:0.660000,F1 Score:0.843\n",
      "threshold:0.670000,F1 Score:0.837\n",
      "threshold:0.680000,F1 Score:0.821\n",
      "threshold:0.690000,F1 Score:0.811\n",
      "threshold:0.700000,F1 Score:0.803\n",
      "threshold:0.710000,F1 Score:0.784\n",
      "threshold:0.720000,F1 Score:0.782\n",
      "threshold:0.730000,F1 Score:0.768\n",
      "threshold:0.740000,F1 Score:0.751\n",
      "threshold:0.750000,F1 Score:0.746\n",
      "threshold:0.760000,F1 Score:0.726\n",
      "threshold:0.770000,F1 Score:0.706\n",
      "threshold:0.780000,F1 Score:0.677\n",
      "threshold:0.790000,F1 Score:0.664\n",
      "threshold:0.800000,F1 Score:0.643\n",
      "threshold:0.810000,F1 Score:0.638\n",
      "threshold:0.820000,F1 Score:0.627\n",
      "threshold:0.830000,F1 Score:0.597\n",
      "threshold:0.840000,F1 Score:0.573\n",
      "threshold:0.850000,F1 Score:0.542\n",
      "threshold:0.860000,F1 Score:0.522\n",
      "threshold:0.870000,F1 Score:0.513\n",
      "threshold:0.880000,F1 Score:0.491\n",
      "threshold:0.890000,F1 Score:0.464\n",
      "threshold:0.900000,F1 Score:0.450\n",
      "threshold:0.910000,F1 Score:0.440\n",
      "threshold:0.920000,F1 Score:0.435\n",
      "threshold:0.930000,F1 Score:0.430\n",
      "threshold:0.940000,F1 Score:0.421\n",
      "threshold:0.950000,F1 Score:0.421\n",
      "threshold:0.960000,F1 Score:0.421\n",
      "threshold:0.970000,F1 Score:0.416\n",
      "threshold:0.980000,F1 Score:0.411\n",
      "threshold:0.990000,F1 Score:0.411\n"
     ]
    },
    {
     "data": {
      "image/png": "[encoded data removed]",
      "text/plain": [
       "<Figure size 640x480 with 1 Axes>"
      ]
     },
     "metadata": {},
     "output_type": "display_data"
    }
   ],
   "source": [
    "f1_scores = []\n",
    "for x in steps:\n",
    "    f1_scores.append(evaluate_topk_f1(data_groups,emb2,x))\n",
    "plot_f1_scores(f1_scores)"
   ]
  },
  {
   "cell_type": "markdown",
   "id": "f974ab10-b8a9-48fa-8f92-b8f5d9b86645",
   "metadata": {},
   "source": [
    "### 绘制在不同threshold下的recall和acc"
   ]
  },
  {
   "cell_type": "code",
   "execution_count": 428,
   "id": "be47bc43-27b4-4b91-a02a-c6a72197b13b",
   "metadata": {
    "tags": []
   },
   "outputs": [
    {
     "data": {
      "image/png": "[encoded data removed]",
      "text/plain": [
       "<Figure size 640x480 with 1 Axes>"
      ]
     },
     "metadata": {},
     "output_type": "display_data"
    }
   ],
   "source": [
    "plot_recall_acc(results)"
   ]
  },
  {
   "cell_type": "markdown",
   "id": "b34786e0-51db-4096-bda6-818469065da2",
   "metadata": {},
   "source": [
    "### 绘制ROC并计算AUC"
   ]
  },
  {
   "cell_type": "code",
   "execution_count": 319,
   "id": "dffff70d-a5f9-47b5-aa7a-f791c919c3bf",
   "metadata": {
    "tags": []
   },
   "outputs": [],
   "source": [
    "pred_labels = sims_label_topk(emb2,5)"
   ]
  },
  {
   "cell_type": "code",
   "execution_count": 320,
   "id": "8ad6e15e-d285-4f6b-927f-4c7e835e728a",
   "metadata": {
    "tags": []
   },
   "outputs": [
    {
     "data": {
      "image/png": "[encoded data removed]",
      "text/plain": [
       "<Figure size 640x480 with 1 Axes>"
      ]
     },
     "metadata": {},
     "output_type": "display_data"
    }
   ],
   "source": [
    "plot_roc(pred_labels)"
   ]
  },
  {
   "cell_type": "markdown",
   "id": "415cc01a-9426-40bf-adca-90e664243e1d",
   "metadata": {
    "tags": []
   },
   "source": [
    "## 使用Titan"
   ]
  },
  {
   "cell_type": "code",
   "execution_count": 203,
   "id": "c88d51c6-2c52-4ef0-bae3-fffdbe8c1e28",
   "metadata": {
    "tags": []
   },
   "outputs": [],
   "source": [
    "model3 = 'amazon.titan-embed-text-v1'\n",
    "\n",
    "emb3 = []\n",
    "for text in inputs:\n",
    "    emb= get_embedding(smr_client,text,model3)\n",
    "    emb3 += emb"
   ]
  },
  {
   "cell_type": "code",
   "execution_count": 432,
   "id": "3cda470f-70a9-4d9e-9ecf-d9a71e928114",
   "metadata": {
    "tags": []
   },
   "outputs": [
    {
     "name": "stdout",
     "output_type": "stream",
     "text": [
      "threshold:0.05,Total hits:655,Total results:655, recall rate:100.00%, faults:155, faults rate:23.66%\n",
      "threshold:0.06,Total hits:655,Total results:655, recall rate:100.00%, faults:155, faults rate:23.66%\n",
      "threshold:0.07,Total hits:655,Total results:655, recall rate:100.00%, faults:155, faults rate:23.66%\n",
      "threshold:0.08,Total hits:655,Total results:655, recall rate:100.00%, faults:155, faults rate:23.66%\n",
      "threshold:0.09,Total hits:655,Total results:655, recall rate:100.00%, faults:155, faults rate:23.66%\n",
      "threshold:0.10,Total hits:655,Total results:654, recall rate:99.85%, faults:155, faults rate:23.70%\n",
      "threshold:0.11,Total hits:655,Total results:654, recall rate:99.85%, faults:155, faults rate:23.70%\n",
      "threshold:0.12,Total hits:655,Total results:654, recall rate:99.85%, faults:155, faults rate:23.70%\n",
      "threshold:0.13,Total hits:655,Total results:653, recall rate:99.69%, faults:155, faults rate:23.74%\n",
      "threshold:0.14,Total hits:655,Total results:652, recall rate:99.54%, faults:154, faults rate:23.62%\n",
      "threshold:0.15,Total hits:655,Total results:650, recall rate:99.24%, faults:153, faults rate:23.54%\n",
      "threshold:0.16,Total hits:655,Total results:650, recall rate:99.24%, faults:153, faults rate:23.54%\n",
      "threshold:0.17,Total hits:655,Total results:649, recall rate:99.08%, faults:153, faults rate:23.57%\n",
      "threshold:0.18,Total hits:655,Total results:649, recall rate:99.08%, faults:153, faults rate:23.57%\n",
      "threshold:0.19,Total hits:655,Total results:648, recall rate:98.93%, faults:153, faults rate:23.61%\n",
      "threshold:0.20,Total hits:655,Total results:648, recall rate:98.93%, faults:153, faults rate:23.61%\n",
      "threshold:0.21,Total hits:655,Total results:648, recall rate:98.93%, faults:153, faults rate:23.61%\n",
      "threshold:0.22,Total hits:655,Total results:648, recall rate:98.93%, faults:153, faults rate:23.61%\n",
      "threshold:0.23,Total hits:655,Total results:648, recall rate:98.93%, faults:153, faults rate:23.61%\n",
      "threshold:0.24,Total hits:655,Total results:645, recall rate:98.47%, faults:152, faults rate:23.57%\n",
      "threshold:0.25,Total hits:655,Total results:644, recall rate:98.32%, faults:151, faults rate:23.45%\n",
      "threshold:0.26,Total hits:655,Total results:644, recall rate:98.32%, faults:151, faults rate:23.45%\n",
      "threshold:0.27,Total hits:655,Total results:643, recall rate:98.17%, faults:150, faults rate:23.33%\n",
      "threshold:0.28,Total hits:655,Total results:640, recall rate:97.71%, faults:150, faults rate:23.44%\n",
      "threshold:0.29,Total hits:655,Total results:639, recall rate:97.56%, faults:150, faults rate:23.47%\n",
      "threshold:0.30,Total hits:655,Total results:639, recall rate:97.56%, faults:150, faults rate:23.47%\n",
      "threshold:0.31,Total hits:655,Total results:638, recall rate:97.40%, faults:150, faults rate:23.51%\n",
      "threshold:0.32,Total hits:655,Total results:631, recall rate:96.34%, faults:150, faults rate:23.77%\n",
      "threshold:0.33,Total hits:655,Total results:630, recall rate:96.18%, faults:150, faults rate:23.81%\n",
      "threshold:0.34,Total hits:655,Total results:628, recall rate:95.88%, faults:150, faults rate:23.89%\n",
      "threshold:0.35,Total hits:655,Total results:625, recall rate:95.42%, faults:150, faults rate:24.00%\n",
      "threshold:0.36,Total hits:655,Total results:625, recall rate:95.42%, faults:150, faults rate:24.00%\n",
      "threshold:0.37,Total hits:655,Total results:624, recall rate:95.27%, faults:150, faults rate:24.04%\n",
      "threshold:0.38,Total hits:655,Total results:623, recall rate:95.11%, faults:150, faults rate:24.08%\n",
      "threshold:0.39,Total hits:655,Total results:621, recall rate:94.81%, faults:148, faults rate:23.83%\n",
      "threshold:0.40,Total hits:655,Total results:620, recall rate:94.66%, faults:147, faults rate:23.71%\n",
      "threshold:0.41,Total hits:655,Total results:617, recall rate:94.20%, faults:146, faults rate:23.66%\n",
      "threshold:0.42,Total hits:655,Total results:616, recall rate:94.05%, faults:145, faults rate:23.54%\n",
      "threshold:0.43,Total hits:655,Total results:610, recall rate:93.13%, faults:145, faults rate:23.77%\n",
      "threshold:0.44,Total hits:655,Total results:607, recall rate:92.67%, faults:144, faults rate:23.72%\n",
      "threshold:0.45,Total hits:655,Total results:603, recall rate:92.06%, faults:144, faults rate:23.88%\n",
      "threshold:0.46,Total hits:655,Total results:598, recall rate:91.30%, faults:142, faults rate:23.75%\n",
      "threshold:0.47,Total hits:655,Total results:590, recall rate:90.08%, faults:138, faults rate:23.39%\n",
      "threshold:0.48,Total hits:655,Total results:587, recall rate:89.62%, faults:136, faults rate:23.17%\n",
      "threshold:0.49,Total hits:655,Total results:579, recall rate:88.40%, faults:131, faults rate:22.63%\n",
      "threshold:0.50,Total hits:655,Total results:572, recall rate:87.33%, faults:125, faults rate:21.85%\n",
      "threshold:0.51,Total hits:655,Total results:557, recall rate:85.04%, faults:120, faults rate:21.54%\n",
      "threshold:0.52,Total hits:655,Total results:544, recall rate:83.05%, faults:115, faults rate:21.14%\n",
      "threshold:0.53,Total hits:655,Total results:528, recall rate:80.61%, faults:104, faults rate:19.70%\n",
      "threshold:0.54,Total hits:655,Total results:515, recall rate:78.63%, faults:99, faults rate:19.22%\n",
      "threshold:0.55,Total hits:655,Total results:497, recall rate:75.88%, faults:90, faults rate:18.11%\n",
      "threshold:0.56,Total hits:655,Total results:472, recall rate:72.06%, faults:78, faults rate:16.53%\n",
      "threshold:0.57,Total hits:655,Total results:454, recall rate:69.31%, faults:71, faults rate:15.64%\n",
      "threshold:0.58,Total hits:655,Total results:438, recall rate:66.87%, faults:62, faults rate:14.16%\n",
      "threshold:0.59,Total hits:655,Total results:416, recall rate:63.51%, faults:52, faults rate:12.50%\n",
      "threshold:0.60,Total hits:655,Total results:397, recall rate:60.61%, faults:47, faults rate:11.84%\n",
      "threshold:0.61,Total hits:655,Total results:386, recall rate:58.93%, faults:43, faults rate:11.14%\n",
      "threshold:0.62,Total hits:655,Total results:371, recall rate:56.64%, faults:40, faults rate:10.78%\n",
      "threshold:0.63,Total hits:655,Total results:353, recall rate:53.89%, faults:33, faults rate:9.35%\n",
      "threshold:0.64,Total hits:655,Total results:341, recall rate:52.06%, faults:30, faults rate:8.80%\n",
      "threshold:0.65,Total hits:655,Total results:326, recall rate:49.77%, faults:27, faults rate:8.28%\n",
      "threshold:0.66,Total hits:655,Total results:312, recall rate:47.63%, faults:23, faults rate:7.37%\n",
      "threshold:0.67,Total hits:655,Total results:299, recall rate:45.65%, faults:23, faults rate:7.69%\n",
      "threshold:0.68,Total hits:655,Total results:291, recall rate:44.43%, faults:23, faults rate:7.90%\n",
      "threshold:0.69,Total hits:655,Total results:285, recall rate:43.51%, faults:23, faults rate:8.07%\n",
      "threshold:0.70,Total hits:655,Total results:266, recall rate:40.61%, faults:18, faults rate:6.77%\n",
      "threshold:0.71,Total hits:655,Total results:249, recall rate:38.02%, faults:14, faults rate:5.62%\n",
      "threshold:0.72,Total hits:655,Total results:241, recall rate:36.79%, faults:11, faults rate:4.56%\n",
      "threshold:0.73,Total hits:655,Total results:234, recall rate:35.73%, faults:10, faults rate:4.27%\n",
      "threshold:0.74,Total hits:655,Total results:221, recall rate:33.74%, faults:8, faults rate:3.62%\n",
      "threshold:0.75,Total hits:655,Total results:206, recall rate:31.45%, faults:4, faults rate:1.94%\n",
      "threshold:0.76,Total hits:655,Total results:204, recall rate:31.15%, faults:4, faults rate:1.96%\n",
      "threshold:0.77,Total hits:655,Total results:197, recall rate:30.08%, faults:2, faults rate:1.02%\n",
      "threshold:0.78,Total hits:655,Total results:181, recall rate:27.63%, faults:0, faults rate:0.00%\n",
      "threshold:0.79,Total hits:655,Total results:175, recall rate:26.72%, faults:0, faults rate:0.00%\n",
      "threshold:0.80,Total hits:655,Total results:171, recall rate:26.11%, faults:0, faults rate:0.00%\n",
      "threshold:0.81,Total hits:655,Total results:167, recall rate:25.50%, faults:0, faults rate:0.00%\n",
      "threshold:0.82,Total hits:655,Total results:161, recall rate:24.58%, faults:0, faults rate:0.00%\n",
      "threshold:0.83,Total hits:655,Total results:155, recall rate:23.66%, faults:0, faults rate:0.00%\n",
      "threshold:0.84,Total hits:655,Total results:151, recall rate:23.05%, faults:0, faults rate:0.00%\n",
      "threshold:0.85,Total hits:655,Total results:149, recall rate:22.75%, faults:0, faults rate:0.00%\n",
      "threshold:0.86,Total hits:655,Total results:145, recall rate:22.14%, faults:0, faults rate:0.00%\n",
      "threshold:0.87,Total hits:655,Total results:145, recall rate:22.14%, faults:0, faults rate:0.00%\n",
      "threshold:0.88,Total hits:655,Total results:141, recall rate:21.53%, faults:0, faults rate:0.00%\n",
      "threshold:0.89,Total hits:655,Total results:141, recall rate:21.53%, faults:0, faults rate:0.00%\n",
      "threshold:0.90,Total hits:655,Total results:141, recall rate:21.53%, faults:0, faults rate:0.00%\n",
      "threshold:0.91,Total hits:655,Total results:135, recall rate:20.61%, faults:0, faults rate:0.00%\n",
      "threshold:0.92,Total hits:655,Total results:135, recall rate:20.61%, faults:0, faults rate:0.00%\n",
      "threshold:0.93,Total hits:655,Total results:133, recall rate:20.31%, faults:0, faults rate:0.00%\n",
      "threshold:0.94,Total hits:655,Total results:133, recall rate:20.31%, faults:0, faults rate:0.00%\n",
      "threshold:0.95,Total hits:655,Total results:133, recall rate:20.31%, faults:0, faults rate:0.00%\n",
      "threshold:0.96,Total hits:655,Total results:133, recall rate:20.31%, faults:0, faults rate:0.00%\n",
      "threshold:0.97,Total hits:655,Total results:133, recall rate:20.31%, faults:0, faults rate:0.00%\n",
      "threshold:0.98,Total hits:655,Total results:131, recall rate:20.00%, faults:0, faults rate:0.00%\n",
      "threshold:0.99,Total hits:655,Total results:131, recall rate:20.00%, faults:0, faults rate:0.00%\n"
     ]
    }
   ],
   "source": [
    "results = []\n",
    "for x in steps:\n",
    "    results.append(evaluate_topk(emb3,x))"
   ]
  },
  {
   "cell_type": "code",
   "execution_count": 434,
   "id": "41332a02-d9c7-4ad4-a086-59d10ee84290",
   "metadata": {
    "tags": []
   },
   "outputs": [
    {
     "name": "stdout",
     "output_type": "stream",
     "text": [
      "threshold:0.050000,F1 Score:0.866\n",
      "threshold:0.060000,F1 Score:0.866\n",
      "threshold:0.070000,F1 Score:0.866\n",
      "threshold:0.080000,F1 Score:0.866\n",
      "threshold:0.090000,F1 Score:0.866\n",
      "threshold:0.100000,F1 Score:0.865\n",
      "threshold:0.110000,F1 Score:0.865\n",
      "threshold:0.120000,F1 Score:0.865\n",
      "threshold:0.130000,F1 Score:0.864\n",
      "threshold:0.140000,F1 Score:0.865\n",
      "threshold:0.150000,F1 Score:0.864\n",
      "threshold:0.160000,F1 Score:0.864\n",
      "threshold:0.170000,F1 Score:0.863\n",
      "threshold:0.180000,F1 Score:0.863\n",
      "threshold:0.190000,F1 Score:0.862\n",
      "threshold:0.200000,F1 Score:0.862\n",
      "threshold:0.210000,F1 Score:0.862\n",
      "threshold:0.220000,F1 Score:0.862\n",
      "threshold:0.230000,F1 Score:0.862\n",
      "threshold:0.240000,F1 Score:0.861\n",
      "threshold:0.250000,F1 Score:0.862\n",
      "threshold:0.260000,F1 Score:0.862\n",
      "threshold:0.270000,F1 Score:0.863\n",
      "threshold:0.280000,F1 Score:0.860\n",
      "threshold:0.290000,F1 Score:0.859\n",
      "threshold:0.300000,F1 Score:0.859\n",
      "threshold:0.310000,F1 Score:0.858\n",
      "threshold:0.320000,F1 Score:0.851\n",
      "threshold:0.330000,F1 Score:0.850\n",
      "threshold:0.340000,F1 Score:0.848\n",
      "threshold:0.350000,F1 Score:0.844\n",
      "threshold:0.360000,F1 Score:0.844\n",
      "threshold:0.370000,F1 Score:0.843\n",
      "threshold:0.380000,F1 Score:0.842\n",
      "threshold:0.390000,F1 Score:0.844\n",
      "threshold:0.400000,F1 Score:0.845\n",
      "threshold:0.410000,F1 Score:0.843\n",
      "threshold:0.420000,F1 Score:0.844\n",
      "threshold:0.430000,F1 Score:0.838\n",
      "threshold:0.440000,F1 Score:0.836\n",
      "threshold:0.450000,F1 Score:0.832\n",
      "threshold:0.460000,F1 Score:0.831\n",
      "threshold:0.470000,F1 Score:0.829\n",
      "threshold:0.480000,F1 Score:0.830\n",
      "threshold:0.490000,F1 Score:0.830\n",
      "threshold:0.500000,F1 Score:0.834\n",
      "threshold:0.510000,F1 Score:0.827\n",
      "threshold:0.520000,F1 Score:0.822\n",
      "threshold:0.530000,F1 Score:0.825\n",
      "threshold:0.540000,F1 Score:0.820\n",
      "threshold:0.550000,F1 Score:0.816\n",
      "threshold:0.560000,F1 Score:0.811\n",
      "threshold:0.570000,F1 Score:0.803\n",
      "threshold:0.580000,F1 Score:0.802\n",
      "threshold:0.590000,F1 Score:0.795\n",
      "threshold:0.600000,F1 Score:0.780\n",
      "threshold:0.610000,F1 Score:0.774\n",
      "threshold:0.620000,F1 Score:0.760\n",
      "threshold:0.630000,F1 Score:0.750\n",
      "threshold:0.640000,F1 Score:0.740\n",
      "threshold:0.650000,F1 Score:0.724\n",
      "threshold:0.660000,F1 Score:0.712\n",
      "threshold:0.670000,F1 Score:0.691\n",
      "threshold:0.680000,F1 Score:0.678\n",
      "threshold:0.690000,F1 Score:0.668\n",
      "threshold:0.700000,F1 Score:0.648\n",
      "threshold:0.710000,F1 Score:0.628\n",
      "threshold:0.720000,F1 Score:0.621\n",
      "threshold:0.730000,F1 Score:0.610\n",
      "threshold:0.740000,F1 Score:0.591\n",
      "threshold:0.750000,F1 Score:0.572\n",
      "threshold:0.760000,F1 Score:0.568\n",
      "threshold:0.770000,F1 Score:0.560\n",
      "threshold:0.780000,F1 Score:0.532\n",
      "threshold:0.790000,F1 Score:0.519\n",
      "threshold:0.800000,F1 Score:0.510\n",
      "threshold:0.810000,F1 Score:0.501\n",
      "threshold:0.820000,F1 Score:0.487\n",
      "threshold:0.830000,F1 Score:0.473\n",
      "threshold:0.840000,F1 Score:0.464\n",
      "threshold:0.850000,F1 Score:0.459\n",
      "threshold:0.860000,F1 Score:0.450\n",
      "threshold:0.870000,F1 Score:0.450\n",
      "threshold:0.880000,F1 Score:0.440\n",
      "threshold:0.890000,F1 Score:0.440\n",
      "threshold:0.900000,F1 Score:0.440\n",
      "threshold:0.910000,F1 Score:0.425\n",
      "threshold:0.920000,F1 Score:0.425\n",
      "threshold:0.930000,F1 Score:0.420\n",
      "threshold:0.940000,F1 Score:0.420\n",
      "threshold:0.950000,F1 Score:0.420\n",
      "threshold:0.960000,F1 Score:0.420\n",
      "threshold:0.970000,F1 Score:0.420\n",
      "threshold:0.980000,F1 Score:0.415\n",
      "threshold:0.990000,F1 Score:0.415\n"
     ]
    },
    {
     "data": {
      "image/png": "[encoded data removed]",
      "text/plain": [
       "<Figure size 640x480 with 1 Axes>"
      ]
     },
     "metadata": {},
     "output_type": "display_data"
    }
   ],
   "source": [
    "f1_scores = []\n",
    "for x in steps:\n",
    "    f1_scores.append(evaluate_topk_f1(data_groups,emb3,x))\n",
    "plot_f1_scores(f1_scores)"
   ]
  },
  {
   "cell_type": "markdown",
   "id": "35a0c903-f61d-40d9-aa49-6d51fa9a1643",
   "metadata": {},
   "source": [
    "### 绘制在不同threshold下的recall和acc"
   ]
  },
  {
   "cell_type": "code",
   "execution_count": 399,
   "id": "eb8e2721-34f9-4f2c-b967-7c5c00677141",
   "metadata": {},
   "outputs": [
    {
     "data": {
      "image/png": "[encoded data removed]",
      "text/plain": [
       "<Figure size 640x480 with 1 Axes>"
      ]
     },
     "metadata": {},
     "output_type": "display_data"
    }
   ],
   "source": [
    "plot_recall_acc(results)"
   ]
  },
  {
   "cell_type": "markdown",
   "id": "7dc0bc90-a803-4cd1-a11f-5686218663a9",
   "metadata": {},
   "source": [
    "### 绘制ROC并计算AUC"
   ]
  },
  {
   "cell_type": "code",
   "execution_count": 400,
   "id": "057270f8-640c-48df-9242-ca0d796c9d5f",
   "metadata": {
    "tags": []
   },
   "outputs": [],
   "source": [
    "pred_labels = sims_label_topk(emb3,5)"
   ]
  },
  {
   "cell_type": "code",
   "execution_count": 401,
   "id": "0f469014-e5ef-4259-9396-546d41b82434",
   "metadata": {
    "tags": []
   },
   "outputs": [
    {
     "data": {
      "image/png": "[encoded data removed]",
      "text/plain": [
       "<Figure size 640x480 with 1 Axes>"
      ]
     },
     "metadata": {},
     "output_type": "display_data"
    }
   ],
   "source": [
    "plot_roc(pred_labels)"
   ]
  },
  {
   "cell_type": "markdown",
   "id": "59278455-1dea-4c96-b7f6-b01645b48be9",
   "metadata": {},
   "source": [
    "## OPENAI embedding dimension 3072"
   ]
  },
  {
   "cell_type": "code",
   "execution_count": 396,
   "id": "f6b2125c-fe1a-44b3-b7f4-703782f3543a",
   "metadata": {
    "tags": []
   },
   "outputs": [],
   "source": [
    "from langchain_openai import OpenAIEmbeddings\n",
    "\n",
    "embeddings_model = OpenAIEmbeddings(openai_api_key=\"sk-\",model='text-embedding-3-large')"
   ]
  },
  {
   "cell_type": "code",
   "execution_count": 377,
   "id": "376cdb00-e22b-4bbc-94a3-91b04527eb6d",
   "metadata": {
    "tags": []
   },
   "outputs": [
    {
     "name": "stderr",
     "output_type": "stream",
     "text": [
      "Warning: model not found. Using cl100k_base encoding.\n"
     ]
    }
   ],
   "source": [
    "embeddings = embeddings_model.embed_documents(inputs)"
   ]
  },
  {
   "cell_type": "code",
   "execution_count": 378,
   "id": "a098aaf8-0362-476f-9ed9-813c35f92112",
   "metadata": {
    "tags": []
   },
   "outputs": [
    {
     "data": {
      "text/plain": [
       "3072"
      ]
     },
     "execution_count": 378,
     "metadata": {},
     "output_type": "execute_result"
    }
   ],
   "source": [
    "len(embeddings[1])"
   ]
  },
  {
   "cell_type": "code",
   "execution_count": 435,
   "id": "b7c1f7cf-5c41-4471-b860-febe706c0aec",
   "metadata": {
    "tags": []
   },
   "outputs": [
    {
     "name": "stdout",
     "output_type": "stream",
     "text": [
      "threshold:0.05,Total hits:655,Total results:655, recall rate:100.00%, faults:116, faults rate:17.71%\n",
      "threshold:0.06,Total hits:655,Total results:655, recall rate:100.00%, faults:116, faults rate:17.71%\n",
      "threshold:0.07,Total hits:655,Total results:655, recall rate:100.00%, faults:116, faults rate:17.71%\n",
      "threshold:0.08,Total hits:655,Total results:655, recall rate:100.00%, faults:116, faults rate:17.71%\n",
      "threshold:0.09,Total hits:655,Total results:655, recall rate:100.00%, faults:116, faults rate:17.71%\n",
      "threshold:0.10,Total hits:655,Total results:655, recall rate:100.00%, faults:116, faults rate:17.71%\n",
      "threshold:0.11,Total hits:655,Total results:655, recall rate:100.00%, faults:116, faults rate:17.71%\n",
      "threshold:0.12,Total hits:655,Total results:655, recall rate:100.00%, faults:116, faults rate:17.71%\n",
      "threshold:0.13,Total hits:655,Total results:655, recall rate:100.00%, faults:116, faults rate:17.71%\n",
      "threshold:0.14,Total hits:655,Total results:655, recall rate:100.00%, faults:116, faults rate:17.71%\n",
      "threshold:0.15,Total hits:655,Total results:655, recall rate:100.00%, faults:116, faults rate:17.71%\n",
      "threshold:0.16,Total hits:655,Total results:653, recall rate:99.69%, faults:115, faults rate:17.61%\n",
      "threshold:0.17,Total hits:655,Total results:652, recall rate:99.54%, faults:115, faults rate:17.64%\n",
      "threshold:0.18,Total hits:655,Total results:652, recall rate:99.54%, faults:115, faults rate:17.64%\n",
      "threshold:0.19,Total hits:655,Total results:650, recall rate:99.24%, faults:113, faults rate:17.38%\n",
      "threshold:0.20,Total hits:655,Total results:649, recall rate:99.08%, faults:112, faults rate:17.26%\n",
      "threshold:0.21,Total hits:655,Total results:647, recall rate:98.78%, faults:110, faults rate:17.00%\n",
      "threshold:0.22,Total hits:655,Total results:644, recall rate:98.32%, faults:110, faults rate:17.08%\n",
      "threshold:0.23,Total hits:655,Total results:644, recall rate:98.32%, faults:110, faults rate:17.08%\n",
      "threshold:0.24,Total hits:655,Total results:643, recall rate:98.17%, faults:110, faults rate:17.11%\n",
      "threshold:0.25,Total hits:655,Total results:639, recall rate:97.56%, faults:106, faults rate:16.59%\n",
      "threshold:0.26,Total hits:655,Total results:627, recall rate:95.73%, faults:101, faults rate:16.11%\n",
      "threshold:0.27,Total hits:655,Total results:616, recall rate:94.05%, faults:96, faults rate:15.58%\n",
      "threshold:0.28,Total hits:655,Total results:604, recall rate:92.21%, faults:92, faults rate:15.23%\n",
      "threshold:0.29,Total hits:655,Total results:589, recall rate:89.92%, faults:84, faults rate:14.26%\n",
      "threshold:0.30,Total hits:655,Total results:569, recall rate:86.87%, faults:76, faults rate:13.36%\n",
      "threshold:0.31,Total hits:655,Total results:550, recall rate:83.97%, faults:71, faults rate:12.91%\n",
      "threshold:0.32,Total hits:655,Total results:535, recall rate:81.68%, faults:67, faults rate:12.52%\n",
      "threshold:0.33,Total hits:655,Total results:518, recall rate:79.08%, faults:65, faults rate:12.55%\n",
      "threshold:0.34,Total hits:655,Total results:502, recall rate:76.64%, faults:64, faults rate:12.75%\n",
      "threshold:0.35,Total hits:655,Total results:489, recall rate:74.66%, faults:59, faults rate:12.07%\n",
      "threshold:0.36,Total hits:655,Total results:476, recall rate:72.67%, faults:55, faults rate:11.55%\n",
      "threshold:0.37,Total hits:655,Total results:448, recall rate:68.40%, faults:44, faults rate:9.82%\n",
      "threshold:0.38,Total hits:655,Total results:428, recall rate:65.34%, faults:40, faults rate:9.35%\n",
      "threshold:0.39,Total hits:655,Total results:409, recall rate:62.44%, faults:36, faults rate:8.80%\n",
      "threshold:0.40,Total hits:655,Total results:398, recall rate:60.76%, faults:30, faults rate:7.54%\n",
      "threshold:0.41,Total hits:655,Total results:383, recall rate:58.47%, faults:25, faults rate:6.53%\n",
      "threshold:0.42,Total hits:655,Total results:367, recall rate:56.03%, faults:23, faults rate:6.27%\n",
      "threshold:0.43,Total hits:655,Total results:356, recall rate:54.35%, faults:19, faults rate:5.34%\n",
      "threshold:0.44,Total hits:655,Total results:342, recall rate:52.21%, faults:16, faults rate:4.68%\n",
      "threshold:0.45,Total hits:655,Total results:332, recall rate:50.69%, faults:16, faults rate:4.82%\n",
      "threshold:0.46,Total hits:655,Total results:324, recall rate:49.47%, faults:15, faults rate:4.63%\n",
      "threshold:0.47,Total hits:655,Total results:319, recall rate:48.70%, faults:15, faults rate:4.70%\n",
      "threshold:0.48,Total hits:655,Total results:309, recall rate:47.18%, faults:12, faults rate:3.88%\n",
      "threshold:0.49,Total hits:655,Total results:301, recall rate:45.95%, faults:12, faults rate:3.99%\n",
      "threshold:0.50,Total hits:655,Total results:297, recall rate:45.34%, faults:12, faults rate:4.04%\n",
      "threshold:0.51,Total hits:655,Total results:294, recall rate:44.89%, faults:12, faults rate:4.08%\n",
      "threshold:0.52,Total hits:655,Total results:285, recall rate:43.51%, faults:12, faults rate:4.21%\n",
      "threshold:0.53,Total hits:655,Total results:280, recall rate:42.75%, faults:10, faults rate:3.57%\n",
      "threshold:0.54,Total hits:655,Total results:275, recall rate:41.98%, faults:8, faults rate:2.91%\n",
      "threshold:0.55,Total hits:655,Total results:270, recall rate:41.22%, faults:8, faults rate:2.96%\n",
      "threshold:0.56,Total hits:655,Total results:258, recall rate:39.39%, faults:6, faults rate:2.33%\n",
      "threshold:0.57,Total hits:655,Total results:252, recall rate:38.47%, faults:4, faults rate:1.59%\n",
      "threshold:0.58,Total hits:655,Total results:245, recall rate:37.40%, faults:4, faults rate:1.63%\n",
      "threshold:0.59,Total hits:655,Total results:238, recall rate:36.34%, faults:2, faults rate:0.84%\n",
      "threshold:0.60,Total hits:655,Total results:230, recall rate:35.11%, faults:2, faults rate:0.87%\n",
      "threshold:0.61,Total hits:655,Total results:229, recall rate:34.96%, faults:2, faults rate:0.87%\n",
      "threshold:0.62,Total hits:655,Total results:225, recall rate:34.35%, faults:2, faults rate:0.89%\n",
      "threshold:0.63,Total hits:655,Total results:221, recall rate:33.74%, faults:2, faults rate:0.90%\n",
      "threshold:0.64,Total hits:655,Total results:218, recall rate:33.28%, faults:2, faults rate:0.92%\n",
      "threshold:0.65,Total hits:655,Total results:216, recall rate:32.98%, faults:0, faults rate:0.00%\n",
      "threshold:0.66,Total hits:655,Total results:209, recall rate:31.91%, faults:0, faults rate:0.00%\n",
      "threshold:0.67,Total hits:655,Total results:205, recall rate:31.30%, faults:0, faults rate:0.00%\n",
      "threshold:0.68,Total hits:655,Total results:201, recall rate:30.69%, faults:0, faults rate:0.00%\n",
      "threshold:0.69,Total hits:655,Total results:195, recall rate:29.77%, faults:0, faults rate:0.00%\n",
      "threshold:0.70,Total hits:655,Total results:191, recall rate:29.16%, faults:0, faults rate:0.00%\n",
      "threshold:0.71,Total hits:655,Total results:187, recall rate:28.55%, faults:0, faults rate:0.00%\n",
      "threshold:0.72,Total hits:655,Total results:185, recall rate:28.24%, faults:0, faults rate:0.00%\n",
      "threshold:0.73,Total hits:655,Total results:181, recall rate:27.63%, faults:0, faults rate:0.00%\n",
      "threshold:0.74,Total hits:655,Total results:171, recall rate:26.11%, faults:0, faults rate:0.00%\n",
      "threshold:0.75,Total hits:655,Total results:169, recall rate:25.80%, faults:0, faults rate:0.00%\n",
      "threshold:0.76,Total hits:655,Total results:169, recall rate:25.80%, faults:0, faults rate:0.00%\n",
      "threshold:0.77,Total hits:655,Total results:165, recall rate:25.19%, faults:0, faults rate:0.00%\n",
      "threshold:0.78,Total hits:655,Total results:157, recall rate:23.97%, faults:0, faults rate:0.00%\n",
      "threshold:0.79,Total hits:655,Total results:153, recall rate:23.36%, faults:0, faults rate:0.00%\n",
      "threshold:0.80,Total hits:655,Total results:151, recall rate:23.05%, faults:0, faults rate:0.00%\n",
      "threshold:0.81,Total hits:655,Total results:145, recall rate:22.14%, faults:0, faults rate:0.00%\n",
      "threshold:0.82,Total hits:655,Total results:143, recall rate:21.83%, faults:0, faults rate:0.00%\n",
      "threshold:0.83,Total hits:655,Total results:141, recall rate:21.53%, faults:0, faults rate:0.00%\n",
      "threshold:0.84,Total hits:655,Total results:141, recall rate:21.53%, faults:0, faults rate:0.00%\n",
      "threshold:0.85,Total hits:655,Total results:141, recall rate:21.53%, faults:0, faults rate:0.00%\n",
      "threshold:0.86,Total hits:655,Total results:137, recall rate:20.92%, faults:0, faults rate:0.00%\n",
      "threshold:0.87,Total hits:655,Total results:137, recall rate:20.92%, faults:0, faults rate:0.00%\n",
      "threshold:0.88,Total hits:655,Total results:137, recall rate:20.92%, faults:0, faults rate:0.00%\n",
      "threshold:0.89,Total hits:655,Total results:137, recall rate:20.92%, faults:0, faults rate:0.00%\n",
      "threshold:0.90,Total hits:655,Total results:135, recall rate:20.61%, faults:0, faults rate:0.00%\n",
      "threshold:0.91,Total hits:655,Total results:135, recall rate:20.61%, faults:0, faults rate:0.00%\n",
      "threshold:0.92,Total hits:655,Total results:135, recall rate:20.61%, faults:0, faults rate:0.00%\n",
      "threshold:0.93,Total hits:655,Total results:135, recall rate:20.61%, faults:0, faults rate:0.00%\n",
      "threshold:0.94,Total hits:655,Total results:135, recall rate:20.61%, faults:0, faults rate:0.00%\n",
      "threshold:0.95,Total hits:655,Total results:135, recall rate:20.61%, faults:0, faults rate:0.00%\n",
      "threshold:0.96,Total hits:655,Total results:131, recall rate:20.00%, faults:0, faults rate:0.00%\n",
      "threshold:0.97,Total hits:655,Total results:131, recall rate:20.00%, faults:0, faults rate:0.00%\n",
      "threshold:0.98,Total hits:655,Total results:131, recall rate:20.00%, faults:0, faults rate:0.00%\n",
      "threshold:0.99,Total hits:655,Total results:131, recall rate:20.00%, faults:0, faults rate:0.00%\n"
     ]
    }
   ],
   "source": [
    "results = []\n",
    "for x in steps:\n",
    "    results.append(evaluate_topk(embeddings,x))"
   ]
  },
  {
   "cell_type": "code",
   "execution_count": 436,
   "id": "c0402db5-b1ed-43e6-90df-14cc37658767",
   "metadata": {
    "tags": []
   },
   "outputs": [
    {
     "name": "stdout",
     "output_type": "stream",
     "text": [
      "threshold:0.050000,F1 Score:0.903\n",
      "threshold:0.060000,F1 Score:0.903\n",
      "threshold:0.070000,F1 Score:0.903\n",
      "threshold:0.080000,F1 Score:0.903\n",
      "threshold:0.090000,F1 Score:0.903\n",
      "threshold:0.100000,F1 Score:0.903\n",
      "threshold:0.110000,F1 Score:0.903\n",
      "threshold:0.120000,F1 Score:0.903\n",
      "threshold:0.130000,F1 Score:0.903\n",
      "threshold:0.140000,F1 Score:0.903\n",
      "threshold:0.150000,F1 Score:0.903\n",
      "threshold:0.160000,F1 Score:0.903\n",
      "threshold:0.170000,F1 Score:0.902\n",
      "threshold:0.180000,F1 Score:0.902\n",
      "threshold:0.190000,F1 Score:0.903\n",
      "threshold:0.200000,F1 Score:0.904\n",
      "threshold:0.210000,F1 Score:0.906\n",
      "threshold:0.220000,F1 Score:0.903\n",
      "threshold:0.230000,F1 Score:0.903\n",
      "threshold:0.240000,F1 Score:0.902\n",
      "threshold:0.250000,F1 Score:0.905\n",
      "threshold:0.260000,F1 Score:0.902\n",
      "threshold:0.270000,F1 Score:0.900\n",
      "threshold:0.280000,F1 Score:0.896\n",
      "threshold:0.290000,F1 Score:0.895\n",
      "threshold:0.300000,F1 Score:0.890\n",
      "threshold:0.310000,F1 Score:0.880\n",
      "threshold:0.320000,F1 Score:0.872\n",
      "threshold:0.330000,F1 Score:0.857\n",
      "threshold:0.340000,F1 Score:0.841\n",
      "threshold:0.350000,F1 Score:0.837\n",
      "threshold:0.360000,F1 Score:0.830\n",
      "threshold:0.370000,F1 Score:0.819\n",
      "threshold:0.380000,F1 Score:0.802\n",
      "threshold:0.390000,F1 Score:0.787\n",
      "threshold:0.400000,F1 Score:0.785\n",
      "threshold:0.410000,F1 Score:0.777\n",
      "threshold:0.420000,F1 Score:0.759\n",
      "threshold:0.430000,F1 Score:0.753\n",
      "threshold:0.440000,F1 Score:0.740\n",
      "threshold:0.450000,F1 Score:0.726\n",
      "threshold:0.460000,F1 Score:0.716\n",
      "threshold:0.470000,F1 Score:0.709\n",
      "threshold:0.480000,F1 Score:0.700\n",
      "threshold:0.490000,F1 Score:0.688\n",
      "threshold:0.500000,F1 Score:0.682\n",
      "threshold:0.510000,F1 Score:0.677\n",
      "threshold:0.520000,F1 Score:0.663\n",
      "threshold:0.530000,F1 Score:0.659\n",
      "threshold:0.540000,F1 Score:0.656\n",
      "threshold:0.550000,F1 Score:0.648\n",
      "threshold:0.560000,F1 Score:0.632\n",
      "threshold:0.570000,F1 Score:0.627\n",
      "threshold:0.580000,F1 Score:0.615\n",
      "threshold:0.590000,F1 Score:0.607\n",
      "threshold:0.600000,F1 Score:0.593\n",
      "threshold:0.610000,F1 Score:0.591\n",
      "threshold:0.620000,F1 Score:0.584\n",
      "threshold:0.630000,F1 Score:0.576\n",
      "threshold:0.640000,F1 Score:0.571\n",
      "threshold:0.650000,F1 Score:0.572\n",
      "threshold:0.660000,F1 Score:0.559\n",
      "threshold:0.670000,F1 Score:0.551\n",
      "threshold:0.680000,F1 Score:0.543\n",
      "threshold:0.690000,F1 Score:0.531\n",
      "threshold:0.700000,F1 Score:0.523\n",
      "threshold:0.710000,F1 Score:0.515\n",
      "threshold:0.720000,F1 Score:0.511\n",
      "threshold:0.730000,F1 Score:0.503\n",
      "threshold:0.740000,F1 Score:0.482\n",
      "threshold:0.750000,F1 Score:0.477\n",
      "threshold:0.760000,F1 Score:0.477\n",
      "threshold:0.770000,F1 Score:0.469\n",
      "threshold:0.780000,F1 Score:0.451\n",
      "threshold:0.790000,F1 Score:0.442\n",
      "threshold:0.800000,F1 Score:0.438\n",
      "threshold:0.810000,F1 Score:0.424\n",
      "threshold:0.820000,F1 Score:0.419\n",
      "threshold:0.830000,F1 Score:0.415\n",
      "threshold:0.840000,F1 Score:0.415\n",
      "threshold:0.850000,F1 Score:0.415\n",
      "threshold:0.860000,F1 Score:0.405\n",
      "threshold:0.870000,F1 Score:0.405\n",
      "threshold:0.880000,F1 Score:0.405\n",
      "threshold:0.890000,F1 Score:0.405\n",
      "threshold:0.900000,F1 Score:0.401\n",
      "threshold:0.910000,F1 Score:0.401\n",
      "threshold:0.920000,F1 Score:0.401\n",
      "threshold:0.930000,F1 Score:0.401\n",
      "threshold:0.940000,F1 Score:0.401\n",
      "threshold:0.950000,F1 Score:0.401\n",
      "threshold:0.960000,F1 Score:0.391\n",
      "threshold:0.970000,F1 Score:0.391\n",
      "threshold:0.980000,F1 Score:0.391\n",
      "threshold:0.990000,F1 Score:0.391\n"
     ]
    },
    {
     "data": {
      "image/png": "[encoded data removed]",
      "text/plain": [
       "<Figure size 640x480 with 1 Axes>"
      ]
     },
     "metadata": {},
     "output_type": "display_data"
    }
   ],
   "source": [
    "f1_scores = []\n",
    "for x in steps:\n",
    "    f1_scores.append(evaluate_topk_f1(data_groups,embeddings,x))\n",
    "plot_f1_scores(f1_scores)"
   ]
  },
  {
   "cell_type": "code",
   "execution_count": 380,
   "id": "07d86765-d51b-43df-b6c3-442f977758c8",
   "metadata": {
    "tags": []
   },
   "outputs": [
    {
     "data": {
      "image/png": "[encoded data removed]",
      "text/plain": [
       "<Figure size 640x480 with 1 Axes>"
      ]
     },
     "metadata": {},
     "output_type": "display_data"
    }
   ],
   "source": [
    "plot_recall_acc(results)"
   ]
  },
  {
   "cell_type": "code",
   "execution_count": 381,
   "id": "d7e5fff5-e4d4-4196-be5e-8d2959b05224",
   "metadata": {
    "tags": []
   },
   "outputs": [],
   "source": [
    "pred_labels = sims_label_topk(embeddings,5)"
   ]
  },
  {
   "cell_type": "code",
   "execution_count": 382,
   "id": "1491b4fe-1db7-4043-8576-98dc59df42c6",
   "metadata": {
    "tags": []
   },
   "outputs": [
    {
     "data": {
      "image/png": "[encoded data removed]",
      "text/plain": [
       "<Figure size 640x480 with 1 Axes>"
      ]
     },
     "metadata": {},
     "output_type": "display_data"
    }
   ],
   "source": [
    "plot_roc(pred_labels)"
   ]
  },
  {
   "cell_type": "code",
   "execution_count": 397,
   "id": "db9379e4-0d1c-47bd-b677-c7b522d72a8f",
   "metadata": {
    "tags": []
   },
   "outputs": [],
   "source": [
    "embeddings_model2 = OpenAIEmbeddings(openai_api_key=\"sk-\",model='text-embedding-3-large',dimensions=1536)"
   ]
  },
  {
   "cell_type": "code",
   "execution_count": 384,
   "id": "4b1a8e99-0602-4f98-8ccb-d513a6771ac7",
   "metadata": {
    "tags": []
   },
   "outputs": [
    {
     "name": "stderr",
     "output_type": "stream",
     "text": [
      "Warning: model not found. Using cl100k_base encoding.\n"
     ]
    }
   ],
   "source": [
    "embeddings2 = embeddings_model2.embed_documents(inputs)"
   ]
  },
  {
   "cell_type": "code",
   "execution_count": 437,
   "id": "c2a35ba6-8019-4ea4-8070-2370d2af58aa",
   "metadata": {
    "tags": []
   },
   "outputs": [
    {
     "name": "stdout",
     "output_type": "stream",
     "text": [
      "threshold:0.05,Total hits:655,Total results:655, recall rate:100.00%, faults:119, faults rate:18.17%\n",
      "threshold:0.06,Total hits:655,Total results:655, recall rate:100.00%, faults:119, faults rate:18.17%\n",
      "threshold:0.07,Total hits:655,Total results:655, recall rate:100.00%, faults:119, faults rate:18.17%\n",
      "threshold:0.08,Total hits:655,Total results:655, recall rate:100.00%, faults:119, faults rate:18.17%\n",
      "threshold:0.09,Total hits:655,Total results:655, recall rate:100.00%, faults:119, faults rate:18.17%\n",
      "threshold:0.10,Total hits:655,Total results:655, recall rate:100.00%, faults:119, faults rate:18.17%\n",
      "threshold:0.11,Total hits:655,Total results:655, recall rate:100.00%, faults:119, faults rate:18.17%\n",
      "threshold:0.12,Total hits:655,Total results:655, recall rate:100.00%, faults:119, faults rate:18.17%\n",
      "threshold:0.13,Total hits:655,Total results:655, recall rate:100.00%, faults:119, faults rate:18.17%\n",
      "threshold:0.14,Total hits:655,Total results:655, recall rate:100.00%, faults:119, faults rate:18.17%\n",
      "threshold:0.15,Total hits:655,Total results:655, recall rate:100.00%, faults:119, faults rate:18.17%\n",
      "threshold:0.16,Total hits:655,Total results:655, recall rate:100.00%, faults:119, faults rate:18.17%\n",
      "threshold:0.17,Total hits:655,Total results:655, recall rate:100.00%, faults:119, faults rate:18.17%\n",
      "threshold:0.18,Total hits:655,Total results:655, recall rate:100.00%, faults:119, faults rate:18.17%\n",
      "threshold:0.19,Total hits:655,Total results:653, recall rate:99.69%, faults:119, faults rate:18.22%\n",
      "threshold:0.20,Total hits:655,Total results:651, recall rate:99.39%, faults:118, faults rate:18.13%\n",
      "threshold:0.21,Total hits:655,Total results:650, recall rate:99.24%, faults:117, faults rate:18.00%\n",
      "threshold:0.22,Total hits:655,Total results:649, recall rate:99.08%, faults:116, faults rate:17.87%\n",
      "threshold:0.23,Total hits:655,Total results:646, recall rate:98.63%, faults:115, faults rate:17.80%\n",
      "threshold:0.24,Total hits:655,Total results:645, recall rate:98.47%, faults:114, faults rate:17.67%\n",
      "threshold:0.25,Total hits:655,Total results:644, recall rate:98.32%, faults:114, faults rate:17.70%\n",
      "threshold:0.26,Total hits:655,Total results:644, recall rate:98.32%, faults:114, faults rate:17.70%\n",
      "threshold:0.27,Total hits:655,Total results:637, recall rate:97.25%, faults:109, faults rate:17.11%\n",
      "threshold:0.28,Total hits:655,Total results:625, recall rate:95.42%, faults:103, faults rate:16.48%\n",
      "threshold:0.29,Total hits:655,Total results:616, recall rate:94.05%, faults:96, faults rate:15.58%\n",
      "threshold:0.30,Total hits:655,Total results:606, recall rate:92.52%, faults:93, faults rate:15.35%\n",
      "threshold:0.31,Total hits:655,Total results:594, recall rate:90.69%, faults:87, faults rate:14.65%\n",
      "threshold:0.32,Total hits:655,Total results:577, recall rate:88.09%, faults:81, faults rate:14.04%\n",
      "threshold:0.33,Total hits:655,Total results:557, recall rate:85.04%, faults:80, faults rate:14.36%\n",
      "threshold:0.34,Total hits:655,Total results:537, recall rate:81.98%, faults:77, faults rate:14.34%\n",
      "threshold:0.35,Total hits:655,Total results:525, recall rate:80.15%, faults:72, faults rate:13.71%\n",
      "threshold:0.36,Total hits:655,Total results:506, recall rate:77.25%, faults:67, faults rate:13.24%\n",
      "threshold:0.37,Total hits:655,Total results:489, recall rate:74.66%, faults:61, faults rate:12.47%\n",
      "threshold:0.38,Total hits:655,Total results:470, recall rate:71.76%, faults:51, faults rate:10.85%\n",
      "threshold:0.39,Total hits:655,Total results:457, recall rate:69.77%, faults:47, faults rate:10.28%\n",
      "threshold:0.40,Total hits:655,Total results:432, recall rate:65.95%, faults:40, faults rate:9.26%\n",
      "threshold:0.41,Total hits:655,Total results:415, recall rate:63.36%, faults:36, faults rate:8.67%\n",
      "threshold:0.42,Total hits:655,Total results:395, recall rate:60.31%, faults:33, faults rate:8.35%\n",
      "threshold:0.43,Total hits:655,Total results:382, recall rate:58.32%, faults:26, faults rate:6.81%\n",
      "threshold:0.44,Total hits:655,Total results:375, recall rate:57.25%, faults:24, faults rate:6.40%\n",
      "threshold:0.45,Total hits:655,Total results:358, recall rate:54.66%, faults:21, faults rate:5.87%\n",
      "threshold:0.46,Total hits:655,Total results:343, recall rate:52.37%, faults:19, faults rate:5.54%\n",
      "threshold:0.47,Total hits:655,Total results:331, recall rate:50.53%, faults:16, faults rate:4.83%\n",
      "threshold:0.48,Total hits:655,Total results:322, recall rate:49.16%, faults:14, faults rate:4.35%\n",
      "threshold:0.49,Total hits:655,Total results:314, recall rate:47.94%, faults:13, faults rate:4.14%\n",
      "threshold:0.50,Total hits:655,Total results:303, recall rate:46.26%, faults:12, faults rate:3.96%\n",
      "threshold:0.51,Total hits:655,Total results:299, recall rate:45.65%, faults:12, faults rate:4.01%\n",
      "threshold:0.52,Total hits:655,Total results:294, recall rate:44.89%, faults:12, faults rate:4.08%\n",
      "threshold:0.53,Total hits:655,Total results:284, recall rate:43.36%, faults:12, faults rate:4.23%\n",
      "threshold:0.54,Total hits:655,Total results:280, recall rate:42.75%, faults:10, faults rate:3.57%\n",
      "threshold:0.55,Total hits:655,Total results:274, recall rate:41.83%, faults:8, faults rate:2.92%\n",
      "threshold:0.56,Total hits:655,Total results:270, recall rate:41.22%, faults:8, faults rate:2.96%\n",
      "threshold:0.57,Total hits:655,Total results:265, recall rate:40.46%, faults:8, faults rate:3.02%\n",
      "threshold:0.58,Total hits:655,Total results:256, recall rate:39.08%, faults:6, faults rate:2.34%\n",
      "threshold:0.59,Total hits:655,Total results:250, recall rate:38.17%, faults:4, faults rate:1.60%\n",
      "threshold:0.60,Total hits:655,Total results:236, recall rate:36.03%, faults:2, faults rate:0.85%\n",
      "threshold:0.61,Total hits:655,Total results:235, recall rate:35.88%, faults:2, faults rate:0.85%\n",
      "threshold:0.62,Total hits:655,Total results:229, recall rate:34.96%, faults:2, faults rate:0.87%\n",
      "threshold:0.63,Total hits:655,Total results:225, recall rate:34.35%, faults:2, faults rate:0.89%\n",
      "threshold:0.64,Total hits:655,Total results:220, recall rate:33.59%, faults:2, faults rate:0.91%\n",
      "threshold:0.65,Total hits:655,Total results:216, recall rate:32.98%, faults:0, faults rate:0.00%\n",
      "threshold:0.66,Total hits:655,Total results:216, recall rate:32.98%, faults:0, faults rate:0.00%\n",
      "threshold:0.67,Total hits:655,Total results:209, recall rate:31.91%, faults:0, faults rate:0.00%\n",
      "threshold:0.68,Total hits:655,Total results:205, recall rate:31.30%, faults:0, faults rate:0.00%\n",
      "threshold:0.69,Total hits:655,Total results:203, recall rate:30.99%, faults:0, faults rate:0.00%\n",
      "threshold:0.70,Total hits:655,Total results:199, recall rate:30.38%, faults:0, faults rate:0.00%\n",
      "threshold:0.71,Total hits:655,Total results:191, recall rate:29.16%, faults:0, faults rate:0.00%\n",
      "threshold:0.72,Total hits:655,Total results:189, recall rate:28.85%, faults:0, faults rate:0.00%\n",
      "threshold:0.73,Total hits:655,Total results:185, recall rate:28.24%, faults:0, faults rate:0.00%\n",
      "threshold:0.74,Total hits:655,Total results:181, recall rate:27.63%, faults:0, faults rate:0.00%\n",
      "threshold:0.75,Total hits:655,Total results:173, recall rate:26.41%, faults:0, faults rate:0.00%\n",
      "threshold:0.76,Total hits:655,Total results:169, recall rate:25.80%, faults:0, faults rate:0.00%\n",
      "threshold:0.77,Total hits:655,Total results:169, recall rate:25.80%, faults:0, faults rate:0.00%\n",
      "threshold:0.78,Total hits:655,Total results:165, recall rate:25.19%, faults:0, faults rate:0.00%\n",
      "threshold:0.79,Total hits:655,Total results:159, recall rate:24.27%, faults:0, faults rate:0.00%\n",
      "threshold:0.80,Total hits:655,Total results:151, recall rate:23.05%, faults:0, faults rate:0.00%\n",
      "threshold:0.81,Total hits:655,Total results:149, recall rate:22.75%, faults:0, faults rate:0.00%\n",
      "threshold:0.82,Total hits:655,Total results:143, recall rate:21.83%, faults:0, faults rate:0.00%\n",
      "threshold:0.83,Total hits:655,Total results:143, recall rate:21.83%, faults:0, faults rate:0.00%\n",
      "threshold:0.84,Total hits:655,Total results:141, recall rate:21.53%, faults:0, faults rate:0.00%\n",
      "threshold:0.85,Total hits:655,Total results:141, recall rate:21.53%, faults:0, faults rate:0.00%\n",
      "threshold:0.86,Total hits:655,Total results:139, recall rate:21.22%, faults:0, faults rate:0.00%\n",
      "threshold:0.87,Total hits:655,Total results:139, recall rate:21.22%, faults:0, faults rate:0.00%\n",
      "threshold:0.88,Total hits:655,Total results:137, recall rate:20.92%, faults:0, faults rate:0.00%\n",
      "threshold:0.89,Total hits:655,Total results:137, recall rate:20.92%, faults:0, faults rate:0.00%\n",
      "threshold:0.90,Total hits:655,Total results:135, recall rate:20.61%, faults:0, faults rate:0.00%\n",
      "threshold:0.91,Total hits:655,Total results:135, recall rate:20.61%, faults:0, faults rate:0.00%\n",
      "threshold:0.92,Total hits:655,Total results:135, recall rate:20.61%, faults:0, faults rate:0.00%\n",
      "threshold:0.93,Total hits:655,Total results:135, recall rate:20.61%, faults:0, faults rate:0.00%\n",
      "threshold:0.94,Total hits:655,Total results:135, recall rate:20.61%, faults:0, faults rate:0.00%\n",
      "threshold:0.95,Total hits:655,Total results:135, recall rate:20.61%, faults:0, faults rate:0.00%\n",
      "threshold:0.96,Total hits:655,Total results:131, recall rate:20.00%, faults:0, faults rate:0.00%\n",
      "threshold:0.97,Total hits:655,Total results:131, recall rate:20.00%, faults:0, faults rate:0.00%\n",
      "threshold:0.98,Total hits:655,Total results:131, recall rate:20.00%, faults:0, faults rate:0.00%\n",
      "threshold:0.99,Total hits:655,Total results:131, recall rate:20.00%, faults:0, faults rate:0.00%\n"
     ]
    }
   ],
   "source": [
    "results = []\n",
    "for x in steps:\n",
    "    results.append(evaluate_topk(embeddings2,x))"
   ]
  },
  {
   "cell_type": "code",
   "execution_count": 438,
   "id": "49482334-1bf4-4e29-acd4-f6db8020a4eb",
   "metadata": {
    "tags": []
   },
   "outputs": [
    {
     "name": "stdout",
     "output_type": "stream",
     "text": [
      "threshold:0.050000,F1 Score:0.900\n",
      "threshold:0.060000,F1 Score:0.900\n",
      "threshold:0.070000,F1 Score:0.900\n",
      "threshold:0.080000,F1 Score:0.900\n",
      "threshold:0.090000,F1 Score:0.900\n",
      "threshold:0.100000,F1 Score:0.900\n",
      "threshold:0.110000,F1 Score:0.900\n",
      "threshold:0.120000,F1 Score:0.900\n",
      "threshold:0.130000,F1 Score:0.900\n",
      "threshold:0.140000,F1 Score:0.900\n",
      "threshold:0.150000,F1 Score:0.900\n",
      "threshold:0.160000,F1 Score:0.900\n",
      "threshold:0.170000,F1 Score:0.900\n",
      "threshold:0.180000,F1 Score:0.900\n",
      "threshold:0.190000,F1 Score:0.898\n",
      "threshold:0.200000,F1 Score:0.898\n",
      "threshold:0.210000,F1 Score:0.899\n",
      "threshold:0.220000,F1 Score:0.900\n",
      "threshold:0.230000,F1 Score:0.898\n",
      "threshold:0.240000,F1 Score:0.899\n",
      "threshold:0.250000,F1 Score:0.898\n",
      "threshold:0.260000,F1 Score:0.898\n",
      "threshold:0.270000,F1 Score:0.900\n",
      "threshold:0.280000,F1 Score:0.899\n",
      "threshold:0.290000,F1 Score:0.903\n",
      "threshold:0.300000,F1 Score:0.898\n",
      "threshold:0.310000,F1 Score:0.897\n",
      "threshold:0.320000,F1 Score:0.891\n",
      "threshold:0.330000,F1 Score:0.873\n",
      "threshold:0.340000,F1 Score:0.857\n",
      "threshold:0.350000,F1 Score:0.854\n",
      "threshold:0.360000,F1 Score:0.843\n",
      "threshold:0.370000,F1 Score:0.835\n",
      "threshold:0.380000,F1 Score:0.833\n",
      "threshold:0.390000,F1 Score:0.826\n",
      "threshold:0.400000,F1 Score:0.810\n",
      "threshold:0.410000,F1 Score:0.797\n",
      "threshold:0.420000,F1 Score:0.778\n",
      "threshold:0.430000,F1 Score:0.776\n",
      "threshold:0.440000,F1 Score:0.771\n",
      "threshold:0.450000,F1 Score:0.754\n",
      "threshold:0.460000,F1 Score:0.737\n",
      "threshold:0.470000,F1 Score:0.727\n",
      "threshold:0.480000,F1 Score:0.718\n",
      "threshold:0.490000,F1 Score:0.708\n",
      "threshold:0.500000,F1 Score:0.694\n",
      "threshold:0.510000,F1 Score:0.687\n",
      "threshold:0.520000,F1 Score:0.680\n",
      "threshold:0.530000,F1 Score:0.663\n",
      "threshold:0.540000,F1 Score:0.662\n",
      "threshold:0.550000,F1 Score:0.657\n",
      "threshold:0.560000,F1 Score:0.650\n",
      "threshold:0.570000,F1 Score:0.642\n",
      "threshold:0.580000,F1 Score:0.631\n",
      "threshold:0.590000,F1 Score:0.626\n",
      "threshold:0.600000,F1 Score:0.606\n",
      "threshold:0.610000,F1 Score:0.604\n",
      "threshold:0.620000,F1 Score:0.593\n",
      "threshold:0.630000,F1 Score:0.586\n",
      "threshold:0.640000,F1 Score:0.577\n",
      "threshold:0.650000,F1 Score:0.574\n",
      "threshold:0.660000,F1 Score:0.574\n",
      "threshold:0.670000,F1 Score:0.561\n",
      "threshold:0.680000,F1 Score:0.553\n",
      "threshold:0.690000,F1 Score:0.549\n",
      "threshold:0.700000,F1 Score:0.541\n",
      "threshold:0.710000,F1 Score:0.525\n",
      "threshold:0.720000,F1 Score:0.521\n",
      "threshold:0.730000,F1 Score:0.513\n",
      "threshold:0.740000,F1 Score:0.505\n",
      "threshold:0.750000,F1 Score:0.488\n",
      "threshold:0.760000,F1 Score:0.479\n",
      "threshold:0.770000,F1 Score:0.479\n",
      "threshold:0.780000,F1 Score:0.471\n",
      "threshold:0.790000,F1 Score:0.458\n",
      "threshold:0.800000,F1 Score:0.440\n",
      "threshold:0.810000,F1 Score:0.435\n",
      "threshold:0.820000,F1 Score:0.421\n",
      "threshold:0.830000,F1 Score:0.421\n",
      "threshold:0.840000,F1 Score:0.417\n",
      "threshold:0.850000,F1 Score:0.417\n",
      "threshold:0.860000,F1 Score:0.412\n",
      "threshold:0.870000,F1 Score:0.412\n",
      "threshold:0.880000,F1 Score:0.407\n",
      "threshold:0.890000,F1 Score:0.407\n",
      "threshold:0.900000,F1 Score:0.402\n",
      "threshold:0.910000,F1 Score:0.402\n",
      "threshold:0.920000,F1 Score:0.402\n",
      "threshold:0.930000,F1 Score:0.402\n",
      "threshold:0.940000,F1 Score:0.402\n",
      "threshold:0.950000,F1 Score:0.402\n",
      "threshold:0.960000,F1 Score:0.393\n",
      "threshold:0.970000,F1 Score:0.393\n",
      "threshold:0.980000,F1 Score:0.393\n",
      "threshold:0.990000,F1 Score:0.393\n"
     ]
    },
    {
     "data": {
      "image/png": "[encoded data removed]",
      "text/plain": [
       "<Figure size 640x480 with 1 Axes>"
      ]
     },
     "metadata": {},
     "output_type": "display_data"
    }
   ],
   "source": [
    "f1_scores = []\n",
    "for x in steps:\n",
    "    f1_scores.append(evaluate_topk_f1(data_groups,embeddings2,x))\n",
    "plot_f1_scores(f1_scores)"
   ]
  },
  {
   "cell_type": "code",
   "execution_count": 386,
   "id": "9b383158-dc48-45c2-908f-02000bef7761",
   "metadata": {
    "tags": []
   },
   "outputs": [
    {
     "data": {
      "image/png": "[encoded data removed]",
      "text/plain": [
       "<Figure size 640x480 with 1 Axes>"
      ]
     },
     "metadata": {},
     "output_type": "display_data"
    }
   ],
   "source": [
    "plot_recall_acc(results)"
   ]
  },
  {
   "cell_type": "code",
   "execution_count": 389,
   "id": "1da9b43b-bd21-430f-adaf-ffe86d7cdf3c",
   "metadata": {
    "tags": []
   },
   "outputs": [
    {
     "data": {
      "image/png": "[encoded data removed]",
      "text/plain": [
       "<Figure size 640x480 with 1 Axes>"
      ]
     },
     "metadata": {},
     "output_type": "display_data"
    }
   ],
   "source": [
    "pred_labels = sims_label_topk(embeddings2,5)\n",
    "plot_roc(pred_labels)"
   ]
  },
  {
   "cell_type": "code",
   "execution_count": null,
   "id": "e6412d62-146f-408f-b4b1-f0f83963ea1b",
   "metadata": {},
   "outputs": [],
   "source": []
  }
 ],
 "metadata": {
  "availableInstances": [
   {
    "_defaultOrder": 0,
    "_isFastLaunch": true,
    "category": "General purpose",
    "gpuNum": 0,
    "hideHardwareSpecs": false,
    "memoryGiB": 4,
    "name": "ml.t3.medium",
    "vcpuNum": 2
   },
   {
    "_defaultOrder": 1,
    "_isFastLaunch": false,
    "category": "General purpose",
    "gpuNum": 0,
    "hideHardwareSpecs": false,
    "memoryGiB": 8,
    "name": "ml.t3.large",
    "vcpuNum": 2
   },
   {
    "_defaultOrder": 2,
    "_isFastLaunch": false,
    "category": "General purpose",
    "gpuNum": 0,
    "hideHardwareSpecs": false,
    "memoryGiB": 16,
    "name": "ml.t3.xlarge",
    "vcpuNum": 4
   },
   {
    "_defaultOrder": 3,
    "_isFastLaunch": false,
    "category": "General purpose",
    "gpuNum": 0,
    "hideHardwareSpecs": false,
    "memoryGiB": 32,
    "name": "ml.t3.2xlarge",
    "vcpuNum": 8
   },
   {
    "_defaultOrder": 4,
    "_isFastLaunch": true,
    "category": "General purpose",
    "gpuNum": 0,
    "hideHardwareSpecs": false,
    "memoryGiB": 8,
    "name": "ml.m5.large",
    "vcpuNum": 2
   },
   {
    "_defaultOrder": 5,
    "_isFastLaunch": false,
    "category": "General purpose",
    "gpuNum": 0,
    "hideHardwareSpecs": false,
    "memoryGiB": 16,
    "name": "ml.m5.xlarge",
    "vcpuNum": 4
   },
   {
    "_defaultOrder": 6,
    "_isFastLaunch": false,
    "category": "General purpose",
    "gpuNum": 0,
    "hideHardwareSpecs": false,
    "memoryGiB": 32,
    "name": "ml.m5.2xlarge",
    "vcpuNum": 8
   },
   {
    "_defaultOrder": 7,
    "_isFastLaunch": false,
    "category": "General purpose",
    "gpuNum": 0,
    "hideHardwareSpecs": false,
    "memoryGiB": 64,
    "name": "ml.m5.4xlarge",
    "vcpuNum": 16
   },
   {
    "_defaultOrder": 8,
    "_isFastLaunch": false,
    "category": "General purpose",
    "gpuNum": 0,
    "hideHardwareSpecs": false,
    "memoryGiB": 128,
    "name": "ml.m5.8xlarge",
    "vcpuNum": 32
   },
   {
    "_defaultOrder": 9,
    "_isFastLaunch": false,
    "category": "General purpose",
    "gpuNum": 0,
    "hideHardwareSpecs": false,
    "memoryGiB": 192,
    "name": "ml.m5.12xlarge",
    "vcpuNum": 48
   },
   {
    "_defaultOrder": 10,
    "_isFastLaunch": false,
    "category": "General purpose",
    "gpuNum": 0,
    "hideHardwareSpecs": false,
    "memoryGiB": 256,
    "name": "ml.m5.16xlarge",
    "vcpuNum": 64
   },
   {
    "_defaultOrder": 11,
    "_isFastLaunch": false,
    "category": "General purpose",
    "gpuNum": 0,
    "hideHardwareSpecs": false,
    "memoryGiB": 384,
    "name": "ml.m5.24xlarge",
    "vcpuNum": 96
   },
   {
    "_defaultOrder": 12,
    "_isFastLaunch": false,
    "category": "General purpose",
    "gpuNum": 0,
    "hideHardwareSpecs": false,
    "memoryGiB": 8,
    "name": "ml.m5d.large",
    "vcpuNum": 2
   },
   {
    "_defaultOrder": 13,
    "_isFastLaunch": false,
    "category": "General purpose",
    "gpuNum": 0,
    "hideHardwareSpecs": false,
    "memoryGiB": 16,
    "name": "ml.m5d.xlarge",
    "vcpuNum": 4
   },
   {
    "_defaultOrder": 14,
    "_isFastLaunch": false,
    "category": "General purpose",
    "gpuNum": 0,
    "hideHardwareSpecs": false,
    "memoryGiB": 32,
    "name": "ml.m5d.2xlarge",
    "vcpuNum": 8
   },
   {
    "_defaultOrder": 15,
    "_isFastLaunch": false,
    "category": "General purpose",
    "gpuNum": 0,
    "hideHardwareSpecs": false,
    "memoryGiB": 64,
    "name": "ml.m5d.4xlarge",
    "vcpuNum": 16
   },
   {
    "_defaultOrder": 16,
    "_isFastLaunch": false,
    "category": "General purpose",
    "gpuNum": 0,
    "hideHardwareSpecs": false,
    "memoryGiB": 128,
    "name": "ml.m5d.8xlarge",
    "vcpuNum": 32
   },
   {
    "_defaultOrder": 17,
    "_isFastLaunch": false,
    "category": "General purpose",
    "gpuNum": 0,
    "hideHardwareSpecs": false,
    "memoryGiB": 192,
    "name": "ml.m5d.12xlarge",
    "vcpuNum": 48
   },
   {
    "_defaultOrder": 18,
    "_isFastLaunch": false,
    "category": "General purpose",
    "gpuNum": 0,
    "hideHardwareSpecs": false,
    "memoryGiB": 256,
    "name": "ml.m5d.16xlarge",
    "vcpuNum": 64
   },
   {
    "_defaultOrder": 19,
    "_isFastLaunch": false,
    "category": "General purpose",
    "gpuNum": 0,
    "hideHardwareSpecs": false,
    "memoryGiB": 384,
    "name": "ml.m5d.24xlarge",
    "vcpuNum": 96
   },
   {
    "_defaultOrder": 20,
    "_isFastLaunch": false,
    "category": "General purpose",
    "gpuNum": 0,
    "hideHardwareSpecs": true,
    "memoryGiB": 0,
    "name": "ml.geospatial.interactive",
    "supportedImageNames": [
     "sagemaker-geospatial-v1-0"
    ],
    "vcpuNum": 0
   },
   {
    "_defaultOrder": 21,
    "_isFastLaunch": true,
    "category": "Compute optimized",
    "gpuNum": 0,
    "hideHardwareSpecs": false,
    "memoryGiB": 4,
    "name": "ml.c5.large",
    "vcpuNum": 2
   },
   {
    "_defaultOrder": 22,
    "_isFastLaunch": false,
    "category": "Compute optimized",
    "gpuNum": 0,
    "hideHardwareSpecs": false,
    "memoryGiB": 8,
    "name": "ml.c5.xlarge",
    "vcpuNum": 4
   },
   {
    "_defaultOrder": 23,
    "_isFastLaunch": false,
    "category": "Compute optimized",
    "gpuNum": 0,
    "hideHardwareSpecs": false,
    "memoryGiB": 16,
    "name": "ml.c5.2xlarge",
    "vcpuNum": 8
   },
   {
    "_defaultOrder": 24,
    "_isFastLaunch": false,
    "category": "Compute optimized",
    "gpuNum": 0,
    "hideHardwareSpecs": false,
    "memoryGiB": 32,
    "name": "ml.c5.4xlarge",
    "vcpuNum": 16
   },
   {
    "_defaultOrder": 25,
    "_isFastLaunch": false,
    "category": "Compute optimized",
    "gpuNum": 0,
    "hideHardwareSpecs": false,
    "memoryGiB": 72,
    "name": "ml.c5.9xlarge",
    "vcpuNum": 36
   },
   {
    "_defaultOrder": 26,
    "_isFastLaunch": false,
    "category": "Compute optimized",
    "gpuNum": 0,
    "hideHardwareSpecs": false,
    "memoryGiB": 96,
    "name": "ml.c5.12xlarge",
    "vcpuNum": 48
   },
   {
    "_defaultOrder": 27,
    "_isFastLaunch": false,
    "category": "Compute optimized",
    "gpuNum": 0,
    "hideHardwareSpecs": false,
    "memoryGiB": 144,
    "name": "ml.c5.18xlarge",
    "vcpuNum": 72
   },
   {
    "_defaultOrder": 28,
    "_isFastLaunch": false,
    "category": "Compute optimized",
    "gpuNum": 0,
    "hideHardwareSpecs": false,
    "memoryGiB": 192,
    "name": "ml.c5.24xlarge",
    "vcpuNum": 96
   },
   {
    "_defaultOrder": 29,
    "_isFastLaunch": true,
    "category": "Accelerated computing",
    "gpuNum": 1,
    "hideHardwareSpecs": false,
    "memoryGiB": 16,
    "name": "ml.g4dn.xlarge",
    "vcpuNum": 4
   },
   {
    "_defaultOrder": 30,
    "_isFastLaunch": false,
    "category": "Accelerated computing",
    "gpuNum": 1,
    "hideHardwareSpecs": false,
    "memoryGiB": 32,
    "name": "ml.g4dn.2xlarge",
    "vcpuNum": 8
   },
   {
    "_defaultOrder": 31,
    "_isFastLaunch": false,
    "category": "Accelerated computing",
    "gpuNum": 1,
    "hideHardwareSpecs": false,
    "memoryGiB": 64,
    "name": "ml.g4dn.4xlarge",
    "vcpuNum": 16
   },
   {
    "_defaultOrder": 32,
    "_isFastLaunch": false,
    "category": "Accelerated computing",
    "gpuNum": 1,
    "hideHardwareSpecs": false,
    "memoryGiB": 128,
    "name": "ml.g4dn.8xlarge",
    "vcpuNum": 32
   },
   {
    "_defaultOrder": 33,
    "_isFastLaunch": false,
    "category": "Accelerated computing",
    "gpuNum": 4,
    "hideHardwareSpecs": false,
    "memoryGiB": 192,
    "name": "ml.g4dn.12xlarge",
    "vcpuNum": 48
   },
   {
    "_defaultOrder": 34,
    "_isFastLaunch": false,
    "category": "Accelerated computing",
    "gpuNum": 1,
    "hideHardwareSpecs": false,
    "memoryGiB": 256,
    "name": "ml.g4dn.16xlarge",
    "vcpuNum": 64
   },
   {
    "_defaultOrder": 35,
    "_isFastLaunch": false,
    "category": "Accelerated computing",
    "gpuNum": 1,
    "hideHardwareSpecs": false,
    "memoryGiB": 61,
    "name": "ml.p3.2xlarge",
    "vcpuNum": 8
   },
   {
    "_defaultOrder": 36,
    "_isFastLaunch": false,
    "category": "Accelerated computing",
    "gpuNum": 4,
    "hideHardwareSpecs": false,
    "memoryGiB": 244,
    "name": "ml.p3.8xlarge",
    "vcpuNum": 32
   },
   {
    "_defaultOrder": 37,
    "_isFastLaunch": false,
    "category": "Accelerated computing",
    "gpuNum": 8,
    "hideHardwareSpecs": false,
    "memoryGiB": 488,
    "name": "ml.p3.16xlarge",
    "vcpuNum": 64
   },
   {
    "_defaultOrder": 38,
    "_isFastLaunch": false,
    "category": "Accelerated computing",
    "gpuNum": 8,
    "hideHardwareSpecs": false,
    "memoryGiB": 768,
    "name": "ml.p3dn.24xlarge",
    "vcpuNum": 96
   },
   {
    "_defaultOrder": 39,
    "_isFastLaunch": false,
    "category": "Memory Optimized",
    "gpuNum": 0,
    "hideHardwareSpecs": false,
    "memoryGiB": 16,
    "name": "ml.r5.large",
    "vcpuNum": 2
   },
   {
    "_defaultOrder": 40,
    "_isFastLaunch": false,
    "category": "Memory Optimized",
    "gpuNum": 0,
    "hideHardwareSpecs": false,
    "memoryGiB": 32,
    "name": "ml.r5.xlarge",
    "vcpuNum": 4
   },
   {
    "_defaultOrder": 41,
    "_isFastLaunch": false,
    "category": "Memory Optimized",
    "gpuNum": 0,
    "hideHardwareSpecs": false,
    "memoryGiB": 64,
    "name": "ml.r5.2xlarge",
    "vcpuNum": 8
   },
   {
    "_defaultOrder": 42,
    "_isFastLaunch": false,
    "category": "Memory Optimized",
    "gpuNum": 0,
    "hideHardwareSpecs": false,
    "memoryGiB": 128,
    "name": "ml.r5.4xlarge",
    "vcpuNum": 16
   },
   {
    "_defaultOrder": 43,
    "_isFastLaunch": false,
    "category": "Memory Optimized",
    "gpuNum": 0,
    "hideHardwareSpecs": false,
    "memoryGiB": 256,
    "name": "ml.r5.8xlarge",
    "vcpuNum": 32
   },
   {
    "_defaultOrder": 44,
    "_isFastLaunch": false,
    "category": "Memory Optimized",
    "gpuNum": 0,
    "hideHardwareSpecs": false,
    "memoryGiB": 384,
    "name": "ml.r5.12xlarge",
    "vcpuNum": 48
   },
   {
    "_defaultOrder": 45,
    "_isFastLaunch": false,
    "category": "Memory Optimized",
    "gpuNum": 0,
    "hideHardwareSpecs": false,
    "memoryGiB": 512,
    "name": "ml.r5.16xlarge",
    "vcpuNum": 64
   },
   {
    "_defaultOrder": 46,
    "_isFastLaunch": false,
    "category": "Memory Optimized",
    "gpuNum": 0,
    "hideHardwareSpecs": false,
    "memoryGiB": 768,
    "name": "ml.r5.24xlarge",
    "vcpuNum": 96
   },
   {
    "_defaultOrder": 47,
    "_isFastLaunch": false,
    "category": "Accelerated computing",
    "gpuNum": 1,
    "hideHardwareSpecs": false,
    "memoryGiB": 16,
    "name": "ml.g5.xlarge",
    "vcpuNum": 4
   },
   {
    "_defaultOrder": 48,
    "_isFastLaunch": false,
    "category": "Accelerated computing",
    "gpuNum": 1,
    "hideHardwareSpecs": false,
    "memoryGiB": 32,
    "name": "ml.g5.2xlarge",
    "vcpuNum": 8
   },
   {
    "_defaultOrder": 49,
    "_isFastLaunch": false,
    "category": "Accelerated computing",
    "gpuNum": 1,
    "hideHardwareSpecs": false,
    "memoryGiB": 64,
    "name": "ml.g5.4xlarge",
    "vcpuNum": 16
   },
   {
    "_defaultOrder": 50,
    "_isFastLaunch": false,
    "category": "Accelerated computing",
    "gpuNum": 1,
    "hideHardwareSpecs": false,
    "memoryGiB": 128,
    "name": "ml.g5.8xlarge",
    "vcpuNum": 32
   },
   {
    "_defaultOrder": 51,
    "_isFastLaunch": false,
    "category": "Accelerated computing",
    "gpuNum": 1,
    "hideHardwareSpecs": false,
    "memoryGiB": 256,
    "name": "ml.g5.16xlarge",
    "vcpuNum": 64
   },
   {
    "_defaultOrder": 52,
    "_isFastLaunch": false,
    "category": "Accelerated computing",
    "gpuNum": 4,
    "hideHardwareSpecs": false,
    "memoryGiB": 192,
    "name": "ml.g5.12xlarge",
    "vcpuNum": 48
   },
   {
    "_defaultOrder": 53,
    "_isFastLaunch": false,
    "category": "Accelerated computing",
    "gpuNum": 4,
    "hideHardwareSpecs": false,
    "memoryGiB": 384,
    "name": "ml.g5.24xlarge",
    "vcpuNum": 96
   },
   {
    "_defaultOrder": 54,
    "_isFastLaunch": false,
    "category": "Accelerated computing",
    "gpuNum": 8,
    "hideHardwareSpecs": false,
    "memoryGiB": 768,
    "name": "ml.g5.48xlarge",
    "vcpuNum": 192
   },
   {
    "_defaultOrder": 55,
    "_isFastLaunch": false,
    "category": "Accelerated computing",
    "gpuNum": 8,
    "hideHardwareSpecs": false,
    "memoryGiB": 1152,
    "name": "ml.p4d.24xlarge",
    "vcpuNum": 96
   },
   {
    "_defaultOrder": 56,
    "_isFastLaunch": false,
    "category": "Accelerated computing",
    "gpuNum": 8,
    "hideHardwareSpecs": false,
    "memoryGiB": 1152,
    "name": "ml.p4de.24xlarge",
    "vcpuNum": 96
   },
   {
    "_defaultOrder": 57,
    "_isFastLaunch": false,
    "category": "Accelerated computing",
    "gpuNum": 0,
    "hideHardwareSpecs": false,
    "memoryGiB": 32,
    "name": "ml.trn1.2xlarge",
    "vcpuNum": 8
   },
   {
    "_defaultOrder": 58,
    "_isFastLaunch": false,
    "category": "Accelerated computing",
    "gpuNum": 0,
    "hideHardwareSpecs": false,
    "memoryGiB": 512,
    "name": "ml.trn1.32xlarge",
    "vcpuNum": 128
   },
   {
    "_defaultOrder": 59,
    "_isFastLaunch": false,
    "category": "Accelerated computing",
    "gpuNum": 0,
    "hideHardwareSpecs": false,
    "memoryGiB": 512,
    "name": "ml.trn1n.32xlarge",
    "vcpuNum": 128
   }
  ],
  "instance_type": "ml.t3.medium",
  "kernelspec": {
   "display_name": "Python 3 (Data Science 3.0)",
   "language": "python",
   "name": "python3__SAGEMAKER_INTERNAL__arn:aws:sagemaker:us-west-2:236514542706:image/sagemaker-data-science-310-v1"
  },
  "language_info": {
   "codemirror_mode": {
    "name": "ipython",
    "version": 3
   },
   "file_extension": ".py",
   "mimetype": "text/x-python",
   "name": "python",
   "nbconvert_exporter": "python",
   "pygments_lexer": "ipython3",
   "version": "3.10.6"
  }
 },
 "nbformat": 4,
 "nbformat_minor": 5
}
